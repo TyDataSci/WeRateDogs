{
 "cells": [
  {
   "cell_type": "code",
   "execution_count": 1,
   "metadata": {},
   "outputs": [],
   "source": [
    "import pandas as pd\n",
    "import numpy as np\n",
    "import matplotlib.pyplot as plt\n",
    "import seaborn as sns\n",
    "#import tweepy\n",
    "#from tweepy import OAuthHandler\n",
    "\n",
    "#from timeit import default_timer as timer\n",
    "#import twitter_credentials\n",
    "import json\n",
    "import re\n",
    "import requests\n",
    "%matplotlib inline"
   ]
  },
  {
   "cell_type": "markdown",
   "metadata": {},
   "source": [
    "# Gather"
   ]
  },
  {
   "cell_type": "markdown",
   "metadata": {},
   "source": [
    "###  Gathering Get Request"
   ]
  },
  {
   "cell_type": "code",
   "execution_count": 2,
   "metadata": {},
   "outputs": [
    {
     "name": "stdout",
     "output_type": "stream",
     "text": [
      "Success!\n"
     ]
    }
   ],
   "source": [
    "response = requests.get('https://d17h27t6h515a5.cloudfront.net/topher/2017/August/599fd2ad_image-predictions/image-predictions.tsv')\n",
    "if response.status_code == 200:\n",
    "    print('Success!')\n",
    "elif response.status_code == 404:\n",
    "    print('Not Found.')"
   ]
  },
  {
   "cell_type": "code",
   "execution_count": 3,
   "metadata": {},
   "outputs": [],
   "source": [
    "images = pd.read_csv('image_predictions.tsv', sep = '\\t', encoding = 'utf-8')"
   ]
  },
  {
   "cell_type": "code",
   "execution_count": 4,
   "metadata": {},
   "outputs": [],
   "source": [
    "df_1 = pd.read_csv('twitter_archive_enhanced.csv',sep = ',')"
   ]
  },
  {
   "cell_type": "code",
   "execution_count": 5,
   "metadata": {},
   "outputs": [],
   "source": [
    "#auth = tweepy.OAuthHandler(consumer_key, consumer_secret)\n",
    "#auth.set_access_token(access_token, access_secret)\n",
    "\n",
    "#api = tweepy.API(auth, wait_on_rate_limit=True, wait_on_rate_limit_notify=True)\n",
    "#count = 0\n",
    "#fails_dict = {}\n",
    "#start = timer()\n",
    "# Save each tweet's returned JSON as a new line in a .txt file\n",
    "#with open('tweet_json.txt', 'w') as outfile:\n",
    "    # This loop will likely take 20-30 minutes to run because of Twitter's rate limit\n",
    "#    for tweet_id in tweet_ids:\n",
    "#        count += 1\n",
    "#        print(str(count) + \": \" + str(tweet_id))\n",
    "#        try:\n",
    "#            tweet = api.get_status(tweet_id, tweet_mode='extended')\n",
    "#            print(\"Success\")\n",
    "#            json.dump(tweet._json, outfile)\n",
    "#            outfile.write('\\n')\n",
    "#        except tweepy.TweepError as e:\n",
    "#            print(\"Fail\")\n",
    "#            fails_dict[tweet_id] = e\n",
    "            \n",
    "#            pass\n",
    "#end = timer()\n",
    "#print(end - start)\n",
    "#print(fails_dict)\n"
   ]
  },
  {
   "cell_type": "code",
   "execution_count": 6,
   "metadata": {},
   "outputs": [],
   "source": [
    "#df_2 = pd.DataFrame(columns=['tweet_id','retweet count','favorite_count'])\n",
    "\n",
    "#with open('tweet_json.txt') as i:\n",
    "#    for line in i:\n",
    "#        stat = json.loads(line)\n",
    "#        tweet_id = stat['id_str']\n",
    "#        retweet_count = stat['retweet_count']\n",
    "#        favorite_count = stat['favorite_count']\n",
    "#        df_2 = df_2.append(pd.DataFrame([[tweet_id,retweet_count,\n",
    "#                                         favorite_count]], \n",
    "#                                       columns=['tweet_id',\n",
    "#                                        'retweet_count', 'favorite_count']))\n",
    "#df_2.to_csv (r'C:\\Users\\tssan\\Desktop\\Udacity Projects\\4wrangle\\WeRateDogs.csv',\n",
    "#                          index = None, header=True, sep='\\t', encoding='utf-8')"
   ]
  },
  {
   "cell_type": "code",
   "execution_count": 7,
   "metadata": {},
   "outputs": [],
   "source": [
    "df_2 = pd.read_csv('WeRateDogs.csv', sep='\\t',encoding='utf-8')"
   ]
  },
  {
   "cell_type": "markdown",
   "metadata": {},
   "source": [
    "# Assessment\n",
    "### Visual Assessment"
   ]
  },
  {
   "cell_type": "code",
   "execution_count": 8,
   "metadata": {},
   "outputs": [
    {
     "data": {
      "text/html": [
       "<style  type=\"text/css\" >\n",
       "    #T_73361f34_9106_11eb_8893_28c63fce8a9brow0_col1 {\n",
       "            color:  red;\n",
       "        }    #T_73361f34_9106_11eb_8893_28c63fce8a9brow0_col2 {\n",
       "            color:  red;\n",
       "        }    #T_73361f34_9106_11eb_8893_28c63fce8a9brow0_col6 {\n",
       "            color:  red;\n",
       "        }    #T_73361f34_9106_11eb_8893_28c63fce8a9brow0_col7 {\n",
       "            color:  red;\n",
       "        }    #T_73361f34_9106_11eb_8893_28c63fce8a9brow0_col8 {\n",
       "            color:  red;\n",
       "        }    #T_73361f34_9106_11eb_8893_28c63fce8a9brow1_col1 {\n",
       "            color:  red;\n",
       "        }    #T_73361f34_9106_11eb_8893_28c63fce8a9brow1_col2 {\n",
       "            color:  red;\n",
       "        }    #T_73361f34_9106_11eb_8893_28c63fce8a9brow1_col6 {\n",
       "            color:  red;\n",
       "        }    #T_73361f34_9106_11eb_8893_28c63fce8a9brow1_col7 {\n",
       "            color:  red;\n",
       "        }    #T_73361f34_9106_11eb_8893_28c63fce8a9brow1_col8 {\n",
       "            color:  red;\n",
       "        }    #T_73361f34_9106_11eb_8893_28c63fce8a9brow2_col1 {\n",
       "            color:  red;\n",
       "        }    #T_73361f34_9106_11eb_8893_28c63fce8a9brow2_col2 {\n",
       "            color:  red;\n",
       "        }    #T_73361f34_9106_11eb_8893_28c63fce8a9brow2_col6 {\n",
       "            color:  red;\n",
       "        }    #T_73361f34_9106_11eb_8893_28c63fce8a9brow2_col7 {\n",
       "            color:  red;\n",
       "        }    #T_73361f34_9106_11eb_8893_28c63fce8a9brow2_col8 {\n",
       "            color:  red;\n",
       "        }    #T_73361f34_9106_11eb_8893_28c63fce8a9brow3_col1 {\n",
       "            color:  red;\n",
       "        }    #T_73361f34_9106_11eb_8893_28c63fce8a9brow3_col2 {\n",
       "            color:  red;\n",
       "        }    #T_73361f34_9106_11eb_8893_28c63fce8a9brow3_col6 {\n",
       "            color:  red;\n",
       "        }    #T_73361f34_9106_11eb_8893_28c63fce8a9brow3_col7 {\n",
       "            color:  red;\n",
       "        }    #T_73361f34_9106_11eb_8893_28c63fce8a9brow3_col8 {\n",
       "            color:  red;\n",
       "        }</style><table id=\"T_73361f34_9106_11eb_8893_28c63fce8a9b\" ><thead>    <tr>        <th class=\"blank level0\" ></th>        <th class=\"col_heading level0 col0\" >tweet_id</th>        <th class=\"col_heading level0 col1\" >in_reply_to_status_id</th>        <th class=\"col_heading level0 col2\" >in_reply_to_user_id</th>        <th class=\"col_heading level0 col3\" >timestamp</th>        <th class=\"col_heading level0 col4\" >source</th>        <th class=\"col_heading level0 col5\" >text</th>        <th class=\"col_heading level0 col6\" >retweeted_status_id</th>        <th class=\"col_heading level0 col7\" >retweeted_status_user_id</th>        <th class=\"col_heading level0 col8\" >retweeted_status_timestamp</th>        <th class=\"col_heading level0 col9\" >expanded_urls</th>        <th class=\"col_heading level0 col10\" >rating_numerator</th>        <th class=\"col_heading level0 col11\" >rating_denominator</th>        <th class=\"col_heading level0 col12\" >name</th>        <th class=\"col_heading level0 col13\" >doggo</th>        <th class=\"col_heading level0 col14\" >floofer</th>        <th class=\"col_heading level0 col15\" >pupper</th>        <th class=\"col_heading level0 col16\" >puppo</th>    </tr></thead><tbody>\n",
       "                <tr>\n",
       "                        <th id=\"T_73361f34_9106_11eb_8893_28c63fce8a9blevel0_row0\" class=\"row_heading level0 row0\" >0</th>\n",
       "                        <td id=\"T_73361f34_9106_11eb_8893_28c63fce8a9brow0_col0\" class=\"data row0 col0\" >892420643555336193</td>\n",
       "                        <td id=\"T_73361f34_9106_11eb_8893_28c63fce8a9brow0_col1\" class=\"data row0 col1\" >nan</td>\n",
       "                        <td id=\"T_73361f34_9106_11eb_8893_28c63fce8a9brow0_col2\" class=\"data row0 col2\" >nan</td>\n",
       "                        <td id=\"T_73361f34_9106_11eb_8893_28c63fce8a9brow0_col3\" class=\"data row0 col3\" >2017-08-01 16:23:56 +0000</td>\n",
       "                        <td id=\"T_73361f34_9106_11eb_8893_28c63fce8a9brow0_col4\" class=\"data row0 col4\" ><a href=\"http://twitter.com/download/iphone\" rel=\"nofollow\">Twitter for iPhone</a></td>\n",
       "                        <td id=\"T_73361f34_9106_11eb_8893_28c63fce8a9brow0_col5\" class=\"data row0 col5\" >This is Phineas. He's a mystical boy. Only ever appears in the hole of a donut. 13/10 https://t.co/MgUWQ76dJU</td>\n",
       "                        <td id=\"T_73361f34_9106_11eb_8893_28c63fce8a9brow0_col6\" class=\"data row0 col6\" >nan</td>\n",
       "                        <td id=\"T_73361f34_9106_11eb_8893_28c63fce8a9brow0_col7\" class=\"data row0 col7\" >nan</td>\n",
       "                        <td id=\"T_73361f34_9106_11eb_8893_28c63fce8a9brow0_col8\" class=\"data row0 col8\" >nan</td>\n",
       "                        <td id=\"T_73361f34_9106_11eb_8893_28c63fce8a9brow0_col9\" class=\"data row0 col9\" >https://twitter.com/dog_rates/status/892420643555336193/photo/1</td>\n",
       "                        <td id=\"T_73361f34_9106_11eb_8893_28c63fce8a9brow0_col10\" class=\"data row0 col10\" >13</td>\n",
       "                        <td id=\"T_73361f34_9106_11eb_8893_28c63fce8a9brow0_col11\" class=\"data row0 col11\" >10</td>\n",
       "                        <td id=\"T_73361f34_9106_11eb_8893_28c63fce8a9brow0_col12\" class=\"data row0 col12\" >Phineas</td>\n",
       "                        <td id=\"T_73361f34_9106_11eb_8893_28c63fce8a9brow0_col13\" class=\"data row0 col13\" >None</td>\n",
       "                        <td id=\"T_73361f34_9106_11eb_8893_28c63fce8a9brow0_col14\" class=\"data row0 col14\" >None</td>\n",
       "                        <td id=\"T_73361f34_9106_11eb_8893_28c63fce8a9brow0_col15\" class=\"data row0 col15\" >None</td>\n",
       "                        <td id=\"T_73361f34_9106_11eb_8893_28c63fce8a9brow0_col16\" class=\"data row0 col16\" >None</td>\n",
       "            </tr>\n",
       "            <tr>\n",
       "                        <th id=\"T_73361f34_9106_11eb_8893_28c63fce8a9blevel0_row1\" class=\"row_heading level0 row1\" >1</th>\n",
       "                        <td id=\"T_73361f34_9106_11eb_8893_28c63fce8a9brow1_col0\" class=\"data row1 col0\" >892177421306343426</td>\n",
       "                        <td id=\"T_73361f34_9106_11eb_8893_28c63fce8a9brow1_col1\" class=\"data row1 col1\" >nan</td>\n",
       "                        <td id=\"T_73361f34_9106_11eb_8893_28c63fce8a9brow1_col2\" class=\"data row1 col2\" >nan</td>\n",
       "                        <td id=\"T_73361f34_9106_11eb_8893_28c63fce8a9brow1_col3\" class=\"data row1 col3\" >2017-08-01 00:17:27 +0000</td>\n",
       "                        <td id=\"T_73361f34_9106_11eb_8893_28c63fce8a9brow1_col4\" class=\"data row1 col4\" ><a href=\"http://twitter.com/download/iphone\" rel=\"nofollow\">Twitter for iPhone</a></td>\n",
       "                        <td id=\"T_73361f34_9106_11eb_8893_28c63fce8a9brow1_col5\" class=\"data row1 col5\" >This is Tilly. She's just checking pup on you. Hopes you're doing ok. If not, she's available for pats, snugs, boops, the whole bit. 13/10 https://t.co/0Xxu71qeIV</td>\n",
       "                        <td id=\"T_73361f34_9106_11eb_8893_28c63fce8a9brow1_col6\" class=\"data row1 col6\" >nan</td>\n",
       "                        <td id=\"T_73361f34_9106_11eb_8893_28c63fce8a9brow1_col7\" class=\"data row1 col7\" >nan</td>\n",
       "                        <td id=\"T_73361f34_9106_11eb_8893_28c63fce8a9brow1_col8\" class=\"data row1 col8\" >nan</td>\n",
       "                        <td id=\"T_73361f34_9106_11eb_8893_28c63fce8a9brow1_col9\" class=\"data row1 col9\" >https://twitter.com/dog_rates/status/892177421306343426/photo/1</td>\n",
       "                        <td id=\"T_73361f34_9106_11eb_8893_28c63fce8a9brow1_col10\" class=\"data row1 col10\" >13</td>\n",
       "                        <td id=\"T_73361f34_9106_11eb_8893_28c63fce8a9brow1_col11\" class=\"data row1 col11\" >10</td>\n",
       "                        <td id=\"T_73361f34_9106_11eb_8893_28c63fce8a9brow1_col12\" class=\"data row1 col12\" >Tilly</td>\n",
       "                        <td id=\"T_73361f34_9106_11eb_8893_28c63fce8a9brow1_col13\" class=\"data row1 col13\" >None</td>\n",
       "                        <td id=\"T_73361f34_9106_11eb_8893_28c63fce8a9brow1_col14\" class=\"data row1 col14\" >None</td>\n",
       "                        <td id=\"T_73361f34_9106_11eb_8893_28c63fce8a9brow1_col15\" class=\"data row1 col15\" >None</td>\n",
       "                        <td id=\"T_73361f34_9106_11eb_8893_28c63fce8a9brow1_col16\" class=\"data row1 col16\" >None</td>\n",
       "            </tr>\n",
       "            <tr>\n",
       "                        <th id=\"T_73361f34_9106_11eb_8893_28c63fce8a9blevel0_row2\" class=\"row_heading level0 row2\" >2</th>\n",
       "                        <td id=\"T_73361f34_9106_11eb_8893_28c63fce8a9brow2_col0\" class=\"data row2 col0\" >891815181378084864</td>\n",
       "                        <td id=\"T_73361f34_9106_11eb_8893_28c63fce8a9brow2_col1\" class=\"data row2 col1\" >nan</td>\n",
       "                        <td id=\"T_73361f34_9106_11eb_8893_28c63fce8a9brow2_col2\" class=\"data row2 col2\" >nan</td>\n",
       "                        <td id=\"T_73361f34_9106_11eb_8893_28c63fce8a9brow2_col3\" class=\"data row2 col3\" >2017-07-31 00:18:03 +0000</td>\n",
       "                        <td id=\"T_73361f34_9106_11eb_8893_28c63fce8a9brow2_col4\" class=\"data row2 col4\" ><a href=\"http://twitter.com/download/iphone\" rel=\"nofollow\">Twitter for iPhone</a></td>\n",
       "                        <td id=\"T_73361f34_9106_11eb_8893_28c63fce8a9brow2_col5\" class=\"data row2 col5\" >This is Archie. He is a rare Norwegian Pouncing Corgo. Lives in the tall grass. You never know when one may strike. 12/10 https://t.co/wUnZnhtVJB</td>\n",
       "                        <td id=\"T_73361f34_9106_11eb_8893_28c63fce8a9brow2_col6\" class=\"data row2 col6\" >nan</td>\n",
       "                        <td id=\"T_73361f34_9106_11eb_8893_28c63fce8a9brow2_col7\" class=\"data row2 col7\" >nan</td>\n",
       "                        <td id=\"T_73361f34_9106_11eb_8893_28c63fce8a9brow2_col8\" class=\"data row2 col8\" >nan</td>\n",
       "                        <td id=\"T_73361f34_9106_11eb_8893_28c63fce8a9brow2_col9\" class=\"data row2 col9\" >https://twitter.com/dog_rates/status/891815181378084864/photo/1</td>\n",
       "                        <td id=\"T_73361f34_9106_11eb_8893_28c63fce8a9brow2_col10\" class=\"data row2 col10\" >12</td>\n",
       "                        <td id=\"T_73361f34_9106_11eb_8893_28c63fce8a9brow2_col11\" class=\"data row2 col11\" >10</td>\n",
       "                        <td id=\"T_73361f34_9106_11eb_8893_28c63fce8a9brow2_col12\" class=\"data row2 col12\" >Archie</td>\n",
       "                        <td id=\"T_73361f34_9106_11eb_8893_28c63fce8a9brow2_col13\" class=\"data row2 col13\" >None</td>\n",
       "                        <td id=\"T_73361f34_9106_11eb_8893_28c63fce8a9brow2_col14\" class=\"data row2 col14\" >None</td>\n",
       "                        <td id=\"T_73361f34_9106_11eb_8893_28c63fce8a9brow2_col15\" class=\"data row2 col15\" >None</td>\n",
       "                        <td id=\"T_73361f34_9106_11eb_8893_28c63fce8a9brow2_col16\" class=\"data row2 col16\" >None</td>\n",
       "            </tr>\n",
       "            <tr>\n",
       "                        <th id=\"T_73361f34_9106_11eb_8893_28c63fce8a9blevel0_row3\" class=\"row_heading level0 row3\" >3</th>\n",
       "                        <td id=\"T_73361f34_9106_11eb_8893_28c63fce8a9brow3_col0\" class=\"data row3 col0\" >891689557279858688</td>\n",
       "                        <td id=\"T_73361f34_9106_11eb_8893_28c63fce8a9brow3_col1\" class=\"data row3 col1\" >nan</td>\n",
       "                        <td id=\"T_73361f34_9106_11eb_8893_28c63fce8a9brow3_col2\" class=\"data row3 col2\" >nan</td>\n",
       "                        <td id=\"T_73361f34_9106_11eb_8893_28c63fce8a9brow3_col3\" class=\"data row3 col3\" >2017-07-30 15:58:51 +0000</td>\n",
       "                        <td id=\"T_73361f34_9106_11eb_8893_28c63fce8a9brow3_col4\" class=\"data row3 col4\" ><a href=\"http://twitter.com/download/iphone\" rel=\"nofollow\">Twitter for iPhone</a></td>\n",
       "                        <td id=\"T_73361f34_9106_11eb_8893_28c63fce8a9brow3_col5\" class=\"data row3 col5\" >This is Darla. She commenced a snooze mid meal. 13/10 happens to the best of us https://t.co/tD36da7qLQ</td>\n",
       "                        <td id=\"T_73361f34_9106_11eb_8893_28c63fce8a9brow3_col6\" class=\"data row3 col6\" >nan</td>\n",
       "                        <td id=\"T_73361f34_9106_11eb_8893_28c63fce8a9brow3_col7\" class=\"data row3 col7\" >nan</td>\n",
       "                        <td id=\"T_73361f34_9106_11eb_8893_28c63fce8a9brow3_col8\" class=\"data row3 col8\" >nan</td>\n",
       "                        <td id=\"T_73361f34_9106_11eb_8893_28c63fce8a9brow3_col9\" class=\"data row3 col9\" >https://twitter.com/dog_rates/status/891689557279858688/photo/1</td>\n",
       "                        <td id=\"T_73361f34_9106_11eb_8893_28c63fce8a9brow3_col10\" class=\"data row3 col10\" >13</td>\n",
       "                        <td id=\"T_73361f34_9106_11eb_8893_28c63fce8a9brow3_col11\" class=\"data row3 col11\" >10</td>\n",
       "                        <td id=\"T_73361f34_9106_11eb_8893_28c63fce8a9brow3_col12\" class=\"data row3 col12\" >Darla</td>\n",
       "                        <td id=\"T_73361f34_9106_11eb_8893_28c63fce8a9brow3_col13\" class=\"data row3 col13\" >None</td>\n",
       "                        <td id=\"T_73361f34_9106_11eb_8893_28c63fce8a9brow3_col14\" class=\"data row3 col14\" >None</td>\n",
       "                        <td id=\"T_73361f34_9106_11eb_8893_28c63fce8a9brow3_col15\" class=\"data row3 col15\" >None</td>\n",
       "                        <td id=\"T_73361f34_9106_11eb_8893_28c63fce8a9brow3_col16\" class=\"data row3 col16\" >None</td>\n",
       "            </tr>\n",
       "    </tbody></table>"
      ],
      "text/plain": [
       "<pandas.io.formats.style.Styler at 0x1b616814a20>"
      ]
     },
     "execution_count": 8,
     "metadata": {},
     "output_type": "execute_result"
    }
   ],
   "source": [
    "df_1.loc[:3].style.applymap(lambda x: 'color: red' if pd.isnull(x) else '')"
   ]
  },
  {
   "cell_type": "code",
   "execution_count": 9,
   "metadata": {},
   "outputs": [
    {
     "data": {
      "text/html": [
       "<style  type=\"text/css\" >\n",
       "</style><table id=\"T_733a2c46_9106_11eb_8970_28c63fce8a9b\" ><thead>    <tr>        <th class=\"blank level0\" ></th>        <th class=\"col_heading level0 col0\" >tweet_id</th>        <th class=\"col_heading level0 col1\" >jpg_url</th>        <th class=\"col_heading level0 col2\" >img_num</th>        <th class=\"col_heading level0 col3\" >p1</th>        <th class=\"col_heading level0 col4\" >p1_conf</th>        <th class=\"col_heading level0 col5\" >p1_dog</th>        <th class=\"col_heading level0 col6\" >p2</th>        <th class=\"col_heading level0 col7\" >p2_conf</th>        <th class=\"col_heading level0 col8\" >p2_dog</th>        <th class=\"col_heading level0 col9\" >p3</th>        <th class=\"col_heading level0 col10\" >p3_conf</th>        <th class=\"col_heading level0 col11\" >p3_dog</th>    </tr></thead><tbody>\n",
       "                <tr>\n",
       "                        <th id=\"T_733a2c46_9106_11eb_8970_28c63fce8a9blevel0_row0\" class=\"row_heading level0 row0\" >0</th>\n",
       "                        <td id=\"T_733a2c46_9106_11eb_8970_28c63fce8a9brow0_col0\" class=\"data row0 col0\" >666020888022790149</td>\n",
       "                        <td id=\"T_733a2c46_9106_11eb_8970_28c63fce8a9brow0_col1\" class=\"data row0 col1\" >https://pbs.twimg.com/media/CT4udn0WwAA0aMy.jpg</td>\n",
       "                        <td id=\"T_733a2c46_9106_11eb_8970_28c63fce8a9brow0_col2\" class=\"data row0 col2\" >1</td>\n",
       "                        <td id=\"T_733a2c46_9106_11eb_8970_28c63fce8a9brow0_col3\" class=\"data row0 col3\" >Welsh_springer_spaniel</td>\n",
       "                        <td id=\"T_733a2c46_9106_11eb_8970_28c63fce8a9brow0_col4\" class=\"data row0 col4\" >0.465074</td>\n",
       "                        <td id=\"T_733a2c46_9106_11eb_8970_28c63fce8a9brow0_col5\" class=\"data row0 col5\" >True</td>\n",
       "                        <td id=\"T_733a2c46_9106_11eb_8970_28c63fce8a9brow0_col6\" class=\"data row0 col6\" >collie</td>\n",
       "                        <td id=\"T_733a2c46_9106_11eb_8970_28c63fce8a9brow0_col7\" class=\"data row0 col7\" >0.156665</td>\n",
       "                        <td id=\"T_733a2c46_9106_11eb_8970_28c63fce8a9brow0_col8\" class=\"data row0 col8\" >True</td>\n",
       "                        <td id=\"T_733a2c46_9106_11eb_8970_28c63fce8a9brow0_col9\" class=\"data row0 col9\" >Shetland_sheepdog</td>\n",
       "                        <td id=\"T_733a2c46_9106_11eb_8970_28c63fce8a9brow0_col10\" class=\"data row0 col10\" >0.0614285</td>\n",
       "                        <td id=\"T_733a2c46_9106_11eb_8970_28c63fce8a9brow0_col11\" class=\"data row0 col11\" >True</td>\n",
       "            </tr>\n",
       "            <tr>\n",
       "                        <th id=\"T_733a2c46_9106_11eb_8970_28c63fce8a9blevel0_row1\" class=\"row_heading level0 row1\" >1</th>\n",
       "                        <td id=\"T_733a2c46_9106_11eb_8970_28c63fce8a9brow1_col0\" class=\"data row1 col0\" >666029285002620928</td>\n",
       "                        <td id=\"T_733a2c46_9106_11eb_8970_28c63fce8a9brow1_col1\" class=\"data row1 col1\" >https://pbs.twimg.com/media/CT42GRgUYAA5iDo.jpg</td>\n",
       "                        <td id=\"T_733a2c46_9106_11eb_8970_28c63fce8a9brow1_col2\" class=\"data row1 col2\" >1</td>\n",
       "                        <td id=\"T_733a2c46_9106_11eb_8970_28c63fce8a9brow1_col3\" class=\"data row1 col3\" >redbone</td>\n",
       "                        <td id=\"T_733a2c46_9106_11eb_8970_28c63fce8a9brow1_col4\" class=\"data row1 col4\" >0.506826</td>\n",
       "                        <td id=\"T_733a2c46_9106_11eb_8970_28c63fce8a9brow1_col5\" class=\"data row1 col5\" >True</td>\n",
       "                        <td id=\"T_733a2c46_9106_11eb_8970_28c63fce8a9brow1_col6\" class=\"data row1 col6\" >miniature_pinscher</td>\n",
       "                        <td id=\"T_733a2c46_9106_11eb_8970_28c63fce8a9brow1_col7\" class=\"data row1 col7\" >0.0741917</td>\n",
       "                        <td id=\"T_733a2c46_9106_11eb_8970_28c63fce8a9brow1_col8\" class=\"data row1 col8\" >True</td>\n",
       "                        <td id=\"T_733a2c46_9106_11eb_8970_28c63fce8a9brow1_col9\" class=\"data row1 col9\" >Rhodesian_ridgeback</td>\n",
       "                        <td id=\"T_733a2c46_9106_11eb_8970_28c63fce8a9brow1_col10\" class=\"data row1 col10\" >0.07201</td>\n",
       "                        <td id=\"T_733a2c46_9106_11eb_8970_28c63fce8a9brow1_col11\" class=\"data row1 col11\" >True</td>\n",
       "            </tr>\n",
       "            <tr>\n",
       "                        <th id=\"T_733a2c46_9106_11eb_8970_28c63fce8a9blevel0_row2\" class=\"row_heading level0 row2\" >2</th>\n",
       "                        <td id=\"T_733a2c46_9106_11eb_8970_28c63fce8a9brow2_col0\" class=\"data row2 col0\" >666033412701032449</td>\n",
       "                        <td id=\"T_733a2c46_9106_11eb_8970_28c63fce8a9brow2_col1\" class=\"data row2 col1\" >https://pbs.twimg.com/media/CT4521TWwAEvMyu.jpg</td>\n",
       "                        <td id=\"T_733a2c46_9106_11eb_8970_28c63fce8a9brow2_col2\" class=\"data row2 col2\" >1</td>\n",
       "                        <td id=\"T_733a2c46_9106_11eb_8970_28c63fce8a9brow2_col3\" class=\"data row2 col3\" >German_shepherd</td>\n",
       "                        <td id=\"T_733a2c46_9106_11eb_8970_28c63fce8a9brow2_col4\" class=\"data row2 col4\" >0.596461</td>\n",
       "                        <td id=\"T_733a2c46_9106_11eb_8970_28c63fce8a9brow2_col5\" class=\"data row2 col5\" >True</td>\n",
       "                        <td id=\"T_733a2c46_9106_11eb_8970_28c63fce8a9brow2_col6\" class=\"data row2 col6\" >malinois</td>\n",
       "                        <td id=\"T_733a2c46_9106_11eb_8970_28c63fce8a9brow2_col7\" class=\"data row2 col7\" >0.138584</td>\n",
       "                        <td id=\"T_733a2c46_9106_11eb_8970_28c63fce8a9brow2_col8\" class=\"data row2 col8\" >True</td>\n",
       "                        <td id=\"T_733a2c46_9106_11eb_8970_28c63fce8a9brow2_col9\" class=\"data row2 col9\" >bloodhound</td>\n",
       "                        <td id=\"T_733a2c46_9106_11eb_8970_28c63fce8a9brow2_col10\" class=\"data row2 col10\" >0.116197</td>\n",
       "                        <td id=\"T_733a2c46_9106_11eb_8970_28c63fce8a9brow2_col11\" class=\"data row2 col11\" >True</td>\n",
       "            </tr>\n",
       "            <tr>\n",
       "                        <th id=\"T_733a2c46_9106_11eb_8970_28c63fce8a9blevel0_row3\" class=\"row_heading level0 row3\" >3</th>\n",
       "                        <td id=\"T_733a2c46_9106_11eb_8970_28c63fce8a9brow3_col0\" class=\"data row3 col0\" >666044226329800704</td>\n",
       "                        <td id=\"T_733a2c46_9106_11eb_8970_28c63fce8a9brow3_col1\" class=\"data row3 col1\" >https://pbs.twimg.com/media/CT5Dr8HUEAA-lEu.jpg</td>\n",
       "                        <td id=\"T_733a2c46_9106_11eb_8970_28c63fce8a9brow3_col2\" class=\"data row3 col2\" >1</td>\n",
       "                        <td id=\"T_733a2c46_9106_11eb_8970_28c63fce8a9brow3_col3\" class=\"data row3 col3\" >Rhodesian_ridgeback</td>\n",
       "                        <td id=\"T_733a2c46_9106_11eb_8970_28c63fce8a9brow3_col4\" class=\"data row3 col4\" >0.408143</td>\n",
       "                        <td id=\"T_733a2c46_9106_11eb_8970_28c63fce8a9brow3_col5\" class=\"data row3 col5\" >True</td>\n",
       "                        <td id=\"T_733a2c46_9106_11eb_8970_28c63fce8a9brow3_col6\" class=\"data row3 col6\" >redbone</td>\n",
       "                        <td id=\"T_733a2c46_9106_11eb_8970_28c63fce8a9brow3_col7\" class=\"data row3 col7\" >0.360687</td>\n",
       "                        <td id=\"T_733a2c46_9106_11eb_8970_28c63fce8a9brow3_col8\" class=\"data row3 col8\" >True</td>\n",
       "                        <td id=\"T_733a2c46_9106_11eb_8970_28c63fce8a9brow3_col9\" class=\"data row3 col9\" >miniature_pinscher</td>\n",
       "                        <td id=\"T_733a2c46_9106_11eb_8970_28c63fce8a9brow3_col10\" class=\"data row3 col10\" >0.222752</td>\n",
       "                        <td id=\"T_733a2c46_9106_11eb_8970_28c63fce8a9brow3_col11\" class=\"data row3 col11\" >True</td>\n",
       "            </tr>\n",
       "    </tbody></table>"
      ],
      "text/plain": [
       "<pandas.io.formats.style.Styler at 0x1b616b00860>"
      ]
     },
     "execution_count": 9,
     "metadata": {},
     "output_type": "execute_result"
    }
   ],
   "source": [
    "images.loc[:3].style.applymap(lambda x: 'color: red' if pd.isnull(x) else '')"
   ]
  },
  {
   "cell_type": "code",
   "execution_count": 10,
   "metadata": {},
   "outputs": [
    {
     "data": {
      "text/html": [
       "<style  type=\"text/css\" >\n",
       "    #T_73460676_9106_11eb_9203_28c63fce8a9brow0_col1 {\n",
       "            color:  red;\n",
       "        }    #T_73460676_9106_11eb_9203_28c63fce8a9brow1_col1 {\n",
       "            color:  red;\n",
       "        }    #T_73460676_9106_11eb_9203_28c63fce8a9brow2_col1 {\n",
       "            color:  red;\n",
       "        }    #T_73460676_9106_11eb_9203_28c63fce8a9brow3_col1 {\n",
       "            color:  red;\n",
       "        }</style><table id=\"T_73460676_9106_11eb_9203_28c63fce8a9b\" ><thead>    <tr>        <th class=\"blank level0\" ></th>        <th class=\"col_heading level0 col0\" >favorite_count</th>        <th class=\"col_heading level0 col1\" >retweet count</th>        <th class=\"col_heading level0 col2\" >retweet_count</th>        <th class=\"col_heading level0 col3\" >tweet_id</th>    </tr></thead><tbody>\n",
       "                <tr>\n",
       "                        <th id=\"T_73460676_9106_11eb_9203_28c63fce8a9blevel0_row0\" class=\"row_heading level0 row0\" >0</th>\n",
       "                        <td id=\"T_73460676_9106_11eb_9203_28c63fce8a9brow0_col0\" class=\"data row0 col0\" >37135</td>\n",
       "                        <td id=\"T_73460676_9106_11eb_9203_28c63fce8a9brow0_col1\" class=\"data row0 col1\" >nan</td>\n",
       "                        <td id=\"T_73460676_9106_11eb_9203_28c63fce8a9brow0_col2\" class=\"data row0 col2\" >7937</td>\n",
       "                        <td id=\"T_73460676_9106_11eb_9203_28c63fce8a9brow0_col3\" class=\"data row0 col3\" >892420643555336193</td>\n",
       "            </tr>\n",
       "            <tr>\n",
       "                        <th id=\"T_73460676_9106_11eb_9203_28c63fce8a9blevel0_row1\" class=\"row_heading level0 row1\" >1</th>\n",
       "                        <td id=\"T_73460676_9106_11eb_9203_28c63fce8a9brow1_col0\" class=\"data row1 col0\" >31939</td>\n",
       "                        <td id=\"T_73460676_9106_11eb_9203_28c63fce8a9brow1_col1\" class=\"data row1 col1\" >nan</td>\n",
       "                        <td id=\"T_73460676_9106_11eb_9203_28c63fce8a9brow1_col2\" class=\"data row1 col2\" >5900</td>\n",
       "                        <td id=\"T_73460676_9106_11eb_9203_28c63fce8a9brow1_col3\" class=\"data row1 col3\" >892177421306343426</td>\n",
       "            </tr>\n",
       "            <tr>\n",
       "                        <th id=\"T_73460676_9106_11eb_9203_28c63fce8a9blevel0_row2\" class=\"row_heading level0 row2\" >2</th>\n",
       "                        <td id=\"T_73460676_9106_11eb_9203_28c63fce8a9brow2_col0\" class=\"data row2 col0\" >24054</td>\n",
       "                        <td id=\"T_73460676_9106_11eb_9203_28c63fce8a9brow2_col1\" class=\"data row2 col1\" >nan</td>\n",
       "                        <td id=\"T_73460676_9106_11eb_9203_28c63fce8a9brow2_col2\" class=\"data row2 col2\" >3899</td>\n",
       "                        <td id=\"T_73460676_9106_11eb_9203_28c63fce8a9brow2_col3\" class=\"data row2 col3\" >891815181378084864</td>\n",
       "            </tr>\n",
       "            <tr>\n",
       "                        <th id=\"T_73460676_9106_11eb_9203_28c63fce8a9blevel0_row3\" class=\"row_heading level0 row3\" >3</th>\n",
       "                        <td id=\"T_73460676_9106_11eb_9203_28c63fce8a9brow3_col0\" class=\"data row3 col0\" >40456</td>\n",
       "                        <td id=\"T_73460676_9106_11eb_9203_28c63fce8a9brow3_col1\" class=\"data row3 col1\" >nan</td>\n",
       "                        <td id=\"T_73460676_9106_11eb_9203_28c63fce8a9brow3_col2\" class=\"data row3 col2\" >8095</td>\n",
       "                        <td id=\"T_73460676_9106_11eb_9203_28c63fce8a9brow3_col3\" class=\"data row3 col3\" >891689557279858688</td>\n",
       "            </tr>\n",
       "    </tbody></table>"
      ],
      "text/plain": [
       "<pandas.io.formats.style.Styler at 0x1b616ae8828>"
      ]
     },
     "execution_count": 10,
     "metadata": {},
     "output_type": "execute_result"
    }
   ],
   "source": [
    "df_2.loc[:3].style.applymap(lambda x: 'color: red' if pd.isnull(x) else '')"
   ]
  },
  {
   "cell_type": "markdown",
   "metadata": {},
   "source": [
    "### Programatic Assessment"
   ]
  },
  {
   "cell_type": "code",
   "execution_count": 11,
   "metadata": {},
   "outputs": [
    {
     "data": {
      "text/plain": [
       "tweet_id                      2356\n",
       "in_reply_to_status_id           78\n",
       "in_reply_to_user_id             78\n",
       "timestamp                     2356\n",
       "source                        2356\n",
       "text                          2356\n",
       "retweeted_status_id            181\n",
       "retweeted_status_user_id       181\n",
       "retweeted_status_timestamp     181\n",
       "expanded_urls                 2297\n",
       "rating_numerator              2356\n",
       "rating_denominator            2356\n",
       "name                          2356\n",
       "doggo                         2356\n",
       "floofer                       2356\n",
       "pupper                        2356\n",
       "puppo                         2356\n",
       "dtype: int64"
      ]
     },
     "execution_count": 11,
     "metadata": {},
     "output_type": "execute_result"
    }
   ],
   "source": [
    "df_1.count()"
   ]
  },
  {
   "cell_type": "markdown",
   "metadata": {},
   "source": [
    "- Five columns in the **df_1** Dataframe appear to contain missing values: \n",
    "    - **in_reply_to_status_id**, \n",
    "    - **in_reply_to_user_id**, \n",
    "    - **retweeed_status_id**, \n",
    "    - **retweeted_status_user_id**,  \n",
    "    - **retweeted_status_timestamp** \n",
    "\n",
    "\n",
    "- As observed above:\n",
    "    - **in_reply_to_status_id** and **in_reply_to_user_id** each have 2247 null values\n",
    "    - **retweeed_status_id**, **retweeted_status_user_id**, and **retweeted_status_timestamp** each have 2094 null values\n",
    "\n",
    "\n",
    "- The **text** column contains the body of the tweet, but then ends each tweet with a hyperlink.  The hyperlink is already represented in the **expanded_urls** column, so having it shown twice is redundant information and is not really part of the text of the tweet. \n",
    "\n",
    "\n",
    "- The columns **doggo**, **floofer**, **pupper**, and **puppo** have the string \"None\" in many of there rows. These columns seem to be categorical varibales and would benefit by finding a melt them into a single categorical column.\n",
    "\n",
    "\n",
    "- The **timestamp** column is formatted down to the millisecond. This is accurate and thourough information, but for future timeseries analysis, I will convert the time in a date format of yyyy/MM/dd HH:mm instead of the yyyy-MM-dd HH:mm:ss +ffff it is in now.\n",
    "\n"
   ]
  },
  {
   "cell_type": "code",
   "execution_count": 12,
   "metadata": {},
   "outputs": [
    {
     "data": {
      "text/plain": [
       "tweet_id    2075\n",
       "jpg_url     2075\n",
       "img_num     2075\n",
       "p1          2075\n",
       "p1_conf     2075\n",
       "p1_dog      2075\n",
       "p2          2075\n",
       "p2_conf     2075\n",
       "p2_dog      2075\n",
       "p3          2075\n",
       "p3_conf     2075\n",
       "p3_dog      2075\n",
       "dtype: int64"
      ]
     },
     "execution_count": 12,
     "metadata": {},
     "output_type": "execute_result"
    }
   ],
   "source": [
    "images.count()"
   ]
  },
  {
   "cell_type": "markdown",
   "metadata": {},
   "source": [
    "- The columns **p1**, **p2**, and **p3** are all in snake case format and some of the categorical values are capitalized while others are not.  To clean this up I would like to remove the underscore(s) of each row and put the classications in title format "
   ]
  },
  {
   "cell_type": "code",
   "execution_count": 13,
   "metadata": {},
   "outputs": [
    {
     "data": {
      "text/plain": [
       "favorite_count    2166\n",
       "retweet count        0\n",
       "retweet_count     2166\n",
       "tweet_id          2166\n",
       "dtype: int64"
      ]
     },
     "execution_count": 13,
     "metadata": {},
     "output_type": "execute_result"
    }
   ],
   "source": [
    "df_2.count()"
   ]
  },
  {
   "cell_type": "markdown",
   "metadata": {},
   "source": [
    "**retweet count** is an inconsistent format by not having an underscore to replace the space between words. By grouping column names in snake case the column names of a dataframe are callable. This would likely be a column name that I renamed to much python convention for a column name but it looks like it is a duplicate column to **reteet_count** and has a majority of NaN values. I will drop the column **retweet count** to tidy up the **df_2** DataFrame."
   ]
  },
  {
   "cell_type": "markdown",
   "metadata": {},
   "source": [
    "##### Checking for Duplicate Rows"
   ]
  },
  {
   "cell_type": "code",
   "execution_count": 14,
   "metadata": {},
   "outputs": [
    {
     "data": {
      "text/plain": [
       "(False, True, False)"
      ]
     },
     "execution_count": 14,
     "metadata": {},
     "output_type": "execute_result"
    }
   ],
   "source": [
    "df_1.tweet_id.duplicated().any(), df_2.tweet_id.duplicated().any(), images.tweet_id.duplicated().any()"
   ]
  },
  {
   "cell_type": "markdown",
   "metadata": {},
   "source": [
    "**df_2** contains some duplicated rows that will need to be dropped. "
   ]
  },
  {
   "cell_type": "code",
   "execution_count": null,
   "metadata": {},
   "outputs": [],
   "source": []
  },
  {
   "cell_type": "code",
   "execution_count": 15,
   "metadata": {},
   "outputs": [
    {
     "name": "stdout",
     "output_type": "stream",
     "text": [
      "None     2259\n",
      "doggo      97\n",
      "Name: doggo, dtype: int64,\n",
      "\n",
      "None       2346\n",
      "floofer      10\n",
      "Name: floofer, dtype: int64,\n",
      "\n",
      "None      2099\n",
      "pupper     257\n",
      "Name: pupper, dtype: int64,\n",
      "\n",
      "None     2326\n",
      "puppo      30\n",
      "Name: puppo, dtype: int64\n"
     ]
    }
   ],
   "source": [
    "doggo = df_1.doggo.value_counts()\n",
    "floofer = df_1.floofer.value_counts()\n",
    "pupper = df_1.pupper.value_counts()\n",
    "puppo = df_1.puppo.value_counts()\n",
    "\n",
    "print(f'{doggo},\\n\\n{floofer},\\n\\n{pupper},\\n\\n{puppo}')"
   ]
  },
  {
   "cell_type": "markdown",
   "metadata": {},
   "source": []
  },
  {
   "cell_type": "code",
   "execution_count": 16,
   "metadata": {},
   "outputs": [
    {
     "data": {
      "text/plain": [
       "0         2\n",
       "1         9\n",
       "2         9\n",
       "3        19\n",
       "4        17\n",
       "5        37\n",
       "6        32\n",
       "7        55\n",
       "8       102\n",
       "9       158\n",
       "10      461\n",
       "11      464\n",
       "12      558\n",
       "13      351\n",
       "14       54\n",
       "15        2\n",
       "17        1\n",
       "20        1\n",
       "24        1\n",
       "26        1\n",
       "27        1\n",
       "44        1\n",
       "45        1\n",
       "50        1\n",
       "60        1\n",
       "75        2\n",
       "80        1\n",
       "84        1\n",
       "88        1\n",
       "99        1\n",
       "121       1\n",
       "143       1\n",
       "144       1\n",
       "165       1\n",
       "182       1\n",
       "204       1\n",
       "420       2\n",
       "666       1\n",
       "960       1\n",
       "1776      1\n",
       "Name: rating_numerator, dtype: int64"
      ]
     },
     "execution_count": 16,
     "metadata": {},
     "output_type": "execute_result"
    }
   ],
   "source": [
    "df_1.rating_numerator.value_counts().sort_index()"
   ]
  },
  {
   "cell_type": "markdown",
   "metadata": {},
   "source": [
    "#### Defining a funtion printOut as a visual tool while parsing through the text to get a better look a numerators and denominators"
   ]
  },
  {
   "cell_type": "code",
   "execution_count": 17,
   "metadata": {},
   "outputs": [],
   "source": [
    "def printOutRating(list1, list2,list3):\n",
    "    for i in range(len(list1)):\n",
    "        nex_list1 = list1[i]\n",
    "        nex_list2 = list2[i]\n",
    "        nex_list3 = list3[i]\n",
    "        print(f'Row {nex_list1}\\nDenominator:{nex_list2}\\n{nex_list3} \\n\\n')"
   ]
  },
  {
   "cell_type": "markdown",
   "metadata": {},
   "source": [
    "For most of the cases if a numerator had a value\n",
    "greater than 14 it was only used once, however 75 occurs twice.\n",
    "I decided to look into this a little further to figure out why this was."
   ]
  },
  {
   "cell_type": "code",
   "execution_count": 18,
   "metadata": {},
   "outputs": [
    {
     "name": "stdout",
     "output_type": "stream",
     "text": [
      "Row 340\n",
      "Denominator:75\n",
      "RT @dog_rates: This is Logan, the Chow who lived. He solemnly swears he's up to lots of good. H*ckin magical af 9.75/10 https://t.co/yBO5wu… \n",
      "\n",
      "\n",
      "Row 695\n",
      "Denominator:75\n",
      "This is Logan, the Chow who lived. He solemnly swears he's up to lots of good. H*ckin magical af 9.75/10 https://t.co/yBO5wuqaPS \n",
      "\n",
      "\n"
     ]
    }
   ],
   "source": [
    "printout = df_1[df_1.rating_numerator== 75]\n",
    "        \n",
    "ind  =  printout.index.tolist()\n",
    "num  =  printout.rating_numerator.tolist()\n",
    "text = printout.text.tolist()\n",
    "\n",
    "printOutRating(ind,num,text)"
   ]
  },
  {
   "cell_type": "markdown",
   "metadata": {},
   "source": [
    "By taking a closer look at these two tweets, I found two problems. The first is that the numerator is not 75, as it is listed in the df_1 dataset, its actually 10. The number 75 was misrepresented as the numerator in error when a rating of 9.75(a sneaky nod to the secret entrance of the Hogwarts Express on platform 9 and 3/4) was given to Logan and second, the indexed tweet #340 happens to be a duplicate of the indexed tweet #695 "
   ]
  },
  {
   "cell_type": "code",
   "execution_count": 19,
   "metadata": {},
   "outputs": [
    {
     "data": {
      "text/plain": [
       "10     2333\n",
       "11        3\n",
       "50        3\n",
       "80        2\n",
       "20        2\n",
       "2         1\n",
       "16        1\n",
       "40        1\n",
       "70        1\n",
       "15        1\n",
       "90        1\n",
       "110       1\n",
       "120       1\n",
       "130       1\n",
       "150       1\n",
       "170       1\n",
       "7         1\n",
       "0         1\n",
       "Name: rating_denominator, dtype: int64"
      ]
     },
     "execution_count": 19,
     "metadata": {},
     "output_type": "execute_result"
    }
   ],
   "source": [
    "df_1.rating_denominator.value_counts()"
   ]
  },
  {
   "cell_type": "code",
   "execution_count": 20,
   "metadata": {},
   "outputs": [
    {
     "data": {
      "text/plain": [
       "(3, 20)"
      ]
     },
     "execution_count": 20,
     "metadata": {},
     "output_type": "execute_result"
    }
   ],
   "source": [
    "df_1.query('rating_denominator < 10').rating_denominator.count(),df_1.query('rating_denominator > 10').rating_denominator.count()"
   ]
  },
  {
   "cell_type": "markdown",
   "metadata": {},
   "source": [
    "2333 of the 2356 observations have a denominator of ten. I decided to look into this further to see if I could find out why this was. \n",
    "- 3 tweets have a denominator less than ten.\n",
    "- 20 tweets have denominators greater than ten. "
   ]
  },
  {
   "cell_type": "code",
   "execution_count": 21,
   "metadata": {},
   "outputs": [
    {
     "name": "stdout",
     "output_type": "stream",
     "text": [
      "Row 313\n",
      "Denominator:0\n",
      "@jonnysun @Lin_Manuel ok jomny I know you're excited but 960/00 isn't a valid rating, 13/10 is tho \n",
      "\n",
      "\n",
      "Row 516\n",
      "Denominator:7\n",
      "Meet Sam. She smiles 24/7 &amp; secretly aspires to be a reindeer. \n",
      "Keep Sam smiling by clicking and sharing this link:\n",
      "https://t.co/98tB8y7y7t https://t.co/LouL5vdvxx \n",
      "\n",
      "\n",
      "Row 2335\n",
      "Denominator:2\n",
      "This is an Albanian 3 1/2 legged  Episcopalian. Loves well-polished hardwood flooring. Penis on the collar. 9/10 https://t.co/d9NcXFKwLv \n",
      "\n",
      "\n"
     ]
    }
   ],
   "source": [
    "printout = df_1[df_1.rating_denominator < 10]\n",
    "    \n",
    "ind = printout.index.tolist()\n",
    "denom = printout.rating_denominator.tolist()\n",
    "text = printout.text.tolist()\n",
    "\n",
    "printOutRating(ind,denom,text)"
   ]
  },
  {
   "cell_type": "markdown",
   "metadata": {},
   "source": [
    "For the the denominators that had values less then ten\n",
    "- From the the text printout we can see that Row 313 started with 960/00 but was then given the valid rating of 13/10 \n",
    "- Row 516 was one of the few times where WeRateDogs did not give a rating.\n",
    "- The tweet in row 2335 misrepresented the rating in error when a fraction of 1/2 was included in the text."
   ]
  },
  {
   "cell_type": "code",
   "execution_count": 22,
   "metadata": {},
   "outputs": [
    {
     "name": "stdout",
     "output_type": "stream",
     "text": [
      "Row 342\n",
      "Denominator:15\n",
      "@docmisterio account started on 11/15/15 \n",
      "\n",
      "\n",
      "Row 433\n",
      "Denominator:70\n",
      "The floofs have been released I repeat the floofs have been released. 84/70 https://t.co/NIYC820tmd \n",
      "\n",
      "\n",
      "Row 784\n",
      "Denominator:11\n",
      "RT @dog_rates: After so many requests, this is Bretagne. She was the last surviving 9/11 search dog, and our second ever 14/10. RIP https:/… \n",
      "\n",
      "\n",
      "Row 902\n",
      "Denominator:150\n",
      "Why does this never happen at my front door... 165/150 https://t.co/HmwrdfEfUE \n",
      "\n",
      "\n",
      "Row 1068\n",
      "Denominator:11\n",
      "After so many requests, this is Bretagne. She was the last surviving 9/11 search dog, and our second ever 14/10. RIP https://t.co/XAVDNDaVgQ \n",
      "\n",
      "\n",
      "Row 1120\n",
      "Denominator:170\n",
      "Say hello to this unbelievably well behaved squad of doggos. 204/170 would try to pet all at once https://t.co/yGQI3He3xv \n",
      "\n",
      "\n",
      "Row 1165\n",
      "Denominator:20\n",
      "Happy 4/20 from the squad! 13/10 for all https://t.co/eV1diwds8a \n",
      "\n",
      "\n",
      "Row 1202\n",
      "Denominator:50\n",
      "This is Bluebert. He just saw that both #FinalFur match ups are split 50/50. Amazed af. 11/10 https://t.co/Kky1DPG4iq \n",
      "\n",
      "\n",
      "Row 1228\n",
      "Denominator:90\n",
      "Happy Saturday here's 9 puppers on a bench. 99/90 good work everybody https://t.co/mpvaVxKmc1 \n",
      "\n",
      "\n",
      "Row 1254\n",
      "Denominator:80\n",
      "Here's a brigade of puppers. All look very prepared for whatever happens next. 80/80 https://t.co/0eb7R1Om12 \n",
      "\n",
      "\n",
      "Row 1274\n",
      "Denominator:50\n",
      "From left to right:\n",
      "Cletus, Jerome, Alejandro, Burp, &amp; Titson\n",
      "None know where camera is. 45/50 would hug all at once https://t.co/sedre1ivTK \n",
      "\n",
      "\n",
      "Row 1351\n",
      "Denominator:50\n",
      "Here is a whole flock of puppers.  60/50 I'll take the lot https://t.co/9dpcw6MdWa \n",
      "\n",
      "\n",
      "Row 1433\n",
      "Denominator:40\n",
      "Happy Wednesday here's a bucket of pups. 44/40 would pet all at once https://t.co/HppvrYuamZ \n",
      "\n",
      "\n",
      "Row 1598\n",
      "Denominator:20\n",
      "Yes I do realize a rating of 4/20 would've been fitting. However, it would be unjust to give these cooperative pups that low of a rating \n",
      "\n",
      "\n",
      "Row 1634\n",
      "Denominator:130\n",
      "Two sneaky puppers were not initially seen, moving the rating to 143/130. Please forgive us. Thank you https://t.co/kRK51Y5ac3 \n",
      "\n",
      "\n",
      "Row 1635\n",
      "Denominator:110\n",
      "Someone help the girl is being mugged. Several are distracting her while two steal her shoes. Clever puppers 121/110 https://t.co/1zfnTJLt55 \n",
      "\n",
      "\n",
      "Row 1662\n",
      "Denominator:11\n",
      "This is Darrel. He just robbed a 7/11 and is in a high speed police chase. Was just spotted by the helicopter 10/10 https://t.co/7EsP8LmSp5 \n",
      "\n",
      "\n",
      "Row 1663\n",
      "Denominator:16\n",
      "I'm aware that I could've said 20/16, but here at WeRateDogs we are very professional. An inconsistent rating scale is simply irresponsible \n",
      "\n",
      "\n",
      "Row 1779\n",
      "Denominator:120\n",
      "IT'S PUPPERGEDDON. Total of 144/120 ...I think https://t.co/ZanVtAtvIq \n",
      "\n",
      "\n",
      "Row 1843\n",
      "Denominator:80\n",
      "Here we have an entire platoon of puppers. Total score: 88/80 would pet all at once https://t.co/y93p6FLvVw \n",
      "\n",
      "\n"
     ]
    }
   ],
   "source": [
    "printout = df_1.loc[df_1.rating_denominator > 10]\n",
    "\n",
    "ind = printout['rating_denominator'].index.tolist()\n",
    "denom = printout['rating_denominator'].tolist()\n",
    "text = printout['text'].tolist()\n",
    "\n",
    "printOutRating(ind,denom,text)"
   ]
  },
  {
   "cell_type": "markdown",
   "metadata": {},
   "source": [
    "### Summary of Assessment\n",
    "\n",
    "#### Quality issues\n",
    "**df_1** dataset\n",
    "- The columns **in_reply_to_status_id**,**in_reply_to_user_id**,**retweeted_status_id**, **retweeted_status_user_id**,**retweeted_status_timestamp** have almost all NaN values\n",
    "- The columns Doggo, Pupper, Floofer, and Puppo need to be melted into one column\n",
    "- Row 313 started with 960/00 but was then given the valid rating of 13/10. These ratings need to be swapped in **df_1** \n",
    "- The tweet in row 342 was not a rating, but a reply to question asking for the date that the twitter account began.\n",
    "- The tweet in row 516 was not given a rating\n",
    "- Duplicate values need to be dropped \n",
    "- Some tweets contain fractions in the body of the text that have been misrepresent as the rating\n",
    "- Tweets with decimal points show incorrect ratings than what they were actually given\n",
    "- \n",
    "\n",
    "**df_2** dataset\n",
    "- Duplicate values need to be dropped\n",
    "- stuff\n",
    "- stuff\n",
    "\n",
    "**images** dataset\n",
    "- No quality errors were found in this dataset"
   ]
  },
  {
   "cell_type": "markdown",
   "metadata": {},
   "source": [
    "#### Tidiness Issues\n",
    "**df_1** dataset \n",
    "- The dog ratings need a standardized scale in order to facilitate easier comparison. \n",
    "- Timestamp would be more interpretable if it were in a format of yyyy/MM/dd HH:mm instead of the yyyy-MM-dd HH:mm:ss +ffff it has in the dataset\n",
    "- stuff\n",
    "\n",
    "**df_2** dataset\n",
    "- stuff\n",
    "- stuff\n",
    "- stuff\n",
    "\n",
    "**images** dataset\n",
    "- stuff\n",
    "- stuff\n"
   ]
  },
  {
   "cell_type": "markdown",
   "metadata": {},
   "source": [
    "# Clean"
   ]
  },
  {
   "cell_type": "code",
   "execution_count": 23,
   "metadata": {},
   "outputs": [],
   "source": [
    "df_1_cln = df_1.copy()\n",
    "df_2_cln = df_2.copy()\n",
    "images_cln = images.copy()"
   ]
  },
  {
   "cell_type": "markdown",
   "metadata": {},
   "source": [
    "## Fixing Quality Issue"
   ]
  },
  {
   "cell_type": "markdown",
   "metadata": {},
   "source": [
    "##### Define\n",
    "- 1. Drop the columns **in_reply_to_status_id**,**in_reply_to_user_id**,**retweeted_status_id**, **retweeted_status_user_id**,**retweeted_status_timestamp** with NaN values from the **df_1** dataset"
   ]
  },
  {
   "cell_type": "markdown",
   "metadata": {},
   "source": [
    "##### Code"
   ]
  },
  {
   "cell_type": "code",
   "execution_count": 24,
   "metadata": {},
   "outputs": [],
   "source": [
    "df_1_cln.drop(columns=['in_reply_to_status_id','in_reply_to_user_id','retweeted_status_id',\n",
    "                   'retweeted_status_user_id','retweeted_status_timestamp'\n",
    "                   ], inplace=True)"
   ]
  },
  {
   "cell_type": "markdown",
   "metadata": {},
   "source": [
    "##### Test the results"
   ]
  },
  {
   "cell_type": "code",
   "execution_count": 25,
   "metadata": {},
   "outputs": [
    {
     "data": {
      "text/plain": [
       "Index(['tweet_id', 'timestamp', 'source', 'text', 'expanded_urls',\n",
       "       'rating_numerator', 'rating_denominator', 'name', 'doggo', 'floofer',\n",
       "       'pupper', 'puppo'],\n",
       "      dtype='object')"
      ]
     },
     "execution_count": 25,
     "metadata": {},
     "output_type": "execute_result"
    }
   ],
   "source": [
    "df_1_cln.columns"
   ]
  },
  {
   "cell_type": "markdown",
   "metadata": {},
   "source": [
    "##### Define \n",
    "- Column 'retweet count' has no values, and is a duplicate column name of 'retweet_count'. Because of this, the column should be dropped from **df_2**"
   ]
  },
  {
   "cell_type": "markdown",
   "metadata": {},
   "source": [
    "##### Code"
   ]
  },
  {
   "cell_type": "code",
   "execution_count": 26,
   "metadata": {},
   "outputs": [],
   "source": [
    "df_2_cln.drop(columns={'retweet count'},inplace=True)"
   ]
  },
  {
   "cell_type": "markdown",
   "metadata": {},
   "source": [
    "##### Test the results"
   ]
  },
  {
   "cell_type": "code",
   "execution_count": 27,
   "metadata": {},
   "outputs": [
    {
     "name": "stdout",
     "output_type": "stream",
     "text": [
      "\n",
      "This column does not exists in Dataframe\n"
     ]
    }
   ],
   "source": [
    "if 'retweet count' in df_2_cln.columns :\n",
    "    print(\"\\nThis column exists in Dataframe\")\n",
    "else :\n",
    "    print(\"\\nThis column does not exists in Dataframe\")"
   ]
  },
  {
   "cell_type": "markdown",
   "metadata": {},
   "source": [
    "##### Define\n",
    "- 2. The tweet in row 342 was not a rating, but a reply to question asking for the date that the twitter account began.\n"
   ]
  },
  {
   "cell_type": "code",
   "execution_count": 28,
   "metadata": {},
   "outputs": [
    {
     "data": {
      "text/plain": [
       "(tweet_id                                             832088576586297345\n",
       " timestamp                                     2017-02-16 04:45:50 +0000\n",
       " source                <a href=\"http://twitter.com/download/iphone\" r...\n",
       " text                           @docmisterio account started on 11/15/15\n",
       " expanded_urls                                                       NaN\n",
       " rating_numerator                                                     11\n",
       " rating_denominator                                                   15\n",
       " name                                                               None\n",
       " doggo                                                              None\n",
       " floofer                                                            None\n",
       " pupper                                                             None\n",
       " puppo                                                              None\n",
       " Name: 342, dtype: object, '@docmisterio account started on 11/15/15')"
      ]
     },
     "execution_count": 28,
     "metadata": {},
     "output_type": "execute_result"
    }
   ],
   "source": [
    "df_1_cln.loc[342,:],df_1_cln.loc[342,'text']"
   ]
  },
  {
   "cell_type": "markdown",
   "metadata": {},
   "source": [
    "#####  Code"
   ]
  },
  {
   "cell_type": "code",
   "execution_count": 29,
   "metadata": {},
   "outputs": [],
   "source": [
    "df_1_cln.drop([342],inplace=True)"
   ]
  },
  {
   "cell_type": "markdown",
   "metadata": {},
   "source": [
    "##### Test the results"
   ]
  },
  {
   "cell_type": "code",
   "execution_count": 30,
   "metadata": {},
   "outputs": [
    {
     "name": "stdout",
     "output_type": "stream",
     "text": [
      "\n",
      "This value does not exists in Dataframe\n"
     ]
    }
   ],
   "source": [
    "if 342 in df_1_cln.index :\n",
    "    print(\"\\nThis value exists in Dataframe\")\n",
    "else :\n",
    "    print(\"\\nThis value does not exists in Dataframe\")"
   ]
  },
  {
   "cell_type": "markdown",
   "metadata": {},
   "source": [
    "##### Define\n",
    "- 3.  Fixing row #516 (No rating given) in the **df_1** dataset"
   ]
  },
  {
   "cell_type": "code",
   "execution_count": 31,
   "metadata": {},
   "outputs": [
    {
     "data": {
      "text/plain": [
       "(tweet_id                                                     810984652412424192\n",
       " in_reply_to_status_id                                                       NaN\n",
       " in_reply_to_user_id                                                         NaN\n",
       " timestamp                                             2016-12-19 23:06:23 +0000\n",
       " source                        <a href=\"http://twitter.com/download/iphone\" r...\n",
       " text                          Meet Sam. She smiles 24/7 &amp; secretly aspir...\n",
       " retweeted_status_id                                                         NaN\n",
       " retweeted_status_user_id                                                    NaN\n",
       " retweeted_status_timestamp                                                  NaN\n",
       " expanded_urls                 https://www.gofundme.com/sams-smile,https://tw...\n",
       " rating_numerator                                                             24\n",
       " rating_denominator                                                            7\n",
       " name                                                                        Sam\n",
       " doggo                                                                      None\n",
       " floofer                                                                    None\n",
       " pupper                                                                     None\n",
       " puppo                                                                      None\n",
       " Name: 516, dtype: object,\n",
       " 'Meet Sam. She smiles 24/7 &amp; secretly aspires to be a reindeer. \\nKeep Sam smiling by clicking and sharing this link:\\nhttps://t.co/98tB8y7y7t https://t.co/LouL5vdvxx')"
      ]
     },
     "execution_count": 31,
     "metadata": {},
     "output_type": "execute_result"
    }
   ],
   "source": [
    "df_1.loc[516,:],df_1.loc[516,'text']"
   ]
  },
  {
   "cell_type": "markdown",
   "metadata": {},
   "source": [
    "#####  Code"
   ]
  },
  {
   "cell_type": "code",
   "execution_count": 32,
   "metadata": {},
   "outputs": [],
   "source": [
    "df_1_cln.loc[516, 'rating_numerator']= np.median(df_1_cln.rating_numerator)\n",
    "df_1_cln.loc[516, 'rating_denominator']= np.median(df_1_cln.rating_denominator)"
   ]
  },
  {
   "cell_type": "code",
   "execution_count": 33,
   "metadata": {},
   "outputs": [
    {
     "name": "stdout",
     "output_type": "stream",
     "text": [
      "Since Sam was never given a rating, I gave him the median rating which is 11.0/10.0\n"
     ]
    }
   ],
   "source": [
    "print(f\"Since Sam was never given a rating, I gave him the median rating which is {df_1_cln.loc[516,'rating_numerator']}/{df_1_cln.loc[516,'rating_denominator']}\")"
   ]
  },
  {
   "cell_type": "markdown",
   "metadata": {},
   "source": [
    "##### Define\n",
    "- 4.Dropping the duplicate in the **df_2** dataset"
   ]
  },
  {
   "cell_type": "code",
   "execution_count": 34,
   "metadata": {},
   "outputs": [],
   "source": [
    "df_2_cln = df_2_cln.drop_duplicates(subset=['tweet_id'],keep='first').reset_index()\n"
   ]
  },
  {
   "cell_type": "markdown",
   "metadata": {},
   "source": [
    "##### Test the results"
   ]
  },
  {
   "cell_type": "code",
   "execution_count": 35,
   "metadata": {},
   "outputs": [
    {
     "data": {
      "text/plain": [
       "False"
      ]
     },
     "execution_count": 35,
     "metadata": {},
     "output_type": "execute_result"
    }
   ],
   "source": [
    "df_2_cln.tweet_id.duplicated().any()"
   ]
  },
  {
   "cell_type": "markdown",
   "metadata": {},
   "source": [
    "##### Define\n",
    "- 5. Replacing all mislabeled ratings with the correct rating"
   ]
  },
  {
   "cell_type": "code",
   "execution_count": 36,
   "metadata": {},
   "outputs": [
    {
     "name": "stdout",
     "output_type": "stream",
     "text": [
      "Row 313\n",
      "Numerator 13\n",
      "Denominator: 10\n",
      "@jonnysun @Lin_Manuel ok jomny I know you're excited but 960/00 isn't a valid rating, 13/10 is tho\n",
      "\n",
      "Row 433\n",
      "Numerator Unchanged\n",
      "Denominator: Unchanged\n",
      "The floofs have been released I repeat the floofs have been released. 84/70 https://t.co/NIYC820tmd\n",
      "\n",
      "Row 784\n",
      "Numerator 14\n",
      "Denominator: 10\n",
      "RT @dog_rates: After so many requests, this is Bretagne. She was the last surviving 9/11 search dog, and our second ever 14/10. RIP https:/…\n",
      "\n",
      "Row 902\n",
      "Numerator Unchanged\n",
      "Denominator: Unchanged\n",
      "Why does this never happen at my front door... 165/150 https://t.co/HmwrdfEfUE\n",
      "\n",
      "Row 1068\n",
      "Numerator 14\n",
      "Denominator: 10\n",
      "After so many requests, this is Bretagne. She was the last surviving 9/11 search dog, and our second ever 14/10. RIP https://t.co/XAVDNDaVgQ\n",
      "\n",
      "Row 1120\n",
      "Numerator Unchanged\n",
      "Denominator: Unchanged\n",
      "Say hello to this unbelievably well behaved squad of doggos. 204/170 would try to pet all at once https://t.co/yGQI3He3xv\n",
      "\n",
      "Row 1165\n",
      "Numerator 13\n",
      "Denominator: 10\n",
      "Happy 4/20 from the squad! 13/10 for all https://t.co/eV1diwds8a\n",
      "\n",
      "Row 1202\n",
      "Numerator 11\n",
      "Denominator: 10\n",
      "This is Bluebert. He just saw that both #FinalFur match ups are split 50/50. Amazed af. 11/10 https://t.co/Kky1DPG4iq\n",
      "\n",
      "Row 1228\n",
      "Numerator Unchanged\n",
      "Denominator: Unchanged\n",
      "Happy Saturday here's 9 puppers on a bench. 99/90 good work everybody https://t.co/mpvaVxKmc1\n",
      "\n",
      "Row 1254\n",
      "Numerator Unchanged\n",
      "Denominator: Unchanged\n",
      "Here's a brigade of puppers. All look very prepared for whatever happens next. 80/80 https://t.co/0eb7R1Om12\n",
      "\n",
      "Row 1274\n",
      "Numerator Unchanged\n",
      "Denominator: Unchanged\n",
      "From left to right:\n",
      "Cletus, Jerome, Alejandro, Burp, &amp; Titson\n",
      "None know where camera is. 45/50 would hug all at once https://t.co/sedre1ivTK\n",
      "\n",
      "Row 1351\n",
      "Numerator Unchanged\n",
      "Denominator: Unchanged\n",
      "Here is a whole flock of puppers.  60/50 I'll take the lot https://t.co/9dpcw6MdWa\n",
      "\n",
      "Row 1433\n",
      "Numerator Unchanged\n",
      "Denominator: Unchanged\n",
      "Happy Wednesday here's a bucket of pups. 44/40 would pet all at once https://t.co/HppvrYuamZ\n",
      "\n",
      "Row 1598\n",
      "Numerator Unchanged\n",
      "Denominator: Unchanged\n",
      "Yes I do realize a rating of 4/20 would've been fitting. However, it would be unjust to give these cooperative pups that low of a rating\n",
      "\n",
      "Row 1634\n",
      "Numerator Unchanged\n",
      "Denominator: Unchanged\n",
      "Two sneaky puppers were not initially seen, moving the rating to 143/130. Please forgive us. Thank you https://t.co/kRK51Y5ac3\n",
      "\n",
      "Row 1635\n",
      "Numerator Unchanged\n",
      "Denominator: Unchanged\n",
      "Someone help the girl is being mugged. Several are distracting her while two steal her shoes. Clever puppers 121/110 https://t.co/1zfnTJLt55\n",
      "\n",
      "Row 1662\n",
      "Numerator 10\n",
      "Denominator: 10\n",
      "This is Darrel. He just robbed a 7/11 and is in a high speed police chase. Was just spotted by the helicopter 10/10 https://t.co/7EsP8LmSp5\n",
      "\n",
      "Row 1663\n",
      "Numerator Unchanged\n",
      "Denominator: Unchanged\n",
      "I'm aware that I could've said 20/16, but here at WeRateDogs we are very professional. An inconsistent rating scale is simply irresponsible\n",
      "\n",
      "Row 1779\n",
      "Numerator Unchanged\n",
      "Denominator: Unchanged\n",
      "IT'S PUPPERGEDDON. Total of 144/120 ...I think https://t.co/ZanVtAtvIq\n",
      "\n",
      "Row 1843\n",
      "Numerator Unchanged\n",
      "Denominator: Unchanged\n",
      "Here we have an entire platoon of puppers. Total score: 88/80 would pet all at once https://t.co/y93p6FLvVw\n",
      "\n",
      "Row 2335\n",
      "Numerator 9\n",
      "Denominator: 10\n",
      "This is an Albanian 3 1/2 legged  Episcopalian. Loves well-polished hardwood flooring. Penis on the collar. 9/10 https://t.co/d9NcXFKwLv\n",
      "\n"
     ]
    }
   ],
   "source": [
    "indices = []\n",
    "for i, row in df_1_cln.iterrows():\n",
    "    if df_1_cln.rating_denominator[i] != 10:\n",
    "        in_str= row['text']\n",
    "        try:\n",
    "            test = re.search(r'\\d+(?:\\.\\d+)?/10', in_str).group()\n",
    "            den = re.findall(r'\\d+', test)[1]\n",
    "            test = re.findall(r'\\d+', test)[0]\n",
    "            df_1_cln.at[i,'rating_numerator'] = test\n",
    "            df_1_cln.at[i,'rating_denominator'] = den\n",
    "            indices.append(i)\n",
    "        except:\n",
    "            test = 'Unchanged'\n",
    "        if test == 'Unchanged':\n",
    "            denominator = 'Unchanged'\n",
    "        else:\n",
    "            denominator = den\n",
    "                \n",
    "        print(f'Row {i}\\nNumerator {test}\\nDenominator: {denominator}\\n{in_str}\\n')\n",
    "        \n",
    "    else:\n",
    "        pass"
   ]
  },
  {
   "cell_type": "markdown",
   "metadata": {},
   "source": [
    "##### Test the results"
   ]
  },
  {
   "cell_type": "code",
   "execution_count": 37,
   "metadata": {},
   "outputs": [
    {
     "name": "stdout",
     "output_type": "stream",
     "text": [
      "Row 313 has a rating of 13.0/10.0\n",
      "Row 784 has a rating of 14.0/10.0\n",
      "Row 1068 has a rating of 14.0/10.0\n",
      "Row 1165 has a rating of 13.0/10.0\n",
      "Row 1202 has a rating of 11.0/10.0\n",
      "Row 1662 has a rating of 10.0/10.0\n",
      "Row 2335 has a rating of 9.0/10.0\n"
     ]
    }
   ],
   "source": [
    "for i in range(len(indices)):\n",
    "    ind = indices[i]\n",
    "    num = df_1_cln.rating_numerator[indices[i]]\n",
    "    den = df_1_cln.rating_denominator[indices[i]]\n",
    "    print(f'Row {ind} has a rating of {num}/{den}')"
   ]
  },
  {
   "cell_type": "markdown",
   "metadata": {},
   "source": [
    "##### Define\n",
    "- 6. Normalizing Denominators to a Standard of 10 structuring data to facilitate analysis **df_1**"
   ]
  },
  {
   "cell_type": "markdown",
   "metadata": {},
   "source": [
    "#####  Code"
   ]
  },
  {
   "cell_type": "code",
   "execution_count": 38,
   "metadata": {},
   "outputs": [],
   "source": [
    "norm_numerator= []\n",
    "norm_denominator= []\n",
    "for i, row in df_1_cln.iterrows():\n",
    "    norm = 10 / row['rating_denominator']\n",
    "    num = row['rating_numerator'] = row['rating_numerator']* norm\n",
    "    norm_numerator.append(num)\n",
    "    den = row['rating_denominator'] = row['rating_denominator']* norm\n",
    "    norm_denominator.append(den)"
   ]
  },
  {
   "cell_type": "code",
   "execution_count": 39,
   "metadata": {},
   "outputs": [],
   "source": [
    "df_1_cln['rating_numerator'] = norm_numerator\n",
    "df_1_cln['rating_denominator'] = norm_denominator"
   ]
  },
  {
   "cell_type": "markdown",
   "metadata": {},
   "source": [
    "##### Test the results"
   ]
  },
  {
   "cell_type": "code",
   "execution_count": 40,
   "metadata": {},
   "outputs": [
    {
     "data": {
      "text/plain": [
       "False"
      ]
     },
     "execution_count": 40,
     "metadata": {},
     "output_type": "execute_result"
    }
   ],
   "source": [
    "df_1_cln.query('rating_denominator !=10')['rating_denominator'].any()"
   ]
  },
  {
   "cell_type": "code",
   "execution_count": 41,
   "metadata": {},
   "outputs": [
    {
     "data": {
      "text/plain": [
       "10.0    2355\n",
       "Name: rating_denominator, dtype: int64"
      ]
     },
     "execution_count": 41,
     "metadata": {},
     "output_type": "execute_result"
    }
   ],
   "source": [
    "df_1_cln.rating_denominator.value_counts()"
   ]
  },
  {
   "cell_type": "code",
   "execution_count": 42,
   "metadata": {},
   "outputs": [
    {
     "data": {
      "text/plain": [
       "12.0      562\n",
       "11.0      471\n",
       "10.0      463\n",
       "13.0      353\n",
       "9.0       158\n",
       "8.0       102\n",
       "14.0       56\n",
       "7.0        54\n",
       "5.0        37\n",
       "6.0        32\n",
       "3.0        19\n",
       "4.0        15\n",
       "2.0        10\n",
       "1.0         8\n",
       "0.0         2\n",
       "75.0        2\n",
       "15.0        2\n",
       "420.0       2\n",
       "17.0        1\n",
       "666.0       1\n",
       "12.5        1\n",
       "1776.0      1\n",
       "26.0        1\n",
       "27.0        1\n",
       "182.0       1\n",
       "Name: rating_numerator, dtype: int64"
      ]
     },
     "execution_count": 42,
     "metadata": {},
     "output_type": "execute_result"
    }
   ],
   "source": [
    "df_1_cln.rating_numerator.value_counts()"
   ]
  },
  {
   "cell_type": "markdown",
   "metadata": {},
   "source": [
    "##### Define\n",
    "- 7.  Correcting Ratings Containing Decimal Places, Using Regular Expression to loop through each text and pull out any digits with decimal places in the **df_1** dataset"
   ]
  },
  {
   "cell_type": "markdown",
   "metadata": {},
   "source": [
    "#####  Code"
   ]
  },
  {
   "cell_type": "code",
   "execution_count": 43,
   "metadata": {},
   "outputs": [
    {
     "name": "stdout",
     "output_type": "stream",
     "text": [
      "The rating in row 45 used to be 5.0 and now is 13.5.\n",
      "The rating in row 340 used to be 75.0 and now is 9.75.\n",
      "The rating in row 695 used to be 75.0 and now is 9.75.\n",
      "The rating in row 763 used to be 27.0 and now is 11.27.\n",
      "The rating in row 1689 used to be 5.0 and now is 9.5.\n",
      "The rating in row 1712 used to be 26.0 and now is 11.26.\n"
     ]
    }
   ],
   "source": [
    "for i, row in df_1_cln.iterrows():\n",
    "    in_str= row['text']\n",
    "    split = re.split(r'/' , in_str)[0]\n",
    "    if bool(re.search(r'\\d+\\.\\d+$', split)) == True:\n",
    "        after = re.findall(r'\\d+\\.\\d+', split)[0]\n",
    "        before = df_1_cln.loc[i, 'rating_numerator']\n",
    "        df_1_cln.loc[i, 'rating_numerator'] = after\n",
    "        print(f\"The rating in row {i} used to be {before} and now is {after}.\")\n",
    "    else:\n",
    "        pass"
   ]
  },
  {
   "cell_type": "code",
   "execution_count": 44,
   "metadata": {},
   "outputs": [
    {
     "data": {
      "text/plain": [
       "dtype('O')"
      ]
     },
     "execution_count": 44,
     "metadata": {},
     "output_type": "execute_result"
    }
   ],
   "source": [
    "df_1_cln.rating_numerator.dtype"
   ]
  },
  {
   "cell_type": "code",
   "execution_count": 45,
   "metadata": {},
   "outputs": [],
   "source": [
    "df_1_cln['rating_numerator'] = df_1_cln['rating_numerator'].astype('float64')"
   ]
  },
  {
   "cell_type": "markdown",
   "metadata": {},
   "source": [
    "##### Test the results"
   ]
  },
  {
   "cell_type": "code",
   "execution_count": 46,
   "metadata": {},
   "outputs": [
    {
     "name": "stdout",
     "output_type": "stream",
     "text": [
      "Now row 45 has the correct rating of 13.5.\n",
      "\n",
      "This is Bella. She hopes her smile made you smile. If not, she is also offering you her favorite monkey. 13.5/10 https://t.co/qjrljjt948\n",
      "------------------------------------------------------------------------------------------------------------------\n",
      "\n",
      "Now row 340 has the correct rating of 9.75.\n",
      "\n",
      "RT @dog_rates: This is Logan, the Chow who lived. He solemnly swears he's up to lots of good. H*ckin magical af 9.75/10 https://t.co/yBO5wu…\n",
      "------------------------------------------------------------------------------------------------------------------\n",
      "\n",
      "Now row 695 has the correct rating of 9.75.\n",
      "\n",
      "This is Logan, the Chow who lived. He solemnly swears he's up to lots of good. H*ckin magical af 9.75/10 https://t.co/yBO5wuqaPS\n",
      "------------------------------------------------------------------------------------------------------------------\n",
      "\n",
      "Now row 763 has the correct rating of 11.27.\n",
      "\n",
      "This is Sophie. She's a Jubilant Bush Pupper. Super h*ckin rare. Appears at random just to smile at the locals. 11.27/10 would smile back https://t.co/QFaUiIHxHq\n",
      "------------------------------------------------------------------------------------------------------------------\n",
      "\n",
      "Now row 1663 has the correct rating of 12.5.\n",
      "\n",
      "I'm aware that I could've said 20/16, but here at WeRateDogs we are very professional. An inconsistent rating scale is simply irresponsible\n",
      "------------------------------------------------------------------------------------------------------------------\n",
      "\n",
      "Now row 1689 has the correct rating of 9.5.\n",
      "\n",
      "I've been told there's a slight possibility he's checking his mirror. We'll bump to 9.5/10. Still a menace\n",
      "------------------------------------------------------------------------------------------------------------------\n",
      "\n",
      "Now row 1712 has the correct rating of 11.26.\n",
      "\n",
      "Here we have uncovered an entire battalion of holiday puppers. Average of 11.26/10 https://t.co/eNm2S6p9BD\n",
      "------------------------------------------------------------------------------------------------------------------\n",
      "\n"
     ]
    }
   ],
   "source": [
    "check = df_1_cln.rating_numerator\n",
    "text = df_1_cln.text\n",
    "divide = \"---\" * 38\n",
    "\n",
    "for i in range(len(check)):\n",
    "    try:\n",
    "        chk_dec = check[i]\n",
    "        txt = text[i] \n",
    "        if bool(chk_dec.is_integer()) == False:\n",
    "            print(f'Now row {i} has the correct rating of {chk_dec}.\\n\\n{txt}\\n{divide}\\n')\n",
    "        else:\n",
    "            pass\n",
    "    except:\n",
    "        pass"
   ]
  },
  {
   "cell_type": "markdown",
   "metadata": {},
   "source": [
    "##### Define\n",
    "- 8. "
   ]
  },
  {
   "cell_type": "markdown",
   "metadata": {},
   "source": [
    "#####  Code"
   ]
  },
  {
   "cell_type": "code",
   "execution_count": 47,
   "metadata": {},
   "outputs": [
    {
     "name": "stdout",
     "output_type": "stream",
     "text": [
      "The rating in row 45 used to be 13.5 and now it is 14.0.\n",
      "The rating in row 340 used to be 9.75 and now it is 10.0.\n",
      "The rating in row 695 used to be 9.75 and now it is 10.0.\n",
      "The rating in row 763 used to be 11.27 and now it is 11.0.\n",
      "The rating in row 1663 used to be 12.5 and now it is 12.0.\n",
      "The rating in row 1689 used to be 9.5 and now it is 10.0.\n",
      "The rating in row 1712 used to be 11.26 and now it is 11.0.\n"
     ]
    }
   ],
   "source": [
    "# Rounding Ratings to get a discrete scale\n",
    "for i, row in df_1_cln.iterrows():\n",
    "    before = df_1_cln.loc[i, 'rating_numerator']\n",
    "    after = round(df_1_cln.rating_numerator[i], 0)\n",
    "    df_1_cln.loc[i, 'rating_numerator'] = after\n",
    "    if bool(before == after) == False :\n",
    "        print(f\"The rating in row {i} used to be {before} and now it is {after}.\")\n",
    "    else:\n",
    "        pass"
   ]
  },
  {
   "cell_type": "markdown",
   "metadata": {},
   "source": [
    "##### Test the results"
   ]
  },
  {
   "cell_type": "code",
   "execution_count": 48,
   "metadata": {},
   "outputs": [
    {
     "name": "stdout",
     "output_type": "stream",
     "text": [
      "All 2354 tweets passed the test successfully!\n"
     ]
    }
   ],
   "source": [
    "check = df_1_cln.rating_numerator\n",
    "tally = []\n",
    "for i in range(len(check)):\n",
    "    try:\n",
    "        chk_dec = check[i]\n",
    "        chk = chk_dec.is_integer()\n",
    "        tally.append(not chk)\n",
    "    except:\n",
    "        pass\n",
    "if bool(any(tally)) == True:\n",
    "    n = len(tally)\n",
    "    print(f'Some of the {n} tweets failed the test')\n",
    "else:\n",
    "    n = len(tally)\n",
    "    print(f'All {n} tweets passed the test successfully!')"
   ]
  },
  {
   "cell_type": "markdown",
   "metadata": {},
   "source": [
    "##### Define\n",
    "- 9. "
   ]
  },
  {
   "cell_type": "code",
   "execution_count": 49,
   "metadata": {},
   "outputs": [
    {
     "data": {
      "text/plain": [
       "dtype('float64')"
      ]
     },
     "execution_count": 49,
     "metadata": {},
     "output_type": "execute_result"
    }
   ],
   "source": [
    "df_1_cln.rating_numerator.dtype"
   ]
  },
  {
   "cell_type": "markdown",
   "metadata": {},
   "source": [
    "#####  Code"
   ]
  },
  {
   "cell_type": "code",
   "execution_count": 50,
   "metadata": {},
   "outputs": [],
   "source": [
    "df_1_cln.rating_numerator = df_1_cln.rating_numerator.astype(int) "
   ]
  },
  {
   "cell_type": "markdown",
   "metadata": {},
   "source": [
    "##### Test the results"
   ]
  },
  {
   "cell_type": "code",
   "execution_count": 51,
   "metadata": {},
   "outputs": [
    {
     "data": {
      "text/plain": [
       "dtype('int32')"
      ]
     },
     "execution_count": 51,
     "metadata": {},
     "output_type": "execute_result"
    }
   ],
   "source": [
    "df_1_cln.rating_numerator.dtype"
   ]
  },
  {
   "cell_type": "markdown",
   "metadata": {},
   "source": [
    "##### Define\n",
    "- 13. The columns **p1**, **p2**, and **p3** are all in snake case format and some of the categorical values are capitalized while others are not.  To clean this up I would like to remove the underscore(s) of each row and put the classications in title format "
   ]
  },
  {
   "cell_type": "markdown",
   "metadata": {},
   "source": [
    "##### Code"
   ]
  },
  {
   "cell_type": "code",
   "execution_count": 52,
   "metadata": {},
   "outputs": [],
   "source": [
    "pvals = ['p1', 'p2', 'p3']\n",
    "\n",
    "def removeSnake(word):\n",
    "        return ''.join(x.lower() or '_' for x in word.replace('_', ' '))\n",
    "for p in pvals: \n",
    "    exec(f\"images_cln.{p} = images_cln.{p}.apply(lambda x : removeSnake(x))\")"
   ]
  },
  {
   "cell_type": "markdown",
   "metadata": {},
   "source": [
    "##### Test the results"
   ]
  },
  {
   "cell_type": "code",
   "execution_count": 53,
   "metadata": {},
   "outputs": [
    {
     "data": {
      "text/html": [
       "<div>\n",
       "<style scoped>\n",
       "    .dataframe tbody tr th:only-of-type {\n",
       "        vertical-align: middle;\n",
       "    }\n",
       "\n",
       "    .dataframe tbody tr th {\n",
       "        vertical-align: top;\n",
       "    }\n",
       "\n",
       "    .dataframe thead th {\n",
       "        text-align: right;\n",
       "    }\n",
       "</style>\n",
       "<table border=\"1\" class=\"dataframe\">\n",
       "  <thead>\n",
       "    <tr style=\"text-align: right;\">\n",
       "      <th></th>\n",
       "      <th>p1</th>\n",
       "      <th>p2</th>\n",
       "      <th>p3</th>\n",
       "    </tr>\n",
       "  </thead>\n",
       "  <tbody>\n",
       "    <tr>\n",
       "      <td>730</td>\n",
       "      <td>rottweiler</td>\n",
       "      <td>miniature pinscher</td>\n",
       "      <td>gordon setter</td>\n",
       "    </tr>\n",
       "    <tr>\n",
       "      <td>1372</td>\n",
       "      <td>chow</td>\n",
       "      <td>tibetan mastiff</td>\n",
       "      <td>dhole</td>\n",
       "    </tr>\n",
       "    <tr>\n",
       "      <td>991</td>\n",
       "      <td>malinois</td>\n",
       "      <td>chesapeake bay retriever</td>\n",
       "      <td>siamese cat</td>\n",
       "    </tr>\n",
       "    <tr>\n",
       "      <td>2001</td>\n",
       "      <td>golden retriever</td>\n",
       "      <td>irish terrier</td>\n",
       "      <td>chow</td>\n",
       "    </tr>\n",
       "    <tr>\n",
       "      <td>1643</td>\n",
       "      <td>labrador retriever</td>\n",
       "      <td>staffordshire bullterrier</td>\n",
       "      <td>american staffordshire terrier</td>\n",
       "    </tr>\n",
       "    <tr>\n",
       "      <td>766</td>\n",
       "      <td>cocker spaniel</td>\n",
       "      <td>golden retriever</td>\n",
       "      <td>airedale</td>\n",
       "    </tr>\n",
       "    <tr>\n",
       "      <td>1658</td>\n",
       "      <td>golden retriever</td>\n",
       "      <td>tibetan mastiff</td>\n",
       "      <td>labrador retriever</td>\n",
       "    </tr>\n",
       "    <tr>\n",
       "      <td>1957</td>\n",
       "      <td>pembroke</td>\n",
       "      <td>cardigan</td>\n",
       "      <td>basenji</td>\n",
       "    </tr>\n",
       "    <tr>\n",
       "      <td>65</td>\n",
       "      <td>toy poodle</td>\n",
       "      <td>chihuahua</td>\n",
       "      <td>bluetick</td>\n",
       "    </tr>\n",
       "    <tr>\n",
       "      <td>494</td>\n",
       "      <td>standard schnauzer</td>\n",
       "      <td>miniature schnauzer</td>\n",
       "      <td>sealyham terrier</td>\n",
       "    </tr>\n",
       "  </tbody>\n",
       "</table>\n",
       "</div>"
      ],
      "text/plain": [
       "                      p1                         p2  \\\n",
       "730           rottweiler         miniature pinscher   \n",
       "1372                chow            tibetan mastiff   \n",
       "991             malinois   chesapeake bay retriever   \n",
       "2001    golden retriever              irish terrier   \n",
       "1643  labrador retriever  staffordshire bullterrier   \n",
       "766       cocker spaniel           golden retriever   \n",
       "1658    golden retriever            tibetan mastiff   \n",
       "1957            pembroke                   cardigan   \n",
       "65            toy poodle                  chihuahua   \n",
       "494   standard schnauzer        miniature schnauzer   \n",
       "\n",
       "                                  p3  \n",
       "730                    gordon setter  \n",
       "1372                           dhole  \n",
       "991                      siamese cat  \n",
       "2001                            chow  \n",
       "1643  american staffordshire terrier  \n",
       "766                         airedale  \n",
       "1658              labrador retriever  \n",
       "1957                         basenji  \n",
       "65                          bluetick  \n",
       "494                 sealyham terrier  "
      ]
     },
     "execution_count": 53,
     "metadata": {},
     "output_type": "execute_result"
    }
   ],
   "source": [
    "images_cln[['p1','p2','p3']].sample(10)"
   ]
  },
  {
   "cell_type": "markdown",
   "metadata": {},
   "source": [
    "##### Define\n",
    "- 10. "
   ]
  },
  {
   "cell_type": "markdown",
   "metadata": {},
   "source": [
    "#####  Code"
   ]
  },
  {
   "cell_type": "code",
   "execution_count": 54,
   "metadata": {},
   "outputs": [
    {
     "name": "stdout",
     "output_type": "stream",
     "text": [
      "Success!\n"
     ]
    }
   ],
   "source": [
    "import datetime as dt\n",
    "try:\n",
    "    time = pd.to_datetime(df_1_cln['timestamp'])\n",
    "    df_1_cln['timestamp'] = time.dt.strftime('%Y/%m/%d %H:%M')\n",
    "    print('Success!')\n",
    "except:\n",
    "    print('No changes made')"
   ]
  },
  {
   "cell_type": "markdown",
   "metadata": {},
   "source": [
    "##### Test the results"
   ]
  },
  {
   "cell_type": "code",
   "execution_count": 55,
   "metadata": {},
   "outputs": [
    {
     "data": {
      "text/plain": [
       "1913    2015/12/08 23:36\n",
       "638     2016/11/01 02:00\n",
       "362     2017/02/08 22:00\n",
       "2353    2015/11/15 23:21\n",
       "1363    2016/02/25 19:04\n",
       "Name: timestamp, dtype: object"
      ]
     },
     "execution_count": 55,
     "metadata": {},
     "output_type": "execute_result"
    }
   ],
   "source": [
    "df_1_cln.timestamp.sample(5)"
   ]
  },
  {
   "cell_type": "markdown",
   "metadata": {},
   "source": [
    "##### Define\n",
    "- 'rating_numerator' in **df_1** and 'retweet_count' in **df_2** should both be the data type int32 instead of float64. "
   ]
  },
  {
   "cell_type": "markdown",
   "metadata": {},
   "source": [
    "#####  Code"
   ]
  },
  {
   "cell_type": "code",
   "execution_count": 56,
   "metadata": {},
   "outputs": [],
   "source": [
    "df_1_cln.rating_numerator = df_1_cln.rating_numerator.astype(int)\n",
    "df_2_cln.retweet_count = df_2_cln.retweet_count.astype(np.int64)"
   ]
  },
  {
   "cell_type": "markdown",
   "metadata": {},
   "source": [
    "##### Test the results"
   ]
  },
  {
   "cell_type": "code",
   "execution_count": 57,
   "metadata": {},
   "outputs": [
    {
     "data": {
      "text/plain": [
       "(dtype('int32'), dtype('int64'))"
      ]
     },
     "execution_count": 57,
     "metadata": {},
     "output_type": "execute_result"
    }
   ],
   "source": [
    "df_1_cln.rating_numerator.dtype, df_2_cln.retweet_count.dtype"
   ]
  },
  {
   "cell_type": "markdown",
   "metadata": {},
   "source": [
    "## Fixing Tidiness Issues"
   ]
  },
  {
   "cell_type": "markdown",
   "metadata": {},
   "source": [
    "This bring us to our first data tidy issue we will be fixing.\n",
    "1. Combine Numerator and Denominator rows to make a single Rating column\n",
    "    - We no longer need the **rating_denominator** column since they all are the same value of 10.\n",
    "    - The column **rating_numerator** can be renamed **rating** and need one value to rate our dogs, on a standardized scale of 10."
   ]
  },
  {
   "cell_type": "code",
   "execution_count": 58,
   "metadata": {},
   "outputs": [],
   "source": [
    "df_1_cln.drop(columns=['rating_denominator'],inplace = True)\n",
    "df_1_cln.rename(columns={\"rating_numerator\": \"rating\"},inplace=True)"
   ]
  },
  {
   "cell_type": "code",
   "execution_count": 59,
   "metadata": {},
   "outputs": [
    {
     "name": "stdout",
     "output_type": "stream",
     "text": [
      "Value Counts of new column rating: \n",
      "\n",
      "12      563\n",
      "11      473\n",
      "10      466\n",
      "13      353\n",
      "9       158\n",
      "8       102\n",
      "14       57\n",
      "7        54\n",
      "5        35\n",
      "6        32\n",
      "3        19\n",
      "4        15\n",
      "2        10\n",
      "1         8\n",
      "420       2\n",
      "15        2\n",
      "0         2\n",
      "17        1\n",
      "182       1\n",
      "1776      1\n",
      "666       1\n",
      "Name: rating, dtype: int64\n",
      "\n",
      "Updated column names to:\n",
      "\n",
      " ['tweet_id' 'timestamp' 'source' 'text' 'expanded_urls' 'rating' 'name'\n",
      " 'doggo' 'floofer' 'pupper' 'puppo']\n"
     ]
    }
   ],
   "source": [
    "\n",
    "print(f'Value Counts of new column rating: \\n\\n{df_1_cln.rating.value_counts()}\\n\\nUpdated column names to:\\n\\n {df_1_cln.columns.values}')"
   ]
  },
  {
   "cell_type": "markdown",
   "metadata": {},
   "source": [
    "##### Define\n",
    "- 2. Melting Doggo, Pupper, Floofer, and Puppo down to one category variable named Cute_Name in the **df_1** Dataframe  "
   ]
  },
  {
   "cell_type": "markdown",
   "metadata": {},
   "source": [
    "#####  Code"
   ]
  },
  {
   "cell_type": "code",
   "execution_count": 60,
   "metadata": {},
   "outputs": [],
   "source": [
    "a = df_1_cln['doggo']\n",
    "b = df_1_cln['pupper']\n",
    "c = df_1_cln['floofer']\n",
    "d = df_1_cln['puppo']\n",
    "\n",
    "\n",
    "df_1_cln['cute_name'] = a.str.cat(b.replace('None','')).str.cat(c.replace('None','')).str.cat(d.replace('None',''))"
   ]
  },
  {
   "cell_type": "code",
   "execution_count": 61,
   "metadata": {},
   "outputs": [],
   "source": [
    "dict_dog = {'Nonefloofer':'floofer','Nonepupper':'pupper','Nonepuppo':'puppo','doggopupper':'doggo, pupper',\n",
    "           'doggofloofer':'doggo, floofer','doggopuppo':'doggo, puppo','None':'Other'}\n",
    "\n",
    "for key, value in dict_dog.items():\n",
    "    df_1_cln['cute_name'] = df_1_cln.cute_name.replace(key,value)\n",
    "    \n",
    "df_1_cln.drop(columns=['doggo', 'floofer','pupper', 'puppo'],inplace=True)"
   ]
  },
  {
   "cell_type": "markdown",
   "metadata": {},
   "source": [
    "##### Test the results"
   ]
  },
  {
   "cell_type": "code",
   "execution_count": 62,
   "metadata": {},
   "outputs": [
    {
     "name": "stdout",
     "output_type": "stream",
     "text": [
      "Value Counts of new column cute_name: \n",
      "\n",
      "Other             1975\n",
      "pupper             245\n",
      "doggo               83\n",
      "puppo               29\n",
      "doggo, pupper       12\n",
      "floofer              9\n",
      "doggo, floofer       1\n",
      "doggo, puppo         1\n",
      "Name: cute_name, dtype: int64\n",
      "\n",
      "Updated column names to:\n",
      "\n",
      " ['tweet_id' 'timestamp' 'source' 'text' 'expanded_urls' 'rating' 'name'\n",
      " 'cute_name']\n"
     ]
    }
   ],
   "source": [
    "print(f'Value Counts of new column cute_name: \\n\\n{df_1_cln.cute_name.value_counts()}\\n\\nUpdated column names to:\\n\\n {df_1_cln.columns.values}')"
   ]
  },
  {
   "cell_type": "markdown",
   "metadata": {},
   "source": [
    "##### Define"
   ]
  },
  {
   "cell_type": "markdown",
   "metadata": {},
   "source": [
    "#####  Code"
   ]
  },
  {
   "cell_type": "code",
   "execution_count": 63,
   "metadata": {},
   "outputs": [],
   "source": [
    "df_1_cln['text'] = df_1_cln.text.apply(lambda text: text.split('http')[0])"
   ]
  },
  {
   "cell_type": "markdown",
   "metadata": {},
   "source": [
    "##### Test the results"
   ]
  },
  {
   "cell_type": "code",
   "execution_count": 64,
   "metadata": {},
   "outputs": [
    {
     "name": "stdout",
     "output_type": "stream",
     "text": [
      "This is Willem. He's a Penn State pupper. Thinks the hood makes him more intimidating. It doesn't. 12/10 \n",
      "\n",
      "This is Bailey. She's rather h*ckin hype for Halloween tomorrow. Carved those pupkins herself. 12/10  \n",
      "\n",
      "This pupper is sprouting a flower out of her head. 12/10 revolutionary af \n"
     ]
    }
   ],
   "source": [
    "line1 = df_1_cln.text[np.random.randint(0,len(df_1_cln))]\n",
    "line2 = df_1_cln.text[np.random.randint(0,len(df_1_cln))]\n",
    "line3 = df_1_cln.text[np.random.randint(0,len(df_1_cln))]\n",
    "\n",
    "print(f'{line1}\\n\\n{line2} \\n\\n{line3}')"
   ]
  },
  {
   "cell_type": "code",
   "execution_count": null,
   "metadata": {},
   "outputs": [],
   "source": []
  },
  {
   "cell_type": "markdown",
   "metadata": {},
   "source": [
    "##### Define\n",
    "- 14. Merging **df_1**, **df_2**, and **images** Dataframes into a single table"
   ]
  },
  {
   "cell_type": "code",
   "execution_count": 65,
   "metadata": {},
   "outputs": [
    {
     "data": {
      "text/plain": [
       "(2355, 2026, 2075)"
      ]
     },
     "execution_count": 65,
     "metadata": {},
     "output_type": "execute_result"
    }
   ],
   "source": [
    "len(df_1_cln), len(df_2_cln), len(images_cln)"
   ]
  },
  {
   "cell_type": "markdown",
   "metadata": {},
   "source": [
    "#####  Code"
   ]
  },
  {
   "cell_type": "code",
   "execution_count": 66,
   "metadata": {},
   "outputs": [],
   "source": [
    "df_cln = df_1_cln.merge(df_2_cln, on='tweet_id', how='inner')"
   ]
  },
  {
   "cell_type": "code",
   "execution_count": 67,
   "metadata": {},
   "outputs": [],
   "source": [
    "df_cln = df_cln.merge(images_cln, on='tweet_id', how='inner')\n",
    "df_cln = df_cln.set_index('index').reset_index(drop=True)"
   ]
  },
  {
   "cell_type": "code",
   "execution_count": 68,
   "metadata": {},
   "outputs": [
    {
     "data": {
      "text/plain": [
       "1979"
      ]
     },
     "execution_count": 68,
     "metadata": {},
     "output_type": "execute_result"
    }
   ],
   "source": [
    "len(df_cln)"
   ]
  },
  {
   "cell_type": "markdown",
   "metadata": {},
   "source": [
    "##### Test the results"
   ]
  },
  {
   "cell_type": "code",
   "execution_count": 69,
   "metadata": {},
   "outputs": [
    {
     "data": {
      "text/plain": [
       "Index(['tweet_id', 'timestamp', 'source', 'text', 'expanded_urls', 'rating',\n",
       "       'name', 'cute_name', 'favorite_count', 'retweet_count', 'jpg_url',\n",
       "       'img_num', 'p1', 'p1_conf', 'p1_dog', 'p2', 'p2_conf', 'p2_dog', 'p3',\n",
       "       'p3_conf', 'p3_dog'],\n",
       "      dtype='object')"
      ]
     },
     "execution_count": 69,
     "metadata": {},
     "output_type": "execute_result"
    }
   ],
   "source": [
    "df_cln.columns"
   ]
  },
  {
   "cell_type": "code",
   "execution_count": 70,
   "metadata": {},
   "outputs": [
    {
     "data": {
      "text/plain": [
       "RangeIndex(start=0, stop=1979, step=1)"
      ]
     },
     "execution_count": 70,
     "metadata": {},
     "output_type": "execute_result"
    }
   ],
   "source": [
    "df_cln.index"
   ]
  },
  {
   "cell_type": "code",
   "execution_count": 71,
   "metadata": {
    "scrolled": true
   },
   "outputs": [
    {
     "name": "stdout",
     "output_type": "stream",
     "text": [
      "<class 'pandas.core.frame.DataFrame'>\n",
      "RangeIndex: 1979 entries, 0 to 1978\n",
      "Data columns (total 21 columns):\n",
      "tweet_id          1979 non-null int64\n",
      "timestamp         1979 non-null object\n",
      "source            1979 non-null object\n",
      "text              1979 non-null object\n",
      "expanded_urls     1979 non-null object\n",
      "rating            1979 non-null int32\n",
      "name              1979 non-null object\n",
      "cute_name         1979 non-null object\n",
      "favorite_count    1979 non-null int64\n",
      "retweet_count     1979 non-null int64\n",
      "jpg_url           1979 non-null object\n",
      "img_num           1979 non-null int64\n",
      "p1                1979 non-null object\n",
      "p1_conf           1979 non-null float64\n",
      "p1_dog            1979 non-null bool\n",
      "p2                1979 non-null object\n",
      "p2_conf           1979 non-null float64\n",
      "p2_dog            1979 non-null bool\n",
      "p3                1979 non-null object\n",
      "p3_conf           1979 non-null float64\n",
      "p3_dog            1979 non-null bool\n",
      "dtypes: bool(3), float64(3), int32(1), int64(4), object(10)\n",
      "memory usage: 276.5+ KB\n"
     ]
    }
   ],
   "source": [
    "df_cln.info()"
   ]
  },
  {
   "cell_type": "code",
   "execution_count": 72,
   "metadata": {},
   "outputs": [
    {
     "ename": "NameError",
     "evalue": "name 'stop' is not defined",
     "output_type": "error",
     "traceback": [
      "\u001b[1;31m---------------------------------------------------------------------------\u001b[0m",
      "\u001b[1;31mNameError\u001b[0m                                 Traceback (most recent call last)",
      "\u001b[1;32m<ipython-input-72-4f76a9dad686>\u001b[0m in \u001b[0;36m<module>\u001b[1;34m\u001b[0m\n\u001b[1;32m----> 1\u001b[1;33m \u001b[0mstop\u001b[0m\u001b[1;33m\u001b[0m\u001b[1;33m\u001b[0m\u001b[0m\n\u001b[0m",
      "\u001b[1;31mNameError\u001b[0m: name 'stop' is not defined"
     ]
    }
   ],
   "source": [
    "stop"
   ]
  },
  {
   "cell_type": "code",
   "execution_count": null,
   "metadata": {},
   "outputs": [],
   "source": [
    "df_cln.to_csv (r'~/Desktop/Udacity Projects/4wrangle/WeRateDogs_Clean.csv',\n",
    "           index = False, header=True, sep='\\t', encoding='utf-8')"
   ]
  },
  {
   "cell_type": "markdown",
   "metadata": {},
   "source": []
  }
 ],
 "metadata": {
  "kernelspec": {
   "display_name": "Python 3",
   "language": "python",
   "name": "python3"
  },
  "language_info": {
   "codemirror_mode": {
    "name": "ipython",
    "version": 3
   },
   "file_extension": ".py",
   "mimetype": "text/x-python",
   "name": "python",
   "nbconvert_exporter": "python",
   "pygments_lexer": "ipython3",
   "version": "3.7.3"
  }
 },
 "nbformat": 4,
 "nbformat_minor": 2
}
