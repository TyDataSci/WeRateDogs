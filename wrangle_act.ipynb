{
 "cells": [
  {
   "cell_type": "markdown",
   "metadata": {},
   "source": [
    "# Udacity Data Wrangling Project"
   ]
  },
  {
   "cell_type": "markdown",
   "metadata": {},
   "source": [
    "### Importing Libraries and Files"
   ]
  },
  {
   "cell_type": "code",
   "execution_count": 1,
   "metadata": {},
   "outputs": [],
   "source": [
    "import pandas as pd\n",
    "import numpy as np\n",
    "import matplotlib.pyplot as plt\n",
    "import seaborn as sns\n",
    "#import tweepy\n",
    "#from tweepy import OAuthHandler\n",
    "#import json\n",
    "#from timeit import default_timer as timer\n",
    "import re\n",
    "import requests\n",
    "\n",
    "\n",
    "import twitter_credentials\n",
    "%matplotlib inline"
   ]
  },
  {
   "cell_type": "markdown",
   "metadata": {},
   "source": [
    "# Gather"
   ]
  },
  {
   "cell_type": "markdown",
   "metadata": {},
   "source": [
    "###  Gathering Get Request"
   ]
  },
  {
   "cell_type": "code",
   "execution_count": 2,
   "metadata": {},
   "outputs": [],
   "source": [
    "#response = requests.get('https://d17h27t6h515a5.cloudfront.net/topher/2017/August/599fd2ad_image-predictions/image-predictions.tsv')\n",
    "#if response.status_code == 200:\n",
    "#    print('Success!')\n",
    "#elif response.status_code == 404:\n",
    "#    print('Not Found.')"
   ]
  },
  {
   "cell_type": "code",
   "execution_count": 3,
   "metadata": {},
   "outputs": [],
   "source": [
    "images = pd.read_csv('image_predictions.tsv', sep = '\\t', encoding = 'utf-8')"
   ]
  },
  {
   "cell_type": "markdown",
   "metadata": {},
   "source": [
    "### Gathering data manually with Pandas"
   ]
  },
  {
   "cell_type": "code",
   "execution_count": 4,
   "metadata": {},
   "outputs": [],
   "source": [
    "df_1 = pd.read_csv('twitter_archive_enhanced.csv')"
   ]
  },
  {
   "cell_type": "markdown",
   "metadata": {},
   "source": [
    "### Gathering with the Twitter API\n",
    "\n"
   ]
  },
  {
   "cell_type": "markdown",
   "metadata": {},
   "source": [
    "With a quick assessment of the tweet_id column I saw a unique problem I would need to solve first before being able to gather my last dataset containing all of the twitter data."
   ]
  },
  {
   "cell_type": "code",
   "execution_count": 5,
   "metadata": {},
   "outputs": [
    {
     "data": {
      "text/plain": [
       "0    8.924210e+17\n",
       "1    8.921770e+17\n",
       "2    8.918150e+17\n",
       "3    8.916900e+17\n",
       "4    8.913280e+17\n",
       "Name: tweet_id, dtype: float64"
      ]
     },
     "execution_count": 5,
     "metadata": {},
     "output_type": "execute_result"
    }
   ],
   "source": [
    "df_1.tweet_id.head()"
   ]
  },
  {
   "cell_type": "markdown",
   "metadata": {},
   "source": [
    "Gathering tweets from the twitter API requires precise id's and unfortunately my csv was imported with a column of **twitter_id** that my unique id had suffered some rounding errors."
   ]
  },
  {
   "cell_type": "code",
   "execution_count": 6,
   "metadata": {},
   "outputs": [
    {
     "name": "stdout",
     "output_type": "stream",
     "text": [
      "0   892421000000000000\n",
      "1   892177000000000000\n",
      "2   891815000000000000\n",
      "3   891690000000000000\n",
      "4   891328000000000000\n",
      "Name: tweet_id, dtype: float64\n"
     ]
    }
   ],
   "source": [
    "with pd.option_context('float_format', '{:.0f}'.format):  \n",
    "    print(df_1.tweet_id.head())"
   ]
  },
  {
   "cell_type": "code",
   "execution_count": 7,
   "metadata": {},
   "outputs": [
    {
     "name": "stdout",
     "output_type": "stream",
     "text": [
      "0   892421000000000000.00000000\n",
      "1   892177000000000000.00000000\n",
      "2   891815000000000000.00000000\n",
      "3   891690000000000000.00000000\n",
      "4   891328000000000000.00000000\n",
      "Name: tweet_id, dtype: float64\n"
     ]
    }
   ],
   "source": [
    "with pd.option_context('float_format', '{:.8f}'.format):  \n",
    "    print(df_1.tweet_id.head())"
   ]
  },
  {
   "cell_type": "markdown",
   "metadata": {},
   "source": [
    "This gave me an oportunity to begin some data wrangling before jumping into the rest of my data. My solution to this issue was to split the strings of the URLs addresses that were included in the twitter_enhanced_archive csv file.  Using regular expression, I wanted to extract the Tweet Id's from the end of every URL. This required seperating the digits(these would be the id's I needed) from all of the char values that came before them, using '/' as a seperator."
   ]
  },
  {
   "cell_type": "code",
   "execution_count": 8,
   "metadata": {},
   "outputs": [
    {
     "data": {
      "text/plain": [
       "0    https://twitter.com/dog_rates/status/892420643...\n",
       "1    https://twitter.com/dog_rates/status/892177421...\n",
       "2    https://twitter.com/dog_rates/status/891815181...\n",
       "3    https://twitter.com/dog_rates/status/891689557...\n",
       "4    https://twitter.com/dog_rates/status/891327558...\n",
       "Name: expanded_urls, dtype: object"
      ]
     },
     "execution_count": 8,
     "metadata": {},
     "output_type": "execute_result"
    }
   ],
   "source": [
    "df_1.expanded_urls.head()"
   ]
  },
  {
   "cell_type": "markdown",
   "metadata": {},
   "source": [
    "\n",
    "My first step was to drop and null value in  **expanded_urls**, then take all of the remaining rows and place them into a list."
   ]
  },
  {
   "cell_type": "code",
   "execution_count": 9,
   "metadata": {},
   "outputs": [],
   "source": [
    "df_1['expanded_urls'] = df_1.expanded_urls.fillna(value='https://www.twitter.com')\n",
    "urls = df_1.expanded_urls\n",
    "urls = list(urls)"
   ]
  },
  {
   "cell_type": "markdown",
   "metadata": {},
   "source": [
    "Next I created a new empty list, **status**, and used a loop to extract the id's from **urls**, appending\n",
    "each id to **status**. As a conditional, also appended the string '0' to status, every time my search\n",
    "was unable to find an accurate tweet_id"
   ]
  },
  {
   "cell_type": "code",
   "execution_count": 10,
   "metadata": {},
   "outputs": [
    {
     "data": {
      "text/plain": [
       "['892420643555336193',\n",
       " '892177421306343426',\n",
       " '891815181378084864',\n",
       " '891689557279858688',\n",
       " '891327558926688256']"
      ]
     },
     "execution_count": 10,
     "metadata": {},
     "output_type": "execute_result"
    }
   ],
   "source": [
    "status= []\n",
    "for i in range(len(urls)): \n",
    "    t= urls[i]\n",
    "    if bool(re.search(r'\\d', t)) == True:\n",
    "        twt = re.findall(r'\\d+', t)[0]\n",
    "        status.append(twt)\n",
    "    else:\n",
    "        status.append('0')\n",
    "status[:5]"
   ]
  },
  {
   "cell_type": "markdown",
   "metadata": {},
   "source": [
    "I replaced my DataFrame column **tweet_id** with the values in **status** then removed all the values\n",
    "that contained the string '0'."
   ]
  },
  {
   "cell_type": "code",
   "execution_count": 11,
   "metadata": {},
   "outputs": [],
   "source": [
    "df_1['tweet_id'] = status\n",
    "df_1 = df_1.query(\"tweet_id != '0'\")"
   ]
  },
  {
   "cell_type": "markdown",
   "metadata": {},
   "source": [
    "My last step was to change the data type of **tweet_id** from strings to the int64 data type, standardizing the **tweet_id** data type accross various sources of data to be able to merge in the future, and preparing them for my next gathering step of the Twitter API. Additionally, int64 also is the most efficient way to store values of unique digits, as integers require much less memory than a string."
   ]
  },
  {
   "cell_type": "code",
   "execution_count": 12,
   "metadata": {},
   "outputs": [],
   "source": [
    "df_1 = df_1.astype({'tweet_id':'int64'})"
   ]
  },
  {
   "cell_type": "code",
   "execution_count": 13,
   "metadata": {},
   "outputs": [],
   "source": [
    "tweet_ids = df_1['tweet_id']"
   ]
  },
  {
   "cell_type": "code",
   "execution_count": 14,
   "metadata": {
    "scrolled": true
   },
   "outputs": [],
   "source": [
    "#auth = tweepy.OAuthHandler(consumer_key, consumer_secret)\n",
    "#auth.set_access_token(access_token, access_secret)\n",
    "\n",
    "#api = tweepy.API(auth, wait_on_rate_limit=True, wait_on_rate_limit_notify=True)\n",
    "#count = 0\n",
    "#fails_dict = {}\n",
    "#start = timer()\n",
    "# Save each tweet's returned JSON as a new line in a .txt file\n",
    "#with open('tweet_json.txt', 'w') as outfile:\n",
    "    # This loop will likely take 20-30 minutes to run because of Twitter's rate limit\n",
    "#    for tweet_id in tweet_ids:\n",
    "#        count += 1\n",
    "#        print(str(count) + \": \" + str(tweet_id))\n",
    "#        try:\n",
    "#            tweet = api.get_status(tweet_id, tweet_mode='extended')\n",
    "#            print(\"Success\")\n",
    "#            json.dump(tweet._json, outfile)\n",
    "#            outfile.write('\\n')\n",
    "#        except tweepy.TweepError as e:\n",
    "#            print(\"Fail\")\n",
    "#            fails_dict[tweet_id] = e\n",
    "            \n",
    "#            pass\n",
    "#end = timer()\n",
    "#print(end - start)\n",
    "#print(fails_dict)\n"
   ]
  },
  {
   "cell_type": "code",
   "execution_count": 15,
   "metadata": {},
   "outputs": [],
   "source": [
    "#df_2 = pd.DataFrame(columns=['tweet_id','retweet count','favorite_count'])\n",
    "\n",
    "#with open('tweet_json.txt') as i:\n",
    "#    for line in i:\n",
    "#        stat = json.loads(line)\n",
    "#        tweet_id = stat['id_str']\n",
    "#        retweet_count = stat['retweet_count']\n",
    "#        favorite_count = stat['favorite_count']\n",
    "#        df_2 = df_2.append(pd.DataFrame([[tweet_id,retweet_count,\n",
    "#                                         favorite_count]], \n",
    "#                                       columns=['tweet_id',\n",
    "#                                        'retweet_count', 'favorite_count']))\n",
    "#df_2 = df_2.reset_index(drop=True)\n",
    "#df_2.head()\n",
    "        "
   ]
  },
  {
   "cell_type": "code",
   "execution_count": 16,
   "metadata": {},
   "outputs": [],
   "source": [
    "#df_2.to_csv (r'C:\\Users\\tssan\\Desktop\\Udacity Projects\\4wrangle\\WeRateDogs.csv',\n",
    "#                          index = None, header=True, sep='\\t', encoding='utf-8')"
   ]
  },
  {
   "cell_type": "code",
   "execution_count": 17,
   "metadata": {},
   "outputs": [],
   "source": [
    "df_2 = pd.read_csv('WeRateDogs.csv', sep='\\t',encoding='utf-8')"
   ]
  },
  {
   "cell_type": "markdown",
   "metadata": {},
   "source": [
    "# Assessment\n",
    "### Visual Assessment"
   ]
  },
  {
   "cell_type": "code",
   "execution_count": 18,
   "metadata": {
    "scrolled": false
   },
   "outputs": [
    {
     "data": {
      "text/html": [
       "<style  type=\"text/css\" >\n",
       "    #T_9dced112_76b5_11ea_ad4a_10050146c8f5row0_col1 {\n",
       "            color:  red;\n",
       "        }    #T_9dced112_76b5_11ea_ad4a_10050146c8f5row0_col2 {\n",
       "            color:  red;\n",
       "        }    #T_9dced112_76b5_11ea_ad4a_10050146c8f5row0_col6 {\n",
       "            color:  red;\n",
       "        }    #T_9dced112_76b5_11ea_ad4a_10050146c8f5row0_col7 {\n",
       "            color:  red;\n",
       "        }    #T_9dced112_76b5_11ea_ad4a_10050146c8f5row0_col8 {\n",
       "            color:  red;\n",
       "        }    #T_9dced112_76b5_11ea_ad4a_10050146c8f5row1_col1 {\n",
       "            color:  red;\n",
       "        }    #T_9dced112_76b5_11ea_ad4a_10050146c8f5row1_col2 {\n",
       "            color:  red;\n",
       "        }    #T_9dced112_76b5_11ea_ad4a_10050146c8f5row1_col6 {\n",
       "            color:  red;\n",
       "        }    #T_9dced112_76b5_11ea_ad4a_10050146c8f5row1_col7 {\n",
       "            color:  red;\n",
       "        }    #T_9dced112_76b5_11ea_ad4a_10050146c8f5row1_col8 {\n",
       "            color:  red;\n",
       "        }    #T_9dced112_76b5_11ea_ad4a_10050146c8f5row2_col1 {\n",
       "            color:  red;\n",
       "        }    #T_9dced112_76b5_11ea_ad4a_10050146c8f5row2_col2 {\n",
       "            color:  red;\n",
       "        }    #T_9dced112_76b5_11ea_ad4a_10050146c8f5row2_col6 {\n",
       "            color:  red;\n",
       "        }    #T_9dced112_76b5_11ea_ad4a_10050146c8f5row2_col7 {\n",
       "            color:  red;\n",
       "        }    #T_9dced112_76b5_11ea_ad4a_10050146c8f5row2_col8 {\n",
       "            color:  red;\n",
       "        }    #T_9dced112_76b5_11ea_ad4a_10050146c8f5row3_col1 {\n",
       "            color:  red;\n",
       "        }    #T_9dced112_76b5_11ea_ad4a_10050146c8f5row3_col2 {\n",
       "            color:  red;\n",
       "        }    #T_9dced112_76b5_11ea_ad4a_10050146c8f5row3_col6 {\n",
       "            color:  red;\n",
       "        }    #T_9dced112_76b5_11ea_ad4a_10050146c8f5row3_col7 {\n",
       "            color:  red;\n",
       "        }    #T_9dced112_76b5_11ea_ad4a_10050146c8f5row3_col8 {\n",
       "            color:  red;\n",
       "        }    #T_9dced112_76b5_11ea_ad4a_10050146c8f5row4_col1 {\n",
       "            color:  red;\n",
       "        }    #T_9dced112_76b5_11ea_ad4a_10050146c8f5row4_col2 {\n",
       "            color:  red;\n",
       "        }    #T_9dced112_76b5_11ea_ad4a_10050146c8f5row4_col6 {\n",
       "            color:  red;\n",
       "        }    #T_9dced112_76b5_11ea_ad4a_10050146c8f5row4_col7 {\n",
       "            color:  red;\n",
       "        }    #T_9dced112_76b5_11ea_ad4a_10050146c8f5row4_col8 {\n",
       "            color:  red;\n",
       "        }    #T_9dced112_76b5_11ea_ad4a_10050146c8f5row5_col1 {\n",
       "            color:  red;\n",
       "        }    #T_9dced112_76b5_11ea_ad4a_10050146c8f5row5_col2 {\n",
       "            color:  red;\n",
       "        }    #T_9dced112_76b5_11ea_ad4a_10050146c8f5row5_col6 {\n",
       "            color:  red;\n",
       "        }    #T_9dced112_76b5_11ea_ad4a_10050146c8f5row5_col7 {\n",
       "            color:  red;\n",
       "        }    #T_9dced112_76b5_11ea_ad4a_10050146c8f5row5_col8 {\n",
       "            color:  red;\n",
       "        }    #T_9dced112_76b5_11ea_ad4a_10050146c8f5row6_col1 {\n",
       "            color:  red;\n",
       "        }    #T_9dced112_76b5_11ea_ad4a_10050146c8f5row6_col2 {\n",
       "            color:  red;\n",
       "        }    #T_9dced112_76b5_11ea_ad4a_10050146c8f5row6_col6 {\n",
       "            color:  red;\n",
       "        }    #T_9dced112_76b5_11ea_ad4a_10050146c8f5row6_col7 {\n",
       "            color:  red;\n",
       "        }    #T_9dced112_76b5_11ea_ad4a_10050146c8f5row6_col8 {\n",
       "            color:  red;\n",
       "        }    #T_9dced112_76b5_11ea_ad4a_10050146c8f5row7_col1 {\n",
       "            color:  red;\n",
       "        }    #T_9dced112_76b5_11ea_ad4a_10050146c8f5row7_col2 {\n",
       "            color:  red;\n",
       "        }    #T_9dced112_76b5_11ea_ad4a_10050146c8f5row7_col6 {\n",
       "            color:  red;\n",
       "        }    #T_9dced112_76b5_11ea_ad4a_10050146c8f5row7_col7 {\n",
       "            color:  red;\n",
       "        }    #T_9dced112_76b5_11ea_ad4a_10050146c8f5row7_col8 {\n",
       "            color:  red;\n",
       "        }    #T_9dced112_76b5_11ea_ad4a_10050146c8f5row8_col1 {\n",
       "            color:  red;\n",
       "        }    #T_9dced112_76b5_11ea_ad4a_10050146c8f5row8_col2 {\n",
       "            color:  red;\n",
       "        }    #T_9dced112_76b5_11ea_ad4a_10050146c8f5row8_col6 {\n",
       "            color:  red;\n",
       "        }    #T_9dced112_76b5_11ea_ad4a_10050146c8f5row8_col7 {\n",
       "            color:  red;\n",
       "        }    #T_9dced112_76b5_11ea_ad4a_10050146c8f5row8_col8 {\n",
       "            color:  red;\n",
       "        }    #T_9dced112_76b5_11ea_ad4a_10050146c8f5row9_col1 {\n",
       "            color:  red;\n",
       "        }    #T_9dced112_76b5_11ea_ad4a_10050146c8f5row9_col2 {\n",
       "            color:  red;\n",
       "        }    #T_9dced112_76b5_11ea_ad4a_10050146c8f5row9_col6 {\n",
       "            color:  red;\n",
       "        }    #T_9dced112_76b5_11ea_ad4a_10050146c8f5row9_col7 {\n",
       "            color:  red;\n",
       "        }    #T_9dced112_76b5_11ea_ad4a_10050146c8f5row9_col8 {\n",
       "            color:  red;\n",
       "        }</style><table id=\"T_9dced112_76b5_11ea_ad4a_10050146c8f5\" ><thead>    <tr>        <th class=\"blank level0\" ></th>        <th class=\"col_heading level0 col0\" >tweet_id</th>        <th class=\"col_heading level0 col1\" >in_reply_to_status_id</th>        <th class=\"col_heading level0 col2\" >in_reply_to_user_id</th>        <th class=\"col_heading level0 col3\" >timestamp</th>        <th class=\"col_heading level0 col4\" >source</th>        <th class=\"col_heading level0 col5\" >text</th>        <th class=\"col_heading level0 col6\" >retweeted_status_id</th>        <th class=\"col_heading level0 col7\" >retweeted_status_user_id</th>        <th class=\"col_heading level0 col8\" >retweeted_status_timestamp</th>        <th class=\"col_heading level0 col9\" >expanded_urls</th>        <th class=\"col_heading level0 col10\" >rating_numerator</th>        <th class=\"col_heading level0 col11\" >rating_denominator</th>        <th class=\"col_heading level0 col12\" >name</th>        <th class=\"col_heading level0 col13\" >doggo</th>        <th class=\"col_heading level0 col14\" >floofer</th>        <th class=\"col_heading level0 col15\" >pupper</th>        <th class=\"col_heading level0 col16\" >puppo</th>    </tr></thead><tbody>\n",
       "                <tr>\n",
       "                        <th id=\"T_9dced112_76b5_11ea_ad4a_10050146c8f5level0_row0\" class=\"row_heading level0 row0\" >0</th>\n",
       "                        <td id=\"T_9dced112_76b5_11ea_ad4a_10050146c8f5row0_col0\" class=\"data row0 col0\" >892420643555336193</td>\n",
       "                        <td id=\"T_9dced112_76b5_11ea_ad4a_10050146c8f5row0_col1\" class=\"data row0 col1\" >nan</td>\n",
       "                        <td id=\"T_9dced112_76b5_11ea_ad4a_10050146c8f5row0_col2\" class=\"data row0 col2\" >nan</td>\n",
       "                        <td id=\"T_9dced112_76b5_11ea_ad4a_10050146c8f5row0_col3\" class=\"data row0 col3\" >2017-08-01 16:23:56 +0000</td>\n",
       "                        <td id=\"T_9dced112_76b5_11ea_ad4a_10050146c8f5row0_col4\" class=\"data row0 col4\" ><a href=\"http://twitter.com/download/iphone\" rel=\"nofollow\">Twitter for iPhone</a></td>\n",
       "                        <td id=\"T_9dced112_76b5_11ea_ad4a_10050146c8f5row0_col5\" class=\"data row0 col5\" >This is Phineas. He's a mystical boy. Only ever appears in the hole of a donut. 13/10 https://t.co/MgUWQ76dJU</td>\n",
       "                        <td id=\"T_9dced112_76b5_11ea_ad4a_10050146c8f5row0_col6\" class=\"data row0 col6\" >nan</td>\n",
       "                        <td id=\"T_9dced112_76b5_11ea_ad4a_10050146c8f5row0_col7\" class=\"data row0 col7\" >nan</td>\n",
       "                        <td id=\"T_9dced112_76b5_11ea_ad4a_10050146c8f5row0_col8\" class=\"data row0 col8\" >nan</td>\n",
       "                        <td id=\"T_9dced112_76b5_11ea_ad4a_10050146c8f5row0_col9\" class=\"data row0 col9\" >https://twitter.com/dog_rates/status/892420643555336193/photo/1</td>\n",
       "                        <td id=\"T_9dced112_76b5_11ea_ad4a_10050146c8f5row0_col10\" class=\"data row0 col10\" >13</td>\n",
       "                        <td id=\"T_9dced112_76b5_11ea_ad4a_10050146c8f5row0_col11\" class=\"data row0 col11\" >10</td>\n",
       "                        <td id=\"T_9dced112_76b5_11ea_ad4a_10050146c8f5row0_col12\" class=\"data row0 col12\" >Phineas</td>\n",
       "                        <td id=\"T_9dced112_76b5_11ea_ad4a_10050146c8f5row0_col13\" class=\"data row0 col13\" >None</td>\n",
       "                        <td id=\"T_9dced112_76b5_11ea_ad4a_10050146c8f5row0_col14\" class=\"data row0 col14\" >None</td>\n",
       "                        <td id=\"T_9dced112_76b5_11ea_ad4a_10050146c8f5row0_col15\" class=\"data row0 col15\" >None</td>\n",
       "                        <td id=\"T_9dced112_76b5_11ea_ad4a_10050146c8f5row0_col16\" class=\"data row0 col16\" >None</td>\n",
       "            </tr>\n",
       "            <tr>\n",
       "                        <th id=\"T_9dced112_76b5_11ea_ad4a_10050146c8f5level0_row1\" class=\"row_heading level0 row1\" >1</th>\n",
       "                        <td id=\"T_9dced112_76b5_11ea_ad4a_10050146c8f5row1_col0\" class=\"data row1 col0\" >892177421306343426</td>\n",
       "                        <td id=\"T_9dced112_76b5_11ea_ad4a_10050146c8f5row1_col1\" class=\"data row1 col1\" >nan</td>\n",
       "                        <td id=\"T_9dced112_76b5_11ea_ad4a_10050146c8f5row1_col2\" class=\"data row1 col2\" >nan</td>\n",
       "                        <td id=\"T_9dced112_76b5_11ea_ad4a_10050146c8f5row1_col3\" class=\"data row1 col3\" >2017-08-01 00:17:27 +0000</td>\n",
       "                        <td id=\"T_9dced112_76b5_11ea_ad4a_10050146c8f5row1_col4\" class=\"data row1 col4\" ><a href=\"http://twitter.com/download/iphone\" rel=\"nofollow\">Twitter for iPhone</a></td>\n",
       "                        <td id=\"T_9dced112_76b5_11ea_ad4a_10050146c8f5row1_col5\" class=\"data row1 col5\" >This is Tilly. She's just checking pup on you. Hopes you're doing ok. If not, she's available for pats, snugs, boops, the whole bit. 13/10 https://t.co/0Xxu71qeIV</td>\n",
       "                        <td id=\"T_9dced112_76b5_11ea_ad4a_10050146c8f5row1_col6\" class=\"data row1 col6\" >nan</td>\n",
       "                        <td id=\"T_9dced112_76b5_11ea_ad4a_10050146c8f5row1_col7\" class=\"data row1 col7\" >nan</td>\n",
       "                        <td id=\"T_9dced112_76b5_11ea_ad4a_10050146c8f5row1_col8\" class=\"data row1 col8\" >nan</td>\n",
       "                        <td id=\"T_9dced112_76b5_11ea_ad4a_10050146c8f5row1_col9\" class=\"data row1 col9\" >https://twitter.com/dog_rates/status/892177421306343426/photo/1</td>\n",
       "                        <td id=\"T_9dced112_76b5_11ea_ad4a_10050146c8f5row1_col10\" class=\"data row1 col10\" >13</td>\n",
       "                        <td id=\"T_9dced112_76b5_11ea_ad4a_10050146c8f5row1_col11\" class=\"data row1 col11\" >10</td>\n",
       "                        <td id=\"T_9dced112_76b5_11ea_ad4a_10050146c8f5row1_col12\" class=\"data row1 col12\" >Tilly</td>\n",
       "                        <td id=\"T_9dced112_76b5_11ea_ad4a_10050146c8f5row1_col13\" class=\"data row1 col13\" >None</td>\n",
       "                        <td id=\"T_9dced112_76b5_11ea_ad4a_10050146c8f5row1_col14\" class=\"data row1 col14\" >None</td>\n",
       "                        <td id=\"T_9dced112_76b5_11ea_ad4a_10050146c8f5row1_col15\" class=\"data row1 col15\" >None</td>\n",
       "                        <td id=\"T_9dced112_76b5_11ea_ad4a_10050146c8f5row1_col16\" class=\"data row1 col16\" >None</td>\n",
       "            </tr>\n",
       "            <tr>\n",
       "                        <th id=\"T_9dced112_76b5_11ea_ad4a_10050146c8f5level0_row2\" class=\"row_heading level0 row2\" >2</th>\n",
       "                        <td id=\"T_9dced112_76b5_11ea_ad4a_10050146c8f5row2_col0\" class=\"data row2 col0\" >891815181378084864</td>\n",
       "                        <td id=\"T_9dced112_76b5_11ea_ad4a_10050146c8f5row2_col1\" class=\"data row2 col1\" >nan</td>\n",
       "                        <td id=\"T_9dced112_76b5_11ea_ad4a_10050146c8f5row2_col2\" class=\"data row2 col2\" >nan</td>\n",
       "                        <td id=\"T_9dced112_76b5_11ea_ad4a_10050146c8f5row2_col3\" class=\"data row2 col3\" >2017-07-31 00:18:03 +0000</td>\n",
       "                        <td id=\"T_9dced112_76b5_11ea_ad4a_10050146c8f5row2_col4\" class=\"data row2 col4\" ><a href=\"http://twitter.com/download/iphone\" rel=\"nofollow\">Twitter for iPhone</a></td>\n",
       "                        <td id=\"T_9dced112_76b5_11ea_ad4a_10050146c8f5row2_col5\" class=\"data row2 col5\" >This is Archie. He is a rare Norwegian Pouncing Corgo. Lives in the tall grass. You never know when one may strike. 12/10 https://t.co/wUnZnhtVJB</td>\n",
       "                        <td id=\"T_9dced112_76b5_11ea_ad4a_10050146c8f5row2_col6\" class=\"data row2 col6\" >nan</td>\n",
       "                        <td id=\"T_9dced112_76b5_11ea_ad4a_10050146c8f5row2_col7\" class=\"data row2 col7\" >nan</td>\n",
       "                        <td id=\"T_9dced112_76b5_11ea_ad4a_10050146c8f5row2_col8\" class=\"data row2 col8\" >nan</td>\n",
       "                        <td id=\"T_9dced112_76b5_11ea_ad4a_10050146c8f5row2_col9\" class=\"data row2 col9\" >https://twitter.com/dog_rates/status/891815181378084864/photo/1</td>\n",
       "                        <td id=\"T_9dced112_76b5_11ea_ad4a_10050146c8f5row2_col10\" class=\"data row2 col10\" >12</td>\n",
       "                        <td id=\"T_9dced112_76b5_11ea_ad4a_10050146c8f5row2_col11\" class=\"data row2 col11\" >10</td>\n",
       "                        <td id=\"T_9dced112_76b5_11ea_ad4a_10050146c8f5row2_col12\" class=\"data row2 col12\" >Archie</td>\n",
       "                        <td id=\"T_9dced112_76b5_11ea_ad4a_10050146c8f5row2_col13\" class=\"data row2 col13\" >None</td>\n",
       "                        <td id=\"T_9dced112_76b5_11ea_ad4a_10050146c8f5row2_col14\" class=\"data row2 col14\" >None</td>\n",
       "                        <td id=\"T_9dced112_76b5_11ea_ad4a_10050146c8f5row2_col15\" class=\"data row2 col15\" >None</td>\n",
       "                        <td id=\"T_9dced112_76b5_11ea_ad4a_10050146c8f5row2_col16\" class=\"data row2 col16\" >None</td>\n",
       "            </tr>\n",
       "            <tr>\n",
       "                        <th id=\"T_9dced112_76b5_11ea_ad4a_10050146c8f5level0_row3\" class=\"row_heading level0 row3\" >3</th>\n",
       "                        <td id=\"T_9dced112_76b5_11ea_ad4a_10050146c8f5row3_col0\" class=\"data row3 col0\" >891689557279858688</td>\n",
       "                        <td id=\"T_9dced112_76b5_11ea_ad4a_10050146c8f5row3_col1\" class=\"data row3 col1\" >nan</td>\n",
       "                        <td id=\"T_9dced112_76b5_11ea_ad4a_10050146c8f5row3_col2\" class=\"data row3 col2\" >nan</td>\n",
       "                        <td id=\"T_9dced112_76b5_11ea_ad4a_10050146c8f5row3_col3\" class=\"data row3 col3\" >2017-07-30 15:58:51 +0000</td>\n",
       "                        <td id=\"T_9dced112_76b5_11ea_ad4a_10050146c8f5row3_col4\" class=\"data row3 col4\" ><a href=\"http://twitter.com/download/iphone\" rel=\"nofollow\">Twitter for iPhone</a></td>\n",
       "                        <td id=\"T_9dced112_76b5_11ea_ad4a_10050146c8f5row3_col5\" class=\"data row3 col5\" >This is Darla. She commenced a snooze mid meal. 13/10 happens to the best of us https://t.co/tD36da7qLQ</td>\n",
       "                        <td id=\"T_9dced112_76b5_11ea_ad4a_10050146c8f5row3_col6\" class=\"data row3 col6\" >nan</td>\n",
       "                        <td id=\"T_9dced112_76b5_11ea_ad4a_10050146c8f5row3_col7\" class=\"data row3 col7\" >nan</td>\n",
       "                        <td id=\"T_9dced112_76b5_11ea_ad4a_10050146c8f5row3_col8\" class=\"data row3 col8\" >nan</td>\n",
       "                        <td id=\"T_9dced112_76b5_11ea_ad4a_10050146c8f5row3_col9\" class=\"data row3 col9\" >https://twitter.com/dog_rates/status/891689557279858688/photo/1</td>\n",
       "                        <td id=\"T_9dced112_76b5_11ea_ad4a_10050146c8f5row3_col10\" class=\"data row3 col10\" >13</td>\n",
       "                        <td id=\"T_9dced112_76b5_11ea_ad4a_10050146c8f5row3_col11\" class=\"data row3 col11\" >10</td>\n",
       "                        <td id=\"T_9dced112_76b5_11ea_ad4a_10050146c8f5row3_col12\" class=\"data row3 col12\" >Darla</td>\n",
       "                        <td id=\"T_9dced112_76b5_11ea_ad4a_10050146c8f5row3_col13\" class=\"data row3 col13\" >None</td>\n",
       "                        <td id=\"T_9dced112_76b5_11ea_ad4a_10050146c8f5row3_col14\" class=\"data row3 col14\" >None</td>\n",
       "                        <td id=\"T_9dced112_76b5_11ea_ad4a_10050146c8f5row3_col15\" class=\"data row3 col15\" >None</td>\n",
       "                        <td id=\"T_9dced112_76b5_11ea_ad4a_10050146c8f5row3_col16\" class=\"data row3 col16\" >None</td>\n",
       "            </tr>\n",
       "            <tr>\n",
       "                        <th id=\"T_9dced112_76b5_11ea_ad4a_10050146c8f5level0_row4\" class=\"row_heading level0 row4\" >4</th>\n",
       "                        <td id=\"T_9dced112_76b5_11ea_ad4a_10050146c8f5row4_col0\" class=\"data row4 col0\" >891327558926688256</td>\n",
       "                        <td id=\"T_9dced112_76b5_11ea_ad4a_10050146c8f5row4_col1\" class=\"data row4 col1\" >nan</td>\n",
       "                        <td id=\"T_9dced112_76b5_11ea_ad4a_10050146c8f5row4_col2\" class=\"data row4 col2\" >nan</td>\n",
       "                        <td id=\"T_9dced112_76b5_11ea_ad4a_10050146c8f5row4_col3\" class=\"data row4 col3\" >2017-07-29 16:00:24 +0000</td>\n",
       "                        <td id=\"T_9dced112_76b5_11ea_ad4a_10050146c8f5row4_col4\" class=\"data row4 col4\" ><a href=\"http://twitter.com/download/iphone\" rel=\"nofollow\">Twitter for iPhone</a></td>\n",
       "                        <td id=\"T_9dced112_76b5_11ea_ad4a_10050146c8f5row4_col5\" class=\"data row4 col5\" >This is Franklin. He would like you to stop calling him \"cute.\" He is a very fierce shark and should be respected as such. 12/10 #BarkWeek https://t.co/AtUZn91f7f</td>\n",
       "                        <td id=\"T_9dced112_76b5_11ea_ad4a_10050146c8f5row4_col6\" class=\"data row4 col6\" >nan</td>\n",
       "                        <td id=\"T_9dced112_76b5_11ea_ad4a_10050146c8f5row4_col7\" class=\"data row4 col7\" >nan</td>\n",
       "                        <td id=\"T_9dced112_76b5_11ea_ad4a_10050146c8f5row4_col8\" class=\"data row4 col8\" >nan</td>\n",
       "                        <td id=\"T_9dced112_76b5_11ea_ad4a_10050146c8f5row4_col9\" class=\"data row4 col9\" >https://twitter.com/dog_rates/status/891327558926688256/photo/1,https://twitter.com/dog_rates/status/891327558926688256/photo/1</td>\n",
       "                        <td id=\"T_9dced112_76b5_11ea_ad4a_10050146c8f5row4_col10\" class=\"data row4 col10\" >12</td>\n",
       "                        <td id=\"T_9dced112_76b5_11ea_ad4a_10050146c8f5row4_col11\" class=\"data row4 col11\" >10</td>\n",
       "                        <td id=\"T_9dced112_76b5_11ea_ad4a_10050146c8f5row4_col12\" class=\"data row4 col12\" >Franklin</td>\n",
       "                        <td id=\"T_9dced112_76b5_11ea_ad4a_10050146c8f5row4_col13\" class=\"data row4 col13\" >None</td>\n",
       "                        <td id=\"T_9dced112_76b5_11ea_ad4a_10050146c8f5row4_col14\" class=\"data row4 col14\" >None</td>\n",
       "                        <td id=\"T_9dced112_76b5_11ea_ad4a_10050146c8f5row4_col15\" class=\"data row4 col15\" >None</td>\n",
       "                        <td id=\"T_9dced112_76b5_11ea_ad4a_10050146c8f5row4_col16\" class=\"data row4 col16\" >None</td>\n",
       "            </tr>\n",
       "            <tr>\n",
       "                        <th id=\"T_9dced112_76b5_11ea_ad4a_10050146c8f5level0_row5\" class=\"row_heading level0 row5\" >5</th>\n",
       "                        <td id=\"T_9dced112_76b5_11ea_ad4a_10050146c8f5row5_col0\" class=\"data row5 col0\" >891087950875897856</td>\n",
       "                        <td id=\"T_9dced112_76b5_11ea_ad4a_10050146c8f5row5_col1\" class=\"data row5 col1\" >nan</td>\n",
       "                        <td id=\"T_9dced112_76b5_11ea_ad4a_10050146c8f5row5_col2\" class=\"data row5 col2\" >nan</td>\n",
       "                        <td id=\"T_9dced112_76b5_11ea_ad4a_10050146c8f5row5_col3\" class=\"data row5 col3\" >2017-07-29 00:08:17 +0000</td>\n",
       "                        <td id=\"T_9dced112_76b5_11ea_ad4a_10050146c8f5row5_col4\" class=\"data row5 col4\" ><a href=\"http://twitter.com/download/iphone\" rel=\"nofollow\">Twitter for iPhone</a></td>\n",
       "                        <td id=\"T_9dced112_76b5_11ea_ad4a_10050146c8f5row5_col5\" class=\"data row5 col5\" >Here we have a majestic great white breaching off South Africa's coast. Absolutely h*ckin breathtaking. 13/10 (IG: tucker_marlo) #BarkWeek https://t.co/kQ04fDDRmh</td>\n",
       "                        <td id=\"T_9dced112_76b5_11ea_ad4a_10050146c8f5row5_col6\" class=\"data row5 col6\" >nan</td>\n",
       "                        <td id=\"T_9dced112_76b5_11ea_ad4a_10050146c8f5row5_col7\" class=\"data row5 col7\" >nan</td>\n",
       "                        <td id=\"T_9dced112_76b5_11ea_ad4a_10050146c8f5row5_col8\" class=\"data row5 col8\" >nan</td>\n",
       "                        <td id=\"T_9dced112_76b5_11ea_ad4a_10050146c8f5row5_col9\" class=\"data row5 col9\" >https://twitter.com/dog_rates/status/891087950875897856/photo/1</td>\n",
       "                        <td id=\"T_9dced112_76b5_11ea_ad4a_10050146c8f5row5_col10\" class=\"data row5 col10\" >13</td>\n",
       "                        <td id=\"T_9dced112_76b5_11ea_ad4a_10050146c8f5row5_col11\" class=\"data row5 col11\" >10</td>\n",
       "                        <td id=\"T_9dced112_76b5_11ea_ad4a_10050146c8f5row5_col12\" class=\"data row5 col12\" >None</td>\n",
       "                        <td id=\"T_9dced112_76b5_11ea_ad4a_10050146c8f5row5_col13\" class=\"data row5 col13\" >None</td>\n",
       "                        <td id=\"T_9dced112_76b5_11ea_ad4a_10050146c8f5row5_col14\" class=\"data row5 col14\" >None</td>\n",
       "                        <td id=\"T_9dced112_76b5_11ea_ad4a_10050146c8f5row5_col15\" class=\"data row5 col15\" >None</td>\n",
       "                        <td id=\"T_9dced112_76b5_11ea_ad4a_10050146c8f5row5_col16\" class=\"data row5 col16\" >None</td>\n",
       "            </tr>\n",
       "            <tr>\n",
       "                        <th id=\"T_9dced112_76b5_11ea_ad4a_10050146c8f5level0_row6\" class=\"row_heading level0 row6\" >6</th>\n",
       "                        <td id=\"T_9dced112_76b5_11ea_ad4a_10050146c8f5row6_col0\" class=\"data row6 col0\" >890971913173991426</td>\n",
       "                        <td id=\"T_9dced112_76b5_11ea_ad4a_10050146c8f5row6_col1\" class=\"data row6 col1\" >nan</td>\n",
       "                        <td id=\"T_9dced112_76b5_11ea_ad4a_10050146c8f5row6_col2\" class=\"data row6 col2\" >nan</td>\n",
       "                        <td id=\"T_9dced112_76b5_11ea_ad4a_10050146c8f5row6_col3\" class=\"data row6 col3\" >2017-07-28 16:27:12 +0000</td>\n",
       "                        <td id=\"T_9dced112_76b5_11ea_ad4a_10050146c8f5row6_col4\" class=\"data row6 col4\" ><a href=\"http://twitter.com/download/iphone\" rel=\"nofollow\">Twitter for iPhone</a></td>\n",
       "                        <td id=\"T_9dced112_76b5_11ea_ad4a_10050146c8f5row6_col5\" class=\"data row6 col5\" >Meet Jax. He enjoys ice cream so much he gets nervous around it. 13/10 help Jax enjoy more things by clicking below\r\n",
       "\r\n",
       "https://t.co/Zr4hWfAs1H https://t.co/tVJBRMnhxl</td>\n",
       "                        <td id=\"T_9dced112_76b5_11ea_ad4a_10050146c8f5row6_col6\" class=\"data row6 col6\" >nan</td>\n",
       "                        <td id=\"T_9dced112_76b5_11ea_ad4a_10050146c8f5row6_col7\" class=\"data row6 col7\" >nan</td>\n",
       "                        <td id=\"T_9dced112_76b5_11ea_ad4a_10050146c8f5row6_col8\" class=\"data row6 col8\" >nan</td>\n",
       "                        <td id=\"T_9dced112_76b5_11ea_ad4a_10050146c8f5row6_col9\" class=\"data row6 col9\" >https://gofundme.com/ydvmve-surgery-for-jax,https://twitter.com/dog_rates/status/890971913173991426/photo/1</td>\n",
       "                        <td id=\"T_9dced112_76b5_11ea_ad4a_10050146c8f5row6_col10\" class=\"data row6 col10\" >13</td>\n",
       "                        <td id=\"T_9dced112_76b5_11ea_ad4a_10050146c8f5row6_col11\" class=\"data row6 col11\" >10</td>\n",
       "                        <td id=\"T_9dced112_76b5_11ea_ad4a_10050146c8f5row6_col12\" class=\"data row6 col12\" >Jax</td>\n",
       "                        <td id=\"T_9dced112_76b5_11ea_ad4a_10050146c8f5row6_col13\" class=\"data row6 col13\" >None</td>\n",
       "                        <td id=\"T_9dced112_76b5_11ea_ad4a_10050146c8f5row6_col14\" class=\"data row6 col14\" >None</td>\n",
       "                        <td id=\"T_9dced112_76b5_11ea_ad4a_10050146c8f5row6_col15\" class=\"data row6 col15\" >None</td>\n",
       "                        <td id=\"T_9dced112_76b5_11ea_ad4a_10050146c8f5row6_col16\" class=\"data row6 col16\" >None</td>\n",
       "            </tr>\n",
       "            <tr>\n",
       "                        <th id=\"T_9dced112_76b5_11ea_ad4a_10050146c8f5level0_row7\" class=\"row_heading level0 row7\" >7</th>\n",
       "                        <td id=\"T_9dced112_76b5_11ea_ad4a_10050146c8f5row7_col0\" class=\"data row7 col0\" >890729181411237888</td>\n",
       "                        <td id=\"T_9dced112_76b5_11ea_ad4a_10050146c8f5row7_col1\" class=\"data row7 col1\" >nan</td>\n",
       "                        <td id=\"T_9dced112_76b5_11ea_ad4a_10050146c8f5row7_col2\" class=\"data row7 col2\" >nan</td>\n",
       "                        <td id=\"T_9dced112_76b5_11ea_ad4a_10050146c8f5row7_col3\" class=\"data row7 col3\" >2017-07-28 00:22:40 +0000</td>\n",
       "                        <td id=\"T_9dced112_76b5_11ea_ad4a_10050146c8f5row7_col4\" class=\"data row7 col4\" ><a href=\"http://twitter.com/download/iphone\" rel=\"nofollow\">Twitter for iPhone</a></td>\n",
       "                        <td id=\"T_9dced112_76b5_11ea_ad4a_10050146c8f5row7_col5\" class=\"data row7 col5\" >When you watch your owner call another dog a good boy but then they turn back to you and say you're a great boy. 13/10 https://t.co/v0nONBcwxq</td>\n",
       "                        <td id=\"T_9dced112_76b5_11ea_ad4a_10050146c8f5row7_col6\" class=\"data row7 col6\" >nan</td>\n",
       "                        <td id=\"T_9dced112_76b5_11ea_ad4a_10050146c8f5row7_col7\" class=\"data row7 col7\" >nan</td>\n",
       "                        <td id=\"T_9dced112_76b5_11ea_ad4a_10050146c8f5row7_col8\" class=\"data row7 col8\" >nan</td>\n",
       "                        <td id=\"T_9dced112_76b5_11ea_ad4a_10050146c8f5row7_col9\" class=\"data row7 col9\" >https://twitter.com/dog_rates/status/890729181411237888/photo/1,https://twitter.com/dog_rates/status/890729181411237888/photo/1</td>\n",
       "                        <td id=\"T_9dced112_76b5_11ea_ad4a_10050146c8f5row7_col10\" class=\"data row7 col10\" >13</td>\n",
       "                        <td id=\"T_9dced112_76b5_11ea_ad4a_10050146c8f5row7_col11\" class=\"data row7 col11\" >10</td>\n",
       "                        <td id=\"T_9dced112_76b5_11ea_ad4a_10050146c8f5row7_col12\" class=\"data row7 col12\" >None</td>\n",
       "                        <td id=\"T_9dced112_76b5_11ea_ad4a_10050146c8f5row7_col13\" class=\"data row7 col13\" >None</td>\n",
       "                        <td id=\"T_9dced112_76b5_11ea_ad4a_10050146c8f5row7_col14\" class=\"data row7 col14\" >None</td>\n",
       "                        <td id=\"T_9dced112_76b5_11ea_ad4a_10050146c8f5row7_col15\" class=\"data row7 col15\" >None</td>\n",
       "                        <td id=\"T_9dced112_76b5_11ea_ad4a_10050146c8f5row7_col16\" class=\"data row7 col16\" >None</td>\n",
       "            </tr>\n",
       "            <tr>\n",
       "                        <th id=\"T_9dced112_76b5_11ea_ad4a_10050146c8f5level0_row8\" class=\"row_heading level0 row8\" >8</th>\n",
       "                        <td id=\"T_9dced112_76b5_11ea_ad4a_10050146c8f5row8_col0\" class=\"data row8 col0\" >890609185150312448</td>\n",
       "                        <td id=\"T_9dced112_76b5_11ea_ad4a_10050146c8f5row8_col1\" class=\"data row8 col1\" >nan</td>\n",
       "                        <td id=\"T_9dced112_76b5_11ea_ad4a_10050146c8f5row8_col2\" class=\"data row8 col2\" >nan</td>\n",
       "                        <td id=\"T_9dced112_76b5_11ea_ad4a_10050146c8f5row8_col3\" class=\"data row8 col3\" >2017-07-27 16:25:51 +0000</td>\n",
       "                        <td id=\"T_9dced112_76b5_11ea_ad4a_10050146c8f5row8_col4\" class=\"data row8 col4\" ><a href=\"http://twitter.com/download/iphone\" rel=\"nofollow\">Twitter for iPhone</a></td>\n",
       "                        <td id=\"T_9dced112_76b5_11ea_ad4a_10050146c8f5row8_col5\" class=\"data row8 col5\" >This is Zoey. She doesn't want to be one of the scary sharks. Just wants to be a snuggly pettable boatpet. 13/10 #BarkWeek https://t.co/9TwLuAGH0b</td>\n",
       "                        <td id=\"T_9dced112_76b5_11ea_ad4a_10050146c8f5row8_col6\" class=\"data row8 col6\" >nan</td>\n",
       "                        <td id=\"T_9dced112_76b5_11ea_ad4a_10050146c8f5row8_col7\" class=\"data row8 col7\" >nan</td>\n",
       "                        <td id=\"T_9dced112_76b5_11ea_ad4a_10050146c8f5row8_col8\" class=\"data row8 col8\" >nan</td>\n",
       "                        <td id=\"T_9dced112_76b5_11ea_ad4a_10050146c8f5row8_col9\" class=\"data row8 col9\" >https://twitter.com/dog_rates/status/890609185150312448/photo/1</td>\n",
       "                        <td id=\"T_9dced112_76b5_11ea_ad4a_10050146c8f5row8_col10\" class=\"data row8 col10\" >13</td>\n",
       "                        <td id=\"T_9dced112_76b5_11ea_ad4a_10050146c8f5row8_col11\" class=\"data row8 col11\" >10</td>\n",
       "                        <td id=\"T_9dced112_76b5_11ea_ad4a_10050146c8f5row8_col12\" class=\"data row8 col12\" >Zoey</td>\n",
       "                        <td id=\"T_9dced112_76b5_11ea_ad4a_10050146c8f5row8_col13\" class=\"data row8 col13\" >None</td>\n",
       "                        <td id=\"T_9dced112_76b5_11ea_ad4a_10050146c8f5row8_col14\" class=\"data row8 col14\" >None</td>\n",
       "                        <td id=\"T_9dced112_76b5_11ea_ad4a_10050146c8f5row8_col15\" class=\"data row8 col15\" >None</td>\n",
       "                        <td id=\"T_9dced112_76b5_11ea_ad4a_10050146c8f5row8_col16\" class=\"data row8 col16\" >None</td>\n",
       "            </tr>\n",
       "            <tr>\n",
       "                        <th id=\"T_9dced112_76b5_11ea_ad4a_10050146c8f5level0_row9\" class=\"row_heading level0 row9\" >9</th>\n",
       "                        <td id=\"T_9dced112_76b5_11ea_ad4a_10050146c8f5row9_col0\" class=\"data row9 col0\" >890240255349198849</td>\n",
       "                        <td id=\"T_9dced112_76b5_11ea_ad4a_10050146c8f5row9_col1\" class=\"data row9 col1\" >nan</td>\n",
       "                        <td id=\"T_9dced112_76b5_11ea_ad4a_10050146c8f5row9_col2\" class=\"data row9 col2\" >nan</td>\n",
       "                        <td id=\"T_9dced112_76b5_11ea_ad4a_10050146c8f5row9_col3\" class=\"data row9 col3\" >2017-07-26 15:59:51 +0000</td>\n",
       "                        <td id=\"T_9dced112_76b5_11ea_ad4a_10050146c8f5row9_col4\" class=\"data row9 col4\" ><a href=\"http://twitter.com/download/iphone\" rel=\"nofollow\">Twitter for iPhone</a></td>\n",
       "                        <td id=\"T_9dced112_76b5_11ea_ad4a_10050146c8f5row9_col5\" class=\"data row9 col5\" >This is Cassie. She is a college pup. Studying international doggo communication and stick theory. 14/10 so elegant much sophisticate https://t.co/t1bfwz5S2A</td>\n",
       "                        <td id=\"T_9dced112_76b5_11ea_ad4a_10050146c8f5row9_col6\" class=\"data row9 col6\" >nan</td>\n",
       "                        <td id=\"T_9dced112_76b5_11ea_ad4a_10050146c8f5row9_col7\" class=\"data row9 col7\" >nan</td>\n",
       "                        <td id=\"T_9dced112_76b5_11ea_ad4a_10050146c8f5row9_col8\" class=\"data row9 col8\" >nan</td>\n",
       "                        <td id=\"T_9dced112_76b5_11ea_ad4a_10050146c8f5row9_col9\" class=\"data row9 col9\" >https://twitter.com/dog_rates/status/890240255349198849/photo/1</td>\n",
       "                        <td id=\"T_9dced112_76b5_11ea_ad4a_10050146c8f5row9_col10\" class=\"data row9 col10\" >14</td>\n",
       "                        <td id=\"T_9dced112_76b5_11ea_ad4a_10050146c8f5row9_col11\" class=\"data row9 col11\" >10</td>\n",
       "                        <td id=\"T_9dced112_76b5_11ea_ad4a_10050146c8f5row9_col12\" class=\"data row9 col12\" >Cassie</td>\n",
       "                        <td id=\"T_9dced112_76b5_11ea_ad4a_10050146c8f5row9_col13\" class=\"data row9 col13\" >doggo</td>\n",
       "                        <td id=\"T_9dced112_76b5_11ea_ad4a_10050146c8f5row9_col14\" class=\"data row9 col14\" >None</td>\n",
       "                        <td id=\"T_9dced112_76b5_11ea_ad4a_10050146c8f5row9_col15\" class=\"data row9 col15\" >None</td>\n",
       "                        <td id=\"T_9dced112_76b5_11ea_ad4a_10050146c8f5row9_col16\" class=\"data row9 col16\" >None</td>\n",
       "            </tr>\n",
       "    </tbody></table>"
      ],
      "text/plain": [
       "<pandas.io.formats.style.Styler at 0x1c48358c978>"
      ]
     },
     "execution_count": 18,
     "metadata": {},
     "output_type": "execute_result"
    }
   ],
   "source": [
    "df_1.loc[:9].style.applymap(lambda x: 'color: red' if pd.isnull(x) else '')"
   ]
  },
  {
   "cell_type": "markdown",
   "metadata": {},
   "source": [
    "- Five columns in the **df_1** Dataframe appear to contain missing values: \n",
    "    - **in_reply_to_status_id**, \n",
    "    - **in_reply_to_user_id**, \n",
    "    - **retweeed_status_id**, \n",
    "    - **retweeted_status_user_id**,  \n",
    "    - **retweeted_status_timestamp** \n",
    " \n",
    "- The **text** column contains the body of the tweet, but then ends each tweet with a hyperlink.  The hyperlink is already represented in the **expanded_urls** column, so having it shown twice is redundant information and is not really part of the text of the tweet. \n",
    "- The columns **doggo**, **floofer**, **pupper**, and **puppo** have the string \"None\" in many of there rows. These columns seem to be categorical varibales and would benefit by finding a melt them into a single categorical column.\n",
    "- The **timestamp** column is formatted down to the millisecond. This is accurate and thourough information, but for future timeseries analysis, I will convert the time in a date format of yyyy-MM-dd instead of the yyyy-MM-dd HH:mm:ss. SSS it is in now."
   ]
  },
  {
   "cell_type": "code",
   "execution_count": 19,
   "metadata": {
    "scrolled": true
   },
   "outputs": [
    {
     "data": {
      "text/html": [
       "<style  type=\"text/css\" >\n",
       "</style><table id=\"T_9dd3afbe_76b5_11ea_8339_10050146c8f5\" ><thead>    <tr>        <th class=\"blank level0\" ></th>        <th class=\"col_heading level0 col0\" >tweet_id</th>        <th class=\"col_heading level0 col1\" >jpg_url</th>        <th class=\"col_heading level0 col2\" >img_num</th>        <th class=\"col_heading level0 col3\" >p1</th>        <th class=\"col_heading level0 col4\" >p1_conf</th>        <th class=\"col_heading level0 col5\" >p1_dog</th>        <th class=\"col_heading level0 col6\" >p2</th>        <th class=\"col_heading level0 col7\" >p2_conf</th>        <th class=\"col_heading level0 col8\" >p2_dog</th>        <th class=\"col_heading level0 col9\" >p3</th>        <th class=\"col_heading level0 col10\" >p3_conf</th>        <th class=\"col_heading level0 col11\" >p3_dog</th>    </tr></thead><tbody>\n",
       "                <tr>\n",
       "                        <th id=\"T_9dd3afbe_76b5_11ea_8339_10050146c8f5level0_row0\" class=\"row_heading level0 row0\" >0</th>\n",
       "                        <td id=\"T_9dd3afbe_76b5_11ea_8339_10050146c8f5row0_col0\" class=\"data row0 col0\" >666020888022790149</td>\n",
       "                        <td id=\"T_9dd3afbe_76b5_11ea_8339_10050146c8f5row0_col1\" class=\"data row0 col1\" >https://pbs.twimg.com/media/CT4udn0WwAA0aMy.jpg</td>\n",
       "                        <td id=\"T_9dd3afbe_76b5_11ea_8339_10050146c8f5row0_col2\" class=\"data row0 col2\" >1</td>\n",
       "                        <td id=\"T_9dd3afbe_76b5_11ea_8339_10050146c8f5row0_col3\" class=\"data row0 col3\" >Welsh_springer_spaniel</td>\n",
       "                        <td id=\"T_9dd3afbe_76b5_11ea_8339_10050146c8f5row0_col4\" class=\"data row0 col4\" >0.465074</td>\n",
       "                        <td id=\"T_9dd3afbe_76b5_11ea_8339_10050146c8f5row0_col5\" class=\"data row0 col5\" >True</td>\n",
       "                        <td id=\"T_9dd3afbe_76b5_11ea_8339_10050146c8f5row0_col6\" class=\"data row0 col6\" >collie</td>\n",
       "                        <td id=\"T_9dd3afbe_76b5_11ea_8339_10050146c8f5row0_col7\" class=\"data row0 col7\" >0.156665</td>\n",
       "                        <td id=\"T_9dd3afbe_76b5_11ea_8339_10050146c8f5row0_col8\" class=\"data row0 col8\" >True</td>\n",
       "                        <td id=\"T_9dd3afbe_76b5_11ea_8339_10050146c8f5row0_col9\" class=\"data row0 col9\" >Shetland_sheepdog</td>\n",
       "                        <td id=\"T_9dd3afbe_76b5_11ea_8339_10050146c8f5row0_col10\" class=\"data row0 col10\" >0.0614285</td>\n",
       "                        <td id=\"T_9dd3afbe_76b5_11ea_8339_10050146c8f5row0_col11\" class=\"data row0 col11\" >True</td>\n",
       "            </tr>\n",
       "            <tr>\n",
       "                        <th id=\"T_9dd3afbe_76b5_11ea_8339_10050146c8f5level0_row1\" class=\"row_heading level0 row1\" >1</th>\n",
       "                        <td id=\"T_9dd3afbe_76b5_11ea_8339_10050146c8f5row1_col0\" class=\"data row1 col0\" >666029285002620928</td>\n",
       "                        <td id=\"T_9dd3afbe_76b5_11ea_8339_10050146c8f5row1_col1\" class=\"data row1 col1\" >https://pbs.twimg.com/media/CT42GRgUYAA5iDo.jpg</td>\n",
       "                        <td id=\"T_9dd3afbe_76b5_11ea_8339_10050146c8f5row1_col2\" class=\"data row1 col2\" >1</td>\n",
       "                        <td id=\"T_9dd3afbe_76b5_11ea_8339_10050146c8f5row1_col3\" class=\"data row1 col3\" >redbone</td>\n",
       "                        <td id=\"T_9dd3afbe_76b5_11ea_8339_10050146c8f5row1_col4\" class=\"data row1 col4\" >0.506826</td>\n",
       "                        <td id=\"T_9dd3afbe_76b5_11ea_8339_10050146c8f5row1_col5\" class=\"data row1 col5\" >True</td>\n",
       "                        <td id=\"T_9dd3afbe_76b5_11ea_8339_10050146c8f5row1_col6\" class=\"data row1 col6\" >miniature_pinscher</td>\n",
       "                        <td id=\"T_9dd3afbe_76b5_11ea_8339_10050146c8f5row1_col7\" class=\"data row1 col7\" >0.0741917</td>\n",
       "                        <td id=\"T_9dd3afbe_76b5_11ea_8339_10050146c8f5row1_col8\" class=\"data row1 col8\" >True</td>\n",
       "                        <td id=\"T_9dd3afbe_76b5_11ea_8339_10050146c8f5row1_col9\" class=\"data row1 col9\" >Rhodesian_ridgeback</td>\n",
       "                        <td id=\"T_9dd3afbe_76b5_11ea_8339_10050146c8f5row1_col10\" class=\"data row1 col10\" >0.07201</td>\n",
       "                        <td id=\"T_9dd3afbe_76b5_11ea_8339_10050146c8f5row1_col11\" class=\"data row1 col11\" >True</td>\n",
       "            </tr>\n",
       "            <tr>\n",
       "                        <th id=\"T_9dd3afbe_76b5_11ea_8339_10050146c8f5level0_row2\" class=\"row_heading level0 row2\" >2</th>\n",
       "                        <td id=\"T_9dd3afbe_76b5_11ea_8339_10050146c8f5row2_col0\" class=\"data row2 col0\" >666033412701032449</td>\n",
       "                        <td id=\"T_9dd3afbe_76b5_11ea_8339_10050146c8f5row2_col1\" class=\"data row2 col1\" >https://pbs.twimg.com/media/CT4521TWwAEvMyu.jpg</td>\n",
       "                        <td id=\"T_9dd3afbe_76b5_11ea_8339_10050146c8f5row2_col2\" class=\"data row2 col2\" >1</td>\n",
       "                        <td id=\"T_9dd3afbe_76b5_11ea_8339_10050146c8f5row2_col3\" class=\"data row2 col3\" >German_shepherd</td>\n",
       "                        <td id=\"T_9dd3afbe_76b5_11ea_8339_10050146c8f5row2_col4\" class=\"data row2 col4\" >0.596461</td>\n",
       "                        <td id=\"T_9dd3afbe_76b5_11ea_8339_10050146c8f5row2_col5\" class=\"data row2 col5\" >True</td>\n",
       "                        <td id=\"T_9dd3afbe_76b5_11ea_8339_10050146c8f5row2_col6\" class=\"data row2 col6\" >malinois</td>\n",
       "                        <td id=\"T_9dd3afbe_76b5_11ea_8339_10050146c8f5row2_col7\" class=\"data row2 col7\" >0.138584</td>\n",
       "                        <td id=\"T_9dd3afbe_76b5_11ea_8339_10050146c8f5row2_col8\" class=\"data row2 col8\" >True</td>\n",
       "                        <td id=\"T_9dd3afbe_76b5_11ea_8339_10050146c8f5row2_col9\" class=\"data row2 col9\" >bloodhound</td>\n",
       "                        <td id=\"T_9dd3afbe_76b5_11ea_8339_10050146c8f5row2_col10\" class=\"data row2 col10\" >0.116197</td>\n",
       "                        <td id=\"T_9dd3afbe_76b5_11ea_8339_10050146c8f5row2_col11\" class=\"data row2 col11\" >True</td>\n",
       "            </tr>\n",
       "            <tr>\n",
       "                        <th id=\"T_9dd3afbe_76b5_11ea_8339_10050146c8f5level0_row3\" class=\"row_heading level0 row3\" >3</th>\n",
       "                        <td id=\"T_9dd3afbe_76b5_11ea_8339_10050146c8f5row3_col0\" class=\"data row3 col0\" >666044226329800704</td>\n",
       "                        <td id=\"T_9dd3afbe_76b5_11ea_8339_10050146c8f5row3_col1\" class=\"data row3 col1\" >https://pbs.twimg.com/media/CT5Dr8HUEAA-lEu.jpg</td>\n",
       "                        <td id=\"T_9dd3afbe_76b5_11ea_8339_10050146c8f5row3_col2\" class=\"data row3 col2\" >1</td>\n",
       "                        <td id=\"T_9dd3afbe_76b5_11ea_8339_10050146c8f5row3_col3\" class=\"data row3 col3\" >Rhodesian_ridgeback</td>\n",
       "                        <td id=\"T_9dd3afbe_76b5_11ea_8339_10050146c8f5row3_col4\" class=\"data row3 col4\" >0.408143</td>\n",
       "                        <td id=\"T_9dd3afbe_76b5_11ea_8339_10050146c8f5row3_col5\" class=\"data row3 col5\" >True</td>\n",
       "                        <td id=\"T_9dd3afbe_76b5_11ea_8339_10050146c8f5row3_col6\" class=\"data row3 col6\" >redbone</td>\n",
       "                        <td id=\"T_9dd3afbe_76b5_11ea_8339_10050146c8f5row3_col7\" class=\"data row3 col7\" >0.360687</td>\n",
       "                        <td id=\"T_9dd3afbe_76b5_11ea_8339_10050146c8f5row3_col8\" class=\"data row3 col8\" >True</td>\n",
       "                        <td id=\"T_9dd3afbe_76b5_11ea_8339_10050146c8f5row3_col9\" class=\"data row3 col9\" >miniature_pinscher</td>\n",
       "                        <td id=\"T_9dd3afbe_76b5_11ea_8339_10050146c8f5row3_col10\" class=\"data row3 col10\" >0.222752</td>\n",
       "                        <td id=\"T_9dd3afbe_76b5_11ea_8339_10050146c8f5row3_col11\" class=\"data row3 col11\" >True</td>\n",
       "            </tr>\n",
       "            <tr>\n",
       "                        <th id=\"T_9dd3afbe_76b5_11ea_8339_10050146c8f5level0_row4\" class=\"row_heading level0 row4\" >4</th>\n",
       "                        <td id=\"T_9dd3afbe_76b5_11ea_8339_10050146c8f5row4_col0\" class=\"data row4 col0\" >666049248165822465</td>\n",
       "                        <td id=\"T_9dd3afbe_76b5_11ea_8339_10050146c8f5row4_col1\" class=\"data row4 col1\" >https://pbs.twimg.com/media/CT5IQmsXIAAKY4A.jpg</td>\n",
       "                        <td id=\"T_9dd3afbe_76b5_11ea_8339_10050146c8f5row4_col2\" class=\"data row4 col2\" >1</td>\n",
       "                        <td id=\"T_9dd3afbe_76b5_11ea_8339_10050146c8f5row4_col3\" class=\"data row4 col3\" >miniature_pinscher</td>\n",
       "                        <td id=\"T_9dd3afbe_76b5_11ea_8339_10050146c8f5row4_col4\" class=\"data row4 col4\" >0.560311</td>\n",
       "                        <td id=\"T_9dd3afbe_76b5_11ea_8339_10050146c8f5row4_col5\" class=\"data row4 col5\" >True</td>\n",
       "                        <td id=\"T_9dd3afbe_76b5_11ea_8339_10050146c8f5row4_col6\" class=\"data row4 col6\" >Rottweiler</td>\n",
       "                        <td id=\"T_9dd3afbe_76b5_11ea_8339_10050146c8f5row4_col7\" class=\"data row4 col7\" >0.243682</td>\n",
       "                        <td id=\"T_9dd3afbe_76b5_11ea_8339_10050146c8f5row4_col8\" class=\"data row4 col8\" >True</td>\n",
       "                        <td id=\"T_9dd3afbe_76b5_11ea_8339_10050146c8f5row4_col9\" class=\"data row4 col9\" >Doberman</td>\n",
       "                        <td id=\"T_9dd3afbe_76b5_11ea_8339_10050146c8f5row4_col10\" class=\"data row4 col10\" >0.154629</td>\n",
       "                        <td id=\"T_9dd3afbe_76b5_11ea_8339_10050146c8f5row4_col11\" class=\"data row4 col11\" >True</td>\n",
       "            </tr>\n",
       "            <tr>\n",
       "                        <th id=\"T_9dd3afbe_76b5_11ea_8339_10050146c8f5level0_row5\" class=\"row_heading level0 row5\" >5</th>\n",
       "                        <td id=\"T_9dd3afbe_76b5_11ea_8339_10050146c8f5row5_col0\" class=\"data row5 col0\" >666050758794694657</td>\n",
       "                        <td id=\"T_9dd3afbe_76b5_11ea_8339_10050146c8f5row5_col1\" class=\"data row5 col1\" >https://pbs.twimg.com/media/CT5Jof1WUAEuVxN.jpg</td>\n",
       "                        <td id=\"T_9dd3afbe_76b5_11ea_8339_10050146c8f5row5_col2\" class=\"data row5 col2\" >1</td>\n",
       "                        <td id=\"T_9dd3afbe_76b5_11ea_8339_10050146c8f5row5_col3\" class=\"data row5 col3\" >Bernese_mountain_dog</td>\n",
       "                        <td id=\"T_9dd3afbe_76b5_11ea_8339_10050146c8f5row5_col4\" class=\"data row5 col4\" >0.651137</td>\n",
       "                        <td id=\"T_9dd3afbe_76b5_11ea_8339_10050146c8f5row5_col5\" class=\"data row5 col5\" >True</td>\n",
       "                        <td id=\"T_9dd3afbe_76b5_11ea_8339_10050146c8f5row5_col6\" class=\"data row5 col6\" >English_springer</td>\n",
       "                        <td id=\"T_9dd3afbe_76b5_11ea_8339_10050146c8f5row5_col7\" class=\"data row5 col7\" >0.263788</td>\n",
       "                        <td id=\"T_9dd3afbe_76b5_11ea_8339_10050146c8f5row5_col8\" class=\"data row5 col8\" >True</td>\n",
       "                        <td id=\"T_9dd3afbe_76b5_11ea_8339_10050146c8f5row5_col9\" class=\"data row5 col9\" >Greater_Swiss_Mountain_dog</td>\n",
       "                        <td id=\"T_9dd3afbe_76b5_11ea_8339_10050146c8f5row5_col10\" class=\"data row5 col10\" >0.0161992</td>\n",
       "                        <td id=\"T_9dd3afbe_76b5_11ea_8339_10050146c8f5row5_col11\" class=\"data row5 col11\" >True</td>\n",
       "            </tr>\n",
       "            <tr>\n",
       "                        <th id=\"T_9dd3afbe_76b5_11ea_8339_10050146c8f5level0_row6\" class=\"row_heading level0 row6\" >6</th>\n",
       "                        <td id=\"T_9dd3afbe_76b5_11ea_8339_10050146c8f5row6_col0\" class=\"data row6 col0\" >666051853826850816</td>\n",
       "                        <td id=\"T_9dd3afbe_76b5_11ea_8339_10050146c8f5row6_col1\" class=\"data row6 col1\" >https://pbs.twimg.com/media/CT5KoJ1WoAAJash.jpg</td>\n",
       "                        <td id=\"T_9dd3afbe_76b5_11ea_8339_10050146c8f5row6_col2\" class=\"data row6 col2\" >1</td>\n",
       "                        <td id=\"T_9dd3afbe_76b5_11ea_8339_10050146c8f5row6_col3\" class=\"data row6 col3\" >box_turtle</td>\n",
       "                        <td id=\"T_9dd3afbe_76b5_11ea_8339_10050146c8f5row6_col4\" class=\"data row6 col4\" >0.933012</td>\n",
       "                        <td id=\"T_9dd3afbe_76b5_11ea_8339_10050146c8f5row6_col5\" class=\"data row6 col5\" >False</td>\n",
       "                        <td id=\"T_9dd3afbe_76b5_11ea_8339_10050146c8f5row6_col6\" class=\"data row6 col6\" >mud_turtle</td>\n",
       "                        <td id=\"T_9dd3afbe_76b5_11ea_8339_10050146c8f5row6_col7\" class=\"data row6 col7\" >0.0458854</td>\n",
       "                        <td id=\"T_9dd3afbe_76b5_11ea_8339_10050146c8f5row6_col8\" class=\"data row6 col8\" >False</td>\n",
       "                        <td id=\"T_9dd3afbe_76b5_11ea_8339_10050146c8f5row6_col9\" class=\"data row6 col9\" >terrapin</td>\n",
       "                        <td id=\"T_9dd3afbe_76b5_11ea_8339_10050146c8f5row6_col10\" class=\"data row6 col10\" >0.0178853</td>\n",
       "                        <td id=\"T_9dd3afbe_76b5_11ea_8339_10050146c8f5row6_col11\" class=\"data row6 col11\" >False</td>\n",
       "            </tr>\n",
       "            <tr>\n",
       "                        <th id=\"T_9dd3afbe_76b5_11ea_8339_10050146c8f5level0_row7\" class=\"row_heading level0 row7\" >7</th>\n",
       "                        <td id=\"T_9dd3afbe_76b5_11ea_8339_10050146c8f5row7_col0\" class=\"data row7 col0\" >666055525042405380</td>\n",
       "                        <td id=\"T_9dd3afbe_76b5_11ea_8339_10050146c8f5row7_col1\" class=\"data row7 col1\" >https://pbs.twimg.com/media/CT5N9tpXIAAifs1.jpg</td>\n",
       "                        <td id=\"T_9dd3afbe_76b5_11ea_8339_10050146c8f5row7_col2\" class=\"data row7 col2\" >1</td>\n",
       "                        <td id=\"T_9dd3afbe_76b5_11ea_8339_10050146c8f5row7_col3\" class=\"data row7 col3\" >chow</td>\n",
       "                        <td id=\"T_9dd3afbe_76b5_11ea_8339_10050146c8f5row7_col4\" class=\"data row7 col4\" >0.692517</td>\n",
       "                        <td id=\"T_9dd3afbe_76b5_11ea_8339_10050146c8f5row7_col5\" class=\"data row7 col5\" >True</td>\n",
       "                        <td id=\"T_9dd3afbe_76b5_11ea_8339_10050146c8f5row7_col6\" class=\"data row7 col6\" >Tibetan_mastiff</td>\n",
       "                        <td id=\"T_9dd3afbe_76b5_11ea_8339_10050146c8f5row7_col7\" class=\"data row7 col7\" >0.0582794</td>\n",
       "                        <td id=\"T_9dd3afbe_76b5_11ea_8339_10050146c8f5row7_col8\" class=\"data row7 col8\" >True</td>\n",
       "                        <td id=\"T_9dd3afbe_76b5_11ea_8339_10050146c8f5row7_col9\" class=\"data row7 col9\" >fur_coat</td>\n",
       "                        <td id=\"T_9dd3afbe_76b5_11ea_8339_10050146c8f5row7_col10\" class=\"data row7 col10\" >0.0544486</td>\n",
       "                        <td id=\"T_9dd3afbe_76b5_11ea_8339_10050146c8f5row7_col11\" class=\"data row7 col11\" >False</td>\n",
       "            </tr>\n",
       "            <tr>\n",
       "                        <th id=\"T_9dd3afbe_76b5_11ea_8339_10050146c8f5level0_row8\" class=\"row_heading level0 row8\" >8</th>\n",
       "                        <td id=\"T_9dd3afbe_76b5_11ea_8339_10050146c8f5row8_col0\" class=\"data row8 col0\" >666057090499244032</td>\n",
       "                        <td id=\"T_9dd3afbe_76b5_11ea_8339_10050146c8f5row8_col1\" class=\"data row8 col1\" >https://pbs.twimg.com/media/CT5PY90WoAAQGLo.jpg</td>\n",
       "                        <td id=\"T_9dd3afbe_76b5_11ea_8339_10050146c8f5row8_col2\" class=\"data row8 col2\" >1</td>\n",
       "                        <td id=\"T_9dd3afbe_76b5_11ea_8339_10050146c8f5row8_col3\" class=\"data row8 col3\" >shopping_cart</td>\n",
       "                        <td id=\"T_9dd3afbe_76b5_11ea_8339_10050146c8f5row8_col4\" class=\"data row8 col4\" >0.962465</td>\n",
       "                        <td id=\"T_9dd3afbe_76b5_11ea_8339_10050146c8f5row8_col5\" class=\"data row8 col5\" >False</td>\n",
       "                        <td id=\"T_9dd3afbe_76b5_11ea_8339_10050146c8f5row8_col6\" class=\"data row8 col6\" >shopping_basket</td>\n",
       "                        <td id=\"T_9dd3afbe_76b5_11ea_8339_10050146c8f5row8_col7\" class=\"data row8 col7\" >0.0145938</td>\n",
       "                        <td id=\"T_9dd3afbe_76b5_11ea_8339_10050146c8f5row8_col8\" class=\"data row8 col8\" >False</td>\n",
       "                        <td id=\"T_9dd3afbe_76b5_11ea_8339_10050146c8f5row8_col9\" class=\"data row8 col9\" >golden_retriever</td>\n",
       "                        <td id=\"T_9dd3afbe_76b5_11ea_8339_10050146c8f5row8_col10\" class=\"data row8 col10\" >0.00795896</td>\n",
       "                        <td id=\"T_9dd3afbe_76b5_11ea_8339_10050146c8f5row8_col11\" class=\"data row8 col11\" >True</td>\n",
       "            </tr>\n",
       "            <tr>\n",
       "                        <th id=\"T_9dd3afbe_76b5_11ea_8339_10050146c8f5level0_row9\" class=\"row_heading level0 row9\" >9</th>\n",
       "                        <td id=\"T_9dd3afbe_76b5_11ea_8339_10050146c8f5row9_col0\" class=\"data row9 col0\" >666058600524156928</td>\n",
       "                        <td id=\"T_9dd3afbe_76b5_11ea_8339_10050146c8f5row9_col1\" class=\"data row9 col1\" >https://pbs.twimg.com/media/CT5Qw94XAAA_2dP.jpg</td>\n",
       "                        <td id=\"T_9dd3afbe_76b5_11ea_8339_10050146c8f5row9_col2\" class=\"data row9 col2\" >1</td>\n",
       "                        <td id=\"T_9dd3afbe_76b5_11ea_8339_10050146c8f5row9_col3\" class=\"data row9 col3\" >miniature_poodle</td>\n",
       "                        <td id=\"T_9dd3afbe_76b5_11ea_8339_10050146c8f5row9_col4\" class=\"data row9 col4\" >0.201493</td>\n",
       "                        <td id=\"T_9dd3afbe_76b5_11ea_8339_10050146c8f5row9_col5\" class=\"data row9 col5\" >True</td>\n",
       "                        <td id=\"T_9dd3afbe_76b5_11ea_8339_10050146c8f5row9_col6\" class=\"data row9 col6\" >komondor</td>\n",
       "                        <td id=\"T_9dd3afbe_76b5_11ea_8339_10050146c8f5row9_col7\" class=\"data row9 col7\" >0.192305</td>\n",
       "                        <td id=\"T_9dd3afbe_76b5_11ea_8339_10050146c8f5row9_col8\" class=\"data row9 col8\" >True</td>\n",
       "                        <td id=\"T_9dd3afbe_76b5_11ea_8339_10050146c8f5row9_col9\" class=\"data row9 col9\" >soft-coated_wheaten_terrier</td>\n",
       "                        <td id=\"T_9dd3afbe_76b5_11ea_8339_10050146c8f5row9_col10\" class=\"data row9 col10\" >0.0820861</td>\n",
       "                        <td id=\"T_9dd3afbe_76b5_11ea_8339_10050146c8f5row9_col11\" class=\"data row9 col11\" >True</td>\n",
       "            </tr>\n",
       "            <tr>\n",
       "                        <th id=\"T_9dd3afbe_76b5_11ea_8339_10050146c8f5level0_row10\" class=\"row_heading level0 row10\" >10</th>\n",
       "                        <td id=\"T_9dd3afbe_76b5_11ea_8339_10050146c8f5row10_col0\" class=\"data row10 col0\" >666063827256086533</td>\n",
       "                        <td id=\"T_9dd3afbe_76b5_11ea_8339_10050146c8f5row10_col1\" class=\"data row10 col1\" >https://pbs.twimg.com/media/CT5Vg_wXIAAXfnj.jpg</td>\n",
       "                        <td id=\"T_9dd3afbe_76b5_11ea_8339_10050146c8f5row10_col2\" class=\"data row10 col2\" >1</td>\n",
       "                        <td id=\"T_9dd3afbe_76b5_11ea_8339_10050146c8f5row10_col3\" class=\"data row10 col3\" >golden_retriever</td>\n",
       "                        <td id=\"T_9dd3afbe_76b5_11ea_8339_10050146c8f5row10_col4\" class=\"data row10 col4\" >0.77593</td>\n",
       "                        <td id=\"T_9dd3afbe_76b5_11ea_8339_10050146c8f5row10_col5\" class=\"data row10 col5\" >True</td>\n",
       "                        <td id=\"T_9dd3afbe_76b5_11ea_8339_10050146c8f5row10_col6\" class=\"data row10 col6\" >Tibetan_mastiff</td>\n",
       "                        <td id=\"T_9dd3afbe_76b5_11ea_8339_10050146c8f5row10_col7\" class=\"data row10 col7\" >0.0937178</td>\n",
       "                        <td id=\"T_9dd3afbe_76b5_11ea_8339_10050146c8f5row10_col8\" class=\"data row10 col8\" >True</td>\n",
       "                        <td id=\"T_9dd3afbe_76b5_11ea_8339_10050146c8f5row10_col9\" class=\"data row10 col9\" >Labrador_retriever</td>\n",
       "                        <td id=\"T_9dd3afbe_76b5_11ea_8339_10050146c8f5row10_col10\" class=\"data row10 col10\" >0.0724266</td>\n",
       "                        <td id=\"T_9dd3afbe_76b5_11ea_8339_10050146c8f5row10_col11\" class=\"data row10 col11\" >True</td>\n",
       "            </tr>\n",
       "    </tbody></table>"
      ],
      "text/plain": [
       "<pandas.io.formats.style.Styler at 0x1c48358c240>"
      ]
     },
     "execution_count": 19,
     "metadata": {},
     "output_type": "execute_result"
    }
   ],
   "source": [
    "images.loc[:10].style.applymap(lambda x: 'color: red' if pd.isnull(x) else '')"
   ]
  },
  {
   "cell_type": "markdown",
   "metadata": {},
   "source": [
    "- The columns **p1**, **p2**, and **p3** are all in snake case format and some of the categorical values are capitalized while others are not.  To clean this up I would like to remove the underscore(s) of each row and put the classications in title format "
   ]
  },
  {
   "cell_type": "code",
   "execution_count": 20,
   "metadata": {},
   "outputs": [
    {
     "data": {
      "text/html": [
       "<style  type=\"text/css\" >\n",
       "    #T_9ddef19a_76b5_11ea_b02c_10050146c8f5row0_col1 {\n",
       "            color:  red;\n",
       "        }    #T_9ddef19a_76b5_11ea_b02c_10050146c8f5row1_col1 {\n",
       "            color:  red;\n",
       "        }    #T_9ddef19a_76b5_11ea_b02c_10050146c8f5row2_col1 {\n",
       "            color:  red;\n",
       "        }    #T_9ddef19a_76b5_11ea_b02c_10050146c8f5row3_col1 {\n",
       "            color:  red;\n",
       "        }    #T_9ddef19a_76b5_11ea_b02c_10050146c8f5row4_col1 {\n",
       "            color:  red;\n",
       "        }    #T_9ddef19a_76b5_11ea_b02c_10050146c8f5row5_col1 {\n",
       "            color:  red;\n",
       "        }    #T_9ddef19a_76b5_11ea_b02c_10050146c8f5row6_col1 {\n",
       "            color:  red;\n",
       "        }    #T_9ddef19a_76b5_11ea_b02c_10050146c8f5row7_col1 {\n",
       "            color:  red;\n",
       "        }    #T_9ddef19a_76b5_11ea_b02c_10050146c8f5row8_col1 {\n",
       "            color:  red;\n",
       "        }    #T_9ddef19a_76b5_11ea_b02c_10050146c8f5row9_col1 {\n",
       "            color:  red;\n",
       "        }</style><table id=\"T_9ddef19a_76b5_11ea_b02c_10050146c8f5\" ><thead>    <tr>        <th class=\"blank level0\" ></th>        <th class=\"col_heading level0 col0\" >favorite_count</th>        <th class=\"col_heading level0 col1\" >retweet count</th>        <th class=\"col_heading level0 col2\" >retweet_count</th>        <th class=\"col_heading level0 col3\" >tweet_id</th>    </tr></thead><tbody>\n",
       "                <tr>\n",
       "                        <th id=\"T_9ddef19a_76b5_11ea_b02c_10050146c8f5level0_row0\" class=\"row_heading level0 row0\" >0</th>\n",
       "                        <td id=\"T_9ddef19a_76b5_11ea_b02c_10050146c8f5row0_col0\" class=\"data row0 col0\" >37135</td>\n",
       "                        <td id=\"T_9ddef19a_76b5_11ea_b02c_10050146c8f5row0_col1\" class=\"data row0 col1\" >nan</td>\n",
       "                        <td id=\"T_9ddef19a_76b5_11ea_b02c_10050146c8f5row0_col2\" class=\"data row0 col2\" >7937</td>\n",
       "                        <td id=\"T_9ddef19a_76b5_11ea_b02c_10050146c8f5row0_col3\" class=\"data row0 col3\" >892420643555336193</td>\n",
       "            </tr>\n",
       "            <tr>\n",
       "                        <th id=\"T_9ddef19a_76b5_11ea_b02c_10050146c8f5level0_row1\" class=\"row_heading level0 row1\" >1</th>\n",
       "                        <td id=\"T_9ddef19a_76b5_11ea_b02c_10050146c8f5row1_col0\" class=\"data row1 col0\" >31939</td>\n",
       "                        <td id=\"T_9ddef19a_76b5_11ea_b02c_10050146c8f5row1_col1\" class=\"data row1 col1\" >nan</td>\n",
       "                        <td id=\"T_9ddef19a_76b5_11ea_b02c_10050146c8f5row1_col2\" class=\"data row1 col2\" >5900</td>\n",
       "                        <td id=\"T_9ddef19a_76b5_11ea_b02c_10050146c8f5row1_col3\" class=\"data row1 col3\" >892177421306343426</td>\n",
       "            </tr>\n",
       "            <tr>\n",
       "                        <th id=\"T_9ddef19a_76b5_11ea_b02c_10050146c8f5level0_row2\" class=\"row_heading level0 row2\" >2</th>\n",
       "                        <td id=\"T_9ddef19a_76b5_11ea_b02c_10050146c8f5row2_col0\" class=\"data row2 col0\" >24054</td>\n",
       "                        <td id=\"T_9ddef19a_76b5_11ea_b02c_10050146c8f5row2_col1\" class=\"data row2 col1\" >nan</td>\n",
       "                        <td id=\"T_9ddef19a_76b5_11ea_b02c_10050146c8f5row2_col2\" class=\"data row2 col2\" >3899</td>\n",
       "                        <td id=\"T_9ddef19a_76b5_11ea_b02c_10050146c8f5row2_col3\" class=\"data row2 col3\" >891815181378084864</td>\n",
       "            </tr>\n",
       "            <tr>\n",
       "                        <th id=\"T_9ddef19a_76b5_11ea_b02c_10050146c8f5level0_row3\" class=\"row_heading level0 row3\" >3</th>\n",
       "                        <td id=\"T_9ddef19a_76b5_11ea_b02c_10050146c8f5row3_col0\" class=\"data row3 col0\" >40456</td>\n",
       "                        <td id=\"T_9ddef19a_76b5_11ea_b02c_10050146c8f5row3_col1\" class=\"data row3 col1\" >nan</td>\n",
       "                        <td id=\"T_9ddef19a_76b5_11ea_b02c_10050146c8f5row3_col2\" class=\"data row3 col2\" >8095</td>\n",
       "                        <td id=\"T_9ddef19a_76b5_11ea_b02c_10050146c8f5row3_col3\" class=\"data row3 col3\" >891689557279858688</td>\n",
       "            </tr>\n",
       "            <tr>\n",
       "                        <th id=\"T_9ddef19a_76b5_11ea_b02c_10050146c8f5level0_row4\" class=\"row_heading level0 row4\" >4</th>\n",
       "                        <td id=\"T_9ddef19a_76b5_11ea_b02c_10050146c8f5row4_col0\" class=\"data row4 col0\" >38672</td>\n",
       "                        <td id=\"T_9ddef19a_76b5_11ea_b02c_10050146c8f5row4_col1\" class=\"data row4 col1\" >nan</td>\n",
       "                        <td id=\"T_9ddef19a_76b5_11ea_b02c_10050146c8f5row4_col2\" class=\"data row4 col2\" >8778</td>\n",
       "                        <td id=\"T_9ddef19a_76b5_11ea_b02c_10050146c8f5row4_col3\" class=\"data row4 col3\" >891327558926688256</td>\n",
       "            </tr>\n",
       "            <tr>\n",
       "                        <th id=\"T_9ddef19a_76b5_11ea_b02c_10050146c8f5level0_row5\" class=\"row_heading level0 row5\" >5</th>\n",
       "                        <td id=\"T_9ddef19a_76b5_11ea_b02c_10050146c8f5row5_col0\" class=\"data row5 col0\" >19442</td>\n",
       "                        <td id=\"T_9ddef19a_76b5_11ea_b02c_10050146c8f5row5_col1\" class=\"data row5 col1\" >nan</td>\n",
       "                        <td id=\"T_9ddef19a_76b5_11ea_b02c_10050146c8f5row5_col2\" class=\"data row5 col2\" >2917</td>\n",
       "                        <td id=\"T_9ddef19a_76b5_11ea_b02c_10050146c8f5row5_col3\" class=\"data row5 col3\" >891087950875897856</td>\n",
       "            </tr>\n",
       "            <tr>\n",
       "                        <th id=\"T_9ddef19a_76b5_11ea_b02c_10050146c8f5level0_row6\" class=\"row_heading level0 row6\" >6</th>\n",
       "                        <td id=\"T_9ddef19a_76b5_11ea_b02c_10050146c8f5row6_col0\" class=\"data row6 col0\" >11340</td>\n",
       "                        <td id=\"T_9ddef19a_76b5_11ea_b02c_10050146c8f5row6_col1\" class=\"data row6 col1\" >nan</td>\n",
       "                        <td id=\"T_9ddef19a_76b5_11ea_b02c_10050146c8f5row6_col2\" class=\"data row6 col2\" >1937</td>\n",
       "                        <td id=\"T_9ddef19a_76b5_11ea_b02c_10050146c8f5row6_col3\" class=\"data row6 col3\" >890971913173991426</td>\n",
       "            </tr>\n",
       "            <tr>\n",
       "                        <th id=\"T_9ddef19a_76b5_11ea_b02c_10050146c8f5level0_row7\" class=\"row_heading level0 row7\" >7</th>\n",
       "                        <td id=\"T_9ddef19a_76b5_11ea_b02c_10050146c8f5row7_col0\" class=\"data row7 col0\" >62632</td>\n",
       "                        <td id=\"T_9ddef19a_76b5_11ea_b02c_10050146c8f5row7_col1\" class=\"data row7 col1\" >nan</td>\n",
       "                        <td id=\"T_9ddef19a_76b5_11ea_b02c_10050146c8f5row7_col2\" class=\"data row7 col2\" >17701</td>\n",
       "                        <td id=\"T_9ddef19a_76b5_11ea_b02c_10050146c8f5row7_col3\" class=\"data row7 col3\" >890729181411237888</td>\n",
       "            </tr>\n",
       "            <tr>\n",
       "                        <th id=\"T_9ddef19a_76b5_11ea_b02c_10050146c8f5level0_row8\" class=\"row_heading level0 row8\" >8</th>\n",
       "                        <td id=\"T_9ddef19a_76b5_11ea_b02c_10050146c8f5row8_col0\" class=\"data row8 col0\" >26740</td>\n",
       "                        <td id=\"T_9ddef19a_76b5_11ea_b02c_10050146c8f5row8_col1\" class=\"data row8 col1\" >nan</td>\n",
       "                        <td id=\"T_9ddef19a_76b5_11ea_b02c_10050146c8f5row8_col2\" class=\"data row8 col2\" >4020</td>\n",
       "                        <td id=\"T_9ddef19a_76b5_11ea_b02c_10050146c8f5row8_col3\" class=\"data row8 col3\" >890609185150312448</td>\n",
       "            </tr>\n",
       "            <tr>\n",
       "                        <th id=\"T_9ddef19a_76b5_11ea_b02c_10050146c8f5level0_row9\" class=\"row_heading level0 row9\" >9</th>\n",
       "                        <td id=\"T_9ddef19a_76b5_11ea_b02c_10050146c8f5row9_col0\" class=\"data row9 col0\" >30632</td>\n",
       "                        <td id=\"T_9ddef19a_76b5_11ea_b02c_10050146c8f5row9_col1\" class=\"data row9 col1\" >nan</td>\n",
       "                        <td id=\"T_9ddef19a_76b5_11ea_b02c_10050146c8f5row9_col2\" class=\"data row9 col2\" >6903</td>\n",
       "                        <td id=\"T_9ddef19a_76b5_11ea_b02c_10050146c8f5row9_col3\" class=\"data row9 col3\" >890240255349198849</td>\n",
       "            </tr>\n",
       "    </tbody></table>"
      ],
      "text/plain": [
       "<pandas.io.formats.style.Styler at 0x1c483a8f668>"
      ]
     },
     "execution_count": 20,
     "metadata": {},
     "output_type": "execute_result"
    }
   ],
   "source": [
    "df_2.loc[:9].style.applymap(lambda x: 'color: red' if pd.isnull(x) else '')"
   ]
  },
  {
   "cell_type": "markdown",
   "metadata": {},
   "source": [
    "**retweet count** is an inconsistent format by not having an underscore to replace the space between words. By grouping column names in snake case the column names of a dataframe are callable. This would likely be a column name that I renamed to much python convention for a column name but it looks like it is a duplicate column to **reteet_count** and has a majority of NaN values. I will drop the column **retweet count** to tidy up the **df_2** DataFrame."
   ]
  },
  {
   "cell_type": "markdown",
   "metadata": {},
   "source": [
    "### Programatic Assessment"
   ]
  },
  {
   "cell_type": "code",
   "execution_count": 21,
   "metadata": {},
   "outputs": [
    {
     "name": "stdout",
     "output_type": "stream",
     "text": [
      "<class 'pandas.core.frame.DataFrame'>\n",
      "Int64Index: 2270 entries, 0 to 2355\n",
      "Data columns (total 17 columns):\n",
      "tweet_id                      2270 non-null int64\n",
      "in_reply_to_status_id         23 non-null float64\n",
      "in_reply_to_user_id           23 non-null float64\n",
      "timestamp                     2270 non-null object\n",
      "source                        2270 non-null object\n",
      "text                          2270 non-null object\n",
      "retweeted_status_id           176 non-null float64\n",
      "retweeted_status_user_id      176 non-null float64\n",
      "retweeted_status_timestamp    176 non-null object\n",
      "expanded_urls                 2270 non-null object\n",
      "rating_numerator              2270 non-null int64\n",
      "rating_denominator            2270 non-null int64\n",
      "name                          2270 non-null object\n",
      "doggo                         2270 non-null object\n",
      "floofer                       2270 non-null object\n",
      "pupper                        2270 non-null object\n",
      "puppo                         2270 non-null object\n",
      "dtypes: float64(4), int64(3), object(10)\n",
      "memory usage: 399.2+ KB\n"
     ]
    }
   ],
   "source": [
    "df_1.info()"
   ]
  },
  {
   "cell_type": "markdown",
   "metadata": {},
   "source": [
    "- As observed above, five columns have missing values.\n",
    "    - **in_reply_to_status_id** and **in_reply_to_user_id** each have 2247 null values\n",
    "    - **retweeed_status_id**, **retweeted_status_user_id**, and **retweeted_status_timestamp** each have 2094 null values"
   ]
  },
  {
   "cell_type": "code",
   "execution_count": 22,
   "metadata": {},
   "outputs": [
    {
     "name": "stdout",
     "output_type": "stream",
     "text": [
      "<class 'pandas.core.frame.DataFrame'>\n",
      "RangeIndex: 2166 entries, 0 to 2165\n",
      "Data columns (total 4 columns):\n",
      "favorite_count    2166 non-null int64\n",
      "retweet count     0 non-null float64\n",
      "retweet_count     2166 non-null float64\n",
      "tweet_id          2166 non-null int64\n",
      "dtypes: float64(2), int64(2)\n",
      "memory usage: 67.8 KB\n"
     ]
    }
   ],
   "source": [
    "df_2.info()"
   ]
  },
  {
   "cell_type": "markdown",
   "metadata": {},
   "source": [
    "- After running a summary of the dataframe **df_2** we see that all 2166 values are missing in the column **retweet count**"
   ]
  },
  {
   "cell_type": "code",
   "execution_count": 23,
   "metadata": {},
   "outputs": [
    {
     "name": "stdout",
     "output_type": "stream",
     "text": [
      "<class 'pandas.core.frame.DataFrame'>\n",
      "RangeIndex: 2075 entries, 0 to 2074\n",
      "Data columns (total 12 columns):\n",
      "tweet_id    2075 non-null int64\n",
      "jpg_url     2075 non-null object\n",
      "img_num     2075 non-null int64\n",
      "p1          2075 non-null object\n",
      "p1_conf     2075 non-null float64\n",
      "p1_dog      2075 non-null bool\n",
      "p2          2075 non-null object\n",
      "p2_conf     2075 non-null float64\n",
      "p2_dog      2075 non-null bool\n",
      "p3          2075 non-null object\n",
      "p3_conf     2075 non-null float64\n",
      "p3_dog      2075 non-null bool\n",
      "dtypes: bool(3), float64(3), int64(2), object(4)\n",
      "memory usage: 152.1+ KB\n"
     ]
    }
   ],
   "source": [
    "images.info()"
   ]
  },
  {
   "cell_type": "markdown",
   "metadata": {},
   "source": [
    "- The **images** dataframe has no missing values. "
   ]
  },
  {
   "cell_type": "code",
   "execution_count": 24,
   "metadata": {},
   "outputs": [
    {
     "name": "stdout",
     "output_type": "stream",
     "text": [
      "None     2176\n",
      "doggo      94\n",
      "Name: doggo, dtype: int64,\n",
      "\n",
      "None       2260\n",
      "floofer      10\n",
      "Name: floofer, dtype: int64,\n",
      "\n",
      "None      2017\n",
      "pupper     253\n",
      "Name: pupper, dtype: int64,\n",
      "\n",
      "None     2241\n",
      "puppo      29\n",
      "Name: puppo, dtype: int64\n"
     ]
    }
   ],
   "source": [
    "a = df_1.doggo.value_counts()\n",
    "b = df_1.floofer.value_counts()\n",
    "c = df_1.pupper.value_counts()\n",
    "d = df_1.puppo.value_counts()\n",
    "\n",
    "print(f'{a},\\n\\n{b},\\n\\n{c},\\n\\n{d}')"
   ]
  },
  {
   "cell_type": "code",
   "execution_count": null,
   "metadata": {},
   "outputs": [],
   "source": []
  },
  {
   "cell_type": "code",
   "execution_count": 25,
   "metadata": {},
   "outputs": [
    {
     "data": {
      "text/plain": [
       "count    2270.000000\n",
       "mean       12.238767\n",
       "std        38.918696\n",
       "min         0.000000\n",
       "25%        10.000000\n",
       "50%        11.000000\n",
       "75%        12.000000\n",
       "max      1776.000000\n",
       "Name: rating_numerator, dtype: float64"
      ]
     },
     "execution_count": 25,
     "metadata": {},
     "output_type": "execute_result"
    }
   ],
   "source": [
    "df_1.rating_numerator.describe()"
   ]
  },
  {
   "cell_type": "code",
   "execution_count": 26,
   "metadata": {},
   "outputs": [
    {
     "data": {
      "text/plain": [
       "0         2\n",
       "1         6\n",
       "2         9\n",
       "3        19\n",
       "4        16\n",
       "5        35\n",
       "6        32\n",
       "7        53\n",
       "8       102\n",
       "9       155\n",
       "10      451\n",
       "11      448\n",
       "12      537\n",
       "13      335\n",
       "14       49\n",
       "15        1\n",
       "24        1\n",
       "26        1\n",
       "27        1\n",
       "44        1\n",
       "45        1\n",
       "50        1\n",
       "60        1\n",
       "75        2\n",
       "80        1\n",
       "84        1\n",
       "88        1\n",
       "99        1\n",
       "121       1\n",
       "143       1\n",
       "144       1\n",
       "165       1\n",
       "204       1\n",
       "420       1\n",
       "1776      1\n",
       "Name: rating_numerator, dtype: int64"
      ]
     },
     "execution_count": 26,
     "metadata": {},
     "output_type": "execute_result"
    }
   ],
   "source": [
    "df_1.rating_numerator.value_counts().sort_index()"
   ]
  },
  {
   "cell_type": "markdown",
   "metadata": {},
   "source": [
    "For most of the cases if a numerator had a value\n",
    "greater than 14 it was only used once, however 75 occurs twice.\n",
    "I decided to look into this a little further to figure out why this was."
   ]
  },
  {
   "cell_type": "code",
   "execution_count": 27,
   "metadata": {},
   "outputs": [
    {
     "name": "stdout",
     "output_type": "stream",
     "text": [
      "Index: 340\n",
      "Numerator: 75\n",
      "RT @dog_rates: This is Logan, the Chow who lived. He solemnly swears he's up to lots of good. H*ckin magical af 9.75/10 https://t.co/yBO5wu… \n",
      "\n",
      "Index: 695\n",
      "Numerator: 75\n",
      "This is Logan, the Chow who lived. He solemnly swears he's up to lots of good. H*ckin magical af 9.75/10 https://t.co/yBO5wuqaPS\n"
     ]
    }
   ],
   "source": [
    "ind1, ind2 = df_1.text[df_1.rating_numerator== 75].index.tolist()\n",
    "num = 75\n",
    "text1, text2 = df_1.text[ind1], df_1.text[ind2]\n",
    "print(f'Index: {ind1}\\nNumerator: {num}\\n{text1} \\n\\nIndex: {ind2}\\nNumerator: {num}\\n{text2}')"
   ]
  },
  {
   "cell_type": "markdown",
   "metadata": {},
   "source": [
    "By taking a closer look at these two tweets, I found two problems. The first is that the numerator is not 75, as it is listed in the df_1 dataset, its actually 10. The number 75 was misrepresented as the numerator in error when a rating of 9.75(a sneaky nod to the secret entrance of the Hogwarts Express on platform 9 and 3/4) was given to Logan and second, the indexed tweet #340 happens to be a duplicate of the indexed tweet #695 "
   ]
  },
  {
   "cell_type": "code",
   "execution_count": 28,
   "metadata": {},
   "outputs": [
    {
     "data": {
      "text/plain": [
       "True"
      ]
     },
     "execution_count": 28,
     "metadata": {},
     "output_type": "execute_result"
    }
   ],
   "source": [
    "df_1.tweet_id.duplicated().any()"
   ]
  },
  {
   "cell_type": "markdown",
   "metadata": {},
   "source": [
    "Confirming what we already knew from the previous cell, there are duplicates in the **df_1** dataset that will need to be dropped."
   ]
  },
  {
   "cell_type": "code",
   "execution_count": 29,
   "metadata": {},
   "outputs": [
    {
     "data": {
      "text/plain": [
       "True"
      ]
     },
     "execution_count": 29,
     "metadata": {},
     "output_type": "execute_result"
    }
   ],
   "source": [
    "df_2.tweet_id.duplicated().any()"
   ]
  },
  {
   "cell_type": "code",
   "execution_count": 30,
   "metadata": {},
   "outputs": [
    {
     "data": {
      "text/plain": [
       "False"
      ]
     },
     "execution_count": 30,
     "metadata": {},
     "output_type": "execute_result"
    }
   ],
   "source": [
    "images.tweet_id.duplicated().any()"
   ]
  },
  {
   "cell_type": "markdown",
   "metadata": {},
   "source": [
    "Like the **df_1** dataset, duplicates were found in **df_2** as well. These duplicates will also need to be dropped. Luckily, no duplicates were found in the **images** dataset. "
   ]
  },
  {
   "cell_type": "code",
   "execution_count": 31,
   "metadata": {},
   "outputs": [
    {
     "data": {
      "text/plain": [
       "count    2270.000000\n",
       "mean       10.467841\n",
       "std         6.863241\n",
       "min         2.000000\n",
       "25%        10.000000\n",
       "50%        10.000000\n",
       "75%        10.000000\n",
       "max       170.000000\n",
       "Name: rating_denominator, dtype: float64"
      ]
     },
     "execution_count": 31,
     "metadata": {},
     "output_type": "execute_result"
    }
   ],
   "source": [
    "df_1.rating_denominator.describe()"
   ]
  },
  {
   "cell_type": "code",
   "execution_count": 32,
   "metadata": {},
   "outputs": [
    {
     "data": {
      "text/plain": [
       "2         1\n",
       "7         1\n",
       "10     2251\n",
       "11        3\n",
       "20        1\n",
       "40        1\n",
       "50        3\n",
       "70        1\n",
       "80        2\n",
       "90        1\n",
       "110       1\n",
       "120       1\n",
       "130       1\n",
       "150       1\n",
       "170       1\n",
       "Name: rating_denominator, dtype: int64"
      ]
     },
     "execution_count": 32,
     "metadata": {},
     "output_type": "execute_result"
    }
   ],
   "source": [
    "df_1.rating_denominator.value_counts().sort_index()"
   ]
  },
  {
   "cell_type": "code",
   "execution_count": 33,
   "metadata": {},
   "outputs": [
    {
     "data": {
      "text/plain": [
       "17"
      ]
     },
     "execution_count": 33,
     "metadata": {},
     "output_type": "execute_result"
    }
   ],
   "source": [
    "df_1.query('rating_denominator > 10').rating_denominator.count()"
   ]
  },
  {
   "cell_type": "code",
   "execution_count": 34,
   "metadata": {},
   "outputs": [
    {
     "data": {
      "text/plain": [
       "2"
      ]
     },
     "execution_count": 34,
     "metadata": {},
     "output_type": "execute_result"
    }
   ],
   "source": [
    "df_1.query('rating_denominator < 10').rating_denominator.count()"
   ]
  },
  {
   "cell_type": "markdown",
   "metadata": {},
   "source": [
    "2251 of the 2270 observations have a denominator of ten. I decided to look into this further to see if I could find out why this was. \n",
    "- 2 tweets have a denominator less than ten\n",
    "- 17 tweets have denominators greater than ten. \n"
   ]
  },
  {
   "cell_type": "code",
   "execution_count": 35,
   "metadata": {},
   "outputs": [
    {
     "name": "stdout",
     "output_type": "stream",
     "text": [
      "Index: 516\n",
      "Denominator:7\n",
      "Meet Sam. She smiles 24/7 &amp; secretly aspires to be a reindeer. \r\n",
      "Keep Sam smiling by clicking and sharing this link:\r\n",
      "https://t.co/98tB8y7y7t https://t.co/LouL5vdvxx \n",
      "\n",
      "Index: 2335 \n",
      "Denominator:2\n",
      "This is an Albanian 3 1/2 legged  Episcopalian. Loves well-polished hardwood flooring. Penis on the collar. 9/10 https://t.co/d9NcXFKwLv\n"
     ]
    }
   ],
   "source": [
    "ind1, ind2 = df_1.text[df_1.rating_denominator < 10].index.tolist()\n",
    "denom1, denom2 = df_1.rating_denominator[ind1], df_1.rating_denominator[ind2]\n",
    "text1, text2 = df_1.text[ind1], df_1.text[ind2]\n",
    "print(f'Index: {ind1}\\nDenominator:{denom1}\\n{text1} \\n\\nIndex: {ind2} \\nDenominator:{denom2}\\n{text2}')"
   ]
  },
  {
   "cell_type": "markdown",
   "metadata": {},
   "source": [
    "For the the denominators that had values less then ten\n",
    "- Tweet indexed #516 was one few times where WeRateDogs was not given a rating.\n",
    "- Tweet indexed #2335 misrepresented the rating in error when a fraction of 1/2 was included in the text."
   ]
  },
  {
   "cell_type": "code",
   "execution_count": 36,
   "metadata": {},
   "outputs": [
    {
     "name": "stdout",
     "output_type": "stream",
     "text": [
      "Index: 433\n",
      "Denominator: 70\n",
      "The floofs have been released I repeat the floofs have been released. 84/70 https://t.co/NIYC820tmd\n",
      "\n",
      "Index: 784\n",
      "Denominator: 11\n",
      "RT @dog_rates: After so many requests, this is Bretagne. She was the last surviving 9/11 search dog, and our second ever 14/10. RIP https:/…\n",
      "\n",
      "Index: 902\n",
      "Denominator: 150\n",
      "Why does this never happen at my front door... 165/150 https://t.co/HmwrdfEfUE\n",
      "\n",
      "Index: 1068\n",
      "Denominator: 11\n",
      "After so many requests, this is Bretagne. She was the last surviving 9/11 search dog, and our second ever 14/10. RIP https://t.co/XAVDNDaVgQ\n",
      "\n",
      "Index: 1120\n",
      "Denominator: 170\n",
      "Say hello to this unbelievably well behaved squad of doggos. 204/170 would try to pet all at once https://t.co/yGQI3He3xv\n",
      "\n",
      "Index: 1165\n",
      "Denominator: 20\n",
      "Happy 4/20 from the squad! 13/10 for all https://t.co/eV1diwds8a\n",
      "\n",
      "Index: 1202\n",
      "Denominator: 50\n",
      "This is Bluebert. He just saw that both #FinalFur match ups are split 50/50. Amazed af. 11/10 https://t.co/Kky1DPG4iq\n",
      "\n",
      "Index: 1228\n",
      "Denominator: 90\n",
      "Happy Saturday here's 9 puppers on a bench. 99/90 good work everybody https://t.co/mpvaVxKmc1\n",
      "\n",
      "Index: 1254\n",
      "Denominator: 80\n",
      "Here's a brigade of puppers. All look very prepared for whatever happens next. 80/80 https://t.co/0eb7R1Om12\n",
      "\n",
      "Index: 1274\n",
      "Denominator: 50\n",
      "From left to right:\r\n",
      "Cletus, Jerome, Alejandro, Burp, &amp; Titson\r\n",
      "None know where camera is. 45/50 would hug all at once https://t.co/sedre1ivTK\n",
      "\n",
      "Index: 1351\n",
      "Denominator: 50\n",
      "Here is a whole flock of puppers.  60/50 I'll take the lot https://t.co/9dpcw6MdWa\n",
      "\n",
      "Index: 1433\n",
      "Denominator: 40\n",
      "Happy Wednesday here's a bucket of pups. 44/40 would pet all at once https://t.co/HppvrYuamZ\n",
      "\n",
      "Index: 1634\n",
      "Denominator: 130\n",
      "Two sneaky puppers were not initially seen, moving the rating to 143/130. Please forgive us. Thank you https://t.co/kRK51Y5ac3\n",
      "\n",
      "Index: 1635\n",
      "Denominator: 110\n",
      "Someone help the girl is being mugged. Several are distracting her while two steal her shoes. Clever puppers 121/110 https://t.co/1zfnTJLt55\n",
      "\n",
      "Index: 1662\n",
      "Denominator: 11\n",
      "This is Darrel. He just robbed a 7/11 and is in a high speed police chase. Was just spotted by the helicopter 10/10 https://t.co/7EsP8LmSp5\n",
      "\n",
      "Index: 1779\n",
      "Denominator: 120\n",
      "IT'S PUPPERGEDDON. Total of 144/120 ...I think https://t.co/ZanVtAtvIq\n",
      "\n",
      "Index: 1843\n",
      "Denominator: 80\n",
      "Here we have an entire platoon of puppers. Total score: 88/80 would pet all at once https://t.co/y93p6FLvVw\n",
      "\n"
     ]
    }
   ],
   "source": [
    "ind = df_1.query('rating_denominator > 10')['rating_denominator'].index.tolist()\n",
    "denom = df_1.query('rating_denominator > 10')['rating_denominator'].tolist()\n",
    "text = df_1.query('rating_denominator > 10')['text'].tolist()\n",
    "for i in range(len(ind)):\n",
    "    nex_ind = ind[i]\n",
    "    nex_denom = denom[i]\n",
    "    nex_text = text[i]\n",
    "    print(f'Index: {nex_ind}\\nDenominator: {nex_denom}\\n{nex_text}\\n')"
   ]
  },
  {
   "cell_type": "code",
   "execution_count": 37,
   "metadata": {},
   "outputs": [
    {
     "data": {
      "text/plain": [
       "('2015-11-15 22:32:08 +0000', '2017-08-01 16:23:56 +0000')"
      ]
     },
     "execution_count": 37,
     "metadata": {},
     "output_type": "execute_result"
    }
   ],
   "source": [
    "df_1['timestamp'].min(), df_1['timestamp'].max()"
   ]
  },
  {
   "cell_type": "code",
   "execution_count": 38,
   "metadata": {},
   "outputs": [
    {
     "data": {
      "text/plain": [
       "0    2017-08-01 16:23:56 +0000\n",
       "1    2017-08-01 00:17:27 +0000\n",
       "2    2017-07-31 00:18:03 +0000\n",
       "3    2017-07-30 15:58:51 +0000\n",
       "4    2017-07-29 16:00:24 +0000\n",
       "Name: timestamp, dtype: object"
      ]
     },
     "execution_count": 38,
     "metadata": {},
     "output_type": "execute_result"
    }
   ],
   "source": [
    "df_1.timestamp[:5]"
   ]
  },
  {
   "cell_type": "markdown",
   "metadata": {},
   "source": [
    "### Summary of Assessment\n",
    "\n",
    "#### Quality issues\n",
    "**df_1** dataset\n",
    "- stuff\n",
    "- stuff\n",
    "- stuff\n",
    "- stuff\n",
    "- stuff\n",
    "\n",
    "**df_2** dataset\n",
    "- stuff\n",
    "- stuff\n",
    "- stuff\n",
    "\n",
    "**images** dataset\n",
    "- No quality errors were found in this dataset\n"
   ]
  },
  {
   "cell_type": "markdown",
   "metadata": {},
   "source": [
    "#### Tidiness Issues\n",
    "**df_1** dataset \n",
    "- stuff\n",
    "- stuff\n",
    "- stuff\n",
    "\n",
    "**df_2** dataset\n",
    "- stuff\n",
    "- stuff\n",
    "- stuff\n",
    "\n",
    "**images** dataset\n",
    "- stuff\n",
    "- stuff\n"
   ]
  },
  {
   "cell_type": "markdown",
   "metadata": {},
   "source": [
    "\n",
    "# Clean"
   ]
  },
  {
   "cell_type": "code",
   "execution_count": 39,
   "metadata": {},
   "outputs": [],
   "source": [
    "df_1_clean = df_1.copy()\n",
    "df_2_clean = df_2.copy()\n",
    "images_clean = images.copy()"
   ]
  },
  {
   "cell_type": "markdown",
   "metadata": {},
   "source": [
    "### Quality "
   ]
  },
  {
   "cell_type": "markdown",
   "metadata": {},
   "source": [
    "##### Define\n",
    "- 1. Dropping the columns with a majority of NaN values from the **df_1** dataframe"
   ]
  },
  {
   "cell_type": "markdown",
   "metadata": {},
   "source": [
    "##### Code"
   ]
  },
  {
   "cell_type": "code",
   "execution_count": 40,
   "metadata": {},
   "outputs": [],
   "source": [
    "df_1.drop(columns=['in_reply_to_status_id','in_reply_to_user_id','retweeted_status_id',\n",
    "                   'retweeted_status_user_id','retweeted_status_timestamp'\n",
    "                   ], inplace=True)"
   ]
  },
  {
   "cell_type": "markdown",
   "metadata": {},
   "source": [
    "##### Test the results"
   ]
  },
  {
   "cell_type": "code",
   "execution_count": 41,
   "metadata": {},
   "outputs": [
    {
     "data": {
      "text/plain": [
       "Index(['tweet_id', 'timestamp', 'source', 'text', 'expanded_urls',\n",
       "       'rating_numerator', 'rating_denominator', 'name', 'doggo', 'floofer',\n",
       "       'pupper', 'puppo'],\n",
       "      dtype='object')"
      ]
     },
     "execution_count": 41,
     "metadata": {},
     "output_type": "execute_result"
    }
   ],
   "source": [
    "df_1.columns"
   ]
  },
  {
   "cell_type": "markdown",
   "metadata": {},
   "source": [
    "##### Define\n",
    "- 2. Melting Doggo, Pupper, Floofer, and Puppo down to one category variable named Cute_Name in the **df_1** Dataframe  "
   ]
  },
  {
   "cell_type": "markdown",
   "metadata": {},
   "source": [
    "#####  Code"
   ]
  },
  {
   "cell_type": "code",
   "execution_count": 42,
   "metadata": {},
   "outputs": [],
   "source": [
    "a = df_1['doggo']\n",
    "b = df_1['pupper']\n",
    "c = df_1['floofer']\n",
    "d = df_1['puppo']\n",
    "\n",
    "\n",
    "df_1['cute_name'] = a.str.cat(b.replace('None','')).str.cat(c.replace('None','')).str.cat(d.replace('None',''))"
   ]
  },
  {
   "cell_type": "code",
   "execution_count": 43,
   "metadata": {},
   "outputs": [],
   "source": [
    "dict_dog = {'Nonefloofer':'floofer','Nonepupper':'pupper','Nonepuppo':'puppo','doggopupper':'doggo, pupper',\n",
    "           'doggofloofer':'doggo, floofer','doggopuppo':'doggo, puppo','None':'Other'}\n",
    "\n",
    "for key, value in dict_dog.items():\n",
    "    df_1['cute_name'] = df_1.cute_name.replace(key,value)\n",
    "    \n",
    "df_1.drop(columns=['doggo', 'floofer','pupper', 'puppo'],inplace=True)"
   ]
  },
  {
   "cell_type": "markdown",
   "metadata": {},
   "source": [
    "##### Test the results"
   ]
  },
  {
   "cell_type": "code",
   "execution_count": 44,
   "metadata": {},
   "outputs": [
    {
     "data": {
      "text/plain": [
       "Other             1898\n",
       "pupper             241\n",
       "doggo               80\n",
       "puppo               28\n",
       "doggo, pupper       12\n",
       "floofer              9\n",
       "doggo, puppo         1\n",
       "doggo, floofer       1\n",
       "Name: cute_name, dtype: int64"
      ]
     },
     "execution_count": 44,
     "metadata": {},
     "output_type": "execute_result"
    }
   ],
   "source": [
    "df_1.cute_name.value_counts()"
   ]
  },
  {
   "cell_type": "code",
   "execution_count": 45,
   "metadata": {},
   "outputs": [
    {
     "data": {
      "text/plain": [
       "Index(['tweet_id', 'timestamp', 'source', 'text', 'expanded_urls',\n",
       "       'rating_numerator', 'rating_denominator', 'name', 'cute_name'],\n",
       "      dtype='object')"
      ]
     },
     "execution_count": 45,
     "metadata": {},
     "output_type": "execute_result"
    }
   ],
   "source": [
    "df_1.columns"
   ]
  },
  {
   "cell_type": "markdown",
   "metadata": {},
   "source": [
    "##### Define\n",
    "- 3.  Fixing Tweet 516 (No rating given) in the **df_1** Dataframe"
   ]
  },
  {
   "cell_type": "markdown",
   "metadata": {},
   "source": [
    "#####  Code"
   ]
  },
  {
   "cell_type": "code",
   "execution_count": 46,
   "metadata": {},
   "outputs": [],
   "source": [
    "df_1.loc[516, 'rating_numerator']= np.median(df_1.rating_numerator)\n",
    "df_1.loc[516, 'rating_denominator']= np.median(df_1.rating_denominator)"
   ]
  },
  {
   "cell_type": "markdown",
   "metadata": {},
   "source": [
    "##### Test the results"
   ]
  },
  {
   "cell_type": "code",
   "execution_count": 47,
   "metadata": {},
   "outputs": [
    {
     "name": "stdout",
     "output_type": "stream",
     "text": [
      "Since Sam was never given a rating, I gave him the median rating which is 11.0/10.0\n"
     ]
    }
   ],
   "source": [
    "print(f\"Since Sam was never given a rating, I gave him the median rating which is {df_1.loc[516,'rating_numerator']}/{df_1.loc[516,'rating_denominator']}\")"
   ]
  },
  {
   "cell_type": "markdown",
   "metadata": {},
   "source": [
    "##### Define\n",
    "- 4.Dropping the duplicate in the **df_1** and **df_2** Dataframes"
   ]
  },
  {
   "cell_type": "markdown",
   "metadata": {},
   "source": [
    "#####  Code"
   ]
  },
  {
   "cell_type": "code",
   "execution_count": 48,
   "metadata": {},
   "outputs": [],
   "source": [
    "df_1 = df_1.drop_duplicates(subset=['tweet_id'],keep='first').reset_index()\n",
    "df_2 = df_2.drop_duplicates(subset=['tweet_id'],keep='first').reset_index()\n"
   ]
  },
  {
   "cell_type": "markdown",
   "metadata": {},
   "source": [
    "_4. Test the results_"
   ]
  },
  {
   "cell_type": "code",
   "execution_count": 49,
   "metadata": {},
   "outputs": [
    {
     "data": {
      "text/plain": [
       "(False, False)"
      ]
     },
     "execution_count": 49,
     "metadata": {},
     "output_type": "execute_result"
    }
   ],
   "source": [
    "df_1.tweet_id.duplicated().any(), df_2.tweet_id.duplicated().any()"
   ]
  },
  {
   "cell_type": "markdown",
   "metadata": {},
   "source": [
    "##### Define\n",
    "- 5. Dropping columns with null data in the **df_2** Dataframe"
   ]
  },
  {
   "cell_type": "markdown",
   "metadata": {},
   "source": [
    "#####  Code"
   ]
  },
  {
   "cell_type": "code",
   "execution_count": 50,
   "metadata": {},
   "outputs": [],
   "source": [
    "df_2.drop(columns='retweet count', inplace= True)"
   ]
  },
  {
   "cell_type": "markdown",
   "metadata": {},
   "source": [
    "##### Test the results"
   ]
  },
  {
   "cell_type": "code",
   "execution_count": 51,
   "metadata": {},
   "outputs": [
    {
     "name": "stdout",
     "output_type": "stream",
     "text": [
      "<class 'pandas.core.frame.DataFrame'>\n",
      "RangeIndex: 2026 entries, 0 to 2025\n",
      "Data columns (total 4 columns):\n",
      "index             2026 non-null int64\n",
      "favorite_count    2026 non-null int64\n",
      "retweet_count     2026 non-null float64\n",
      "tweet_id          2026 non-null int64\n",
      "dtypes: float64(1), int64(3)\n",
      "memory usage: 63.4 KB\n"
     ]
    }
   ],
   "source": [
    "df_2.info()"
   ]
  },
  {
   "cell_type": "markdown",
   "metadata": {},
   "source": [
    "##### Define\n",
    "- 6. Dropping the 'source' column from **df** table"
   ]
  },
  {
   "cell_type": "markdown",
   "metadata": {},
   "source": [
    "#####  Code"
   ]
  },
  {
   "cell_type": "code",
   "execution_count": 52,
   "metadata": {},
   "outputs": [],
   "source": [
    "df_1.drop(columns=['source'],inplace=True)"
   ]
  },
  {
   "cell_type": "markdown",
   "metadata": {},
   "source": [
    "##### Test the results"
   ]
  },
  {
   "cell_type": "code",
   "execution_count": 53,
   "metadata": {},
   "outputs": [
    {
     "data": {
      "text/plain": [
       "Index(['index', 'tweet_id', 'timestamp', 'text', 'expanded_urls',\n",
       "       'rating_numerator', 'rating_denominator', 'name', 'cute_name'],\n",
       "      dtype='object')"
      ]
     },
     "execution_count": 53,
     "metadata": {},
     "output_type": "execute_result"
    }
   ],
   "source": [
    "df_1.columns"
   ]
  },
  {
   "cell_type": "markdown",
   "metadata": {},
   "source": [
    "##### Define\n",
    "- 8. "
   ]
  },
  {
   "cell_type": "markdown",
   "metadata": {},
   "source": [
    "#####  Code"
   ]
  },
  {
   "cell_type": "code",
   "execution_count": 54,
   "metadata": {},
   "outputs": [
    {
     "name": "stdout",
     "output_type": "stream",
     "text": [
      "Index: 377\n",
      "Numerator: Unchanged\n",
      "Denominator: Unchanged\n",
      "The floofs have been released I repeat the floofs have been released. 84/70 https://t.co/NIYC820tmd\n",
      "\n",
      "Index: 655\n",
      "Numerator: 14\n",
      "Denominator: 10\n",
      "RT @dog_rates: After so many requests, this is Bretagne. She was the last surviving 9/11 search dog, and our second ever 14/10. RIP https:/…\n",
      "\n",
      "Index: 750\n",
      "Numerator: Unchanged\n",
      "Denominator: Unchanged\n",
      "Why does this never happen at my front door... 165/150 https://t.co/HmwrdfEfUE\n",
      "\n",
      "Index: 934\n",
      "Numerator: Unchanged\n",
      "Denominator: Unchanged\n",
      "Say hello to this unbelievably well behaved squad of doggos. 204/170 would try to pet all at once https://t.co/yGQI3He3xv\n",
      "\n",
      "Index: 977\n",
      "Numerator: 13\n",
      "Denominator: 10\n",
      "Happy 4/20 from the squad! 13/10 for all https://t.co/eV1diwds8a\n",
      "\n",
      "Index: 1011\n",
      "Numerator: 11\n",
      "Denominator: 10\n",
      "This is Bluebert. He just saw that both #FinalFur match ups are split 50/50. Amazed af. 11/10 https://t.co/Kky1DPG4iq\n",
      "\n",
      "Index: 1032\n",
      "Numerator: Unchanged\n",
      "Denominator: Unchanged\n",
      "Happy Saturday here's 9 puppers on a bench. 99/90 good work everybody https://t.co/mpvaVxKmc1\n",
      "\n",
      "Index: 1056\n",
      "Numerator: Unchanged\n",
      "Denominator: Unchanged\n",
      "Here's a brigade of puppers. All look very prepared for whatever happens next. 80/80 https://t.co/0eb7R1Om12\n",
      "\n",
      "Index: 1074\n",
      "Numerator: Unchanged\n",
      "Denominator: Unchanged\n",
      "From left to right:\r\n",
      "Cletus, Jerome, Alejandro, Burp, &amp; Titson\r\n",
      "None know where camera is. 45/50 would hug all at once https://t.co/sedre1ivTK\n",
      "\n",
      "Index: 1139\n",
      "Numerator: Unchanged\n",
      "Denominator: Unchanged\n",
      "Here is a whole flock of puppers.  60/50 I'll take the lot https://t.co/9dpcw6MdWa\n",
      "\n",
      "Index: 1211\n",
      "Numerator: Unchanged\n",
      "Denominator: Unchanged\n",
      "Happy Wednesday here's a bucket of pups. 44/40 would pet all at once https://t.co/HppvrYuamZ\n",
      "\n",
      "Index: 1381\n",
      "Numerator: Unchanged\n",
      "Denominator: Unchanged\n",
      "Two sneaky puppers were not initially seen, moving the rating to 143/130. Please forgive us. Thank you https://t.co/kRK51Y5ac3\n",
      "\n",
      "Index: 1382\n",
      "Numerator: Unchanged\n",
      "Denominator: Unchanged\n",
      "Someone help the girl is being mugged. Several are distracting her while two steal her shoes. Clever puppers 121/110 https://t.co/1zfnTJLt55\n",
      "\n",
      "Index: 1406\n",
      "Numerator: 10\n",
      "Denominator: 10\n",
      "This is Darrel. He just robbed a 7/11 and is in a high speed police chase. Was just spotted by the helicopter 10/10 https://t.co/7EsP8LmSp5\n",
      "\n",
      "Index: 1507\n",
      "Numerator: Unchanged\n",
      "Denominator: Unchanged\n",
      "IT'S PUPPERGEDDON. Total of 144/120 ...I think https://t.co/ZanVtAtvIq\n",
      "\n",
      "Index: 1566\n",
      "Numerator: Unchanged\n",
      "Denominator: Unchanged\n",
      "Here we have an entire platoon of puppers. Total score: 88/80 would pet all at once https://t.co/y93p6FLvVw\n",
      "\n",
      "Index: 2033\n",
      "Numerator: 9\n",
      "Denominator: 10\n",
      "This is an Albanian 3 1/2 legged  Episcopalian. Loves well-polished hardwood flooring. Penis on the collar. 9/10 https://t.co/d9NcXFKwLv\n",
      "\n"
     ]
    }
   ],
   "source": [
    "indices = []\n",
    "for i, row in df_1.iterrows():\n",
    "    if df_1.rating_denominator[i] != 10:\n",
    "        in_str= row['text']\n",
    "        try:\n",
    "            test = re.search(r'\\d+(?:\\.\\d+)?/10', in_str).group()\n",
    "            den = re.findall(r'\\d+', test)[1]\n",
    "            test = re.findall(r'\\d+', test)[0]\n",
    "            df_1.at[i,'rating_numerator'] = test\n",
    "            df_1.at[i,'rating_denominator'] = den\n",
    "            indices.append(i)\n",
    "        except:\n",
    "            test = 'Unchanged'\n",
    "        if test == 'Unchanged':\n",
    "            denominator = 'Unchanged'\n",
    "        else:\n",
    "            denominator = den\n",
    "                \n",
    "        print(f'Index: {i}\\nNumerator: {test}\\nDenominator: {denominator}\\n{in_str}\\n')\n",
    "        \n",
    "    else:\n",
    "        pass"
   ]
  },
  {
   "cell_type": "markdown",
   "metadata": {},
   "source": [
    "##### Test the results"
   ]
  },
  {
   "cell_type": "code",
   "execution_count": 55,
   "metadata": {},
   "outputs": [
    {
     "name": "stdout",
     "output_type": "stream",
     "text": [
      "Tweet #655 has a rating of 14.0/10.0\n",
      "Tweet #977 has a rating of 13.0/10.0\n",
      "Tweet #1011 has a rating of 11.0/10.0\n",
      "Tweet #1406 has a rating of 10.0/10.0\n",
      "Tweet #2033 has a rating of 9.0/10.0\n"
     ]
    }
   ],
   "source": [
    "for i in range(len(indices)):\n",
    "    ind = indices[i]\n",
    "    num = df_1.rating_numerator[indices[i]]\n",
    "    den = df_1.rating_denominator[indices[i]]\n",
    "    print(f'Tweet #{ind} has a rating of {num}/{den}')"
   ]
  },
  {
   "cell_type": "markdown",
   "metadata": {},
   "source": [
    "##### Define\n",
    "- 9. Normalizing Denominators to a Standard of 10 structuring data to facilitate analysis **df_1**"
   ]
  },
  {
   "cell_type": "markdown",
   "metadata": {},
   "source": [
    "#####  Code"
   ]
  },
  {
   "cell_type": "code",
   "execution_count": 56,
   "metadata": {},
   "outputs": [],
   "source": [
    "norm_numerator= []\n",
    "norm_denominator= []\n",
    "for i, row in df_1.iterrows():\n",
    "    norm = 10 / row['rating_denominator']\n",
    "    num = row['rating_numerator'] = row['rating_numerator']* norm\n",
    "    norm_numerator.append(num)\n",
    "    den = row['rating_denominator'] = row['rating_denominator']* norm\n",
    "    norm_denominator.append(den)\n",
    "    "
   ]
  },
  {
   "cell_type": "code",
   "execution_count": 57,
   "metadata": {},
   "outputs": [],
   "source": [
    "df_1['rating_numerator'] = norm_numerator\n",
    "df_1['rating_denominator'] = norm_denominator"
   ]
  },
  {
   "cell_type": "markdown",
   "metadata": {},
   "source": [
    "##### Test the results"
   ]
  },
  {
   "cell_type": "code",
   "execution_count": 58,
   "metadata": {},
   "outputs": [
    {
     "data": {
      "text/plain": [
       "False"
      ]
     },
     "execution_count": 58,
     "metadata": {},
     "output_type": "execute_result"
    }
   ],
   "source": [
    "df_1.query('rating_denominator !=10')['rating_denominator'].any()"
   ]
  },
  {
   "cell_type": "code",
   "execution_count": 59,
   "metadata": {},
   "outputs": [],
   "source": [
    "df_1.drop(columns=['rating_denominator'],inplace = True)\n",
    "df_1.rename(columns={\"rating_numerator\": \"rating\"},inplace=True)"
   ]
  },
  {
   "cell_type": "code",
   "execution_count": 60,
   "metadata": {},
   "outputs": [
    {
     "data": {
      "text/plain": [
       "Index(['index', 'tweet_id', 'timestamp', 'text', 'expanded_urls', 'rating',\n",
       "       'name', 'cute_name'],\n",
       "      dtype='object')"
      ]
     },
     "execution_count": 60,
     "metadata": {},
     "output_type": "execute_result"
    }
   ],
   "source": [
    "df_1.columns"
   ]
  },
  {
   "cell_type": "code",
   "execution_count": 61,
   "metadata": {},
   "outputs": [
    {
     "data": {
      "text/plain": [
       "12.0      468\n",
       "10.0      428\n",
       "11.0      408\n",
       "13.0      284\n",
       "9.0       152\n",
       "8.0        96\n",
       "7.0        51\n",
       "14.0       44\n",
       "5.0        35\n",
       "6.0        32\n",
       "3.0        19\n",
       "4.0        15\n",
       "2.0         9\n",
       "1.0         4\n",
       "0.0         2\n",
       "27.0        1\n",
       "1776.0      1\n",
       "15.0        1\n",
       "26.0        1\n",
       "420.0       1\n",
       "75.0        1\n",
       "Name: rating, dtype: int64"
      ]
     },
     "execution_count": 61,
     "metadata": {},
     "output_type": "execute_result"
    }
   ],
   "source": [
    "df_1.rating.value_counts()"
   ]
  },
  {
   "cell_type": "markdown",
   "metadata": {},
   "source": [
    "##### Define\n",
    "- 12.  Correcting Ratings Containing Decimal Places, Using Regular Expression to loop through each text and pull out any digits with decimal places in **df**"
   ]
  },
  {
   "cell_type": "markdown",
   "metadata": {},
   "source": [
    "#####  Code"
   ]
  },
  {
   "cell_type": "code",
   "execution_count": 62,
   "metadata": {},
   "outputs": [
    {
     "name": "stdout",
     "output_type": "stream",
     "text": [
      "The rating in row 43 used to be 5.0 and now is 13.5.\n",
      "The rating in row 301 used to be 75.0 and now is 9.75.\n",
      "The rating in row 638 used to be 27.0 and now is 11.27.\n",
      "The rating in row 1450 used to be 26.0 and now is 11.26.\n"
     ]
    }
   ],
   "source": [
    "for i, row in df_1.iterrows():\n",
    "    in_str= row['text']\n",
    "    split = re.split(r'/' , in_str)[0]\n",
    "    if bool(re.search(r'\\d+\\.\\d+$', split)) == True:\n",
    "        after = re.findall(r'\\d+\\.\\d+', split)[0]\n",
    "        before = df_1.loc[i, 'rating']\n",
    "        df_1.loc[i, 'rating'] = after\n",
    "        print(f\"The rating in row {i} used to be {before} and now is {after}.\")\n",
    "    else:\n",
    "        pass"
   ]
  },
  {
   "cell_type": "code",
   "execution_count": 63,
   "metadata": {},
   "outputs": [
    {
     "data": {
      "text/plain": [
       "dtype('O')"
      ]
     },
     "execution_count": 63,
     "metadata": {},
     "output_type": "execute_result"
    }
   ],
   "source": [
    "df_1.rating.dtype"
   ]
  },
  {
   "cell_type": "code",
   "execution_count": 64,
   "metadata": {},
   "outputs": [],
   "source": [
    "#No longer need the denominator columns, and the rating_numerator column\n",
    "#can just become rating (on a standardized scale of 10)\n",
    "df_1['rating'] = df_1['rating'].astype('float64')\n"
   ]
  },
  {
   "cell_type": "markdown",
   "metadata": {},
   "source": [
    "##### Test the results"
   ]
  },
  {
   "cell_type": "code",
   "execution_count": 65,
   "metadata": {},
   "outputs": [
    {
     "name": "stdout",
     "output_type": "stream",
     "text": [
      "Now row 43 has the correct rating of 13.5. Take a look. \n",
      "\n",
      "This is Bella. She hopes her smile made you smile. If not, she is also offering you her favorite monkey. 13.5/10 https://t.co/qjrljjt948\n",
      "------------------------------------------------------------------------------------------------------------------\n",
      "\n",
      "Now row 301 has the correct rating of 9.75. Take a look. \n",
      "\n",
      "RT @dog_rates: This is Logan, the Chow who lived. He solemnly swears he's up to lots of good. H*ckin magical af 9.75/10 https://t.co/yBO5wu…\n",
      "------------------------------------------------------------------------------------------------------------------\n",
      "\n",
      "Now row 638 has the correct rating of 11.27. Take a look. \n",
      "\n",
      "This is Sophie. She's a Jubilant Bush Pupper. Super h*ckin rare. Appears at random just to smile at the locals. 11.27/10 would smile back https://t.co/QFaUiIHxHq\n",
      "------------------------------------------------------------------------------------------------------------------\n",
      "\n",
      "Now row 1450 has the correct rating of 11.26. Take a look. \n",
      "\n",
      "Here we have uncovered an entire battalion of holiday puppers. Average of 11.26/10 https://t.co/eNm2S6p9BD\n",
      "------------------------------------------------------------------------------------------------------------------\n",
      "\n"
     ]
    }
   ],
   "source": [
    "check = df_1.rating\n",
    "text = df_1.text\n",
    "divide = \"---\" * 38\n",
    "\n",
    "for i in range(len(check)):\n",
    "    chk_dec = check[i]\n",
    "    txt = text[i] \n",
    "    if bool(chk_dec.is_integer()) == False:\n",
    "        print(f'Now row {i} has the correct rating of {chk_dec}. Take a look. \\n\\n{txt}\\n{divide}\\n')\n",
    "    else:\n",
    "        pass"
   ]
  },
  {
   "cell_type": "markdown",
   "metadata": {},
   "source": [
    "##### Define\n",
    "- 13. "
   ]
  },
  {
   "cell_type": "markdown",
   "metadata": {},
   "source": [
    "#####  Code"
   ]
  },
  {
   "cell_type": "code",
   "execution_count": 66,
   "metadata": {},
   "outputs": [
    {
     "name": "stdout",
     "output_type": "stream",
     "text": [
      "The rating in row 43 used to be 13.5 and now it is 14.0.\n",
      "The rating in row 301 used to be 9.75 and now it is 10.0.\n",
      "The rating in row 638 used to be 11.27 and now it is 11.0.\n",
      "The rating in row 1450 used to be 11.26 and now it is 11.0.\n"
     ]
    }
   ],
   "source": [
    "# Rounding Ratings to get a discrete scale\n",
    "for i, row in df_1.iterrows():\n",
    "    before = df_1.loc[i, 'rating']\n",
    "    after = round(df_1.rating[i], 0)\n",
    "    df_1.loc[i, 'rating'] = after\n",
    "    if bool(before == after) == False :\n",
    "        print(f\"The rating in row {i} used to be {before} and now it is {after}.\")\n",
    "    else:\n",
    "        pass"
   ]
  },
  {
   "cell_type": "code",
   "execution_count": 67,
   "metadata": {},
   "outputs": [
    {
     "data": {
      "text/plain": [
       "dtype('float64')"
      ]
     },
     "execution_count": 67,
     "metadata": {},
     "output_type": "execute_result"
    }
   ],
   "source": [
    "df_1.rating.dtype"
   ]
  },
  {
   "cell_type": "markdown",
   "metadata": {},
   "source": [
    "##### Define\n",
    "- 14. \n"
   ]
  },
  {
   "cell_type": "code",
   "execution_count": 68,
   "metadata": {},
   "outputs": [],
   "source": [
    "#####  Code"
   ]
  },
  {
   "cell_type": "code",
   "execution_count": 75,
   "metadata": {},
   "outputs": [],
   "source": [
    "df_1.rating = df_1.rating.astype(int) "
   ]
  },
  {
   "cell_type": "code",
   "execution_count": null,
   "metadata": {},
   "outputs": [],
   "source": [
    "##### Test the results\n"
   ]
  },
  {
   "cell_type": "code",
   "execution_count": 76,
   "metadata": {},
   "outputs": [
    {
     "data": {
      "text/plain": [
       "dtype('int32')"
      ]
     },
     "execution_count": 76,
     "metadata": {},
     "output_type": "execute_result"
    }
   ],
   "source": [
    "df_1.rating.dtype"
   ]
  },
  {
   "cell_type": "markdown",
   "metadata": {},
   "source": [
    "#####  Code"
   ]
  },
  {
   "cell_type": "code",
   "execution_count": null,
   "metadata": {},
   "outputs": [],
   "source": [
    "df_1['text'] = df_1.text.apply(lambda text: text.split('http')[0])"
   ]
  },
  {
   "cell_type": "markdown",
   "metadata": {},
   "source": [
    "##### Test the results"
   ]
  },
  {
   "cell_type": "code",
   "execution_count": null,
   "metadata": {},
   "outputs": [],
   "source": [
    "line1 = df_1.text[np.random.randint(0,10)]\n",
    "line2 = df_1.text[np.random.randint(0,10)]\n",
    "line3 = df_1.text[np.random.randint(0,10)]\n",
    "\n",
    "print(f'{line1}\\n\\n{line2} \\n\\n{line3}')"
   ]
  },
  {
   "cell_type": "markdown",
   "metadata": {},
   "source": [
    "### Tidiness"
   ]
  },
  {
   "cell_type": "markdown",
   "metadata": {},
   "source": [
    "##### Define\n",
    "- 16. Merging **df_1**, **df_2**, and **images** Dataframes into a single table"
   ]
  },
  {
   "cell_type": "markdown",
   "metadata": {},
   "source": [
    "#####  Code"
   ]
  },
  {
   "cell_type": "code",
   "execution_count": null,
   "metadata": {},
   "outputs": [],
   "source": [
    "df = df_1.merge(df_2, on='tweet_id', how='inner')"
   ]
  },
  {
   "cell_type": "code",
   "execution_count": null,
   "metadata": {},
   "outputs": [],
   "source": [
    "df = df.merge(images, on='tweet_id', how='inner')\n",
    "df = df.reset_index(drop=True)"
   ]
  },
  {
   "cell_type": "code",
   "execution_count": null,
   "metadata": {},
   "outputs": [],
   "source": [
    "##### Test the results"
   ]
  },
  {
   "cell_type": "code",
   "execution_count": null,
   "metadata": {},
   "outputs": [],
   "source": [
    "df.columns"
   ]
  },
  {
   "cell_type": "code",
   "execution_count": null,
   "metadata": {},
   "outputs": [],
   "source": [
    "df.info()"
   ]
  },
  {
   "cell_type": "markdown",
   "metadata": {},
   "source": [
    "##### Define\n",
    "- 16. "
   ]
  },
  {
   "cell_type": "markdown",
   "metadata": {},
   "source": [
    "#####  Code"
   ]
  },
  {
   "cell_type": "code",
   "execution_count": null,
   "metadata": {},
   "outputs": [],
   "source": [
    "df = df.astype({'rating' : int, 'retweet_count' : int} )"
   ]
  },
  {
   "cell_type": "markdown",
   "metadata": {},
   "source": [
    "##### Test the results"
   ]
  },
  {
   "cell_type": "code",
   "execution_count": null,
   "metadata": {},
   "outputs": [],
   "source": [
    "df.info()"
   ]
  },
  {
   "cell_type": "markdown",
   "metadata": {},
   "source": [
    "Define\n",
    "15."
   ]
  },
  {
   "cell_type": "code",
   "execution_count": null,
   "metadata": {},
   "outputs": [],
   "source": [
    "time = df['timestamp']\n",
    "time = list(time)"
   ]
  },
  {
   "cell_type": "code",
   "execution_count": null,
   "metadata": {},
   "outputs": [],
   "source": [
    "times = []\n",
    "for i in range(len(time)): \n",
    "    t= time[i]\n",
    "    t = t.rpartition(' ')[0]\n",
    "    stamp = t.rpartition(' ')[0]\n",
    "    times.append(stamp)"
   ]
  },
  {
   "cell_type": "code",
   "execution_count": null,
   "metadata": {},
   "outputs": [],
   "source": [
    "df['timestamp'] = times\n",
    "df['timestamp'] = pd.to_datetime(df['timestamp'])"
   ]
  },
  {
   "cell_type": "markdown",
   "metadata": {},
   "source": [
    "##### Test the results"
   ]
  },
  {
   "cell_type": "code",
   "execution_count": null,
   "metadata": {},
   "outputs": [],
   "source": [
    "df.timestamp[:5]"
   ]
  },
  {
   "cell_type": "code",
   "execution_count": null,
   "metadata": {},
   "outputs": [],
   "source": [
    "#df.to_csv (r'~/Desktop/Udacity Projects/4wrangle/WeRateDogs_Clean.csv',\n",
    "                        #index = False, header=True, sep='\\t', encoding='utf-8')"
   ]
  },
  {
   "cell_type": "code",
   "execution_count": null,
   "metadata": {},
   "outputs": [],
   "source": [
    "df_cln = df.copy()"
   ]
  },
  {
   "cell_type": "code",
   "execution_count": null,
   "metadata": {},
   "outputs": [],
   "source": [
    "#df_cln = pd.read_csv('WeRateDogs_Clean.csv', sep='\\t',encoding='utf-8')"
   ]
  },
  {
   "cell_type": "markdown",
   "metadata": {},
   "source": [
    "# Finding a Winner"
   ]
  },
  {
   "cell_type": "code",
   "execution_count": null,
   "metadata": {},
   "outputs": [],
   "source": [
    "df_cln.groupby(['rating']).count()"
   ]
  },
  {
   "cell_type": "code",
   "execution_count": null,
   "metadata": {},
   "outputs": [],
   "source": [
    "df_cln[df_cln['rating'] == 420]"
   ]
  },
  {
   "cell_type": "code",
   "execution_count": null,
   "metadata": {},
   "outputs": [],
   "source": [
    "df_cln.text[1712]"
   ]
  },
  {
   "cell_type": "code",
   "execution_count": null,
   "metadata": {},
   "outputs": [],
   "source": [
    "print(df_cln.jpg_url[1712])"
   ]
  },
  {
   "cell_type": "markdown",
   "metadata": {},
   "source": [
    "### At second place Snoop Dogg comes in at very impressive 420 out of 10\n",
    "<img src=\"second.jpg\"/>"
   ]
  },
  {
   "cell_type": "code",
   "execution_count": null,
   "metadata": {},
   "outputs": [],
   "source": [
    "df_cln[df_cln['rating'] == 1776]"
   ]
  },
  {
   "cell_type": "code",
   "execution_count": null,
   "metadata": {},
   "outputs": [],
   "source": [
    "df_cln.text[757]"
   ]
  },
  {
   "cell_type": "code",
   "execution_count": null,
   "metadata": {},
   "outputs": [],
   "source": [
    "print(df_cln.jpg_url[757])"
   ]
  },
  {
   "cell_type": "markdown",
   "metadata": {},
   "source": [
    "### Congratulation to the winner coming in at 1776 out of 10, such a good boy!\n",
    "<img src=\"winner.jpg\"/>"
   ]
  },
  {
   "cell_type": "markdown",
   "metadata": {},
   "source": [
    "## Distribution of Dog Ratings by Dog Types"
   ]
  },
  {
   "cell_type": "markdown",
   "metadata": {},
   "source": [
    "- The two winners above are data points that were accurately gathered, but their ratings are also global outliers to the rest of the observations. But as we can see from the box plots below, these global outliers greatly increase the standard deviation of the variable **rating** in our DataFrame.  \n",
    "- To simplify our analysis, I decided to remove the two outliers, and take a deeper look into the distribution of the ratings by dog type."
   ]
  },
  {
   "cell_type": "code",
   "execution_count": null,
   "metadata": {
    "scrolled": true
   },
   "outputs": [],
   "source": [
    "df_before= df_cln.copy()\n",
    "df_after = df_cln[df_cln['rating'] < 15]\n",
    "\n",
    "#df_before= plots of the distribution of the data before and after removing the two outliers\n",
    "f, axes = plt.subplots(1, 2, figsize=(12,4))\n",
    "\n",
    "sns.boxplot(data=df_before,x= 'rating',orient='w', ax=axes[0])\n",
    "axes[0].set_title('Before, Including Global Outliers')\n",
    "\n",
    "\n",
    "sns.boxplot(data=df_after, x= 'rating',orient='w', ax=axes[1])\n",
    "axes[1].set_title('After, Excluding Global Outliers');"
   ]
  },
  {
   "cell_type": "code",
   "execution_count": null,
   "metadata": {},
   "outputs": [],
   "source": [
    "df_rate = df_after.copy()"
   ]
  },
  {
   "cell_type": "code",
   "execution_count": null,
   "metadata": {},
   "outputs": [],
   "source": [
    "df_rate['p1'].value_counts()"
   ]
  },
  {
   "cell_type": "code",
   "execution_count": null,
   "metadata": {},
   "outputs": [],
   "source": [
    "dog_types = df_rate['p1'].value_counts().keys()\n",
    "dog_types = list(dog_types)"
   ]
  },
  {
   "cell_type": "code",
   "execution_count": null,
   "metadata": {},
   "outputs": [],
   "source": [
    "dog_types = dog_types[:9]"
   ]
  },
  {
   "cell_type": "code",
   "execution_count": null,
   "metadata": {},
   "outputs": [],
   "source": [
    "for d in dog_types:\n",
    "    df_other = df_rate[(df_rate.p1 != d)]\n",
    "\n",
    "df_other = df_other.rating.value_counts().sort_index()\n",
    "df_other = df_other.rename_axis('rating').to_frame('other')\n",
    "\n",
    "for d in dog_types:\n",
    "    df_add = df_rate[df_rate['p1'] == d ]\n",
    "    df_add = df_add.rating.value_counts().sort_index()\n",
    "    df_add = df_add.rename_axis('rating').to_frame(d)\n",
    "    df_other = df_other.merge(df_add, on='rating',how='left').fillna(0)\n",
    "    \n",
    "\n",
    "df_other.loc[:,'Total'] = df_other.sum(axis=1)\n",
    "df_other.index = df_other.index.map(str)\n",
    "df_other.columns = [x.lower() for x in df_other.columns]\n",
    "df_all = df_other.copy()\n",
    "df_all"
   ]
  },
  {
   "cell_type": "code",
   "execution_count": null,
   "metadata": {},
   "outputs": [],
   "source": [
    "b='Black'\n",
    "r = df_all.index\n",
    "t = df_all.total\n",
    "c= sns.color_palette()[9]\n",
    "f_sz=12\n",
    "w='whitesmoke'\n",
    "fig = plt.figure(figsize=(6,7), facecolor=c)\n",
    "\n",
    "            \n",
    "ax = plt.subplot(1, 1, 1)\n",
    "plt.barh(range(len(r)),t, color=w)\n",
    "plt.yticks(range(len(r)),r,fontsize=12, color=b)\n",
    "plt.ylabel('Rating',color=w,fontsize=f_sz)\n",
    "plt.xticks(color=b,fontsize=f_sz)\n",
    "plt.xlabel('Frequency',color=w,fontsize=f_sz)\n",
    "plt.title('Total Distribution of Dog Ratings',color='Black',fontsize=22)\n",
    "\n",
    "ax.set_axisbelow(True)\n",
    "ax.yaxis.grid(color='white', linestyle='dashed')\n",
    "plt.box(False)\n",
    "plt.show()"
   ]
  },
  {
   "cell_type": "code",
   "execution_count": null,
   "metadata": {
    "scrolled": true
   },
   "outputs": [],
   "source": [
    "from mpl_toolkits.axes_grid1 import Grid\n",
    "i = df_all.index\n",
    "t = df_all.total\n",
    "r = df_all.index\n",
    "ch = df_all.chihuahua\n",
    "g = df_all.golden_retriever\n",
    "l = df_all.labrador_retriever\n",
    "p = df_all.pembroke\n",
    "pu = df_all.pug\n",
    "ow = df_all.chow\n",
    "s = df_all.samoyed\n",
    "pm = df_all.pomeranian\n",
    "tp = df_all.toy_poodle\n",
    "c= sns.color_palette()[9]\n",
    "w='whitesmoke'\n",
    "b='Black'\n",
    "f_sz=16\n",
    "lim = [0,40]\n",
    "fig = plt.figure(figsize=(10,14), facecolor=c)\n",
    "grid = Grid(fig, rect=111, nrows_ncols=(2,2),\n",
    "            axes_pad=0.25, label_mode='L')\n",
    "\n",
    "\n",
    "\n",
    "ax1= plt.subplot(3, 3, 1)\n",
    "plt.barh(range(len(r)),g, color=w)\n",
    "plt.yticks(range(len(r)),r,fontsize=11,color=b)\n",
    "plt.xticks(color=b,fontsize=11)\n",
    "plt.xlabel('Frequency',color=w)\n",
    "plt.ylabel('Rating',color=w)\n",
    "plt.box(False)\n",
    "plt.title('Golden Retriever',fontsize=f_sz,color=b)\n",
    "plt.xlim(lim)\n",
    "ax1.set_axisbelow(True)\n",
    "ax1.yaxis.grid(color='white', linestyle='dashed')\n",
    "\n",
    "ax2= plt.subplot(3, 3, 2)\n",
    "plt.barh(range(len(r)),l, color=w)\n",
    "plt.yticks(range(len(r)),r)\n",
    "plt.xticks(color=b, fontsize=11)\n",
    "plt.xlabel('Frequency',color=w)\n",
    "plt.setp(ax2.get_yticklabels(), visible=False)\n",
    "plt.box(False)\n",
    "plt.title('Labrador',fontsize=f_sz,color=b)\n",
    "plt.xlim(lim)\n",
    "ax2.set_axisbelow(True)\n",
    "ax2.yaxis.grid(color='white', linestyle='dashed')\n",
    "\n",
    "ax3 = plt.subplot(3, 3, 3)\n",
    "plt.barh(range(len(r)),ch, color=w)\n",
    "plt.yticks(range(len(r)),r)\n",
    "plt.xticks(color=b, fontsize=11)\n",
    "plt.xlabel('Frequency',color=w)\n",
    "plt.setp(ax3.get_yticklabels(), visible=False)\n",
    "plt.box(False)\n",
    "plt.title('Chihuah',fontsize=f_sz,color=b)\n",
    "plt.xlim(lim)\n",
    "ax3.set_axisbelow(True)\n",
    "ax3.yaxis.grid(color='white', linestyle='dashed')\n",
    "\n",
    "ax4 = plt.subplot(3, 3, 4)\n",
    "plt.barh(range(len(r)),p, color=w)\n",
    "plt.yticks(range(len(r)),r,fontsize=11,color=b)\n",
    "plt.xticks(color=b, fontsize=11)\n",
    "plt.xlabel('Frequency',color=w)\n",
    "plt.ylabel('Rating',color=w)\n",
    "plt.box(False)\n",
    "plt.title('Pembroke',fontsize=f_sz,color=b)\n",
    "plt.xlim(lim)\n",
    "ax4.set_axisbelow(True)\n",
    "ax4.yaxis.grid(color='white', linestyle='dashed')\n",
    "\n",
    "ax5 = plt.subplot(3, 3, 5)\n",
    "plt.barh(range(len(r)),pu, color=w)\n",
    "plt.yticks(range(len(r)),r)\n",
    "plt.xticks(color=b, fontsize=11)\n",
    "plt.xlabel('Frequency',color=w)\n",
    "plt.setp(ax5.get_yticklabels(), visible=False)\n",
    "plt.box(False)\n",
    "plt.title('Pug', fontsize=f_sz, color=b)\n",
    "plt.xlim(lim)\n",
    "ax5.set_axisbelow(True)\n",
    "ax5.yaxis.grid(color='white', linestyle='dashed')\n",
    "\n",
    "ax6 = plt.subplot(3, 3, 6)\n",
    "plt.barh(range(len(r)),ow, color=w)\n",
    "plt.yticks(range(len(r)),r)\n",
    "plt.xticks(color=b, fontsize=11)\n",
    "plt.xlabel('Frequency',color=w)\n",
    "plt.setp(ax6.get_yticklabels(), visible=False)\n",
    "plt.box(False)\n",
    "plt.title('Chow', fontsize=f_sz, color=b)\n",
    "plt.xlim(lim)\n",
    "ax6.set_axisbelow(True)\n",
    "ax6.yaxis.grid(color='white', linestyle='dashed')\n",
    "\n",
    "ax7 = plt.subplot(3, 3, 7)\n",
    "plt.barh(range(len(r)),ow, color=w)\n",
    "plt.yticks(range(len(r)),r,fontsize=11,color=b)\n",
    "plt.xticks(color=b, fontsize=11)\n",
    "plt.xlabel('Frequency',color=w)\n",
    "plt.ylabel('Rating',color=w)\n",
    "plt.setp(ax7.get_yticklabels(), visible=True)\n",
    "plt.box(False)\n",
    "plt.title('Samoyed', fontsize=f_sz, color=b)\n",
    "plt.xlim(lim)\n",
    "ax7.set_axisbelow(True)\n",
    "ax7.yaxis.grid(color='white', linestyle='dashed')\n",
    "\n",
    "ax8 = plt.subplot(3, 3, 8)\n",
    "plt.barh(range(len(r)),pm, color=w)\n",
    "plt.yticks(range(len(r)),r,)\n",
    "plt.xticks(color=b, fontsize=11)\n",
    "plt.xlabel('Frequency',color=w)\n",
    "plt.setp(ax8.get_yticklabels(), visible=False)\n",
    "plt.box(False)\n",
    "plt.title('Pomeranian', fontsize=f_sz, color=b)\n",
    "plt.xlim(lim)\n",
    "ax8.set_axisbelow(True)\n",
    "ax8.yaxis.grid(color='white', linestyle='dashed')\n",
    "\n",
    "ax9 = plt.subplot(3, 3, 9)\n",
    "plt.barh(range(len(r)),tp, color=w)\n",
    "plt.yticks(range(len(r)),r,)\n",
    "plt.xticks(color=b, fontsize=11)\n",
    "plt.xlabel('Frequency',color=w)\n",
    "plt.setp(ax9.get_yticklabels(), visible=False)\n",
    "plt.box(False)\n",
    "plt.title('Toy Poodle', fontsize=f_sz, color=b)\n",
    "plt.xlim(lim)\n",
    "ax9.set_axisbelow(True)\n",
    "ax9.yaxis.grid(color='white', linestyle='dashed')\n",
    "\n",
    "plt.tight_layout()\n",
    "plt.show()"
   ]
  },
  {
   "cell_type": "markdown",
   "metadata": {},
   "source": [
    "## Time Series of WeRateDogs Tweets"
   ]
  },
  {
   "cell_type": "code",
   "execution_count": null,
   "metadata": {},
   "outputs": [],
   "source": [
    "df_time = df_cln.copy()"
   ]
  },
  {
   "cell_type": "code",
   "execution_count": null,
   "metadata": {},
   "outputs": [],
   "source": [
    "# TimeSeries of Twitter Activity \n",
    "\n",
    "#Favorite and Retweet series\n",
    "time_faves = pd.Series(data=df_time['favorite_count'].values, index=df_time['timestamp']).sort_index(ascending=True)\n",
    "time_retweets = pd.Series(data=df_time['retweet_count'].values, index=df_time['timestamp']).sort_index(ascending=True)\n",
    "\n",
    "#Plotting both series to the same axis\n",
    "size= (12,8)\n",
    "\n",
    "time_faves.plot(kind='area',figsize=size, label='favorites',\n",
    "                color='deepskyblue',legend=True)\n",
    "time_retweets.plot(kind='area',figsize=size, label='retweet',\n",
    "                   color='crimson',legend=True)\n",
    "\n",
    "#Labels and preferences for the visualization\n",
    "\n",
    "plt.title('WeRateDogs Time Series of Favorites and Retweets',fontsize=18)\n",
    "plt.xlabel('Date',fontsize=18,color='crimson') \n",
    "plt.ylabel('Twitter Activity Count',fontsize=18, color='crimson')\n",
    "plt.xticks(rotation=45)\n",
    "plt.legend(fontsize=14,frameon=False)\n",
    "\n",
    "\n",
    "plt.box(False)\n",
    "plt.show();"
   ]
  }
 ],
 "metadata": {
  "kernelspec": {
   "display_name": "Python 3",
   "language": "python",
   "name": "python3"
  },
  "language_info": {
   "codemirror_mode": {
    "name": "ipython",
    "version": 3
   },
   "file_extension": ".py",
   "mimetype": "text/x-python",
   "name": "python",
   "nbconvert_exporter": "python",
   "pygments_lexer": "ipython3",
   "version": "3.7.3"
  }
 },
 "nbformat": 4,
 "nbformat_minor": 2
}
