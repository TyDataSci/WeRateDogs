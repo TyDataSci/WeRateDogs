{
 "cells": [
  {
   "cell_type": "markdown",
   "metadata": {},
   "source": [
    "# Table of Contents\n",
    "1.[Gather](#Gather) <br>\n",
    "2.[Assessment](#Assessment)<br>\n",
    "3.[Clean](#Clean)<br>\n",
    "4.[Finding a Winner](#jump1)<br>\n",
    "5.[Distribution of Dog Ratings by Dog Types](#jump2)<br>\n",
    "6.[Bayesian Probability by Rating & Breed](#jump3)<br>\n",
    "7.[Time Series of WeRateDogs Tweets](#jump4)<br>"
   ]
  },
  {
   "cell_type": "code",
   "execution_count": null,
   "metadata": {},
   "outputs": [],
   "source": [
    "import pandas as pd\n",
    "import numpy as np\n",
    "import matplotlib.pyplot as plt\n",
    "import seaborn as sns\n",
    "#import tweepy\n",
    "#from tweepy import OAuthHandler\n",
    "\n",
    "#from timeit import default_timer as timer\n",
    "#import twitter_credentials\n",
    "import json\n",
    "import re\n",
    "import requests\n",
    "%matplotlib inline"
   ]
  },
  {
   "cell_type": "markdown",
   "metadata": {},
   "source": [
    "# Gather"
   ]
  },
  {
   "cell_type": "markdown",
   "metadata": {},
   "source": [
    "###  Gathering Get Request"
   ]
  },
  {
   "cell_type": "code",
   "execution_count": 2,
   "metadata": {},
   "outputs": [
    {
     "name": "stdout",
     "output_type": "stream",
     "text": [
      "Success!\n"
     ]
    }
   ],
   "source": [
    "response = requests.get('https://d17h27t6h515a5.cloudfront.net/topher/2017/August/599fd2ad_image-predictions/image-predictions.tsv')\n",
    "if response.status_code == 200:\n",
    "    print('Success!')\n",
    "elif response.status_code == 404:\n",
    "    print('Not Found.')"
   ]
  },
  {
   "cell_type": "code",
   "execution_count": 3,
   "metadata": {},
   "outputs": [],
   "source": [
    "images = pd.read_csv('image_predictions.tsv', sep = '\\t', encoding = 'utf-8')"
   ]
  },
  {
   "cell_type": "code",
   "execution_count": 4,
   "metadata": {},
   "outputs": [],
   "source": [
    "df_1 = pd.read_csv('twitter_archive_enhanced.csv',sep = ',')"
   ]
  },
  {
   "cell_type": "markdown",
   "metadata": {},
   "source": [
    "auth = tweepy.OAuthHandler(consumer_key, consumer_secret)\n",
    "auth.set_access_token(access_token, access_secret)\n",
    "\n",
    "api = tweepy.API(auth, wait_on_rate_limit=True, wait_on_rate_limit_notify=True)\n",
    "count = 0\n",
    "fails_dict = {}\n",
    "start = timer()\n",
    " Save each tweet's returned JSON as a new line in a .txt file\n",
    "with open('tweet_json.txt', 'w') as outfile:\n",
    "    # This loop will likely take 20-30 minutes to run because of Twitter's rate limit\n",
    "    for tweet_id in tweet_ids:\n",
    "        count += 1\n",
    "        print(str(count) + \": \" + str(tweet_id))\n",
    "        try:\n",
    "            tweet = api.get_status(tweet_id, tweet_mode='extended')\n",
    "            print(\"Success\")\n",
    "            json.dump(tweet._json, outfile)\n",
    "            outfile.write('\\n')\n",
    "        except tweepy.TweepError as e:\n",
    "            print(\"Fail\")\n",
    "            fails_dict[tweet_id] = e\n",
    "           \n",
    "            pass\n",
    "end = timer()\n",
    "print(end - start)\n",
    "print(fails_dict)\n"
   ]
  },
  {
   "cell_type": "markdown",
   "metadata": {},
   "source": [
    "df_2 = pd.DataFrame(columns=['tweet_id','retweet count','favorite_count'])\n",
    "\n",
    "with open('tweet_json.txt') as i:\n",
    "    for line in i:\n",
    "        stat = json.loads(line)\n",
    "        tweet_id = stat['id_str']\n",
    "        retweet_count = stat['retweet_count']\n",
    "        favorite_count = stat['favorite_count']\n",
    "        df_2 = df_2.append(pd.DataFrame([[tweet_id,retweet_count,\n",
    "                                         favorite_count]], \n",
    "                                       columns=['tweet_id',\n",
    "                                        'retweet_count', 'favorite_count']))\n",
    "df_2.to_csv (r'C:\\Users\\tssan\\Desktop\\Udacity Projects\\4wrangle\\WeRateDogs.csv',\n",
    "                          index = None, header=True, sep='\\t', encoding='utf-8')"
   ]
  },
  {
   "cell_type": "code",
   "execution_count": 5,
   "metadata": {},
   "outputs": [],
   "source": [
    "df_2 = pd.read_csv('WeRateDogs.csv', sep='\\t',encoding='utf-8')"
   ]
  },
  {
   "cell_type": "markdown",
   "metadata": {},
   "source": [
    "# Assessment\n",
    "### Visual Assessment"
   ]
  },
  {
   "cell_type": "code",
   "execution_count": 6,
   "metadata": {},
   "outputs": [
    {
     "data": {
      "text/html": [
       "<style  type=\"text/css\" >\n",
       "    #T_b74c55fe_935a_11eb_ba54_28c63fce8a9brow0_col1 {\n",
       "            color:  red;\n",
       "        }    #T_b74c55fe_935a_11eb_ba54_28c63fce8a9brow0_col2 {\n",
       "            color:  red;\n",
       "        }    #T_b74c55fe_935a_11eb_ba54_28c63fce8a9brow0_col6 {\n",
       "            color:  red;\n",
       "        }    #T_b74c55fe_935a_11eb_ba54_28c63fce8a9brow0_col7 {\n",
       "            color:  red;\n",
       "        }    #T_b74c55fe_935a_11eb_ba54_28c63fce8a9brow0_col8 {\n",
       "            color:  red;\n",
       "        }    #T_b74c55fe_935a_11eb_ba54_28c63fce8a9brow1_col1 {\n",
       "            color:  red;\n",
       "        }    #T_b74c55fe_935a_11eb_ba54_28c63fce8a9brow1_col2 {\n",
       "            color:  red;\n",
       "        }    #T_b74c55fe_935a_11eb_ba54_28c63fce8a9brow1_col6 {\n",
       "            color:  red;\n",
       "        }    #T_b74c55fe_935a_11eb_ba54_28c63fce8a9brow1_col7 {\n",
       "            color:  red;\n",
       "        }    #T_b74c55fe_935a_11eb_ba54_28c63fce8a9brow1_col8 {\n",
       "            color:  red;\n",
       "        }    #T_b74c55fe_935a_11eb_ba54_28c63fce8a9brow2_col1 {\n",
       "            color:  red;\n",
       "        }    #T_b74c55fe_935a_11eb_ba54_28c63fce8a9brow2_col2 {\n",
       "            color:  red;\n",
       "        }    #T_b74c55fe_935a_11eb_ba54_28c63fce8a9brow2_col6 {\n",
       "            color:  red;\n",
       "        }    #T_b74c55fe_935a_11eb_ba54_28c63fce8a9brow2_col7 {\n",
       "            color:  red;\n",
       "        }    #T_b74c55fe_935a_11eb_ba54_28c63fce8a9brow2_col8 {\n",
       "            color:  red;\n",
       "        }    #T_b74c55fe_935a_11eb_ba54_28c63fce8a9brow3_col1 {\n",
       "            color:  red;\n",
       "        }    #T_b74c55fe_935a_11eb_ba54_28c63fce8a9brow3_col2 {\n",
       "            color:  red;\n",
       "        }    #T_b74c55fe_935a_11eb_ba54_28c63fce8a9brow3_col6 {\n",
       "            color:  red;\n",
       "        }    #T_b74c55fe_935a_11eb_ba54_28c63fce8a9brow3_col7 {\n",
       "            color:  red;\n",
       "        }    #T_b74c55fe_935a_11eb_ba54_28c63fce8a9brow3_col8 {\n",
       "            color:  red;\n",
       "        }</style><table id=\"T_b74c55fe_935a_11eb_ba54_28c63fce8a9b\" ><thead>    <tr>        <th class=\"blank level0\" ></th>        <th class=\"col_heading level0 col0\" >tweet_id</th>        <th class=\"col_heading level0 col1\" >in_reply_to_status_id</th>        <th class=\"col_heading level0 col2\" >in_reply_to_user_id</th>        <th class=\"col_heading level0 col3\" >timestamp</th>        <th class=\"col_heading level0 col4\" >source</th>        <th class=\"col_heading level0 col5\" >text</th>        <th class=\"col_heading level0 col6\" >retweeted_status_id</th>        <th class=\"col_heading level0 col7\" >retweeted_status_user_id</th>        <th class=\"col_heading level0 col8\" >retweeted_status_timestamp</th>        <th class=\"col_heading level0 col9\" >expanded_urls</th>        <th class=\"col_heading level0 col10\" >rating_numerator</th>        <th class=\"col_heading level0 col11\" >rating_denominator</th>        <th class=\"col_heading level0 col12\" >name</th>        <th class=\"col_heading level0 col13\" >doggo</th>        <th class=\"col_heading level0 col14\" >floofer</th>        <th class=\"col_heading level0 col15\" >pupper</th>        <th class=\"col_heading level0 col16\" >puppo</th>    </tr></thead><tbody>\n",
       "                <tr>\n",
       "                        <th id=\"T_b74c55fe_935a_11eb_ba54_28c63fce8a9blevel0_row0\" class=\"row_heading level0 row0\" >0</th>\n",
       "                        <td id=\"T_b74c55fe_935a_11eb_ba54_28c63fce8a9brow0_col0\" class=\"data row0 col0\" >892420643555336193</td>\n",
       "                        <td id=\"T_b74c55fe_935a_11eb_ba54_28c63fce8a9brow0_col1\" class=\"data row0 col1\" >nan</td>\n",
       "                        <td id=\"T_b74c55fe_935a_11eb_ba54_28c63fce8a9brow0_col2\" class=\"data row0 col2\" >nan</td>\n",
       "                        <td id=\"T_b74c55fe_935a_11eb_ba54_28c63fce8a9brow0_col3\" class=\"data row0 col3\" >2017-08-01 16:23:56 +0000</td>\n",
       "                        <td id=\"T_b74c55fe_935a_11eb_ba54_28c63fce8a9brow0_col4\" class=\"data row0 col4\" ><a href=\"http://twitter.com/download/iphone\" rel=\"nofollow\">Twitter for iPhone</a></td>\n",
       "                        <td id=\"T_b74c55fe_935a_11eb_ba54_28c63fce8a9brow0_col5\" class=\"data row0 col5\" >This is Phineas. He's a mystical boy. Only ever appears in the hole of a donut. 13/10 https://t.co/MgUWQ76dJU</td>\n",
       "                        <td id=\"T_b74c55fe_935a_11eb_ba54_28c63fce8a9brow0_col6\" class=\"data row0 col6\" >nan</td>\n",
       "                        <td id=\"T_b74c55fe_935a_11eb_ba54_28c63fce8a9brow0_col7\" class=\"data row0 col7\" >nan</td>\n",
       "                        <td id=\"T_b74c55fe_935a_11eb_ba54_28c63fce8a9brow0_col8\" class=\"data row0 col8\" >nan</td>\n",
       "                        <td id=\"T_b74c55fe_935a_11eb_ba54_28c63fce8a9brow0_col9\" class=\"data row0 col9\" >https://twitter.com/dog_rates/status/892420643555336193/photo/1</td>\n",
       "                        <td id=\"T_b74c55fe_935a_11eb_ba54_28c63fce8a9brow0_col10\" class=\"data row0 col10\" >13</td>\n",
       "                        <td id=\"T_b74c55fe_935a_11eb_ba54_28c63fce8a9brow0_col11\" class=\"data row0 col11\" >10</td>\n",
       "                        <td id=\"T_b74c55fe_935a_11eb_ba54_28c63fce8a9brow0_col12\" class=\"data row0 col12\" >Phineas</td>\n",
       "                        <td id=\"T_b74c55fe_935a_11eb_ba54_28c63fce8a9brow0_col13\" class=\"data row0 col13\" >None</td>\n",
       "                        <td id=\"T_b74c55fe_935a_11eb_ba54_28c63fce8a9brow0_col14\" class=\"data row0 col14\" >None</td>\n",
       "                        <td id=\"T_b74c55fe_935a_11eb_ba54_28c63fce8a9brow0_col15\" class=\"data row0 col15\" >None</td>\n",
       "                        <td id=\"T_b74c55fe_935a_11eb_ba54_28c63fce8a9brow0_col16\" class=\"data row0 col16\" >None</td>\n",
       "            </tr>\n",
       "            <tr>\n",
       "                        <th id=\"T_b74c55fe_935a_11eb_ba54_28c63fce8a9blevel0_row1\" class=\"row_heading level0 row1\" >1</th>\n",
       "                        <td id=\"T_b74c55fe_935a_11eb_ba54_28c63fce8a9brow1_col0\" class=\"data row1 col0\" >892177421306343426</td>\n",
       "                        <td id=\"T_b74c55fe_935a_11eb_ba54_28c63fce8a9brow1_col1\" class=\"data row1 col1\" >nan</td>\n",
       "                        <td id=\"T_b74c55fe_935a_11eb_ba54_28c63fce8a9brow1_col2\" class=\"data row1 col2\" >nan</td>\n",
       "                        <td id=\"T_b74c55fe_935a_11eb_ba54_28c63fce8a9brow1_col3\" class=\"data row1 col3\" >2017-08-01 00:17:27 +0000</td>\n",
       "                        <td id=\"T_b74c55fe_935a_11eb_ba54_28c63fce8a9brow1_col4\" class=\"data row1 col4\" ><a href=\"http://twitter.com/download/iphone\" rel=\"nofollow\">Twitter for iPhone</a></td>\n",
       "                        <td id=\"T_b74c55fe_935a_11eb_ba54_28c63fce8a9brow1_col5\" class=\"data row1 col5\" >This is Tilly. She's just checking pup on you. Hopes you're doing ok. If not, she's available for pats, snugs, boops, the whole bit. 13/10 https://t.co/0Xxu71qeIV</td>\n",
       "                        <td id=\"T_b74c55fe_935a_11eb_ba54_28c63fce8a9brow1_col6\" class=\"data row1 col6\" >nan</td>\n",
       "                        <td id=\"T_b74c55fe_935a_11eb_ba54_28c63fce8a9brow1_col7\" class=\"data row1 col7\" >nan</td>\n",
       "                        <td id=\"T_b74c55fe_935a_11eb_ba54_28c63fce8a9brow1_col8\" class=\"data row1 col8\" >nan</td>\n",
       "                        <td id=\"T_b74c55fe_935a_11eb_ba54_28c63fce8a9brow1_col9\" class=\"data row1 col9\" >https://twitter.com/dog_rates/status/892177421306343426/photo/1</td>\n",
       "                        <td id=\"T_b74c55fe_935a_11eb_ba54_28c63fce8a9brow1_col10\" class=\"data row1 col10\" >13</td>\n",
       "                        <td id=\"T_b74c55fe_935a_11eb_ba54_28c63fce8a9brow1_col11\" class=\"data row1 col11\" >10</td>\n",
       "                        <td id=\"T_b74c55fe_935a_11eb_ba54_28c63fce8a9brow1_col12\" class=\"data row1 col12\" >Tilly</td>\n",
       "                        <td id=\"T_b74c55fe_935a_11eb_ba54_28c63fce8a9brow1_col13\" class=\"data row1 col13\" >None</td>\n",
       "                        <td id=\"T_b74c55fe_935a_11eb_ba54_28c63fce8a9brow1_col14\" class=\"data row1 col14\" >None</td>\n",
       "                        <td id=\"T_b74c55fe_935a_11eb_ba54_28c63fce8a9brow1_col15\" class=\"data row1 col15\" >None</td>\n",
       "                        <td id=\"T_b74c55fe_935a_11eb_ba54_28c63fce8a9brow1_col16\" class=\"data row1 col16\" >None</td>\n",
       "            </tr>\n",
       "            <tr>\n",
       "                        <th id=\"T_b74c55fe_935a_11eb_ba54_28c63fce8a9blevel0_row2\" class=\"row_heading level0 row2\" >2</th>\n",
       "                        <td id=\"T_b74c55fe_935a_11eb_ba54_28c63fce8a9brow2_col0\" class=\"data row2 col0\" >891815181378084864</td>\n",
       "                        <td id=\"T_b74c55fe_935a_11eb_ba54_28c63fce8a9brow2_col1\" class=\"data row2 col1\" >nan</td>\n",
       "                        <td id=\"T_b74c55fe_935a_11eb_ba54_28c63fce8a9brow2_col2\" class=\"data row2 col2\" >nan</td>\n",
       "                        <td id=\"T_b74c55fe_935a_11eb_ba54_28c63fce8a9brow2_col3\" class=\"data row2 col3\" >2017-07-31 00:18:03 +0000</td>\n",
       "                        <td id=\"T_b74c55fe_935a_11eb_ba54_28c63fce8a9brow2_col4\" class=\"data row2 col4\" ><a href=\"http://twitter.com/download/iphone\" rel=\"nofollow\">Twitter for iPhone</a></td>\n",
       "                        <td id=\"T_b74c55fe_935a_11eb_ba54_28c63fce8a9brow2_col5\" class=\"data row2 col5\" >This is Archie. He is a rare Norwegian Pouncing Corgo. Lives in the tall grass. You never know when one may strike. 12/10 https://t.co/wUnZnhtVJB</td>\n",
       "                        <td id=\"T_b74c55fe_935a_11eb_ba54_28c63fce8a9brow2_col6\" class=\"data row2 col6\" >nan</td>\n",
       "                        <td id=\"T_b74c55fe_935a_11eb_ba54_28c63fce8a9brow2_col7\" class=\"data row2 col7\" >nan</td>\n",
       "                        <td id=\"T_b74c55fe_935a_11eb_ba54_28c63fce8a9brow2_col8\" class=\"data row2 col8\" >nan</td>\n",
       "                        <td id=\"T_b74c55fe_935a_11eb_ba54_28c63fce8a9brow2_col9\" class=\"data row2 col9\" >https://twitter.com/dog_rates/status/891815181378084864/photo/1</td>\n",
       "                        <td id=\"T_b74c55fe_935a_11eb_ba54_28c63fce8a9brow2_col10\" class=\"data row2 col10\" >12</td>\n",
       "                        <td id=\"T_b74c55fe_935a_11eb_ba54_28c63fce8a9brow2_col11\" class=\"data row2 col11\" >10</td>\n",
       "                        <td id=\"T_b74c55fe_935a_11eb_ba54_28c63fce8a9brow2_col12\" class=\"data row2 col12\" >Archie</td>\n",
       "                        <td id=\"T_b74c55fe_935a_11eb_ba54_28c63fce8a9brow2_col13\" class=\"data row2 col13\" >None</td>\n",
       "                        <td id=\"T_b74c55fe_935a_11eb_ba54_28c63fce8a9brow2_col14\" class=\"data row2 col14\" >None</td>\n",
       "                        <td id=\"T_b74c55fe_935a_11eb_ba54_28c63fce8a9brow2_col15\" class=\"data row2 col15\" >None</td>\n",
       "                        <td id=\"T_b74c55fe_935a_11eb_ba54_28c63fce8a9brow2_col16\" class=\"data row2 col16\" >None</td>\n",
       "            </tr>\n",
       "            <tr>\n",
       "                        <th id=\"T_b74c55fe_935a_11eb_ba54_28c63fce8a9blevel0_row3\" class=\"row_heading level0 row3\" >3</th>\n",
       "                        <td id=\"T_b74c55fe_935a_11eb_ba54_28c63fce8a9brow3_col0\" class=\"data row3 col0\" >891689557279858688</td>\n",
       "                        <td id=\"T_b74c55fe_935a_11eb_ba54_28c63fce8a9brow3_col1\" class=\"data row3 col1\" >nan</td>\n",
       "                        <td id=\"T_b74c55fe_935a_11eb_ba54_28c63fce8a9brow3_col2\" class=\"data row3 col2\" >nan</td>\n",
       "                        <td id=\"T_b74c55fe_935a_11eb_ba54_28c63fce8a9brow3_col3\" class=\"data row3 col3\" >2017-07-30 15:58:51 +0000</td>\n",
       "                        <td id=\"T_b74c55fe_935a_11eb_ba54_28c63fce8a9brow3_col4\" class=\"data row3 col4\" ><a href=\"http://twitter.com/download/iphone\" rel=\"nofollow\">Twitter for iPhone</a></td>\n",
       "                        <td id=\"T_b74c55fe_935a_11eb_ba54_28c63fce8a9brow3_col5\" class=\"data row3 col5\" >This is Darla. She commenced a snooze mid meal. 13/10 happens to the best of us https://t.co/tD36da7qLQ</td>\n",
       "                        <td id=\"T_b74c55fe_935a_11eb_ba54_28c63fce8a9brow3_col6\" class=\"data row3 col6\" >nan</td>\n",
       "                        <td id=\"T_b74c55fe_935a_11eb_ba54_28c63fce8a9brow3_col7\" class=\"data row3 col7\" >nan</td>\n",
       "                        <td id=\"T_b74c55fe_935a_11eb_ba54_28c63fce8a9brow3_col8\" class=\"data row3 col8\" >nan</td>\n",
       "                        <td id=\"T_b74c55fe_935a_11eb_ba54_28c63fce8a9brow3_col9\" class=\"data row3 col9\" >https://twitter.com/dog_rates/status/891689557279858688/photo/1</td>\n",
       "                        <td id=\"T_b74c55fe_935a_11eb_ba54_28c63fce8a9brow3_col10\" class=\"data row3 col10\" >13</td>\n",
       "                        <td id=\"T_b74c55fe_935a_11eb_ba54_28c63fce8a9brow3_col11\" class=\"data row3 col11\" >10</td>\n",
       "                        <td id=\"T_b74c55fe_935a_11eb_ba54_28c63fce8a9brow3_col12\" class=\"data row3 col12\" >Darla</td>\n",
       "                        <td id=\"T_b74c55fe_935a_11eb_ba54_28c63fce8a9brow3_col13\" class=\"data row3 col13\" >None</td>\n",
       "                        <td id=\"T_b74c55fe_935a_11eb_ba54_28c63fce8a9brow3_col14\" class=\"data row3 col14\" >None</td>\n",
       "                        <td id=\"T_b74c55fe_935a_11eb_ba54_28c63fce8a9brow3_col15\" class=\"data row3 col15\" >None</td>\n",
       "                        <td id=\"T_b74c55fe_935a_11eb_ba54_28c63fce8a9brow3_col16\" class=\"data row3 col16\" >None</td>\n",
       "            </tr>\n",
       "    </tbody></table>"
      ],
      "text/plain": [
       "<pandas.io.formats.style.Styler at 0x1d2532532e8>"
      ]
     },
     "execution_count": 6,
     "metadata": {},
     "output_type": "execute_result"
    }
   ],
   "source": [
    "df_1.loc[:3].style.applymap(lambda x: 'color: red' if pd.isnull(x) else '')"
   ]
  },
  {
   "cell_type": "code",
   "execution_count": 7,
   "metadata": {},
   "outputs": [
    {
     "data": {
      "text/html": [
       "<style  type=\"text/css\" >\n",
       "</style><table id=\"T_b74f8824_935a_11eb_862b_28c63fce8a9b\" ><thead>    <tr>        <th class=\"blank level0\" ></th>        <th class=\"col_heading level0 col0\" >tweet_id</th>        <th class=\"col_heading level0 col1\" >jpg_url</th>        <th class=\"col_heading level0 col2\" >img_num</th>        <th class=\"col_heading level0 col3\" >p1</th>        <th class=\"col_heading level0 col4\" >p1_conf</th>        <th class=\"col_heading level0 col5\" >p1_dog</th>        <th class=\"col_heading level0 col6\" >p2</th>        <th class=\"col_heading level0 col7\" >p2_conf</th>        <th class=\"col_heading level0 col8\" >p2_dog</th>        <th class=\"col_heading level0 col9\" >p3</th>        <th class=\"col_heading level0 col10\" >p3_conf</th>        <th class=\"col_heading level0 col11\" >p3_dog</th>    </tr></thead><tbody>\n",
       "                <tr>\n",
       "                        <th id=\"T_b74f8824_935a_11eb_862b_28c63fce8a9blevel0_row0\" class=\"row_heading level0 row0\" >0</th>\n",
       "                        <td id=\"T_b74f8824_935a_11eb_862b_28c63fce8a9brow0_col0\" class=\"data row0 col0\" >666020888022790149</td>\n",
       "                        <td id=\"T_b74f8824_935a_11eb_862b_28c63fce8a9brow0_col1\" class=\"data row0 col1\" >https://pbs.twimg.com/media/CT4udn0WwAA0aMy.jpg</td>\n",
       "                        <td id=\"T_b74f8824_935a_11eb_862b_28c63fce8a9brow0_col2\" class=\"data row0 col2\" >1</td>\n",
       "                        <td id=\"T_b74f8824_935a_11eb_862b_28c63fce8a9brow0_col3\" class=\"data row0 col3\" >Welsh_springer_spaniel</td>\n",
       "                        <td id=\"T_b74f8824_935a_11eb_862b_28c63fce8a9brow0_col4\" class=\"data row0 col4\" >0.465074</td>\n",
       "                        <td id=\"T_b74f8824_935a_11eb_862b_28c63fce8a9brow0_col5\" class=\"data row0 col5\" >True</td>\n",
       "                        <td id=\"T_b74f8824_935a_11eb_862b_28c63fce8a9brow0_col6\" class=\"data row0 col6\" >collie</td>\n",
       "                        <td id=\"T_b74f8824_935a_11eb_862b_28c63fce8a9brow0_col7\" class=\"data row0 col7\" >0.156665</td>\n",
       "                        <td id=\"T_b74f8824_935a_11eb_862b_28c63fce8a9brow0_col8\" class=\"data row0 col8\" >True</td>\n",
       "                        <td id=\"T_b74f8824_935a_11eb_862b_28c63fce8a9brow0_col9\" class=\"data row0 col9\" >Shetland_sheepdog</td>\n",
       "                        <td id=\"T_b74f8824_935a_11eb_862b_28c63fce8a9brow0_col10\" class=\"data row0 col10\" >0.0614285</td>\n",
       "                        <td id=\"T_b74f8824_935a_11eb_862b_28c63fce8a9brow0_col11\" class=\"data row0 col11\" >True</td>\n",
       "            </tr>\n",
       "            <tr>\n",
       "                        <th id=\"T_b74f8824_935a_11eb_862b_28c63fce8a9blevel0_row1\" class=\"row_heading level0 row1\" >1</th>\n",
       "                        <td id=\"T_b74f8824_935a_11eb_862b_28c63fce8a9brow1_col0\" class=\"data row1 col0\" >666029285002620928</td>\n",
       "                        <td id=\"T_b74f8824_935a_11eb_862b_28c63fce8a9brow1_col1\" class=\"data row1 col1\" >https://pbs.twimg.com/media/CT42GRgUYAA5iDo.jpg</td>\n",
       "                        <td id=\"T_b74f8824_935a_11eb_862b_28c63fce8a9brow1_col2\" class=\"data row1 col2\" >1</td>\n",
       "                        <td id=\"T_b74f8824_935a_11eb_862b_28c63fce8a9brow1_col3\" class=\"data row1 col3\" >redbone</td>\n",
       "                        <td id=\"T_b74f8824_935a_11eb_862b_28c63fce8a9brow1_col4\" class=\"data row1 col4\" >0.506826</td>\n",
       "                        <td id=\"T_b74f8824_935a_11eb_862b_28c63fce8a9brow1_col5\" class=\"data row1 col5\" >True</td>\n",
       "                        <td id=\"T_b74f8824_935a_11eb_862b_28c63fce8a9brow1_col6\" class=\"data row1 col6\" >miniature_pinscher</td>\n",
       "                        <td id=\"T_b74f8824_935a_11eb_862b_28c63fce8a9brow1_col7\" class=\"data row1 col7\" >0.0741917</td>\n",
       "                        <td id=\"T_b74f8824_935a_11eb_862b_28c63fce8a9brow1_col8\" class=\"data row1 col8\" >True</td>\n",
       "                        <td id=\"T_b74f8824_935a_11eb_862b_28c63fce8a9brow1_col9\" class=\"data row1 col9\" >Rhodesian_ridgeback</td>\n",
       "                        <td id=\"T_b74f8824_935a_11eb_862b_28c63fce8a9brow1_col10\" class=\"data row1 col10\" >0.07201</td>\n",
       "                        <td id=\"T_b74f8824_935a_11eb_862b_28c63fce8a9brow1_col11\" class=\"data row1 col11\" >True</td>\n",
       "            </tr>\n",
       "            <tr>\n",
       "                        <th id=\"T_b74f8824_935a_11eb_862b_28c63fce8a9blevel0_row2\" class=\"row_heading level0 row2\" >2</th>\n",
       "                        <td id=\"T_b74f8824_935a_11eb_862b_28c63fce8a9brow2_col0\" class=\"data row2 col0\" >666033412701032449</td>\n",
       "                        <td id=\"T_b74f8824_935a_11eb_862b_28c63fce8a9brow2_col1\" class=\"data row2 col1\" >https://pbs.twimg.com/media/CT4521TWwAEvMyu.jpg</td>\n",
       "                        <td id=\"T_b74f8824_935a_11eb_862b_28c63fce8a9brow2_col2\" class=\"data row2 col2\" >1</td>\n",
       "                        <td id=\"T_b74f8824_935a_11eb_862b_28c63fce8a9brow2_col3\" class=\"data row2 col3\" >German_shepherd</td>\n",
       "                        <td id=\"T_b74f8824_935a_11eb_862b_28c63fce8a9brow2_col4\" class=\"data row2 col4\" >0.596461</td>\n",
       "                        <td id=\"T_b74f8824_935a_11eb_862b_28c63fce8a9brow2_col5\" class=\"data row2 col5\" >True</td>\n",
       "                        <td id=\"T_b74f8824_935a_11eb_862b_28c63fce8a9brow2_col6\" class=\"data row2 col6\" >malinois</td>\n",
       "                        <td id=\"T_b74f8824_935a_11eb_862b_28c63fce8a9brow2_col7\" class=\"data row2 col7\" >0.138584</td>\n",
       "                        <td id=\"T_b74f8824_935a_11eb_862b_28c63fce8a9brow2_col8\" class=\"data row2 col8\" >True</td>\n",
       "                        <td id=\"T_b74f8824_935a_11eb_862b_28c63fce8a9brow2_col9\" class=\"data row2 col9\" >bloodhound</td>\n",
       "                        <td id=\"T_b74f8824_935a_11eb_862b_28c63fce8a9brow2_col10\" class=\"data row2 col10\" >0.116197</td>\n",
       "                        <td id=\"T_b74f8824_935a_11eb_862b_28c63fce8a9brow2_col11\" class=\"data row2 col11\" >True</td>\n",
       "            </tr>\n",
       "            <tr>\n",
       "                        <th id=\"T_b74f8824_935a_11eb_862b_28c63fce8a9blevel0_row3\" class=\"row_heading level0 row3\" >3</th>\n",
       "                        <td id=\"T_b74f8824_935a_11eb_862b_28c63fce8a9brow3_col0\" class=\"data row3 col0\" >666044226329800704</td>\n",
       "                        <td id=\"T_b74f8824_935a_11eb_862b_28c63fce8a9brow3_col1\" class=\"data row3 col1\" >https://pbs.twimg.com/media/CT5Dr8HUEAA-lEu.jpg</td>\n",
       "                        <td id=\"T_b74f8824_935a_11eb_862b_28c63fce8a9brow3_col2\" class=\"data row3 col2\" >1</td>\n",
       "                        <td id=\"T_b74f8824_935a_11eb_862b_28c63fce8a9brow3_col3\" class=\"data row3 col3\" >Rhodesian_ridgeback</td>\n",
       "                        <td id=\"T_b74f8824_935a_11eb_862b_28c63fce8a9brow3_col4\" class=\"data row3 col4\" >0.408143</td>\n",
       "                        <td id=\"T_b74f8824_935a_11eb_862b_28c63fce8a9brow3_col5\" class=\"data row3 col5\" >True</td>\n",
       "                        <td id=\"T_b74f8824_935a_11eb_862b_28c63fce8a9brow3_col6\" class=\"data row3 col6\" >redbone</td>\n",
       "                        <td id=\"T_b74f8824_935a_11eb_862b_28c63fce8a9brow3_col7\" class=\"data row3 col7\" >0.360687</td>\n",
       "                        <td id=\"T_b74f8824_935a_11eb_862b_28c63fce8a9brow3_col8\" class=\"data row3 col8\" >True</td>\n",
       "                        <td id=\"T_b74f8824_935a_11eb_862b_28c63fce8a9brow3_col9\" class=\"data row3 col9\" >miniature_pinscher</td>\n",
       "                        <td id=\"T_b74f8824_935a_11eb_862b_28c63fce8a9brow3_col10\" class=\"data row3 col10\" >0.222752</td>\n",
       "                        <td id=\"T_b74f8824_935a_11eb_862b_28c63fce8a9brow3_col11\" class=\"data row3 col11\" >True</td>\n",
       "            </tr>\n",
       "    </tbody></table>"
      ],
      "text/plain": [
       "<pandas.io.formats.style.Styler at 0x1d25351e8d0>"
      ]
     },
     "execution_count": 7,
     "metadata": {},
     "output_type": "execute_result"
    }
   ],
   "source": [
    "images.loc[:3].style.applymap(lambda x: 'color: red' if pd.isnull(x) else '')"
   ]
  },
  {
   "cell_type": "code",
   "execution_count": 8,
   "metadata": {},
   "outputs": [
    {
     "data": {
      "text/html": [
       "<style  type=\"text/css\" >\n",
       "    #T_b75e03ca_935a_11eb_93a9_28c63fce8a9brow0_col1 {\n",
       "            color:  red;\n",
       "        }    #T_b75e03ca_935a_11eb_93a9_28c63fce8a9brow1_col1 {\n",
       "            color:  red;\n",
       "        }    #T_b75e03ca_935a_11eb_93a9_28c63fce8a9brow2_col1 {\n",
       "            color:  red;\n",
       "        }    #T_b75e03ca_935a_11eb_93a9_28c63fce8a9brow3_col1 {\n",
       "            color:  red;\n",
       "        }</style><table id=\"T_b75e03ca_935a_11eb_93a9_28c63fce8a9b\" ><thead>    <tr>        <th class=\"blank level0\" ></th>        <th class=\"col_heading level0 col0\" >favorite_count</th>        <th class=\"col_heading level0 col1\" >retweet count</th>        <th class=\"col_heading level0 col2\" >retweet_count</th>        <th class=\"col_heading level0 col3\" >tweet_id</th>    </tr></thead><tbody>\n",
       "                <tr>\n",
       "                        <th id=\"T_b75e03ca_935a_11eb_93a9_28c63fce8a9blevel0_row0\" class=\"row_heading level0 row0\" >0</th>\n",
       "                        <td id=\"T_b75e03ca_935a_11eb_93a9_28c63fce8a9brow0_col0\" class=\"data row0 col0\" >37135</td>\n",
       "                        <td id=\"T_b75e03ca_935a_11eb_93a9_28c63fce8a9brow0_col1\" class=\"data row0 col1\" >nan</td>\n",
       "                        <td id=\"T_b75e03ca_935a_11eb_93a9_28c63fce8a9brow0_col2\" class=\"data row0 col2\" >7937</td>\n",
       "                        <td id=\"T_b75e03ca_935a_11eb_93a9_28c63fce8a9brow0_col3\" class=\"data row0 col3\" >892420643555336193</td>\n",
       "            </tr>\n",
       "            <tr>\n",
       "                        <th id=\"T_b75e03ca_935a_11eb_93a9_28c63fce8a9blevel0_row1\" class=\"row_heading level0 row1\" >1</th>\n",
       "                        <td id=\"T_b75e03ca_935a_11eb_93a9_28c63fce8a9brow1_col0\" class=\"data row1 col0\" >31939</td>\n",
       "                        <td id=\"T_b75e03ca_935a_11eb_93a9_28c63fce8a9brow1_col1\" class=\"data row1 col1\" >nan</td>\n",
       "                        <td id=\"T_b75e03ca_935a_11eb_93a9_28c63fce8a9brow1_col2\" class=\"data row1 col2\" >5900</td>\n",
       "                        <td id=\"T_b75e03ca_935a_11eb_93a9_28c63fce8a9brow1_col3\" class=\"data row1 col3\" >892177421306343426</td>\n",
       "            </tr>\n",
       "            <tr>\n",
       "                        <th id=\"T_b75e03ca_935a_11eb_93a9_28c63fce8a9blevel0_row2\" class=\"row_heading level0 row2\" >2</th>\n",
       "                        <td id=\"T_b75e03ca_935a_11eb_93a9_28c63fce8a9brow2_col0\" class=\"data row2 col0\" >24054</td>\n",
       "                        <td id=\"T_b75e03ca_935a_11eb_93a9_28c63fce8a9brow2_col1\" class=\"data row2 col1\" >nan</td>\n",
       "                        <td id=\"T_b75e03ca_935a_11eb_93a9_28c63fce8a9brow2_col2\" class=\"data row2 col2\" >3899</td>\n",
       "                        <td id=\"T_b75e03ca_935a_11eb_93a9_28c63fce8a9brow2_col3\" class=\"data row2 col3\" >891815181378084864</td>\n",
       "            </tr>\n",
       "            <tr>\n",
       "                        <th id=\"T_b75e03ca_935a_11eb_93a9_28c63fce8a9blevel0_row3\" class=\"row_heading level0 row3\" >3</th>\n",
       "                        <td id=\"T_b75e03ca_935a_11eb_93a9_28c63fce8a9brow3_col0\" class=\"data row3 col0\" >40456</td>\n",
       "                        <td id=\"T_b75e03ca_935a_11eb_93a9_28c63fce8a9brow3_col1\" class=\"data row3 col1\" >nan</td>\n",
       "                        <td id=\"T_b75e03ca_935a_11eb_93a9_28c63fce8a9brow3_col2\" class=\"data row3 col2\" >8095</td>\n",
       "                        <td id=\"T_b75e03ca_935a_11eb_93a9_28c63fce8a9brow3_col3\" class=\"data row3 col3\" >891689557279858688</td>\n",
       "            </tr>\n",
       "    </tbody></table>"
      ],
      "text/plain": [
       "<pandas.io.formats.style.Styler at 0x1d25351e9b0>"
      ]
     },
     "execution_count": 8,
     "metadata": {},
     "output_type": "execute_result"
    }
   ],
   "source": [
    "df_2.loc[:3].style.applymap(lambda x: 'color: red' if pd.isnull(x) else '')"
   ]
  },
  {
   "cell_type": "markdown",
   "metadata": {},
   "source": [
    "### Programatic Assessment"
   ]
  },
  {
   "cell_type": "code",
   "execution_count": 9,
   "metadata": {},
   "outputs": [
    {
     "data": {
      "text/plain": [
       "tweet_id                      2356\n",
       "in_reply_to_status_id           78\n",
       "in_reply_to_user_id             78\n",
       "timestamp                     2356\n",
       "source                        2356\n",
       "text                          2356\n",
       "retweeted_status_id            181\n",
       "retweeted_status_user_id       181\n",
       "retweeted_status_timestamp     181\n",
       "expanded_urls                 2297\n",
       "rating_numerator              2356\n",
       "rating_denominator            2356\n",
       "name                          2356\n",
       "doggo                         2356\n",
       "floofer                       2356\n",
       "pupper                        2356\n",
       "puppo                         2356\n",
       "dtype: int64"
      ]
     },
     "execution_count": 9,
     "metadata": {},
     "output_type": "execute_result"
    }
   ],
   "source": [
    "df_1.count()"
   ]
  },
  {
   "cell_type": "markdown",
   "metadata": {},
   "source": [
    "- Five columns in the **df_1** Dataframe appear to contain missing values: \n",
    "    - **in_reply_to_status_id**, \n",
    "    - **in_reply_to_user_id**, \n",
    "    - **retweeed_status_id**, \n",
    "    - **retweeted_status_user_id**,  \n",
    "    - **retweeted_status_timestamp** \n",
    "\n",
    "\n",
    "- As observed above:\n",
    "    - **in_reply_to_status_id** and **in_reply_to_user_id** each have 2247 null values\n",
    "    - **retweeed_status_id**, **retweeted_status_user_id**, and **retweeted_status_timestamp** each have 2094 null values\n",
    "\n",
    "\n",
    "- The **text** column contains the body of the tweet, but then ends each tweet with a hyperlink.  The hyperlink is already represented in the **expanded_urls** column, so having it shown twice is redundant information and is not really part of the text of the tweet. \n",
    "\n",
    "\n",
    "- The columns **doggo**, **floofer**, **pupper**, and **puppo** have the string \"None\" in many of there rows. These columns seem to be categorical variables and would benefit by finding a melt them into a single categorical column.\n",
    "\n",
    "\n",
    "- The **timestamp** column is formatted down to the millisecond. This is accurate and thourough information, but for future timeseries analysis, I will convert the time in a date format of yyyy/MM/dd HH:mm instead of the yyyy-MM-dd HH:mm:ss +ffff it is in now.\n",
    "\n"
   ]
  },
  {
   "cell_type": "code",
   "execution_count": 10,
   "metadata": {},
   "outputs": [
    {
     "data": {
      "text/plain": [
       "tweet_id    2075\n",
       "jpg_url     2075\n",
       "img_num     2075\n",
       "p1          2075\n",
       "p1_conf     2075\n",
       "p1_dog      2075\n",
       "p2          2075\n",
       "p2_conf     2075\n",
       "p2_dog      2075\n",
       "p3          2075\n",
       "p3_conf     2075\n",
       "p3_dog      2075\n",
       "dtype: int64"
      ]
     },
     "execution_count": 10,
     "metadata": {},
     "output_type": "execute_result"
    }
   ],
   "source": [
    "images.count()"
   ]
  },
  {
   "cell_type": "markdown",
   "metadata": {},
   "source": [
    "- The columns **p1**, **p2**, and **p3** are all in snake case format and some of the categorical values are capitalized while others are not.  To clean this up I would like to remove the underscore(s) of each row and put the classications in title format "
   ]
  },
  {
   "cell_type": "code",
   "execution_count": 11,
   "metadata": {},
   "outputs": [
    {
     "data": {
      "text/plain": [
       "favorite_count    2166\n",
       "retweet count        0\n",
       "retweet_count     2166\n",
       "tweet_id          2166\n",
       "dtype: int64"
      ]
     },
     "execution_count": 11,
     "metadata": {},
     "output_type": "execute_result"
    }
   ],
   "source": [
    "df_2.count()"
   ]
  },
  {
   "cell_type": "markdown",
   "metadata": {},
   "source": [
    "**retweet count** is an inconsistent format by not having an underscore to replace the space between words. By grouping column names in snake case the column names of a dataframe are callable. This would likely be a column name that I renamed to much python convention for a column name but it looks like it is a duplicate column to **reteet_count** and has a majority of NaN values. I will drop the column **retweet count** to tidy up the **df_2** DataFrame."
   ]
  },
  {
   "cell_type": "markdown",
   "metadata": {},
   "source": [
    "##### Checking for Duplicate Rows"
   ]
  },
  {
   "cell_type": "code",
   "execution_count": 12,
   "metadata": {},
   "outputs": [
    {
     "data": {
      "text/plain": [
       "(False, True, False)"
      ]
     },
     "execution_count": 12,
     "metadata": {},
     "output_type": "execute_result"
    }
   ],
   "source": [
    "df_1.tweet_id.duplicated().any(), df_2.tweet_id.duplicated().any(), images.tweet_id.duplicated().any()"
   ]
  },
  {
   "cell_type": "markdown",
   "metadata": {},
   "source": [
    "**df_2** contains some duplicated rows that will need to be dropped. "
   ]
  },
  {
   "cell_type": "code",
   "execution_count": null,
   "metadata": {},
   "outputs": [],
   "source": []
  },
  {
   "cell_type": "code",
   "execution_count": 13,
   "metadata": {},
   "outputs": [
    {
     "name": "stdout",
     "output_type": "stream",
     "text": [
      "None     2259\n",
      "doggo      97\n",
      "Name: doggo, dtype: int64,\n",
      "\n",
      "None       2346\n",
      "floofer      10\n",
      "Name: floofer, dtype: int64,\n",
      "\n",
      "None      2099\n",
      "pupper     257\n",
      "Name: pupper, dtype: int64,\n",
      "\n",
      "None     2326\n",
      "puppo      30\n",
      "Name: puppo, dtype: int64\n"
     ]
    }
   ],
   "source": [
    "doggo = df_1.doggo.value_counts()\n",
    "floofer = df_1.floofer.value_counts()\n",
    "pupper = df_1.pupper.value_counts()\n",
    "puppo = df_1.puppo.value_counts()\n",
    "\n",
    "print(f'{doggo},\\n\\n{floofer},\\n\\n{pupper},\\n\\n{puppo}')"
   ]
  },
  {
   "cell_type": "markdown",
   "metadata": {},
   "source": []
  },
  {
   "cell_type": "code",
   "execution_count": 14,
   "metadata": {},
   "outputs": [
    {
     "data": {
      "text/plain": [
       "0         2\n",
       "1         9\n",
       "2         9\n",
       "3        19\n",
       "4        17\n",
       "5        37\n",
       "6        32\n",
       "7        55\n",
       "8       102\n",
       "9       158\n",
       "10      461\n",
       "11      464\n",
       "12      558\n",
       "13      351\n",
       "14       54\n",
       "15        2\n",
       "17        1\n",
       "20        1\n",
       "24        1\n",
       "26        1\n",
       "27        1\n",
       "44        1\n",
       "45        1\n",
       "50        1\n",
       "60        1\n",
       "75        2\n",
       "80        1\n",
       "84        1\n",
       "88        1\n",
       "99        1\n",
       "121       1\n",
       "143       1\n",
       "144       1\n",
       "165       1\n",
       "182       1\n",
       "204       1\n",
       "420       2\n",
       "666       1\n",
       "960       1\n",
       "1776      1\n",
       "Name: rating_numerator, dtype: int64"
      ]
     },
     "execution_count": 14,
     "metadata": {},
     "output_type": "execute_result"
    }
   ],
   "source": [
    "df_1.rating_numerator.value_counts().sort_index()"
   ]
  },
  {
   "cell_type": "markdown",
   "metadata": {},
   "source": [
    "#### Defining a funtion printOut as a visual tool while parsing through the text to get a better look a numerators and denominators"
   ]
  },
  {
   "cell_type": "code",
   "execution_count": 15,
   "metadata": {},
   "outputs": [],
   "source": [
    "def printOutRating(list1, list2,list3):\n",
    "    for i in range(len(list1)):\n",
    "        nex_list1 = list1[i]\n",
    "        nex_list2 = list2[i]\n",
    "        nex_list3 = list3[i]\n",
    "        print(f'Row {nex_list1}\\nDenominator:{nex_list2}\\n{nex_list3} \\n\\n')"
   ]
  },
  {
   "cell_type": "markdown",
   "metadata": {},
   "source": [
    "For most of the cases if a numerator had a value\n",
    "greater than 14 it was only used once, however 75 occurs twice.\n",
    "I decided to look into this a little further to figure out why this was."
   ]
  },
  {
   "cell_type": "code",
   "execution_count": 16,
   "metadata": {},
   "outputs": [
    {
     "name": "stdout",
     "output_type": "stream",
     "text": [
      "Row 340\n",
      "Denominator:75\n",
      "RT @dog_rates: This is Logan, the Chow who lived. He solemnly swears he's up to lots of good. H*ckin magical af 9.75/10 https://t.co/yBO5wu… \n",
      "\n",
      "\n",
      "Row 695\n",
      "Denominator:75\n",
      "This is Logan, the Chow who lived. He solemnly swears he's up to lots of good. H*ckin magical af 9.75/10 https://t.co/yBO5wuqaPS \n",
      "\n",
      "\n"
     ]
    }
   ],
   "source": [
    "printout = df_1[df_1.rating_numerator== 75]\n",
    "        \n",
    "ind  =  printout.index.tolist()\n",
    "num  =  printout.rating_numerator.tolist()\n",
    "text = printout.text.tolist()\n",
    "\n",
    "printOutRating(ind,num,text)"
   ]
  },
  {
   "cell_type": "markdown",
   "metadata": {},
   "source": [
    "By taking a closer look at these two tweets, I found two problems. The first is that the numerator is not 75, as it is listed in the df_1 dataset, its actually 10. The number 75 was misrepresented as the numerator in error when a rating of 9.75(a sneaky nod to the secret entrance of the Hogwarts Express on platform 9 and 3/4) was given to Logan and second, the indexed tweet #340 happens to be a duplicate of the indexed tweet #695 "
   ]
  },
  {
   "cell_type": "code",
   "execution_count": 17,
   "metadata": {},
   "outputs": [
    {
     "data": {
      "text/plain": [
       "10     2333\n",
       "11        3\n",
       "50        3\n",
       "80        2\n",
       "20        2\n",
       "2         1\n",
       "16        1\n",
       "40        1\n",
       "70        1\n",
       "15        1\n",
       "90        1\n",
       "110       1\n",
       "120       1\n",
       "130       1\n",
       "150       1\n",
       "170       1\n",
       "7         1\n",
       "0         1\n",
       "Name: rating_denominator, dtype: int64"
      ]
     },
     "execution_count": 17,
     "metadata": {},
     "output_type": "execute_result"
    }
   ],
   "source": [
    "df_1.rating_denominator.value_counts()"
   ]
  },
  {
   "cell_type": "code",
   "execution_count": 18,
   "metadata": {},
   "outputs": [
    {
     "data": {
      "text/plain": [
       "(3, 20)"
      ]
     },
     "execution_count": 18,
     "metadata": {},
     "output_type": "execute_result"
    }
   ],
   "source": [
    "df_1.query('rating_denominator < 10').rating_denominator.count(),df_1.query('rating_denominator > 10').rating_denominator.count()"
   ]
  },
  {
   "cell_type": "markdown",
   "metadata": {},
   "source": [
    "2333 of the 2356 observations have a denominator of ten. I decided to look into this further to see if I could find out why this was. \n",
    "- 3 tweets have a denominator less than ten.\n",
    "- 20 tweets have denominators greater than ten. "
   ]
  },
  {
   "cell_type": "code",
   "execution_count": 19,
   "metadata": {},
   "outputs": [
    {
     "name": "stdout",
     "output_type": "stream",
     "text": [
      "Row 313\n",
      "Denominator:0\n",
      "@jonnysun @Lin_Manuel ok jomny I know you're excited but 960/00 isn't a valid rating, 13/10 is tho \n",
      "\n",
      "\n",
      "Row 516\n",
      "Denominator:7\n",
      "Meet Sam. She smiles 24/7 &amp; secretly aspires to be a reindeer. \n",
      "Keep Sam smiling by clicking and sharing this link:\n",
      "https://t.co/98tB8y7y7t https://t.co/LouL5vdvxx \n",
      "\n",
      "\n",
      "Row 2335\n",
      "Denominator:2\n",
      "This is an Albanian 3 1/2 legged  Episcopalian. Loves well-polished hardwood flooring. Penis on the collar. 9/10 https://t.co/d9NcXFKwLv \n",
      "\n",
      "\n"
     ]
    }
   ],
   "source": [
    "printout = df_1[df_1.rating_denominator < 10]\n",
    "    \n",
    "ind = printout.index.tolist()\n",
    "denom = printout.rating_denominator.tolist()\n",
    "text = printout.text.tolist()\n",
    "\n",
    "printOutRating(ind,denom,text)"
   ]
  },
  {
   "cell_type": "markdown",
   "metadata": {},
   "source": [
    "For the the denominators that had values less then ten\n",
    "- From the the text printout we can see that Row 313 started with 960/00 but was then given the valid rating of 13/10 \n",
    "- Row 516 was one of the few times where WeRateDogs did not give a rating.\n",
    "- The tweet in row 2335 misrepresented the rating in error when a fraction of 1/2 was included in the text."
   ]
  },
  {
   "cell_type": "code",
   "execution_count": 20,
   "metadata": {},
   "outputs": [
    {
     "name": "stdout",
     "output_type": "stream",
     "text": [
      "Row 342\n",
      "Denominator:15\n",
      "@docmisterio account started on 11/15/15 \n",
      "\n",
      "\n",
      "Row 433\n",
      "Denominator:70\n",
      "The floofs have been released I repeat the floofs have been released. 84/70 https://t.co/NIYC820tmd \n",
      "\n",
      "\n",
      "Row 784\n",
      "Denominator:11\n",
      "RT @dog_rates: After so many requests, this is Bretagne. She was the last surviving 9/11 search dog, and our second ever 14/10. RIP https:/… \n",
      "\n",
      "\n",
      "Row 902\n",
      "Denominator:150\n",
      "Why does this never happen at my front door... 165/150 https://t.co/HmwrdfEfUE \n",
      "\n",
      "\n",
      "Row 1068\n",
      "Denominator:11\n",
      "After so many requests, this is Bretagne. She was the last surviving 9/11 search dog, and our second ever 14/10. RIP https://t.co/XAVDNDaVgQ \n",
      "\n",
      "\n",
      "Row 1120\n",
      "Denominator:170\n",
      "Say hello to this unbelievably well behaved squad of doggos. 204/170 would try to pet all at once https://t.co/yGQI3He3xv \n",
      "\n",
      "\n",
      "Row 1165\n",
      "Denominator:20\n",
      "Happy 4/20 from the squad! 13/10 for all https://t.co/eV1diwds8a \n",
      "\n",
      "\n",
      "Row 1202\n",
      "Denominator:50\n",
      "This is Bluebert. He just saw that both #FinalFur match ups are split 50/50. Amazed af. 11/10 https://t.co/Kky1DPG4iq \n",
      "\n",
      "\n",
      "Row 1228\n",
      "Denominator:90\n",
      "Happy Saturday here's 9 puppers on a bench. 99/90 good work everybody https://t.co/mpvaVxKmc1 \n",
      "\n",
      "\n",
      "Row 1254\n",
      "Denominator:80\n",
      "Here's a brigade of puppers. All look very prepared for whatever happens next. 80/80 https://t.co/0eb7R1Om12 \n",
      "\n",
      "\n",
      "Row 1274\n",
      "Denominator:50\n",
      "From left to right:\n",
      "Cletus, Jerome, Alejandro, Burp, &amp; Titson\n",
      "None know where camera is. 45/50 would hug all at once https://t.co/sedre1ivTK \n",
      "\n",
      "\n",
      "Row 1351\n",
      "Denominator:50\n",
      "Here is a whole flock of puppers.  60/50 I'll take the lot https://t.co/9dpcw6MdWa \n",
      "\n",
      "\n",
      "Row 1433\n",
      "Denominator:40\n",
      "Happy Wednesday here's a bucket of pups. 44/40 would pet all at once https://t.co/HppvrYuamZ \n",
      "\n",
      "\n",
      "Row 1598\n",
      "Denominator:20\n",
      "Yes I do realize a rating of 4/20 would've been fitting. However, it would be unjust to give these cooperative pups that low of a rating \n",
      "\n",
      "\n",
      "Row 1634\n",
      "Denominator:130\n",
      "Two sneaky puppers were not initially seen, moving the rating to 143/130. Please forgive us. Thank you https://t.co/kRK51Y5ac3 \n",
      "\n",
      "\n",
      "Row 1635\n",
      "Denominator:110\n",
      "Someone help the girl is being mugged. Several are distracting her while two steal her shoes. Clever puppers 121/110 https://t.co/1zfnTJLt55 \n",
      "\n",
      "\n",
      "Row 1662\n",
      "Denominator:11\n",
      "This is Darrel. He just robbed a 7/11 and is in a high speed police chase. Was just spotted by the helicopter 10/10 https://t.co/7EsP8LmSp5 \n",
      "\n",
      "\n",
      "Row 1663\n",
      "Denominator:16\n",
      "I'm aware that I could've said 20/16, but here at WeRateDogs we are very professional. An inconsistent rating scale is simply irresponsible \n",
      "\n",
      "\n",
      "Row 1779\n",
      "Denominator:120\n",
      "IT'S PUPPERGEDDON. Total of 144/120 ...I think https://t.co/ZanVtAtvIq \n",
      "\n",
      "\n",
      "Row 1843\n",
      "Denominator:80\n",
      "Here we have an entire platoon of puppers. Total score: 88/80 would pet all at once https://t.co/y93p6FLvVw \n",
      "\n",
      "\n"
     ]
    }
   ],
   "source": [
    "printout = df_1.loc[df_1.rating_denominator > 10]\n",
    "\n",
    "ind = printout['rating_denominator'].index.tolist()\n",
    "denom = printout['rating_denominator'].tolist()\n",
    "text = printout['text'].tolist()\n",
    "\n",
    "printOutRating(ind,denom,text)"
   ]
  },
  {
   "cell_type": "markdown",
   "metadata": {},
   "source": [
    "### Summary of Assessment\n",
    "\n",
    "#### Quality issues\n",
    "**df_1** dataset\n",
    "- The columns **in_reply_to_status_id**,**in_reply_to_user_id**,**retweeted_status_id**, **retweeted_status_user_id**,**retweeted_status_timestamp** have almost all NaN values\n",
    "- After accessing the ‘rating_denomiator’ field, I found that 2333 of the 2356 observations have a denominator of ten. \n",
    "- 3 tweets have a denominator less than ten.\n",
    "- 20 tweets have denominators greater than ten.\n",
    "- Row 313 started with 960/00 but was then given the valid rating of 13/10. These ratings need to be swapped in **df_1** \n",
    "- The tweet in row 342 was not a rating, but a reply to question asking for the date that the twitter account began.\n",
    "- The tweet in row 516 was not given a rating\n",
    "- Some tweets contain fractions in the body of the text that have been misrepresent as the rating\n",
    "- Tweets with decimal points show incorrect ratings than what they were actually given\n",
    "- The rows with denominator that are greater than 10 are valid, but to be able to compare them with the rest, I will need to standardize them to the value of 10. \n",
    "- Timestamp would be more interpretable if it were in a format of yyyy/MM/dd HH:mm instead of the yyyy-MM-dd HH:mm:ss +ffff it has in the dataset.\n",
    "- The ‘text’ contains the body of the tweet, but then ends each tweet with a hyperlink.  The hyperlink is already represented in the ‘expanded_urls’ column, so having it shown twice is redundant information.\n",
    "\n",
    "\n",
    "**df_2** dataset\n",
    "- tweet_json has duplicate rows that need to be dropped\n",
    "- In the tweet_json file ‘retweet count’ has an inconsistent format by not having an underscore to replace the space between words. It is a duplicate column to ‘reteet_count’ and has all NaN values. \n",
    "- stuff\n",
    "\n",
    "**images** dataset\n",
    "- ‘p1’, ‘p2’, and ‘p3’ are all in snake case format and some of the categorical values are capitalized while others are not."
   ]
  },
  {
   "cell_type": "markdown",
   "metadata": {},
   "source": [
    "#### Tidiness Issues\n",
    "**df_1** dataset \n",
    "- The columns Doggo, Pupper, Floofer, and Puppo need to be melted into one column\n",
    "- After ‘rating_denominator’ values were set to 10, I dropped the column and renamed ‘rating_numerator’ to the general ‘rating’\n",
    "\n",
    "**all datasets** - Will need to merged twitter_archive_enhanced, tweet_json, and image_prediction Dataframes into one Dataframe twitter_archive_master.csv"
   ]
  },
  {
   "cell_type": "markdown",
   "metadata": {},
   "source": [
    "# Clean"
   ]
  },
  {
   "cell_type": "code",
   "execution_count": 21,
   "metadata": {},
   "outputs": [],
   "source": [
    "df_1_cln = df_1.copy()\n",
    "df_2_cln = df_2.copy()\n",
    "images_cln = images.copy()"
   ]
  },
  {
   "cell_type": "markdown",
   "metadata": {},
   "source": [
    "## Fixing Quality Issues"
   ]
  },
  {
   "cell_type": "markdown",
   "metadata": {},
   "source": [
    "##### Define\n",
    "- 1. Drop the columns **in_reply_to_status_id**,**in_reply_to_user_id**,**retweeted_status_id**, **retweeted_status_user_id**,**retweeted_status_timestamp** with NaN values from the **df_1** dataset"
   ]
  },
  {
   "cell_type": "markdown",
   "metadata": {},
   "source": [
    "##### Code"
   ]
  },
  {
   "cell_type": "code",
   "execution_count": 22,
   "metadata": {},
   "outputs": [],
   "source": [
    "df_1_cln.drop(columns=['in_reply_to_status_id','in_reply_to_user_id','retweeted_status_id',\n",
    "                   'retweeted_status_user_id','retweeted_status_timestamp'\n",
    "                   ], inplace=True)"
   ]
  },
  {
   "cell_type": "markdown",
   "metadata": {},
   "source": [
    "##### Test the results"
   ]
  },
  {
   "cell_type": "code",
   "execution_count": 23,
   "metadata": {},
   "outputs": [
    {
     "data": {
      "text/plain": [
       "Index(['tweet_id', 'timestamp', 'source', 'text', 'expanded_urls',\n",
       "       'rating_numerator', 'rating_denominator', 'name', 'doggo', 'floofer',\n",
       "       'pupper', 'puppo'],\n",
       "      dtype='object')"
      ]
     },
     "execution_count": 23,
     "metadata": {},
     "output_type": "execute_result"
    }
   ],
   "source": [
    "df_1_cln.columns"
   ]
  },
  {
   "cell_type": "markdown",
   "metadata": {},
   "source": [
    "##### Define \n",
    "- Column 'retweet count' has no values, and is a duplicate column name of 'retweet_count'. Because of this, the column should be dropped from **df_2**"
   ]
  },
  {
   "cell_type": "markdown",
   "metadata": {},
   "source": [
    "##### Code"
   ]
  },
  {
   "cell_type": "code",
   "execution_count": 24,
   "metadata": {},
   "outputs": [],
   "source": [
    "df_2_cln.drop(columns={'retweet count'},inplace=True)"
   ]
  },
  {
   "cell_type": "markdown",
   "metadata": {},
   "source": [
    "##### Test the results"
   ]
  },
  {
   "cell_type": "code",
   "execution_count": 25,
   "metadata": {},
   "outputs": [
    {
     "name": "stdout",
     "output_type": "stream",
     "text": [
      "\n",
      "This column does not exists in Dataframe\n"
     ]
    }
   ],
   "source": [
    "if 'retweet count' in df_2_cln.columns :\n",
    "    print(\"\\nThis column exists in Dataframe\")\n",
    "else :\n",
    "    print(\"\\nThis column does not exists in Dataframe\")"
   ]
  },
  {
   "cell_type": "markdown",
   "metadata": {},
   "source": [
    "##### Define\n",
    "- 2. The tweet in row 342 was not a rating, but a reply to question asking for the date that the twitter account began.\n"
   ]
  },
  {
   "cell_type": "code",
   "execution_count": 26,
   "metadata": {},
   "outputs": [
    {
     "data": {
      "text/plain": [
       "(tweet_id                                             832088576586297345\n",
       " timestamp                                     2017-02-16 04:45:50 +0000\n",
       " source                <a href=\"http://twitter.com/download/iphone\" r...\n",
       " text                           @docmisterio account started on 11/15/15\n",
       " expanded_urls                                                       NaN\n",
       " rating_numerator                                                     11\n",
       " rating_denominator                                                   15\n",
       " name                                                               None\n",
       " doggo                                                              None\n",
       " floofer                                                            None\n",
       " pupper                                                             None\n",
       " puppo                                                              None\n",
       " Name: 342, dtype: object, '@docmisterio account started on 11/15/15')"
      ]
     },
     "execution_count": 26,
     "metadata": {},
     "output_type": "execute_result"
    }
   ],
   "source": [
    "df_1_cln.loc[342,:],df_1_cln.loc[342,'text']"
   ]
  },
  {
   "cell_type": "markdown",
   "metadata": {},
   "source": [
    "#####  Code"
   ]
  },
  {
   "cell_type": "code",
   "execution_count": 27,
   "metadata": {},
   "outputs": [],
   "source": [
    "df_1_cln.drop([342],inplace=True)"
   ]
  },
  {
   "cell_type": "markdown",
   "metadata": {},
   "source": [
    "##### Test the results"
   ]
  },
  {
   "cell_type": "code",
   "execution_count": 28,
   "metadata": {},
   "outputs": [
    {
     "name": "stdout",
     "output_type": "stream",
     "text": [
      "\n",
      "This value does not exists in Dataframe\n"
     ]
    }
   ],
   "source": [
    "if 342 in df_1_cln.index :\n",
    "    print(\"\\nThis value exists in Dataframe\")\n",
    "else :\n",
    "    print(\"\\nThis value does not exists in Dataframe\")"
   ]
  },
  {
   "cell_type": "markdown",
   "metadata": {},
   "source": [
    "##### Define\n",
    "- 3.  Fixing row #516 (No rating given) in the **df_1** dataset"
   ]
  },
  {
   "cell_type": "code",
   "execution_count": 29,
   "metadata": {},
   "outputs": [
    {
     "data": {
      "text/plain": [
       "(tweet_id                                                     810984652412424192\n",
       " in_reply_to_status_id                                                       NaN\n",
       " in_reply_to_user_id                                                         NaN\n",
       " timestamp                                             2016-12-19 23:06:23 +0000\n",
       " source                        <a href=\"http://twitter.com/download/iphone\" r...\n",
       " text                          Meet Sam. She smiles 24/7 &amp; secretly aspir...\n",
       " retweeted_status_id                                                         NaN\n",
       " retweeted_status_user_id                                                    NaN\n",
       " retweeted_status_timestamp                                                  NaN\n",
       " expanded_urls                 https://www.gofundme.com/sams-smile,https://tw...\n",
       " rating_numerator                                                             24\n",
       " rating_denominator                                                            7\n",
       " name                                                                        Sam\n",
       " doggo                                                                      None\n",
       " floofer                                                                    None\n",
       " pupper                                                                     None\n",
       " puppo                                                                      None\n",
       " Name: 516, dtype: object,\n",
       " 'Meet Sam. She smiles 24/7 &amp; secretly aspires to be a reindeer. \\nKeep Sam smiling by clicking and sharing this link:\\nhttps://t.co/98tB8y7y7t https://t.co/LouL5vdvxx')"
      ]
     },
     "execution_count": 29,
     "metadata": {},
     "output_type": "execute_result"
    }
   ],
   "source": [
    "df_1.loc[516,:],df_1.loc[516,'text']"
   ]
  },
  {
   "cell_type": "markdown",
   "metadata": {},
   "source": [
    "#####  Code"
   ]
  },
  {
   "cell_type": "code",
   "execution_count": 30,
   "metadata": {},
   "outputs": [],
   "source": [
    "df_1_cln.loc[516, 'rating_numerator']= np.median(df_1_cln.rating_numerator)\n",
    "df_1_cln.loc[516, 'rating_denominator']= np.median(df_1_cln.rating_denominator)"
   ]
  },
  {
   "cell_type": "code",
   "execution_count": 31,
   "metadata": {},
   "outputs": [
    {
     "name": "stdout",
     "output_type": "stream",
     "text": [
      "Since Sam was never given a rating, I gave him the median rating which is 11.0/10.0\n"
     ]
    }
   ],
   "source": [
    "print(f\"Since Sam was never given a rating, I gave him the median rating which is {df_1_cln.loc[516,'rating_numerator']}/{df_1_cln.loc[516,'rating_denominator']}\")"
   ]
  },
  {
   "cell_type": "markdown",
   "metadata": {},
   "source": [
    "##### Define\n",
    "- 4.Dropping the duplicate in the **df_2** dataset"
   ]
  },
  {
   "cell_type": "code",
   "execution_count": 32,
   "metadata": {},
   "outputs": [
    {
     "data": {
      "text/plain": [
       "2166"
      ]
     },
     "execution_count": 32,
     "metadata": {},
     "output_type": "execute_result"
    }
   ],
   "source": [
    "len(df_2_cln)"
   ]
  },
  {
   "cell_type": "code",
   "execution_count": 33,
   "metadata": {},
   "outputs": [],
   "source": [
    "df_2_cln = df_2_cln.drop_duplicates(subset=['tweet_id'],keep='first').reset_index()"
   ]
  },
  {
   "cell_type": "markdown",
   "metadata": {},
   "source": [
    "##### Test the results"
   ]
  },
  {
   "cell_type": "code",
   "execution_count": 34,
   "metadata": {},
   "outputs": [
    {
     "data": {
      "text/plain": [
       "False"
      ]
     },
     "execution_count": 34,
     "metadata": {},
     "output_type": "execute_result"
    }
   ],
   "source": [
    "df_2_cln.tweet_id.duplicated().any()"
   ]
  },
  {
   "cell_type": "code",
   "execution_count": 35,
   "metadata": {},
   "outputs": [
    {
     "data": {
      "text/plain": [
       "2026"
      ]
     },
     "execution_count": 35,
     "metadata": {},
     "output_type": "execute_result"
    }
   ],
   "source": [
    "len(df_2_cln)"
   ]
  },
  {
   "cell_type": "markdown",
   "metadata": {},
   "source": [
    "##### Define\n",
    "- 5. Replacing all mislabeled ratings with the correct rating"
   ]
  },
  {
   "cell_type": "code",
   "execution_count": 36,
   "metadata": {},
   "outputs": [
    {
     "name": "stdout",
     "output_type": "stream",
     "text": [
      "Row 313\n",
      "Numerator 13\n",
      "Denominator: 10\n",
      "@jonnysun @Lin_Manuel ok jomny I know you're excited but 960/00 isn't a valid rating, 13/10 is tho\n",
      "\n",
      "Row 433\n",
      "Numerator Unchanged\n",
      "Denominator: Unchanged\n",
      "The floofs have been released I repeat the floofs have been released. 84/70 https://t.co/NIYC820tmd\n",
      "\n",
      "Row 784\n",
      "Numerator 14\n",
      "Denominator: 10\n",
      "RT @dog_rates: After so many requests, this is Bretagne. She was the last surviving 9/11 search dog, and our second ever 14/10. RIP https:/…\n",
      "\n",
      "Row 902\n",
      "Numerator Unchanged\n",
      "Denominator: Unchanged\n",
      "Why does this never happen at my front door... 165/150 https://t.co/HmwrdfEfUE\n",
      "\n",
      "Row 1068\n",
      "Numerator 14\n",
      "Denominator: 10\n",
      "After so many requests, this is Bretagne. She was the last surviving 9/11 search dog, and our second ever 14/10. RIP https://t.co/XAVDNDaVgQ\n",
      "\n",
      "Row 1120\n",
      "Numerator Unchanged\n",
      "Denominator: Unchanged\n",
      "Say hello to this unbelievably well behaved squad of doggos. 204/170 would try to pet all at once https://t.co/yGQI3He3xv\n",
      "\n",
      "Row 1165\n",
      "Numerator 13\n",
      "Denominator: 10\n",
      "Happy 4/20 from the squad! 13/10 for all https://t.co/eV1diwds8a\n",
      "\n",
      "Row 1202\n",
      "Numerator 11\n",
      "Denominator: 10\n",
      "This is Bluebert. He just saw that both #FinalFur match ups are split 50/50. Amazed af. 11/10 https://t.co/Kky1DPG4iq\n",
      "\n",
      "Row 1228\n",
      "Numerator Unchanged\n",
      "Denominator: Unchanged\n",
      "Happy Saturday here's 9 puppers on a bench. 99/90 good work everybody https://t.co/mpvaVxKmc1\n",
      "\n",
      "Row 1254\n",
      "Numerator Unchanged\n",
      "Denominator: Unchanged\n",
      "Here's a brigade of puppers. All look very prepared for whatever happens next. 80/80 https://t.co/0eb7R1Om12\n",
      "\n",
      "Row 1274\n",
      "Numerator Unchanged\n",
      "Denominator: Unchanged\n",
      "From left to right:\n",
      "Cletus, Jerome, Alejandro, Burp, &amp; Titson\n",
      "None know where camera is. 45/50 would hug all at once https://t.co/sedre1ivTK\n",
      "\n",
      "Row 1351\n",
      "Numerator Unchanged\n",
      "Denominator: Unchanged\n",
      "Here is a whole flock of puppers.  60/50 I'll take the lot https://t.co/9dpcw6MdWa\n",
      "\n",
      "Row 1433\n",
      "Numerator Unchanged\n",
      "Denominator: Unchanged\n",
      "Happy Wednesday here's a bucket of pups. 44/40 would pet all at once https://t.co/HppvrYuamZ\n",
      "\n",
      "Row 1598\n",
      "Numerator Unchanged\n",
      "Denominator: Unchanged\n",
      "Yes I do realize a rating of 4/20 would've been fitting. However, it would be unjust to give these cooperative pups that low of a rating\n",
      "\n",
      "Row 1634\n",
      "Numerator Unchanged\n",
      "Denominator: Unchanged\n",
      "Two sneaky puppers were not initially seen, moving the rating to 143/130. Please forgive us. Thank you https://t.co/kRK51Y5ac3\n",
      "\n",
      "Row 1635\n",
      "Numerator Unchanged\n",
      "Denominator: Unchanged\n",
      "Someone help the girl is being mugged. Several are distracting her while two steal her shoes. Clever puppers 121/110 https://t.co/1zfnTJLt55\n",
      "\n",
      "Row 1662\n",
      "Numerator 10\n",
      "Denominator: 10\n",
      "This is Darrel. He just robbed a 7/11 and is in a high speed police chase. Was just spotted by the helicopter 10/10 https://t.co/7EsP8LmSp5\n",
      "\n",
      "Row 1663\n",
      "Numerator Unchanged\n",
      "Denominator: Unchanged\n",
      "I'm aware that I could've said 20/16, but here at WeRateDogs we are very professional. An inconsistent rating scale is simply irresponsible\n",
      "\n",
      "Row 1779\n",
      "Numerator Unchanged\n",
      "Denominator: Unchanged\n",
      "IT'S PUPPERGEDDON. Total of 144/120 ...I think https://t.co/ZanVtAtvIq\n",
      "\n",
      "Row 1843\n",
      "Numerator Unchanged\n",
      "Denominator: Unchanged\n",
      "Here we have an entire platoon of puppers. Total score: 88/80 would pet all at once https://t.co/y93p6FLvVw\n",
      "\n",
      "Row 2335\n",
      "Numerator 9\n",
      "Denominator: 10\n",
      "This is an Albanian 3 1/2 legged  Episcopalian. Loves well-polished hardwood flooring. Penis on the collar. 9/10 https://t.co/d9NcXFKwLv\n",
      "\n"
     ]
    }
   ],
   "source": [
    "indices = []\n",
    "for i, row in df_1_cln.iterrows():\n",
    "    if df_1_cln.rating_denominator[i] != 10:\n",
    "        in_str= row['text']\n",
    "        try:\n",
    "            test = re.search(r'\\d+(?:\\.\\d+)?/10', in_str).group()\n",
    "            den = re.findall(r'\\d+', test)[1]\n",
    "            test = re.findall(r'\\d+', test)[0]\n",
    "            df_1_cln.at[i,'rating_numerator'] = test\n",
    "            df_1_cln.at[i,'rating_denominator'] = den\n",
    "            indices.append(i)\n",
    "        except:\n",
    "            test = 'Unchanged'\n",
    "        if test == 'Unchanged':\n",
    "            denominator = 'Unchanged'\n",
    "        else:\n",
    "            denominator = den\n",
    "                \n",
    "        print(f'Row {i}\\nNumerator {test}\\nDenominator: {denominator}\\n{in_str}\\n')\n",
    "        \n",
    "    else:\n",
    "        pass"
   ]
  },
  {
   "cell_type": "markdown",
   "metadata": {},
   "source": [
    "##### Test the results"
   ]
  },
  {
   "cell_type": "code",
   "execution_count": 37,
   "metadata": {},
   "outputs": [
    {
     "name": "stdout",
     "output_type": "stream",
     "text": [
      "Row 313 has a rating of 13.0/10.0\n",
      "Row 784 has a rating of 14.0/10.0\n",
      "Row 1068 has a rating of 14.0/10.0\n",
      "Row 1165 has a rating of 13.0/10.0\n",
      "Row 1202 has a rating of 11.0/10.0\n",
      "Row 1662 has a rating of 10.0/10.0\n",
      "Row 2335 has a rating of 9.0/10.0\n"
     ]
    }
   ],
   "source": [
    "for i in range(len(indices)):\n",
    "    ind = indices[i]\n",
    "    num = df_1_cln.rating_numerator[indices[i]]\n",
    "    den = df_1_cln.rating_denominator[indices[i]]\n",
    "    print(f'Row {ind} has a rating of {num}/{den}')"
   ]
  },
  {
   "cell_type": "markdown",
   "metadata": {},
   "source": [
    "##### Define\n",
    "- 6. Normalizing Denominators to a Standard of 10 structuring data to facilitate analysis **df_1**"
   ]
  },
  {
   "cell_type": "markdown",
   "metadata": {},
   "source": [
    "#####  Code"
   ]
  },
  {
   "cell_type": "code",
   "execution_count": 38,
   "metadata": {},
   "outputs": [],
   "source": [
    "norm_numerator= []\n",
    "norm_denominator= []\n",
    "for i, row in df_1_cln.iterrows():\n",
    "    norm = 10 / row['rating_denominator']\n",
    "    num = row['rating_numerator'] = row['rating_numerator']* norm\n",
    "    norm_numerator.append(num)\n",
    "    den = row['rating_denominator'] = row['rating_denominator']* norm\n",
    "    norm_denominator.append(den)"
   ]
  },
  {
   "cell_type": "code",
   "execution_count": 39,
   "metadata": {},
   "outputs": [],
   "source": [
    "df_1_cln['rating_numerator'] = norm_numerator\n",
    "df_1_cln['rating_denominator'] = norm_denominator"
   ]
  },
  {
   "cell_type": "markdown",
   "metadata": {},
   "source": [
    "##### Test the results"
   ]
  },
  {
   "cell_type": "code",
   "execution_count": 40,
   "metadata": {},
   "outputs": [
    {
     "data": {
      "text/plain": [
       "False"
      ]
     },
     "execution_count": 40,
     "metadata": {},
     "output_type": "execute_result"
    }
   ],
   "source": [
    "df_1_cln.query('rating_denominator !=10')['rating_denominator'].any()"
   ]
  },
  {
   "cell_type": "code",
   "execution_count": 41,
   "metadata": {},
   "outputs": [
    {
     "data": {
      "text/plain": [
       "10.0    2355\n",
       "Name: rating_denominator, dtype: int64"
      ]
     },
     "execution_count": 41,
     "metadata": {},
     "output_type": "execute_result"
    }
   ],
   "source": [
    "df_1_cln.rating_denominator.value_counts()"
   ]
  },
  {
   "cell_type": "code",
   "execution_count": 42,
   "metadata": {},
   "outputs": [
    {
     "data": {
      "text/plain": [
       "12.0      562\n",
       "11.0      471\n",
       "10.0      463\n",
       "13.0      353\n",
       "9.0       158\n",
       "8.0       102\n",
       "14.0       56\n",
       "7.0        54\n",
       "5.0        37\n",
       "6.0        32\n",
       "3.0        19\n",
       "4.0        15\n",
       "2.0        10\n",
       "1.0         8\n",
       "0.0         2\n",
       "75.0        2\n",
       "15.0        2\n",
       "420.0       2\n",
       "17.0        1\n",
       "666.0       1\n",
       "12.5        1\n",
       "1776.0      1\n",
       "26.0        1\n",
       "27.0        1\n",
       "182.0       1\n",
       "Name: rating_numerator, dtype: int64"
      ]
     },
     "execution_count": 42,
     "metadata": {},
     "output_type": "execute_result"
    }
   ],
   "source": [
    "df_1_cln.rating_numerator.value_counts()"
   ]
  },
  {
   "cell_type": "markdown",
   "metadata": {},
   "source": [
    "##### Define\n",
    "- 7.  Correcting Ratings Containing Decimal Places, Using Regular Expression to loop through each text and pull out any digits with decimal places in the **df_1** dataset"
   ]
  },
  {
   "cell_type": "markdown",
   "metadata": {},
   "source": [
    "#####  Code"
   ]
  },
  {
   "cell_type": "code",
   "execution_count": 43,
   "metadata": {},
   "outputs": [
    {
     "name": "stdout",
     "output_type": "stream",
     "text": [
      "The rating in row 45 used to be 5.0 and now is 13.5.\n",
      "The rating in row 340 used to be 75.0 and now is 9.75.\n",
      "The rating in row 695 used to be 75.0 and now is 9.75.\n",
      "The rating in row 763 used to be 27.0 and now is 11.27.\n",
      "The rating in row 1689 used to be 5.0 and now is 9.5.\n",
      "The rating in row 1712 used to be 26.0 and now is 11.26.\n"
     ]
    }
   ],
   "source": [
    "for i, row in df_1_cln.iterrows():\n",
    "    in_str= row['text']\n",
    "    split = re.split(r'/' , in_str)[0]\n",
    "    if bool(re.search(r'\\d+\\.\\d+$', split)) == True:\n",
    "        after = re.findall(r'\\d+\\.\\d+', split)[0]\n",
    "        before = df_1_cln.loc[i, 'rating_numerator']\n",
    "        df_1_cln.loc[i, 'rating_numerator'] = after\n",
    "        print(f\"The rating in row {i} used to be {before} and now is {after}.\")\n",
    "    else:\n",
    "        pass"
   ]
  },
  {
   "cell_type": "code",
   "execution_count": 44,
   "metadata": {},
   "outputs": [
    {
     "data": {
      "text/plain": [
       "dtype('O')"
      ]
     },
     "execution_count": 44,
     "metadata": {},
     "output_type": "execute_result"
    }
   ],
   "source": [
    "df_1_cln.rating_numerator.dtype"
   ]
  },
  {
   "cell_type": "code",
   "execution_count": 45,
   "metadata": {},
   "outputs": [],
   "source": [
    "df_1_cln['rating_numerator'] = df_1_cln['rating_numerator'].astype('float64')"
   ]
  },
  {
   "cell_type": "markdown",
   "metadata": {},
   "source": [
    "##### Test the results"
   ]
  },
  {
   "cell_type": "code",
   "execution_count": 46,
   "metadata": {},
   "outputs": [
    {
     "name": "stdout",
     "output_type": "stream",
     "text": [
      "Now row 45 has the correct rating of 13.5.\n",
      "\n",
      "This is Bella. She hopes her smile made you smile. If not, she is also offering you her favorite monkey. 13.5/10 https://t.co/qjrljjt948\n",
      "------------------------------------------------------------------------------------------------------------------\n",
      "\n",
      "Now row 340 has the correct rating of 9.75.\n",
      "\n",
      "RT @dog_rates: This is Logan, the Chow who lived. He solemnly swears he's up to lots of good. H*ckin magical af 9.75/10 https://t.co/yBO5wu…\n",
      "------------------------------------------------------------------------------------------------------------------\n",
      "\n",
      "Now row 695 has the correct rating of 9.75.\n",
      "\n",
      "This is Logan, the Chow who lived. He solemnly swears he's up to lots of good. H*ckin magical af 9.75/10 https://t.co/yBO5wuqaPS\n",
      "------------------------------------------------------------------------------------------------------------------\n",
      "\n",
      "Now row 763 has the correct rating of 11.27.\n",
      "\n",
      "This is Sophie. She's a Jubilant Bush Pupper. Super h*ckin rare. Appears at random just to smile at the locals. 11.27/10 would smile back https://t.co/QFaUiIHxHq\n",
      "------------------------------------------------------------------------------------------------------------------\n",
      "\n",
      "Now row 1663 has the correct rating of 12.5.\n",
      "\n",
      "I'm aware that I could've said 20/16, but here at WeRateDogs we are very professional. An inconsistent rating scale is simply irresponsible\n",
      "------------------------------------------------------------------------------------------------------------------\n",
      "\n",
      "Now row 1689 has the correct rating of 9.5.\n",
      "\n",
      "I've been told there's a slight possibility he's checking his mirror. We'll bump to 9.5/10. Still a menace\n",
      "------------------------------------------------------------------------------------------------------------------\n",
      "\n",
      "Now row 1712 has the correct rating of 11.26.\n",
      "\n",
      "Here we have uncovered an entire battalion of holiday puppers. Average of 11.26/10 https://t.co/eNm2S6p9BD\n",
      "------------------------------------------------------------------------------------------------------------------\n",
      "\n"
     ]
    }
   ],
   "source": [
    "check = df_1_cln.rating_numerator\n",
    "text = df_1_cln.text\n",
    "divide = \"---\" * 38\n",
    "\n",
    "for i in range(len(check)):\n",
    "    try:\n",
    "        chk_dec = check[i]\n",
    "        txt = text[i] \n",
    "        if bool(chk_dec.is_integer()) == False:\n",
    "            print(f'Now row {i} has the correct rating of {chk_dec}.\\n\\n{txt}\\n{divide}\\n')\n",
    "        else:\n",
    "            pass\n",
    "    except:\n",
    "        pass"
   ]
  },
  {
   "cell_type": "markdown",
   "metadata": {},
   "source": [
    "##### Define\n",
    "- 8. Now that all the decimal places are accounted for, I will round to the nearest integer, to keep the ratings on a discrete scale."
   ]
  },
  {
   "cell_type": "markdown",
   "metadata": {},
   "source": [
    "#####  Code"
   ]
  },
  {
   "cell_type": "code",
   "execution_count": 47,
   "metadata": {},
   "outputs": [
    {
     "name": "stdout",
     "output_type": "stream",
     "text": [
      "The rating in row 45 used to be 13.5 and now it is 14.0.\n",
      "The rating in row 340 used to be 9.75 and now it is 10.0.\n",
      "The rating in row 695 used to be 9.75 and now it is 10.0.\n",
      "The rating in row 763 used to be 11.27 and now it is 11.0.\n",
      "The rating in row 1663 used to be 12.5 and now it is 12.0.\n",
      "The rating in row 1689 used to be 9.5 and now it is 10.0.\n",
      "The rating in row 1712 used to be 11.26 and now it is 11.0.\n"
     ]
    }
   ],
   "source": [
    "# Rounding Ratings to get a discrete scale\n",
    "for i, row in df_1_cln.iterrows():\n",
    "    before = df_1_cln.loc[i, 'rating_numerator']\n",
    "    after = round(df_1_cln.rating_numerator[i], 0)\n",
    "    df_1_cln.loc[i, 'rating_numerator'] = after\n",
    "    if bool(before == after) == False :\n",
    "        print(f\"The rating in row {i} used to be {before} and now it is {after}.\")\n",
    "    else:\n",
    "        pass"
   ]
  },
  {
   "cell_type": "markdown",
   "metadata": {},
   "source": [
    "##### Test the results"
   ]
  },
  {
   "cell_type": "code",
   "execution_count": 48,
   "metadata": {},
   "outputs": [
    {
     "name": "stdout",
     "output_type": "stream",
     "text": [
      "All 2354 tweets passed the test successfully!\n"
     ]
    }
   ],
   "source": [
    "check = df_1_cln.rating_numerator\n",
    "tally = []\n",
    "for i in range(len(check)):\n",
    "    try:\n",
    "        chk_dec = check[i]\n",
    "        chk = chk_dec.is_integer()\n",
    "        tally.append(not chk)\n",
    "    except:\n",
    "        pass\n",
    "if bool(any(tally)) == True:\n",
    "    n = len(tally)\n",
    "    print(f'Some of the {n} tweets failed the test')\n",
    "else:\n",
    "    n = len(tally)\n",
    "    print(f'All {n} tweets passed the test successfully!')"
   ]
  },
  {
   "cell_type": "markdown",
   "metadata": {},
   "source": [
    "##### Define\n",
    "- 9. Set the datatype of **rating_numerator** from a float64 to and integer."
   ]
  },
  {
   "cell_type": "code",
   "execution_count": 49,
   "metadata": {},
   "outputs": [
    {
     "data": {
      "text/plain": [
       "dtype('float64')"
      ]
     },
     "execution_count": 49,
     "metadata": {},
     "output_type": "execute_result"
    }
   ],
   "source": [
    "df_1_cln.rating_numerator.dtype"
   ]
  },
  {
   "cell_type": "markdown",
   "metadata": {},
   "source": [
    "#####  Code"
   ]
  },
  {
   "cell_type": "code",
   "execution_count": 50,
   "metadata": {},
   "outputs": [],
   "source": [
    "df_1_cln.rating_numerator = df_1_cln.rating_numerator.astype(int) "
   ]
  },
  {
   "cell_type": "markdown",
   "metadata": {},
   "source": [
    "##### Test the results"
   ]
  },
  {
   "cell_type": "code",
   "execution_count": 51,
   "metadata": {},
   "outputs": [
    {
     "data": {
      "text/plain": [
       "dtype('int32')"
      ]
     },
     "execution_count": 51,
     "metadata": {},
     "output_type": "execute_result"
    }
   ],
   "source": [
    "df_1_cln.rating_numerator.dtype"
   ]
  },
  {
   "cell_type": "markdown",
   "metadata": {},
   "source": [
    "##### Define\n",
    "- 11. The columns **p1**, **p2**, and **p3** are all in snake case format and some of the categorical values are capitalized while others are not.  To clean this up I would like to remove the underscore(s) of each row and put the classications in title format "
   ]
  },
  {
   "cell_type": "markdown",
   "metadata": {},
   "source": [
    "##### Code"
   ]
  },
  {
   "cell_type": "code",
   "execution_count": 52,
   "metadata": {},
   "outputs": [],
   "source": [
    "pvals = ['p1', 'p2', 'p3']\n",
    "\n",
    "def removeSnake(word):\n",
    "        return ''.join(x.lower() or '_' for x in word.replace('_', ' '))\n",
    "for p in pvals: \n",
    "    exec(f\"images_cln.{p} = images_cln.{p}.apply(lambda x : removeSnake(x))\")"
   ]
  },
  {
   "cell_type": "markdown",
   "metadata": {},
   "source": [
    "##### Test the results"
   ]
  },
  {
   "cell_type": "code",
   "execution_count": 53,
   "metadata": {},
   "outputs": [
    {
     "data": {
      "text/html": [
       "<div>\n",
       "<style scoped>\n",
       "    .dataframe tbody tr th:only-of-type {\n",
       "        vertical-align: middle;\n",
       "    }\n",
       "\n",
       "    .dataframe tbody tr th {\n",
       "        vertical-align: top;\n",
       "    }\n",
       "\n",
       "    .dataframe thead th {\n",
       "        text-align: right;\n",
       "    }\n",
       "</style>\n",
       "<table border=\"1\" class=\"dataframe\">\n",
       "  <thead>\n",
       "    <tr style=\"text-align: right;\">\n",
       "      <th></th>\n",
       "      <th>p1</th>\n",
       "      <th>p2</th>\n",
       "      <th>p3</th>\n",
       "    </tr>\n",
       "  </thead>\n",
       "  <tbody>\n",
       "    <tr>\n",
       "      <td>221</td>\n",
       "      <td>toy poodle</td>\n",
       "      <td>miniature poodle</td>\n",
       "      <td>chow</td>\n",
       "    </tr>\n",
       "    <tr>\n",
       "      <td>1200</td>\n",
       "      <td>malamute</td>\n",
       "      <td>samoyed</td>\n",
       "      <td>siberian husky</td>\n",
       "    </tr>\n",
       "    <tr>\n",
       "      <td>296</td>\n",
       "      <td>tub</td>\n",
       "      <td>bathtub</td>\n",
       "      <td>swimming trunks</td>\n",
       "    </tr>\n",
       "    <tr>\n",
       "      <td>963</td>\n",
       "      <td>staffordshire bullterrier</td>\n",
       "      <td>american staffordshire terrier</td>\n",
       "      <td>bull mastiff</td>\n",
       "    </tr>\n",
       "    <tr>\n",
       "      <td>733</td>\n",
       "      <td>cheeseburger</td>\n",
       "      <td>hotdog</td>\n",
       "      <td>bagel</td>\n",
       "    </tr>\n",
       "    <tr>\n",
       "      <td>735</td>\n",
       "      <td>labrador retriever</td>\n",
       "      <td>chesapeake bay retriever</td>\n",
       "      <td>german short-haired pointer</td>\n",
       "    </tr>\n",
       "    <tr>\n",
       "      <td>828</td>\n",
       "      <td>dining table</td>\n",
       "      <td>grey fox</td>\n",
       "      <td>siamese cat</td>\n",
       "    </tr>\n",
       "    <tr>\n",
       "      <td>1338</td>\n",
       "      <td>labrador retriever</td>\n",
       "      <td>chihuahua</td>\n",
       "      <td>american staffordshire terrier</td>\n",
       "    </tr>\n",
       "    <tr>\n",
       "      <td>512</td>\n",
       "      <td>hamster</td>\n",
       "      <td>guinea pig</td>\n",
       "      <td>broccoli</td>\n",
       "    </tr>\n",
       "    <tr>\n",
       "      <td>70</td>\n",
       "      <td>rottweiler</td>\n",
       "      <td>miniature pinscher</td>\n",
       "      <td>black-and-tan coonhound</td>\n",
       "    </tr>\n",
       "  </tbody>\n",
       "</table>\n",
       "</div>"
      ],
      "text/plain": [
       "                             p1                              p2  \\\n",
       "221                  toy poodle                miniature poodle   \n",
       "1200                   malamute                         samoyed   \n",
       "296                         tub                         bathtub   \n",
       "963   staffordshire bullterrier  american staffordshire terrier   \n",
       "733                cheeseburger                          hotdog   \n",
       "735          labrador retriever        chesapeake bay retriever   \n",
       "828                dining table                        grey fox   \n",
       "1338         labrador retriever                       chihuahua   \n",
       "512                     hamster                      guinea pig   \n",
       "70                   rottweiler              miniature pinscher   \n",
       "\n",
       "                                  p3  \n",
       "221                             chow  \n",
       "1200                  siberian husky  \n",
       "296                  swimming trunks  \n",
       "963                     bull mastiff  \n",
       "733                            bagel  \n",
       "735      german short-haired pointer  \n",
       "828                      siamese cat  \n",
       "1338  american staffordshire terrier  \n",
       "512                         broccoli  \n",
       "70           black-and-tan coonhound  "
      ]
     },
     "execution_count": 53,
     "metadata": {},
     "output_type": "execute_result"
    }
   ],
   "source": [
    "images_cln[['p1','p2','p3']].sample(10)"
   ]
  },
  {
   "cell_type": "markdown",
   "metadata": {},
   "source": [
    "##### Define\n",
    "- 12. The ‘timestamp’ column is formatted down to the millisecond. This is accurate and thorough information, but for future timeseries analysis, I will convert the time in a date format of month, day year"
   ]
  },
  {
   "cell_type": "markdown",
   "metadata": {},
   "source": [
    "#####  Code"
   ]
  },
  {
   "cell_type": "code",
   "execution_count": 54,
   "metadata": {},
   "outputs": [
    {
     "name": "stdout",
     "output_type": "stream",
     "text": [
      "Success!\n"
     ]
    }
   ],
   "source": [
    "import datetime as dt\n",
    "try:\n",
    "    time = pd.to_datetime(df_1_cln['timestamp'])\n",
    "    df_1_cln['timestamp'] = time.dt.strftime('%Y/%m/%d %H:%M')\n",
    "    print('Success!')\n",
    "except:\n",
    "    print('No changes made')"
   ]
  },
  {
   "cell_type": "markdown",
   "metadata": {},
   "source": [
    "##### Test the results"
   ]
  },
  {
   "cell_type": "code",
   "execution_count": 55,
   "metadata": {},
   "outputs": [
    {
     "data": {
      "text/plain": [
       "2298    2015/11/18 20:02\n",
       "1424    2016/02/12 03:47\n",
       "802     2016/09/03 22:02\n",
       "935     2016/07/14 01:19\n",
       "918     2016/07/23 00:46\n",
       "Name: timestamp, dtype: object"
      ]
     },
     "execution_count": 55,
     "metadata": {},
     "output_type": "execute_result"
    }
   ],
   "source": [
    "df_1_cln.timestamp.sample(5)"
   ]
  },
  {
   "cell_type": "markdown",
   "metadata": {},
   "source": [
    "##### Define\n",
    "- 13. 'rating_numerator' in **df_1** and 'retweet_count' in **df_2** should both be the data type int32 instead of float64. "
   ]
  },
  {
   "cell_type": "markdown",
   "metadata": {},
   "source": [
    "#####  Code"
   ]
  },
  {
   "cell_type": "code",
   "execution_count": 56,
   "metadata": {},
   "outputs": [],
   "source": [
    "df_1_cln.rating_numerator = df_1_cln.rating_numerator.astype(int)\n",
    "df_2_cln.retweet_count = df_2_cln.retweet_count.astype(np.int64)"
   ]
  },
  {
   "cell_type": "markdown",
   "metadata": {},
   "source": [
    "##### Test the results"
   ]
  },
  {
   "cell_type": "code",
   "execution_count": 57,
   "metadata": {},
   "outputs": [
    {
     "data": {
      "text/plain": [
       "(dtype('int32'), dtype('int64'))"
      ]
     },
     "execution_count": 57,
     "metadata": {},
     "output_type": "execute_result"
    }
   ],
   "source": [
    "df_1_cln.rating_numerator.dtype, df_2_cln.retweet_count.dtype"
   ]
  },
  {
   "cell_type": "markdown",
   "metadata": {},
   "source": [
    "##### Define\n",
    "- 13. The ‘text’ contains the body of the tweet, but then ends each tweet with a hyperlink.  The hyperlink is already represented in the ‘expanded_urls’ column, so having it shown twice is redundant information and is not really part of the text of the tweet."
   ]
  },
  {
   "cell_type": "markdown",
   "metadata": {},
   "source": [
    "#####  Code"
   ]
  },
  {
   "cell_type": "code",
   "execution_count": null,
   "metadata": {},
   "outputs": [],
   "source": [
    "df_1_cln['text'] = df_1_cln.text.apply(lambda text: text.split('http')[0])"
   ]
  },
  {
   "cell_type": "markdown",
   "metadata": {},
   "source": [
    "##### Test the results"
   ]
  },
  {
   "cell_type": "code",
   "execution_count": null,
   "metadata": {},
   "outputs": [],
   "source": [
    "line1 = df_1_cln.text[np.random.randint(0,len(df_1_cln))]\n",
    "line2 = df_1_cln.text[np.random.randint(0,len(df_1_cln))]\n",
    "line3 = df_1_cln.text[np.random.randint(0,len(df_1_cln))]\n",
    "\n",
    "print(f'{line1}\\n\\n{line2} \\n\\n{line3}')"
   ]
  },
  {
   "cell_type": "code",
   "execution_count": null,
   "metadata": {},
   "outputs": [],
   "source": []
  },
  {
   "cell_type": "code",
   "execution_count": null,
   "metadata": {},
   "outputs": [],
   "source": []
  },
  {
   "cell_type": "markdown",
   "metadata": {},
   "source": [
    "## Fixing Tidiness Issues"
   ]
  },
  {
   "cell_type": "markdown",
   "metadata": {},
   "source": [
    "This bring us to our first data tidy issue we will be fixing.\n",
    "1. Combine Numerator and Denominator rows to make a single Rating column\n",
    "    - We no longer need the **rating_denominator** column since they all are the same value of 10.\n",
    "    - The column **rating_numerator** can be renamed **rating** and need one value to rate our dogs, on a standardized scale of 10."
   ]
  },
  {
   "cell_type": "code",
   "execution_count": 58,
   "metadata": {},
   "outputs": [],
   "source": [
    "df_1_cln.drop(columns=['rating_denominator'],inplace = True)\n",
    "df_1_cln.rename(columns={\"rating_numerator\": \"rating\"},inplace=True)"
   ]
  },
  {
   "cell_type": "code",
   "execution_count": 59,
   "metadata": {},
   "outputs": [
    {
     "name": "stdout",
     "output_type": "stream",
     "text": [
      "Value Counts of new column rating: \n",
      "\n",
      "12      563\n",
      "11      473\n",
      "10      466\n",
      "13      353\n",
      "9       158\n",
      "8       102\n",
      "14       57\n",
      "7        54\n",
      "5        35\n",
      "6        32\n",
      "3        19\n",
      "4        15\n",
      "2        10\n",
      "1         8\n",
      "420       2\n",
      "15        2\n",
      "0         2\n",
      "17        1\n",
      "182       1\n",
      "1776      1\n",
      "666       1\n",
      "Name: rating, dtype: int64\n",
      "\n",
      "Updated column names to:\n",
      "\n",
      " ['tweet_id' 'timestamp' 'source' 'text' 'expanded_urls' 'rating' 'name'\n",
      " 'doggo' 'floofer' 'pupper' 'puppo']\n"
     ]
    }
   ],
   "source": [
    "\n",
    "print(f'Value Counts of new column rating: \\n\\n{df_1_cln.rating.value_counts()}\\n\\nUpdated column names to:\\n\\n {df_1_cln.columns.values}')"
   ]
  },
  {
   "cell_type": "markdown",
   "metadata": {},
   "source": [
    "##### Define\n",
    "- 2. Melting Doggo, Pupper, Floofer, and Puppo down to one category variable named Cute_Name in the **df_1** Dataframe  "
   ]
  },
  {
   "cell_type": "markdown",
   "metadata": {},
   "source": [
    "#####  Code"
   ]
  },
  {
   "cell_type": "code",
   "execution_count": 60,
   "metadata": {},
   "outputs": [],
   "source": [
    "a = df_1_cln['doggo']\n",
    "b = df_1_cln['pupper']\n",
    "c = df_1_cln['floofer']\n",
    "d = df_1_cln['puppo']\n",
    "\n",
    "\n",
    "df_1_cln['cute_name'] = a.str.cat(b.replace('None','')).str.cat(c.replace('None','')).str.cat(d.replace('None',''))"
   ]
  },
  {
   "cell_type": "code",
   "execution_count": 61,
   "metadata": {},
   "outputs": [],
   "source": [
    "dict_dog = {'Nonefloofer':'floofer','Nonepupper':'pupper','Nonepuppo':'puppo','doggopupper':'doggo, pupper',\n",
    "           'doggofloofer':'doggo, floofer','doggopuppo':'doggo, puppo','None':'Other'}\n",
    "\n",
    "for key, value in dict_dog.items():\n",
    "    df_1_cln['cute_name'] = df_1_cln.cute_name.replace(key,value)\n",
    "    \n",
    "df_1_cln.drop(columns=['doggo', 'floofer','pupper', 'puppo'],inplace=True)"
   ]
  },
  {
   "cell_type": "markdown",
   "metadata": {},
   "source": [
    "##### Test the results"
   ]
  },
  {
   "cell_type": "code",
   "execution_count": 62,
   "metadata": {},
   "outputs": [
    {
     "name": "stdout",
     "output_type": "stream",
     "text": [
      "Value Counts of new column cute_name: \n",
      "\n",
      "Other             1975\n",
      "pupper             245\n",
      "doggo               83\n",
      "puppo               29\n",
      "doggo, pupper       12\n",
      "floofer              9\n",
      "doggo, floofer       1\n",
      "doggo, puppo         1\n",
      "Name: cute_name, dtype: int64\n",
      "\n",
      "Updated column names to:\n",
      "\n",
      " ['tweet_id' 'timestamp' 'source' 'text' 'expanded_urls' 'rating' 'name'\n",
      " 'cute_name']\n"
     ]
    }
   ],
   "source": [
    "print(f'Value Counts of new column cute_name: \\n\\n{df_1_cln.cute_name.value_counts()}\\n\\nUpdated column names to:\\n\\n {df_1_cln.columns.values}')"
   ]
  },
  {
   "cell_type": "markdown",
   "metadata": {},
   "source": [
    "##### Define\n",
    "- 2. Merging **df_1**, **df_2**, and **images** Dataframes into a single table"
   ]
  },
  {
   "cell_type": "code",
   "execution_count": 65,
   "metadata": {},
   "outputs": [
    {
     "data": {
      "text/plain": [
       "(2355, 2026, 2075)"
      ]
     },
     "execution_count": 65,
     "metadata": {},
     "output_type": "execute_result"
    }
   ],
   "source": [
    "len(df_1_cln), len(df_2_cln), len(images_cln)"
   ]
  },
  {
   "cell_type": "markdown",
   "metadata": {},
   "source": [
    "#####  Code"
   ]
  },
  {
   "cell_type": "code",
   "execution_count": 66,
   "metadata": {},
   "outputs": [],
   "source": [
    "df_cln = df_1_cln.merge(df_2_cln, on='tweet_id', how='inner')"
   ]
  },
  {
   "cell_type": "code",
   "execution_count": 67,
   "metadata": {},
   "outputs": [],
   "source": [
    "df_cln = df_cln.merge(images_cln, on='tweet_id', how='inner')\n",
    "df_cln = df_cln.set_index('index').reset_index(drop=True)"
   ]
  },
  {
   "cell_type": "code",
   "execution_count": 68,
   "metadata": {},
   "outputs": [
    {
     "data": {
      "text/plain": [
       "1979"
      ]
     },
     "execution_count": 68,
     "metadata": {},
     "output_type": "execute_result"
    }
   ],
   "source": [
    "len(df_cln)"
   ]
  },
  {
   "cell_type": "markdown",
   "metadata": {},
   "source": [
    "##### Test the results"
   ]
  },
  {
   "cell_type": "code",
   "execution_count": 69,
   "metadata": {},
   "outputs": [
    {
     "data": {
      "text/plain": [
       "Index(['tweet_id', 'timestamp', 'source', 'text', 'expanded_urls', 'rating',\n",
       "       'name', 'cute_name', 'favorite_count', 'retweet_count', 'jpg_url',\n",
       "       'img_num', 'p1', 'p1_conf', 'p1_dog', 'p2', 'p2_conf', 'p2_dog', 'p3',\n",
       "       'p3_conf', 'p3_dog'],\n",
       "      dtype='object')"
      ]
     },
     "execution_count": 69,
     "metadata": {},
     "output_type": "execute_result"
    }
   ],
   "source": [
    "df_cln.columns"
   ]
  },
  {
   "cell_type": "code",
   "execution_count": 70,
   "metadata": {},
   "outputs": [
    {
     "data": {
      "text/plain": [
       "RangeIndex(start=0, stop=1979, step=1)"
      ]
     },
     "execution_count": 70,
     "metadata": {},
     "output_type": "execute_result"
    }
   ],
   "source": [
    "df_cln.index"
   ]
  },
  {
   "cell_type": "code",
   "execution_count": 71,
   "metadata": {
    "scrolled": true
   },
   "outputs": [
    {
     "name": "stdout",
     "output_type": "stream",
     "text": [
      "<class 'pandas.core.frame.DataFrame'>\n",
      "RangeIndex: 1979 entries, 0 to 1978\n",
      "Data columns (total 21 columns):\n",
      "tweet_id          1979 non-null int64\n",
      "timestamp         1979 non-null object\n",
      "source            1979 non-null object\n",
      "text              1979 non-null object\n",
      "expanded_urls     1979 non-null object\n",
      "rating            1979 non-null int32\n",
      "name              1979 non-null object\n",
      "cute_name         1979 non-null object\n",
      "favorite_count    1979 non-null int64\n",
      "retweet_count     1979 non-null int64\n",
      "jpg_url           1979 non-null object\n",
      "img_num           1979 non-null int64\n",
      "p1                1979 non-null object\n",
      "p1_conf           1979 non-null float64\n",
      "p1_dog            1979 non-null bool\n",
      "p2                1979 non-null object\n",
      "p2_conf           1979 non-null float64\n",
      "p2_dog            1979 non-null bool\n",
      "p3                1979 non-null object\n",
      "p3_conf           1979 non-null float64\n",
      "p3_dog            1979 non-null bool\n",
      "dtypes: bool(3), float64(3), int32(1), int64(4), object(10)\n",
      "memory usage: 276.5+ KB\n"
     ]
    }
   ],
   "source": [
    "df_cln.info()"
   ]
  },
  {
   "cell_type": "code",
   "execution_count": 72,
   "metadata": {},
   "outputs": [],
   "source": [
    "df_cln.to_csv(r'~/Desktop/Udacity Projects/4wrangle/twitter_archive_master.csv',\n",
    "           index = False, header=True, sep='\\t', encoding='utf-8')"
   ]
  },
  {
   "cell_type": "markdown",
   "metadata": {},
   "source": [
    "# Finding a Winner\n",
    "<a id=\"jump1\"> </a>"
   ]
  },
  {
   "cell_type": "code",
   "execution_count": 73,
   "metadata": {},
   "outputs": [
    {
     "data": {
      "text/html": [
       "<div>\n",
       "<style scoped>\n",
       "    .dataframe tbody tr th:only-of-type {\n",
       "        vertical-align: middle;\n",
       "    }\n",
       "\n",
       "    .dataframe tbody tr th {\n",
       "        vertical-align: top;\n",
       "    }\n",
       "\n",
       "    .dataframe thead th {\n",
       "        text-align: right;\n",
       "    }\n",
       "</style>\n",
       "<table border=\"1\" class=\"dataframe\">\n",
       "  <thead>\n",
       "    <tr style=\"text-align: right;\">\n",
       "      <th></th>\n",
       "      <th>tweet_id</th>\n",
       "      <th>timestamp</th>\n",
       "      <th>source</th>\n",
       "      <th>text</th>\n",
       "      <th>expanded_urls</th>\n",
       "      <th>name</th>\n",
       "      <th>cute_name</th>\n",
       "      <th>favorite_count</th>\n",
       "      <th>retweet_count</th>\n",
       "      <th>jpg_url</th>\n",
       "      <th>img_num</th>\n",
       "      <th>p1</th>\n",
       "      <th>p1_conf</th>\n",
       "      <th>p1_dog</th>\n",
       "      <th>p2</th>\n",
       "      <th>p2_conf</th>\n",
       "      <th>p2_dog</th>\n",
       "      <th>p3</th>\n",
       "      <th>p3_conf</th>\n",
       "      <th>p3_dog</th>\n",
       "    </tr>\n",
       "    <tr>\n",
       "      <th>rating</th>\n",
       "      <th></th>\n",
       "      <th></th>\n",
       "      <th></th>\n",
       "      <th></th>\n",
       "      <th></th>\n",
       "      <th></th>\n",
       "      <th></th>\n",
       "      <th></th>\n",
       "      <th></th>\n",
       "      <th></th>\n",
       "      <th></th>\n",
       "      <th></th>\n",
       "      <th></th>\n",
       "      <th></th>\n",
       "      <th></th>\n",
       "      <th></th>\n",
       "      <th></th>\n",
       "      <th></th>\n",
       "      <th></th>\n",
       "      <th></th>\n",
       "    </tr>\n",
       "  </thead>\n",
       "  <tbody>\n",
       "    <tr>\n",
       "      <td>0</td>\n",
       "      <td>2</td>\n",
       "      <td>2</td>\n",
       "      <td>2</td>\n",
       "      <td>2</td>\n",
       "      <td>2</td>\n",
       "      <td>2</td>\n",
       "      <td>2</td>\n",
       "      <td>2</td>\n",
       "      <td>2</td>\n",
       "      <td>2</td>\n",
       "      <td>2</td>\n",
       "      <td>2</td>\n",
       "      <td>2</td>\n",
       "      <td>2</td>\n",
       "      <td>2</td>\n",
       "      <td>2</td>\n",
       "      <td>2</td>\n",
       "      <td>2</td>\n",
       "      <td>2</td>\n",
       "      <td>2</td>\n",
       "    </tr>\n",
       "    <tr>\n",
       "      <td>1</td>\n",
       "      <td>4</td>\n",
       "      <td>4</td>\n",
       "      <td>4</td>\n",
       "      <td>4</td>\n",
       "      <td>4</td>\n",
       "      <td>4</td>\n",
       "      <td>4</td>\n",
       "      <td>4</td>\n",
       "      <td>4</td>\n",
       "      <td>4</td>\n",
       "      <td>4</td>\n",
       "      <td>4</td>\n",
       "      <td>4</td>\n",
       "      <td>4</td>\n",
       "      <td>4</td>\n",
       "      <td>4</td>\n",
       "      <td>4</td>\n",
       "      <td>4</td>\n",
       "      <td>4</td>\n",
       "      <td>4</td>\n",
       "    </tr>\n",
       "    <tr>\n",
       "      <td>2</td>\n",
       "      <td>9</td>\n",
       "      <td>9</td>\n",
       "      <td>9</td>\n",
       "      <td>9</td>\n",
       "      <td>9</td>\n",
       "      <td>9</td>\n",
       "      <td>9</td>\n",
       "      <td>9</td>\n",
       "      <td>9</td>\n",
       "      <td>9</td>\n",
       "      <td>9</td>\n",
       "      <td>9</td>\n",
       "      <td>9</td>\n",
       "      <td>9</td>\n",
       "      <td>9</td>\n",
       "      <td>9</td>\n",
       "      <td>9</td>\n",
       "      <td>9</td>\n",
       "      <td>9</td>\n",
       "      <td>9</td>\n",
       "    </tr>\n",
       "    <tr>\n",
       "      <td>3</td>\n",
       "      <td>19</td>\n",
       "      <td>19</td>\n",
       "      <td>19</td>\n",
       "      <td>19</td>\n",
       "      <td>19</td>\n",
       "      <td>19</td>\n",
       "      <td>19</td>\n",
       "      <td>19</td>\n",
       "      <td>19</td>\n",
       "      <td>19</td>\n",
       "      <td>19</td>\n",
       "      <td>19</td>\n",
       "      <td>19</td>\n",
       "      <td>19</td>\n",
       "      <td>19</td>\n",
       "      <td>19</td>\n",
       "      <td>19</td>\n",
       "      <td>19</td>\n",
       "      <td>19</td>\n",
       "      <td>19</td>\n",
       "    </tr>\n",
       "    <tr>\n",
       "      <td>4</td>\n",
       "      <td>15</td>\n",
       "      <td>15</td>\n",
       "      <td>15</td>\n",
       "      <td>15</td>\n",
       "      <td>15</td>\n",
       "      <td>15</td>\n",
       "      <td>15</td>\n",
       "      <td>15</td>\n",
       "      <td>15</td>\n",
       "      <td>15</td>\n",
       "      <td>15</td>\n",
       "      <td>15</td>\n",
       "      <td>15</td>\n",
       "      <td>15</td>\n",
       "      <td>15</td>\n",
       "      <td>15</td>\n",
       "      <td>15</td>\n",
       "      <td>15</td>\n",
       "      <td>15</td>\n",
       "      <td>15</td>\n",
       "    </tr>\n",
       "    <tr>\n",
       "      <td>5</td>\n",
       "      <td>32</td>\n",
       "      <td>32</td>\n",
       "      <td>32</td>\n",
       "      <td>32</td>\n",
       "      <td>32</td>\n",
       "      <td>32</td>\n",
       "      <td>32</td>\n",
       "      <td>32</td>\n",
       "      <td>32</td>\n",
       "      <td>32</td>\n",
       "      <td>32</td>\n",
       "      <td>32</td>\n",
       "      <td>32</td>\n",
       "      <td>32</td>\n",
       "      <td>32</td>\n",
       "      <td>32</td>\n",
       "      <td>32</td>\n",
       "      <td>32</td>\n",
       "      <td>32</td>\n",
       "      <td>32</td>\n",
       "    </tr>\n",
       "    <tr>\n",
       "      <td>6</td>\n",
       "      <td>32</td>\n",
       "      <td>32</td>\n",
       "      <td>32</td>\n",
       "      <td>32</td>\n",
       "      <td>32</td>\n",
       "      <td>32</td>\n",
       "      <td>32</td>\n",
       "      <td>32</td>\n",
       "      <td>32</td>\n",
       "      <td>32</td>\n",
       "      <td>32</td>\n",
       "      <td>32</td>\n",
       "      <td>32</td>\n",
       "      <td>32</td>\n",
       "      <td>32</td>\n",
       "      <td>32</td>\n",
       "      <td>32</td>\n",
       "      <td>32</td>\n",
       "      <td>32</td>\n",
       "      <td>32</td>\n",
       "    </tr>\n",
       "    <tr>\n",
       "      <td>7</td>\n",
       "      <td>51</td>\n",
       "      <td>51</td>\n",
       "      <td>51</td>\n",
       "      <td>51</td>\n",
       "      <td>51</td>\n",
       "      <td>51</td>\n",
       "      <td>51</td>\n",
       "      <td>51</td>\n",
       "      <td>51</td>\n",
       "      <td>51</td>\n",
       "      <td>51</td>\n",
       "      <td>51</td>\n",
       "      <td>51</td>\n",
       "      <td>51</td>\n",
       "      <td>51</td>\n",
       "      <td>51</td>\n",
       "      <td>51</td>\n",
       "      <td>51</td>\n",
       "      <td>51</td>\n",
       "      <td>51</td>\n",
       "    </tr>\n",
       "    <tr>\n",
       "      <td>8</td>\n",
       "      <td>95</td>\n",
       "      <td>95</td>\n",
       "      <td>95</td>\n",
       "      <td>95</td>\n",
       "      <td>95</td>\n",
       "      <td>95</td>\n",
       "      <td>95</td>\n",
       "      <td>95</td>\n",
       "      <td>95</td>\n",
       "      <td>95</td>\n",
       "      <td>95</td>\n",
       "      <td>95</td>\n",
       "      <td>95</td>\n",
       "      <td>95</td>\n",
       "      <td>95</td>\n",
       "      <td>95</td>\n",
       "      <td>95</td>\n",
       "      <td>95</td>\n",
       "      <td>95</td>\n",
       "      <td>95</td>\n",
       "    </tr>\n",
       "    <tr>\n",
       "      <td>9</td>\n",
       "      <td>152</td>\n",
       "      <td>152</td>\n",
       "      <td>152</td>\n",
       "      <td>152</td>\n",
       "      <td>152</td>\n",
       "      <td>152</td>\n",
       "      <td>152</td>\n",
       "      <td>152</td>\n",
       "      <td>152</td>\n",
       "      <td>152</td>\n",
       "      <td>152</td>\n",
       "      <td>152</td>\n",
       "      <td>152</td>\n",
       "      <td>152</td>\n",
       "      <td>152</td>\n",
       "      <td>152</td>\n",
       "      <td>152</td>\n",
       "      <td>152</td>\n",
       "      <td>152</td>\n",
       "      <td>152</td>\n",
       "    </tr>\n",
       "    <tr>\n",
       "      <td>10</td>\n",
       "      <td>421</td>\n",
       "      <td>421</td>\n",
       "      <td>421</td>\n",
       "      <td>421</td>\n",
       "      <td>421</td>\n",
       "      <td>421</td>\n",
       "      <td>421</td>\n",
       "      <td>421</td>\n",
       "      <td>421</td>\n",
       "      <td>421</td>\n",
       "      <td>421</td>\n",
       "      <td>421</td>\n",
       "      <td>421</td>\n",
       "      <td>421</td>\n",
       "      <td>421</td>\n",
       "      <td>421</td>\n",
       "      <td>421</td>\n",
       "      <td>421</td>\n",
       "      <td>421</td>\n",
       "      <td>421</td>\n",
       "    </tr>\n",
       "    <tr>\n",
       "      <td>11</td>\n",
       "      <td>404</td>\n",
       "      <td>404</td>\n",
       "      <td>404</td>\n",
       "      <td>404</td>\n",
       "      <td>404</td>\n",
       "      <td>404</td>\n",
       "      <td>404</td>\n",
       "      <td>404</td>\n",
       "      <td>404</td>\n",
       "      <td>404</td>\n",
       "      <td>404</td>\n",
       "      <td>404</td>\n",
       "      <td>404</td>\n",
       "      <td>404</td>\n",
       "      <td>404</td>\n",
       "      <td>404</td>\n",
       "      <td>404</td>\n",
       "      <td>404</td>\n",
       "      <td>404</td>\n",
       "      <td>404</td>\n",
       "    </tr>\n",
       "    <tr>\n",
       "      <td>12</td>\n",
       "      <td>449</td>\n",
       "      <td>449</td>\n",
       "      <td>449</td>\n",
       "      <td>449</td>\n",
       "      <td>449</td>\n",
       "      <td>449</td>\n",
       "      <td>449</td>\n",
       "      <td>449</td>\n",
       "      <td>449</td>\n",
       "      <td>449</td>\n",
       "      <td>449</td>\n",
       "      <td>449</td>\n",
       "      <td>449</td>\n",
       "      <td>449</td>\n",
       "      <td>449</td>\n",
       "      <td>449</td>\n",
       "      <td>449</td>\n",
       "      <td>449</td>\n",
       "      <td>449</td>\n",
       "      <td>449</td>\n",
       "    </tr>\n",
       "    <tr>\n",
       "      <td>13</td>\n",
       "      <td>255</td>\n",
       "      <td>255</td>\n",
       "      <td>255</td>\n",
       "      <td>255</td>\n",
       "      <td>255</td>\n",
       "      <td>255</td>\n",
       "      <td>255</td>\n",
       "      <td>255</td>\n",
       "      <td>255</td>\n",
       "      <td>255</td>\n",
       "      <td>255</td>\n",
       "      <td>255</td>\n",
       "      <td>255</td>\n",
       "      <td>255</td>\n",
       "      <td>255</td>\n",
       "      <td>255</td>\n",
       "      <td>255</td>\n",
       "      <td>255</td>\n",
       "      <td>255</td>\n",
       "      <td>255</td>\n",
       "    </tr>\n",
       "    <tr>\n",
       "      <td>14</td>\n",
       "      <td>37</td>\n",
       "      <td>37</td>\n",
       "      <td>37</td>\n",
       "      <td>37</td>\n",
       "      <td>37</td>\n",
       "      <td>37</td>\n",
       "      <td>37</td>\n",
       "      <td>37</td>\n",
       "      <td>37</td>\n",
       "      <td>37</td>\n",
       "      <td>37</td>\n",
       "      <td>37</td>\n",
       "      <td>37</td>\n",
       "      <td>37</td>\n",
       "      <td>37</td>\n",
       "      <td>37</td>\n",
       "      <td>37</td>\n",
       "      <td>37</td>\n",
       "      <td>37</td>\n",
       "      <td>37</td>\n",
       "    </tr>\n",
       "    <tr>\n",
       "      <td>420</td>\n",
       "      <td>1</td>\n",
       "      <td>1</td>\n",
       "      <td>1</td>\n",
       "      <td>1</td>\n",
       "      <td>1</td>\n",
       "      <td>1</td>\n",
       "      <td>1</td>\n",
       "      <td>1</td>\n",
       "      <td>1</td>\n",
       "      <td>1</td>\n",
       "      <td>1</td>\n",
       "      <td>1</td>\n",
       "      <td>1</td>\n",
       "      <td>1</td>\n",
       "      <td>1</td>\n",
       "      <td>1</td>\n",
       "      <td>1</td>\n",
       "      <td>1</td>\n",
       "      <td>1</td>\n",
       "      <td>1</td>\n",
       "    </tr>\n",
       "    <tr>\n",
       "      <td>1776</td>\n",
       "      <td>1</td>\n",
       "      <td>1</td>\n",
       "      <td>1</td>\n",
       "      <td>1</td>\n",
       "      <td>1</td>\n",
       "      <td>1</td>\n",
       "      <td>1</td>\n",
       "      <td>1</td>\n",
       "      <td>1</td>\n",
       "      <td>1</td>\n",
       "      <td>1</td>\n",
       "      <td>1</td>\n",
       "      <td>1</td>\n",
       "      <td>1</td>\n",
       "      <td>1</td>\n",
       "      <td>1</td>\n",
       "      <td>1</td>\n",
       "      <td>1</td>\n",
       "      <td>1</td>\n",
       "      <td>1</td>\n",
       "    </tr>\n",
       "  </tbody>\n",
       "</table>\n",
       "</div>"
      ],
      "text/plain": [
       "        tweet_id  timestamp  source  text  expanded_urls  name  cute_name  \\\n",
       "rating                                                                      \n",
       "0              2          2       2     2              2     2          2   \n",
       "1              4          4       4     4              4     4          4   \n",
       "2              9          9       9     9              9     9          9   \n",
       "3             19         19      19    19             19    19         19   \n",
       "4             15         15      15    15             15    15         15   \n",
       "5             32         32      32    32             32    32         32   \n",
       "6             32         32      32    32             32    32         32   \n",
       "7             51         51      51    51             51    51         51   \n",
       "8             95         95      95    95             95    95         95   \n",
       "9            152        152     152   152            152   152        152   \n",
       "10           421        421     421   421            421   421        421   \n",
       "11           404        404     404   404            404   404        404   \n",
       "12           449        449     449   449            449   449        449   \n",
       "13           255        255     255   255            255   255        255   \n",
       "14            37         37      37    37             37    37         37   \n",
       "420            1          1       1     1              1     1          1   \n",
       "1776           1          1       1     1              1     1          1   \n",
       "\n",
       "        favorite_count  retweet_count  jpg_url  img_num   p1  p1_conf  p1_dog  \\\n",
       "rating                                                                          \n",
       "0                    2              2        2        2    2        2       2   \n",
       "1                    4              4        4        4    4        4       4   \n",
       "2                    9              9        9        9    9        9       9   \n",
       "3                   19             19       19       19   19       19      19   \n",
       "4                   15             15       15       15   15       15      15   \n",
       "5                   32             32       32       32   32       32      32   \n",
       "6                   32             32       32       32   32       32      32   \n",
       "7                   51             51       51       51   51       51      51   \n",
       "8                   95             95       95       95   95       95      95   \n",
       "9                  152            152      152      152  152      152     152   \n",
       "10                 421            421      421      421  421      421     421   \n",
       "11                 404            404      404      404  404      404     404   \n",
       "12                 449            449      449      449  449      449     449   \n",
       "13                 255            255      255      255  255      255     255   \n",
       "14                  37             37       37       37   37       37      37   \n",
       "420                  1              1        1        1    1        1       1   \n",
       "1776                 1              1        1        1    1        1       1   \n",
       "\n",
       "         p2  p2_conf  p2_dog   p3  p3_conf  p3_dog  \n",
       "rating                                              \n",
       "0         2        2       2    2        2       2  \n",
       "1         4        4       4    4        4       4  \n",
       "2         9        9       9    9        9       9  \n",
       "3        19       19      19   19       19      19  \n",
       "4        15       15      15   15       15      15  \n",
       "5        32       32      32   32       32      32  \n",
       "6        32       32      32   32       32      32  \n",
       "7        51       51      51   51       51      51  \n",
       "8        95       95      95   95       95      95  \n",
       "9       152      152     152  152      152     152  \n",
       "10      421      421     421  421      421     421  \n",
       "11      404      404     404  404      404     404  \n",
       "12      449      449     449  449      449     449  \n",
       "13      255      255     255  255      255     255  \n",
       "14       37       37      37   37       37      37  \n",
       "420       1        1       1    1        1       1  \n",
       "1776      1        1       1    1        1       1  "
      ]
     },
     "execution_count": 73,
     "metadata": {},
     "output_type": "execute_result"
    }
   ],
   "source": [
    "df_cln.groupby(['rating']).count()"
   ]
  },
  {
   "cell_type": "code",
   "execution_count": 74,
   "metadata": {},
   "outputs": [
    {
     "data": {
      "text/html": [
       "<div>\n",
       "<style scoped>\n",
       "    .dataframe tbody tr th:only-of-type {\n",
       "        vertical-align: middle;\n",
       "    }\n",
       "\n",
       "    .dataframe tbody tr th {\n",
       "        vertical-align: top;\n",
       "    }\n",
       "\n",
       "    .dataframe thead th {\n",
       "        text-align: right;\n",
       "    }\n",
       "</style>\n",
       "<table border=\"1\" class=\"dataframe\">\n",
       "  <thead>\n",
       "    <tr style=\"text-align: right;\">\n",
       "      <th></th>\n",
       "      <th>tweet_id</th>\n",
       "      <th>timestamp</th>\n",
       "      <th>source</th>\n",
       "      <th>text</th>\n",
       "      <th>expanded_urls</th>\n",
       "      <th>rating</th>\n",
       "      <th>name</th>\n",
       "      <th>cute_name</th>\n",
       "      <th>favorite_count</th>\n",
       "      <th>retweet_count</th>\n",
       "      <th>...</th>\n",
       "      <th>img_num</th>\n",
       "      <th>p1</th>\n",
       "      <th>p1_conf</th>\n",
       "      <th>p1_dog</th>\n",
       "      <th>p2</th>\n",
       "      <th>p2_conf</th>\n",
       "      <th>p2_dog</th>\n",
       "      <th>p3</th>\n",
       "      <th>p3_conf</th>\n",
       "      <th>p3_dog</th>\n",
       "    </tr>\n",
       "  </thead>\n",
       "  <tbody>\n",
       "    <tr>\n",
       "      <td>1703</td>\n",
       "      <td>670842764863651840</td>\n",
       "      <td>2015/11/29 05:52</td>\n",
       "      <td>&lt;a href=\"http://twitter.com/download/iphone\" r...</td>\n",
       "      <td>After so many requests... here you go.\\n\\nGood...</td>\n",
       "      <td>https://twitter.com/dog_rates/status/670842764...</td>\n",
       "      <td>420</td>\n",
       "      <td>None</td>\n",
       "      <td>Other</td>\n",
       "      <td>24351</td>\n",
       "      <td>8574</td>\n",
       "      <td>...</td>\n",
       "      <td>1</td>\n",
       "      <td>microphone</td>\n",
       "      <td>0.096063</td>\n",
       "      <td>False</td>\n",
       "      <td>accordion</td>\n",
       "      <td>0.094075</td>\n",
       "      <td>False</td>\n",
       "      <td>drumstick</td>\n",
       "      <td>0.061113</td>\n",
       "      <td>False</td>\n",
       "    </tr>\n",
       "  </tbody>\n",
       "</table>\n",
       "<p>1 rows × 21 columns</p>\n",
       "</div>"
      ],
      "text/plain": [
       "                tweet_id         timestamp  \\\n",
       "1703  670842764863651840  2015/11/29 05:52   \n",
       "\n",
       "                                                 source  \\\n",
       "1703  <a href=\"http://twitter.com/download/iphone\" r...   \n",
       "\n",
       "                                                   text  \\\n",
       "1703  After so many requests... here you go.\\n\\nGood...   \n",
       "\n",
       "                                          expanded_urls  rating  name  \\\n",
       "1703  https://twitter.com/dog_rates/status/670842764...     420  None   \n",
       "\n",
       "     cute_name  favorite_count  retweet_count  ... img_num          p1  \\\n",
       "1703     Other           24351           8574  ...       1  microphone   \n",
       "\n",
       "       p1_conf  p1_dog         p2   p2_conf  p2_dog         p3   p3_conf  \\\n",
       "1703  0.096063   False  accordion  0.094075   False  drumstick  0.061113   \n",
       "\n",
       "      p3_dog  \n",
       "1703   False  \n",
       "\n",
       "[1 rows x 21 columns]"
      ]
     },
     "execution_count": 74,
     "metadata": {},
     "output_type": "execute_result"
    }
   ],
   "source": [
    "df_cln[df_cln['rating'] == 420]"
   ]
  },
  {
   "cell_type": "markdown",
   "metadata": {},
   "source": [
    "### At second place Snoop Dogg comes in at very impressive 420 out of 10\n",
    "<img src=\"second.jpg\"/>"
   ]
  },
  {
   "cell_type": "code",
   "execution_count": 75,
   "metadata": {},
   "outputs": [
    {
     "name": "stdout",
     "output_type": "stream",
     "text": [
      "Meet Maggie. She enjoys her stick in the yard. Very content. Much tranquility. 10/10 keep it up pup \n"
     ]
    }
   ],
   "source": [
    "text = df_cln.text[1712]\n",
    "print(f'{text}')"
   ]
  },
  {
   "cell_type": "code",
   "execution_count": 76,
   "metadata": {},
   "outputs": [
    {
     "name": "stdout",
     "output_type": "stream",
     "text": [
      "https://pbs.twimg.com/media/CU8z65IUEAQBc4q.jpg\n"
     ]
    }
   ],
   "source": [
    "print(df_cln.jpg_url[1712])"
   ]
  },
  {
   "cell_type": "code",
   "execution_count": 77,
   "metadata": {},
   "outputs": [
    {
     "data": {
      "text/html": [
       "<div>\n",
       "<style scoped>\n",
       "    .dataframe tbody tr th:only-of-type {\n",
       "        vertical-align: middle;\n",
       "    }\n",
       "\n",
       "    .dataframe tbody tr th {\n",
       "        vertical-align: top;\n",
       "    }\n",
       "\n",
       "    .dataframe thead th {\n",
       "        text-align: right;\n",
       "    }\n",
       "</style>\n",
       "<table border=\"1\" class=\"dataframe\">\n",
       "  <thead>\n",
       "    <tr style=\"text-align: right;\">\n",
       "      <th></th>\n",
       "      <th>tweet_id</th>\n",
       "      <th>timestamp</th>\n",
       "      <th>source</th>\n",
       "      <th>text</th>\n",
       "      <th>expanded_urls</th>\n",
       "      <th>rating</th>\n",
       "      <th>name</th>\n",
       "      <th>cute_name</th>\n",
       "      <th>favorite_count</th>\n",
       "      <th>retweet_count</th>\n",
       "      <th>...</th>\n",
       "      <th>img_num</th>\n",
       "      <th>p1</th>\n",
       "      <th>p1_conf</th>\n",
       "      <th>p1_dog</th>\n",
       "      <th>p2</th>\n",
       "      <th>p2_conf</th>\n",
       "      <th>p2_dog</th>\n",
       "      <th>p3</th>\n",
       "      <th>p3_conf</th>\n",
       "      <th>p3_dog</th>\n",
       "    </tr>\n",
       "  </thead>\n",
       "  <tbody>\n",
       "    <tr>\n",
       "      <td>712</td>\n",
       "      <td>749981277374128128</td>\n",
       "      <td>2016/07/04 15:00</td>\n",
       "      <td>&lt;a href=\"https://about.twitter.com/products/tw...</td>\n",
       "      <td>This is Atticus. He's quite simply America af....</td>\n",
       "      <td>https://twitter.com/dog_rates/status/749981277...</td>\n",
       "      <td>1776</td>\n",
       "      <td>Atticus</td>\n",
       "      <td>Other</td>\n",
       "      <td>5253</td>\n",
       "      <td>2528</td>\n",
       "      <td>...</td>\n",
       "      <td>1</td>\n",
       "      <td>bow tie</td>\n",
       "      <td>0.533941</td>\n",
       "      <td>False</td>\n",
       "      <td>sunglasses</td>\n",
       "      <td>0.080822</td>\n",
       "      <td>False</td>\n",
       "      <td>sunglass</td>\n",
       "      <td>0.050776</td>\n",
       "      <td>False</td>\n",
       "    </tr>\n",
       "  </tbody>\n",
       "</table>\n",
       "<p>1 rows × 21 columns</p>\n",
       "</div>"
      ],
      "text/plain": [
       "               tweet_id         timestamp  \\\n",
       "712  749981277374128128  2016/07/04 15:00   \n",
       "\n",
       "                                                source  \\\n",
       "712  <a href=\"https://about.twitter.com/products/tw...   \n",
       "\n",
       "                                                  text  \\\n",
       "712  This is Atticus. He's quite simply America af....   \n",
       "\n",
       "                                         expanded_urls  rating     name  \\\n",
       "712  https://twitter.com/dog_rates/status/749981277...    1776  Atticus   \n",
       "\n",
       "    cute_name  favorite_count  retweet_count  ... img_num       p1   p1_conf  \\\n",
       "712     Other            5253           2528  ...       1  bow tie  0.533941   \n",
       "\n",
       "     p1_dog          p2   p2_conf  p2_dog        p3   p3_conf  p3_dog  \n",
       "712   False  sunglasses  0.080822   False  sunglass  0.050776   False  \n",
       "\n",
       "[1 rows x 21 columns]"
      ]
     },
     "execution_count": 77,
     "metadata": {},
     "output_type": "execute_result"
    }
   ],
   "source": [
    "df_cln[df_cln['rating'] == 1776]"
   ]
  },
  {
   "cell_type": "code",
   "execution_count": 78,
   "metadata": {},
   "outputs": [
    {
     "name": "stdout",
     "output_type": "stream",
     "text": [
      "This is Abby. She got her face stuck in a glass. Churlish af. 9/10 rookie move puppo \n"
     ]
    }
   ],
   "source": [
    "text = df_cln.text[757]\n",
    "print(f'{text}')"
   ]
  },
  {
   "cell_type": "code",
   "execution_count": 79,
   "metadata": {},
   "outputs": [
    {
     "name": "stdout",
     "output_type": "stream",
     "text": [
      "https://pbs.twimg.com/media/ClbBg4WWEAMjwJu.jpg\n"
     ]
    }
   ],
   "source": [
    "print(df_cln.jpg_url[757])"
   ]
  },
  {
   "cell_type": "markdown",
   "metadata": {},
   "source": [
    "### At number one with the highest rating is Atticus, earning a 1776 out of 10!\n",
    "<img src=\"winner.jpg\"/>"
   ]
  },
  {
   "cell_type": "markdown",
   "metadata": {},
   "source": [
    "## Distribution of Dog Ratings by Dog Types\n",
    "<a id=\"jump2\"> </a>"
   ]
  },
  {
   "cell_type": "markdown",
   "metadata": {},
   "source": [
    "- The two winners above are data points that were accurately gathered, but their ratings are also global outliers to the rest of the observations. These global outliers greatly increase the standard deviation of the variable **rating** in our DataFrame \n",
    "- To simplify our analysis, I decided to remove the two outliers, and take a deeper look into the distribution of the ratings by dog type."
   ]
  },
  {
   "cell_type": "code",
   "execution_count": 80,
   "metadata": {},
   "outputs": [
    {
     "data": {
      "image/png": "[encoded data removed]",
      "text/plain": [
       "<Figure size 864x288 with 2 Axes>"
      ]
     },
     "metadata": {
      "needs_background": "light"
     },
     "output_type": "display_data"
    }
   ],
   "source": [
    "df_before= df_cln.copy()\n",
    "df_after = df_cln[df_cln['rating'] < 15]\n",
    "\n",
    "#df_before= plots of the distribution of the data before and after removing the two outliers\n",
    "f, axes = plt.subplots(1, 2, figsize=(12,4))\n",
    "\n",
    "sns.boxplot(data=df_before,x= 'rating',orient='w', ax=axes[0])\n",
    "axes[0].set_title('Before, Including Global Outliers')\n",
    "\n",
    "\n",
    "sns.boxplot(data=df_after, x= 'rating',orient='w', ax=axes[1])\n",
    "axes[1].set_title('After, Excluding Global Outliers');"
   ]
  },
  {
   "cell_type": "code",
   "execution_count": 81,
   "metadata": {},
   "outputs": [],
   "source": [
    "df_rate = df_after.copy()"
   ]
  },
  {
   "cell_type": "code",
   "execution_count": 82,
   "metadata": {},
   "outputs": [
    {
     "data": {
      "text/plain": [
       "golden retriever      138\n",
       "labrador retriever     92\n",
       "pembroke               88\n",
       "chihuahua              79\n",
       "pug                    54\n",
       "                     ... \n",
       "ibex                    1\n",
       "bonnet                  1\n",
       "ping-pong ball          1\n",
       "killer whale            1\n",
       "african grey            1\n",
       "Name: p1, Length: 372, dtype: int64"
      ]
     },
     "execution_count": 82,
     "metadata": {},
     "output_type": "execute_result"
    }
   ],
   "source": [
    "df_rate['p1'].value_counts()"
   ]
  },
  {
   "cell_type": "code",
   "execution_count": 83,
   "metadata": {},
   "outputs": [],
   "source": [
    "dog_types = df_rate['p1'].value_counts().keys()\n",
    "dog_types = list(dog_types)"
   ]
  },
  {
   "cell_type": "code",
   "execution_count": 84,
   "metadata": {},
   "outputs": [],
   "source": [
    "dog_types = dog_types[:len(dog_types)]"
   ]
  },
  {
   "cell_type": "code",
   "execution_count": 85,
   "metadata": {},
   "outputs": [
    {
     "data": {
      "text/html": [
       "<div>\n",
       "<style scoped>\n",
       "    .dataframe tbody tr th:only-of-type {\n",
       "        vertical-align: middle;\n",
       "    }\n",
       "\n",
       "    .dataframe tbody tr th {\n",
       "        vertical-align: top;\n",
       "    }\n",
       "\n",
       "    .dataframe thead th {\n",
       "        text-align: right;\n",
       "    }\n",
       "</style>\n",
       "<table border=\"1\" class=\"dataframe\">\n",
       "  <thead>\n",
       "    <tr style=\"text-align: right;\">\n",
       "      <th></th>\n",
       "      <th>other</th>\n",
       "      <th>golden retriever</th>\n",
       "      <th>labrador retriever</th>\n",
       "      <th>pembroke</th>\n",
       "      <th>chihuahua</th>\n",
       "      <th>pug</th>\n",
       "      <th>chow</th>\n",
       "      <th>samoyed</th>\n",
       "      <th>pomeranian</th>\n",
       "      <th>toy poodle</th>\n",
       "      <th>...</th>\n",
       "      <th>zebra</th>\n",
       "      <th>hammer</th>\n",
       "      <th>limousine</th>\n",
       "      <th>cheeseburger</th>\n",
       "      <th>ibex</th>\n",
       "      <th>bonnet</th>\n",
       "      <th>ping-pong ball</th>\n",
       "      <th>killer whale</th>\n",
       "      <th>african grey</th>\n",
       "      <th>total</th>\n",
       "    </tr>\n",
       "    <tr>\n",
       "      <th>rating</th>\n",
       "      <th></th>\n",
       "      <th></th>\n",
       "      <th></th>\n",
       "      <th></th>\n",
       "      <th></th>\n",
       "      <th></th>\n",
       "      <th></th>\n",
       "      <th></th>\n",
       "      <th></th>\n",
       "      <th></th>\n",
       "      <th></th>\n",
       "      <th></th>\n",
       "      <th></th>\n",
       "      <th></th>\n",
       "      <th></th>\n",
       "      <th></th>\n",
       "      <th></th>\n",
       "      <th></th>\n",
       "      <th></th>\n",
       "      <th></th>\n",
       "      <th></th>\n",
       "    </tr>\n",
       "  </thead>\n",
       "  <tbody>\n",
       "    <tr>\n",
       "      <td>0</td>\n",
       "      <td>2</td>\n",
       "      <td>0.0</td>\n",
       "      <td>0.0</td>\n",
       "      <td>0.0</td>\n",
       "      <td>0.0</td>\n",
       "      <td>0.0</td>\n",
       "      <td>0.0</td>\n",
       "      <td>0.0</td>\n",
       "      <td>0.0</td>\n",
       "      <td>0.0</td>\n",
       "      <td>...</td>\n",
       "      <td>0.0</td>\n",
       "      <td>0.0</td>\n",
       "      <td>0.0</td>\n",
       "      <td>0.0</td>\n",
       "      <td>0.0</td>\n",
       "      <td>0.0</td>\n",
       "      <td>0.0</td>\n",
       "      <td>0.0</td>\n",
       "      <td>0.0</td>\n",
       "      <td>4.0</td>\n",
       "    </tr>\n",
       "    <tr>\n",
       "      <td>1</td>\n",
       "      <td>4</td>\n",
       "      <td>0.0</td>\n",
       "      <td>0.0</td>\n",
       "      <td>0.0</td>\n",
       "      <td>0.0</td>\n",
       "      <td>0.0</td>\n",
       "      <td>0.0</td>\n",
       "      <td>0.0</td>\n",
       "      <td>0.0</td>\n",
       "      <td>0.0</td>\n",
       "      <td>...</td>\n",
       "      <td>0.0</td>\n",
       "      <td>0.0</td>\n",
       "      <td>0.0</td>\n",
       "      <td>0.0</td>\n",
       "      <td>0.0</td>\n",
       "      <td>0.0</td>\n",
       "      <td>0.0</td>\n",
       "      <td>0.0</td>\n",
       "      <td>0.0</td>\n",
       "      <td>8.0</td>\n",
       "    </tr>\n",
       "    <tr>\n",
       "      <td>2</td>\n",
       "      <td>9</td>\n",
       "      <td>0.0</td>\n",
       "      <td>0.0</td>\n",
       "      <td>0.0</td>\n",
       "      <td>0.0</td>\n",
       "      <td>0.0</td>\n",
       "      <td>0.0</td>\n",
       "      <td>0.0</td>\n",
       "      <td>0.0</td>\n",
       "      <td>0.0</td>\n",
       "      <td>...</td>\n",
       "      <td>0.0</td>\n",
       "      <td>0.0</td>\n",
       "      <td>0.0</td>\n",
       "      <td>0.0</td>\n",
       "      <td>0.0</td>\n",
       "      <td>0.0</td>\n",
       "      <td>0.0</td>\n",
       "      <td>0.0</td>\n",
       "      <td>0.0</td>\n",
       "      <td>18.0</td>\n",
       "    </tr>\n",
       "    <tr>\n",
       "      <td>3</td>\n",
       "      <td>19</td>\n",
       "      <td>0.0</td>\n",
       "      <td>0.0</td>\n",
       "      <td>0.0</td>\n",
       "      <td>1.0</td>\n",
       "      <td>1.0</td>\n",
       "      <td>0.0</td>\n",
       "      <td>0.0</td>\n",
       "      <td>0.0</td>\n",
       "      <td>0.0</td>\n",
       "      <td>...</td>\n",
       "      <td>0.0</td>\n",
       "      <td>0.0</td>\n",
       "      <td>0.0</td>\n",
       "      <td>0.0</td>\n",
       "      <td>0.0</td>\n",
       "      <td>0.0</td>\n",
       "      <td>0.0</td>\n",
       "      <td>0.0</td>\n",
       "      <td>0.0</td>\n",
       "      <td>38.0</td>\n",
       "    </tr>\n",
       "    <tr>\n",
       "      <td>4</td>\n",
       "      <td>15</td>\n",
       "      <td>0.0</td>\n",
       "      <td>0.0</td>\n",
       "      <td>1.0</td>\n",
       "      <td>0.0</td>\n",
       "      <td>0.0</td>\n",
       "      <td>0.0</td>\n",
       "      <td>0.0</td>\n",
       "      <td>0.0</td>\n",
       "      <td>0.0</td>\n",
       "      <td>...</td>\n",
       "      <td>0.0</td>\n",
       "      <td>0.0</td>\n",
       "      <td>0.0</td>\n",
       "      <td>0.0</td>\n",
       "      <td>0.0</td>\n",
       "      <td>0.0</td>\n",
       "      <td>0.0</td>\n",
       "      <td>0.0</td>\n",
       "      <td>0.0</td>\n",
       "      <td>30.0</td>\n",
       "    </tr>\n",
       "    <tr>\n",
       "      <td>5</td>\n",
       "      <td>32</td>\n",
       "      <td>0.0</td>\n",
       "      <td>0.0</td>\n",
       "      <td>1.0</td>\n",
       "      <td>1.0</td>\n",
       "      <td>0.0</td>\n",
       "      <td>0.0</td>\n",
       "      <td>0.0</td>\n",
       "      <td>0.0</td>\n",
       "      <td>0.0</td>\n",
       "      <td>...</td>\n",
       "      <td>0.0</td>\n",
       "      <td>0.0</td>\n",
       "      <td>0.0</td>\n",
       "      <td>0.0</td>\n",
       "      <td>0.0</td>\n",
       "      <td>0.0</td>\n",
       "      <td>0.0</td>\n",
       "      <td>1.0</td>\n",
       "      <td>0.0</td>\n",
       "      <td>64.0</td>\n",
       "    </tr>\n",
       "    <tr>\n",
       "      <td>6</td>\n",
       "      <td>32</td>\n",
       "      <td>0.0</td>\n",
       "      <td>0.0</td>\n",
       "      <td>1.0</td>\n",
       "      <td>0.0</td>\n",
       "      <td>1.0</td>\n",
       "      <td>0.0</td>\n",
       "      <td>0.0</td>\n",
       "      <td>0.0</td>\n",
       "      <td>0.0</td>\n",
       "      <td>...</td>\n",
       "      <td>0.0</td>\n",
       "      <td>0.0</td>\n",
       "      <td>0.0</td>\n",
       "      <td>0.0</td>\n",
       "      <td>0.0</td>\n",
       "      <td>0.0</td>\n",
       "      <td>0.0</td>\n",
       "      <td>0.0</td>\n",
       "      <td>0.0</td>\n",
       "      <td>64.0</td>\n",
       "    </tr>\n",
       "    <tr>\n",
       "      <td>7</td>\n",
       "      <td>51</td>\n",
       "      <td>0.0</td>\n",
       "      <td>1.0</td>\n",
       "      <td>1.0</td>\n",
       "      <td>4.0</td>\n",
       "      <td>2.0</td>\n",
       "      <td>0.0</td>\n",
       "      <td>1.0</td>\n",
       "      <td>0.0</td>\n",
       "      <td>0.0</td>\n",
       "      <td>...</td>\n",
       "      <td>1.0</td>\n",
       "      <td>0.0</td>\n",
       "      <td>0.0</td>\n",
       "      <td>0.0</td>\n",
       "      <td>1.0</td>\n",
       "      <td>0.0</td>\n",
       "      <td>0.0</td>\n",
       "      <td>0.0</td>\n",
       "      <td>0.0</td>\n",
       "      <td>102.0</td>\n",
       "    </tr>\n",
       "    <tr>\n",
       "      <td>8</td>\n",
       "      <td>95</td>\n",
       "      <td>2.0</td>\n",
       "      <td>3.0</td>\n",
       "      <td>1.0</td>\n",
       "      <td>3.0</td>\n",
       "      <td>2.0</td>\n",
       "      <td>0.0</td>\n",
       "      <td>0.0</td>\n",
       "      <td>0.0</td>\n",
       "      <td>0.0</td>\n",
       "      <td>...</td>\n",
       "      <td>0.0</td>\n",
       "      <td>0.0</td>\n",
       "      <td>0.0</td>\n",
       "      <td>1.0</td>\n",
       "      <td>0.0</td>\n",
       "      <td>0.0</td>\n",
       "      <td>0.0</td>\n",
       "      <td>0.0</td>\n",
       "      <td>0.0</td>\n",
       "      <td>190.0</td>\n",
       "    </tr>\n",
       "    <tr>\n",
       "      <td>9</td>\n",
       "      <td>152</td>\n",
       "      <td>4.0</td>\n",
       "      <td>4.0</td>\n",
       "      <td>0.0</td>\n",
       "      <td>7.0</td>\n",
       "      <td>8.0</td>\n",
       "      <td>0.0</td>\n",
       "      <td>0.0</td>\n",
       "      <td>0.0</td>\n",
       "      <td>5.0</td>\n",
       "      <td>...</td>\n",
       "      <td>0.0</td>\n",
       "      <td>0.0</td>\n",
       "      <td>0.0</td>\n",
       "      <td>0.0</td>\n",
       "      <td>0.0</td>\n",
       "      <td>1.0</td>\n",
       "      <td>0.0</td>\n",
       "      <td>0.0</td>\n",
       "      <td>0.0</td>\n",
       "      <td>304.0</td>\n",
       "    </tr>\n",
       "    <tr>\n",
       "      <td>10</td>\n",
       "      <td>421</td>\n",
       "      <td>20.0</td>\n",
       "      <td>22.0</td>\n",
       "      <td>9.0</td>\n",
       "      <td>17.0</td>\n",
       "      <td>18.0</td>\n",
       "      <td>7.0</td>\n",
       "      <td>4.0</td>\n",
       "      <td>11.0</td>\n",
       "      <td>5.0</td>\n",
       "      <td>...</td>\n",
       "      <td>0.0</td>\n",
       "      <td>0.0</td>\n",
       "      <td>0.0</td>\n",
       "      <td>0.0</td>\n",
       "      <td>0.0</td>\n",
       "      <td>0.0</td>\n",
       "      <td>1.0</td>\n",
       "      <td>0.0</td>\n",
       "      <td>0.0</td>\n",
       "      <td>842.0</td>\n",
       "    </tr>\n",
       "    <tr>\n",
       "      <td>11</td>\n",
       "      <td>403</td>\n",
       "      <td>27.0</td>\n",
       "      <td>25.0</td>\n",
       "      <td>26.0</td>\n",
       "      <td>12.0</td>\n",
       "      <td>10.0</td>\n",
       "      <td>11.0</td>\n",
       "      <td>12.0</td>\n",
       "      <td>13.0</td>\n",
       "      <td>13.0</td>\n",
       "      <td>...</td>\n",
       "      <td>0.0</td>\n",
       "      <td>0.0</td>\n",
       "      <td>0.0</td>\n",
       "      <td>0.0</td>\n",
       "      <td>0.0</td>\n",
       "      <td>0.0</td>\n",
       "      <td>0.0</td>\n",
       "      <td>0.0</td>\n",
       "      <td>1.0</td>\n",
       "      <td>807.0</td>\n",
       "    </tr>\n",
       "    <tr>\n",
       "      <td>12</td>\n",
       "      <td>449</td>\n",
       "      <td>53.0</td>\n",
       "      <td>25.0</td>\n",
       "      <td>27.0</td>\n",
       "      <td>22.0</td>\n",
       "      <td>4.0</td>\n",
       "      <td>14.0</td>\n",
       "      <td>8.0</td>\n",
       "      <td>12.0</td>\n",
       "      <td>10.0</td>\n",
       "      <td>...</td>\n",
       "      <td>0.0</td>\n",
       "      <td>0.0</td>\n",
       "      <td>0.0</td>\n",
       "      <td>0.0</td>\n",
       "      <td>0.0</td>\n",
       "      <td>0.0</td>\n",
       "      <td>0.0</td>\n",
       "      <td>0.0</td>\n",
       "      <td>0.0</td>\n",
       "      <td>898.0</td>\n",
       "    </tr>\n",
       "    <tr>\n",
       "      <td>13</td>\n",
       "      <td>255</td>\n",
       "      <td>28.0</td>\n",
       "      <td>12.0</td>\n",
       "      <td>17.0</td>\n",
       "      <td>11.0</td>\n",
       "      <td>8.0</td>\n",
       "      <td>9.0</td>\n",
       "      <td>13.0</td>\n",
       "      <td>1.0</td>\n",
       "      <td>4.0</td>\n",
       "      <td>...</td>\n",
       "      <td>0.0</td>\n",
       "      <td>1.0</td>\n",
       "      <td>0.0</td>\n",
       "      <td>0.0</td>\n",
       "      <td>0.0</td>\n",
       "      <td>0.0</td>\n",
       "      <td>0.0</td>\n",
       "      <td>0.0</td>\n",
       "      <td>0.0</td>\n",
       "      <td>510.0</td>\n",
       "    </tr>\n",
       "    <tr>\n",
       "      <td>14</td>\n",
       "      <td>37</td>\n",
       "      <td>4.0</td>\n",
       "      <td>0.0</td>\n",
       "      <td>4.0</td>\n",
       "      <td>1.0</td>\n",
       "      <td>0.0</td>\n",
       "      <td>0.0</td>\n",
       "      <td>1.0</td>\n",
       "      <td>1.0</td>\n",
       "      <td>0.0</td>\n",
       "      <td>...</td>\n",
       "      <td>0.0</td>\n",
       "      <td>0.0</td>\n",
       "      <td>1.0</td>\n",
       "      <td>0.0</td>\n",
       "      <td>0.0</td>\n",
       "      <td>0.0</td>\n",
       "      <td>0.0</td>\n",
       "      <td>0.0</td>\n",
       "      <td>0.0</td>\n",
       "      <td>74.0</td>\n",
       "    </tr>\n",
       "  </tbody>\n",
       "</table>\n",
       "<p>15 rows × 374 columns</p>\n",
       "</div>"
      ],
      "text/plain": [
       "        other  golden retriever  labrador retriever  pembroke  chihuahua  \\\n",
       "rating                                                                     \n",
       "0           2               0.0                 0.0       0.0        0.0   \n",
       "1           4               0.0                 0.0       0.0        0.0   \n",
       "2           9               0.0                 0.0       0.0        0.0   \n",
       "3          19               0.0                 0.0       0.0        1.0   \n",
       "4          15               0.0                 0.0       1.0        0.0   \n",
       "5          32               0.0                 0.0       1.0        1.0   \n",
       "6          32               0.0                 0.0       1.0        0.0   \n",
       "7          51               0.0                 1.0       1.0        4.0   \n",
       "8          95               2.0                 3.0       1.0        3.0   \n",
       "9         152               4.0                 4.0       0.0        7.0   \n",
       "10        421              20.0                22.0       9.0       17.0   \n",
       "11        403              27.0                25.0      26.0       12.0   \n",
       "12        449              53.0                25.0      27.0       22.0   \n",
       "13        255              28.0                12.0      17.0       11.0   \n",
       "14         37               4.0                 0.0       4.0        1.0   \n",
       "\n",
       "         pug  chow  samoyed  pomeranian  toy poodle  ...  zebra  hammer  \\\n",
       "rating                                               ...                  \n",
       "0        0.0   0.0      0.0         0.0         0.0  ...    0.0     0.0   \n",
       "1        0.0   0.0      0.0         0.0         0.0  ...    0.0     0.0   \n",
       "2        0.0   0.0      0.0         0.0         0.0  ...    0.0     0.0   \n",
       "3        1.0   0.0      0.0         0.0         0.0  ...    0.0     0.0   \n",
       "4        0.0   0.0      0.0         0.0         0.0  ...    0.0     0.0   \n",
       "5        0.0   0.0      0.0         0.0         0.0  ...    0.0     0.0   \n",
       "6        1.0   0.0      0.0         0.0         0.0  ...    0.0     0.0   \n",
       "7        2.0   0.0      1.0         0.0         0.0  ...    1.0     0.0   \n",
       "8        2.0   0.0      0.0         0.0         0.0  ...    0.0     0.0   \n",
       "9        8.0   0.0      0.0         0.0         5.0  ...    0.0     0.0   \n",
       "10      18.0   7.0      4.0        11.0         5.0  ...    0.0     0.0   \n",
       "11      10.0  11.0     12.0        13.0        13.0  ...    0.0     0.0   \n",
       "12       4.0  14.0      8.0        12.0        10.0  ...    0.0     0.0   \n",
       "13       8.0   9.0     13.0         1.0         4.0  ...    0.0     1.0   \n",
       "14       0.0   0.0      1.0         1.0         0.0  ...    0.0     0.0   \n",
       "\n",
       "        limousine  cheeseburger  ibex  bonnet  ping-pong ball  killer whale  \\\n",
       "rating                                                                        \n",
       "0             0.0           0.0   0.0     0.0             0.0           0.0   \n",
       "1             0.0           0.0   0.0     0.0             0.0           0.0   \n",
       "2             0.0           0.0   0.0     0.0             0.0           0.0   \n",
       "3             0.0           0.0   0.0     0.0             0.0           0.0   \n",
       "4             0.0           0.0   0.0     0.0             0.0           0.0   \n",
       "5             0.0           0.0   0.0     0.0             0.0           1.0   \n",
       "6             0.0           0.0   0.0     0.0             0.0           0.0   \n",
       "7             0.0           0.0   1.0     0.0             0.0           0.0   \n",
       "8             0.0           1.0   0.0     0.0             0.0           0.0   \n",
       "9             0.0           0.0   0.0     1.0             0.0           0.0   \n",
       "10            0.0           0.0   0.0     0.0             1.0           0.0   \n",
       "11            0.0           0.0   0.0     0.0             0.0           0.0   \n",
       "12            0.0           0.0   0.0     0.0             0.0           0.0   \n",
       "13            0.0           0.0   0.0     0.0             0.0           0.0   \n",
       "14            1.0           0.0   0.0     0.0             0.0           0.0   \n",
       "\n",
       "        african grey  total  \n",
       "rating                       \n",
       "0                0.0    4.0  \n",
       "1                0.0    8.0  \n",
       "2                0.0   18.0  \n",
       "3                0.0   38.0  \n",
       "4                0.0   30.0  \n",
       "5                0.0   64.0  \n",
       "6                0.0   64.0  \n",
       "7                0.0  102.0  \n",
       "8                0.0  190.0  \n",
       "9                0.0  304.0  \n",
       "10               0.0  842.0  \n",
       "11               1.0  807.0  \n",
       "12               0.0  898.0  \n",
       "13               0.0  510.0  \n",
       "14               0.0   74.0  \n",
       "\n",
       "[15 rows x 374 columns]"
      ]
     },
     "execution_count": 85,
     "metadata": {},
     "output_type": "execute_result"
    }
   ],
   "source": [
    "for d in dog_types:\n",
    "    df_other = df_rate[(df_rate.p1 != d)]\n",
    "\n",
    "df_other = df_other.rating.value_counts().sort_index()\n",
    "df_other = df_other.rename_axis('rating').to_frame('other')\n",
    "\n",
    "for d in dog_types:\n",
    "    df_add = df_rate[df_rate['p1'] == d ]\n",
    "    df_add = df_add.rating.value_counts().sort_index()\n",
    "    df_add = df_add.rename_axis('rating').to_frame(d)\n",
    "    df_other = df_other.merge(df_add, on='rating',how='left').fillna(0)\n",
    "    \n",
    "\n",
    "df_other.loc[:,'Total'] = df_other.sum(axis=1)\n",
    "df_other.index = df_other.index.map(str)\n",
    "df_other.columns = [x.lower() for x in df_other.columns]\n",
    "df_all = df_other.copy()\n",
    "df_all"
   ]
  },
  {
   "cell_type": "code",
   "execution_count": 86,
   "metadata": {},
   "outputs": [
    {
     "data": {
      "image/png": "[encoded data removed]",
      "text/plain": [
       "<Figure size 432x504 with 1 Axes>"
      ]
     },
     "metadata": {},
     "output_type": "display_data"
    }
   ],
   "source": [
    "b='Black'\n",
    "r = df_all.index\n",
    "t = df_all.total\n",
    "c= sns.color_palette()[9]\n",
    "f_sz=12\n",
    "w='whitesmoke'\n",
    "fig = plt.figure(figsize=(6,7), facecolor=c)\n",
    "\n",
    "            \n",
    "ax = plt.subplot(1, 1, 1)\n",
    "plt.barh(range(len(r)),t, color=w)\n",
    "plt.yticks(range(len(r)),r,fontsize=12, color=b)\n",
    "plt.ylabel('Rating',color=w,fontsize=f_sz)\n",
    "plt.xticks(color=b,fontsize=f_sz)\n",
    "plt.xlabel('Frequency',color=w,fontsize=f_sz)\n",
    "plt.title('Total Distribution of Dog Ratings',color='Black',fontsize=22)\n",
    "\n",
    "ax.set_axisbelow(True)\n",
    "ax.yaxis.grid(color='white', linestyle='dashed')\n",
    "plt.box(False)\n",
    "plt.show()"
   ]
  },
  {
   "cell_type": "markdown",
   "metadata": {},
   "source": [
    "- With the outliers removed you can see that the total distribution of the WeRateDogs is skew the left (since the ratings are group in descending order). \n",
    "- The lower values are not nearly as common as the ratings that are either 10/10 or greater than 10/10. Ratings of 10, 11, and 12 are quite common. \n",
    "- 14/10 happens at a much less frequent manner. Below, I will look more into the specific rating of 14 and see which breeds were most likely to receive it.  \n"
   ]
  },
  {
   "cell_type": "code",
   "execution_count": 87,
   "metadata": {},
   "outputs": [
    {
     "data": {
      "image/png": "[encoded data removed]",
      "text/plain": [
       "<Figure size 720x1008 with 9 Axes>"
      ]
     },
     "metadata": {},
     "output_type": "display_data"
    }
   ],
   "source": [
    "from mpl_toolkits.axes_grid1 import Grid\n",
    "i = df_all.index\n",
    "t = df_all.total\n",
    "r = df_all.index\n",
    "ch = df_all.chihuahua\n",
    "g = df_all['golden retriever']\n",
    "l = df_all['labrador retriever']\n",
    "p = df_all.pembroke\n",
    "pu = df_all.pug\n",
    "ow = df_all.chow\n",
    "s = df_all.samoyed\n",
    "pm = df_all.pomeranian\n",
    "tp = df_all['toy poodle']\n",
    "c= sns.color_palette()[9]\n",
    "w='whitesmoke'\n",
    "b='Black'\n",
    "f_sz=16\n",
    "lim = [0,40]\n",
    "fig = plt.figure(figsize=(10,14), facecolor=c)\n",
    "grid = Grid(fig, rect=111, nrows_ncols=(2,2),\n",
    "            axes_pad=0.25, label_mode='L')\n",
    "\n",
    "\n",
    "# Preferences and labels of Plot 1\n",
    "\n",
    "ax1= plt.subplot(3, 3, 1)\n",
    "plt.barh(range(len(r)),g, color=w)\n",
    "plt.yticks(range(len(r)),r,fontsize=11,color=b)\n",
    "plt.xticks(color=b,fontsize=11)\n",
    "plt.xlabel('Frequency',color=w)\n",
    "plt.ylabel('Rating',color=w)\n",
    "plt.box(False)\n",
    "plt.title('Golden Retriever',fontsize=f_sz,color=b)\n",
    "plt.xlim(lim)\n",
    "ax1.set_axisbelow(True)\n",
    "ax1.yaxis.grid(color='white', linestyle='dashed')\n",
    "\n",
    "# Preferences and labels of Plot 2\n",
    "\n",
    "ax2= plt.subplot(3, 3, 2)\n",
    "plt.barh(range(len(r)),l, color=w)\n",
    "plt.yticks(range(len(r)),r)\n",
    "plt.xticks(color=b, fontsize=11)\n",
    "plt.xlabel('Frequency',color=w)\n",
    "plt.setp(ax2.get_yticklabels(), visible=False)\n",
    "plt.box(False)\n",
    "plt.title('Labrador',fontsize=f_sz,color=b)\n",
    "plt.xlim(lim)\n",
    "ax2.set_axisbelow(True)\n",
    "ax2.yaxis.grid(color='white', linestyle='dashed')\n",
    "\n",
    "# Preferences and labels of Plot 3\n",
    "\n",
    "ax3 = plt.subplot(3, 3, 3)\n",
    "plt.barh(range(len(r)),ch, color=w)\n",
    "plt.yticks(range(len(r)),r)\n",
    "plt.xticks(color=b, fontsize=11)\n",
    "plt.xlabel('Frequency',color=w)\n",
    "plt.setp(ax3.get_yticklabels(), visible=False)\n",
    "plt.box(False)\n",
    "plt.title('Chihuah',fontsize=f_sz,color=b)\n",
    "plt.xlim(lim)\n",
    "ax3.set_axisbelow(True)\n",
    "ax3.yaxis.grid(color='white', linestyle='dashed')\n",
    "\n",
    "# Preferences and labels of Plot 4\n",
    "\n",
    "ax4 = plt.subplot(3, 3, 4)\n",
    "plt.barh(range(len(r)),p, color=w)\n",
    "plt.yticks(range(len(r)),r,fontsize=11,color=b)\n",
    "plt.xticks(color=b, fontsize=11)\n",
    "plt.xlabel('Frequency',color=w)\n",
    "plt.ylabel('Rating',color=w)\n",
    "plt.box(False)\n",
    "plt.title('Pembroke',fontsize=f_sz,color=b)\n",
    "plt.xlim(lim)\n",
    "ax4.set_axisbelow(True)\n",
    "ax4.yaxis.grid(color='white', linestyle='dashed')\n",
    "\n",
    "# Preferences and labels of Plot 5\n",
    "\n",
    "ax5 = plt.subplot(3, 3, 5)\n",
    "plt.barh(range(len(r)),pu, color=w)\n",
    "plt.yticks(range(len(r)),r)\n",
    "plt.xticks(color=b, fontsize=11)\n",
    "plt.xlabel('Frequency',color=w)\n",
    "plt.setp(ax5.get_yticklabels(), visible=False)\n",
    "plt.box(False)\n",
    "plt.title('Pug', fontsize=f_sz, color=b)\n",
    "plt.xlim(lim)\n",
    "ax5.set_axisbelow(True)\n",
    "ax5.yaxis.grid(color='white', linestyle='dashed')\n",
    "\n",
    "# Preferences and labels of Plot 6\n",
    "\n",
    "ax6 = plt.subplot(3, 3, 6)\n",
    "plt.barh(range(len(r)),ow, color=w)\n",
    "plt.yticks(range(len(r)),r)\n",
    "plt.xticks(color=b, fontsize=11)\n",
    "plt.xlabel('Frequency',color=w)\n",
    "plt.setp(ax6.get_yticklabels(), visible=False)\n",
    "plt.box(False)\n",
    "plt.title('Chow', fontsize=f_sz, color=b)\n",
    "plt.xlim(lim)\n",
    "ax6.set_axisbelow(True)\n",
    "ax6.yaxis.grid(color='white', linestyle='dashed')\n",
    "\n",
    "\n",
    "# Preferences and labels of Plot 7\n",
    "\n",
    "ax7 = plt.subplot(3, 3, 7)\n",
    "plt.barh(range(len(r)),ow, color=w)\n",
    "plt.yticks(range(len(r)),r,fontsize=11,color=b)\n",
    "plt.xticks(color=b, fontsize=11)\n",
    "plt.xlabel('Frequency',color=w)\n",
    "plt.ylabel('Rating',color=w)\n",
    "plt.setp(ax7.get_yticklabels(), visible=True)\n",
    "plt.box(False)\n",
    "plt.title('Samoyed', fontsize=f_sz, color=b)\n",
    "plt.xlim(lim)\n",
    "ax7.set_axisbelow(True)\n",
    "ax7.yaxis.grid(color='white', linestyle='dashed')\n",
    "\n",
    "# Preferences and labels of Plot 8\n",
    "\n",
    "ax8 = plt.subplot(3, 3, 8)\n",
    "plt.barh(range(len(r)),pm, color=w)\n",
    "plt.yticks(range(len(r)),r,)\n",
    "plt.xticks(color=b, fontsize=11)\n",
    "plt.xlabel('Frequency',color=w)\n",
    "plt.setp(ax8.get_yticklabels(), visible=False)\n",
    "plt.box(False)\n",
    "plt.title('Pomeranian', fontsize=f_sz, color=b)\n",
    "plt.xlim(lim)\n",
    "ax8.set_axisbelow(True)\n",
    "ax8.yaxis.grid(color='white', linestyle='dashed')\n",
    "\n",
    "# Preferences and labels of Plot 9\n",
    "\n",
    "\n",
    "ax9 = plt.subplot(3, 3, 9)\n",
    "plt.barh(range(len(r)),tp, color=w)\n",
    "plt.yticks(range(len(r)),r,)\n",
    "plt.xticks(color=b, fontsize=11)\n",
    "plt.xlabel('Frequency',color=w)\n",
    "plt.setp(ax9.get_yticklabels(), visible=False)\n",
    "plt.box(False)\n",
    "plt.title('Toy Poodle', fontsize=f_sz, color=b)\n",
    "plt.xlim(lim)\n",
    "ax9.set_axisbelow(True)\n",
    "ax9.yaxis.grid(color='white', linestyle='dashed')\n",
    "\n",
    "# Display all barcharts \n",
    "\n",
    "plt.tight_layout()\n",
    "plt.show()"
   ]
  },
  {
   "cell_type": "markdown",
   "metadata": {},
   "source": [
    "- This plot categorizes the distributions by dog breeds, showing a wide disparity between the frequency of ratings.\n",
    "At the top, Golden Retriever appears to consistently outperform the other breeds, receiving the most 14’s, 13, and 12’s. The frequency of ratings also shows that the most common dog breed detected in the data set was Golden Retriever, with a count of 138 out of the 1977. \n",
    "- Another observation that can be taken away from this plot was that WeRateDogs had a consistent pattern of rating all dogs at or above 10 out of 10, regardless of breed. Although, they did like picking on the occasional Pug or Chihuah, who have suspiciously received a few more 7 to 3 ratings than the others\n"
   ]
  },
  {
   "cell_type": "markdown",
   "metadata": {},
   "source": [
    "## Bayesian Probability of Dog Ratings for the Top 5 Dog Types\n",
    "<a id=\"jump3\"> </a>"
   ]
  },
  {
   "cell_type": "markdown",
   "metadata": {},
   "source": [
    "Once the data was discrete and the frequencies were gathered I could then use what I know about how WeRateDogs twitter account rates each dog breed and derive a probability table. "
   ]
  },
  {
   "cell_type": "code",
   "execution_count": 88,
   "metadata": {},
   "outputs": [
    {
     "data": {
      "text/html": [
       "<div>\n",
       "<style scoped>\n",
       "    .dataframe tbody tr th:only-of-type {\n",
       "        vertical-align: middle;\n",
       "    }\n",
       "\n",
       "    .dataframe tbody tr th {\n",
       "        vertical-align: top;\n",
       "    }\n",
       "\n",
       "    .dataframe thead th {\n",
       "        text-align: right;\n",
       "    }\n",
       "</style>\n",
       "<table border=\"1\" class=\"dataframe\">\n",
       "  <thead>\n",
       "    <tr style=\"text-align: right;\">\n",
       "      <th></th>\n",
       "      <th>other_count</th>\n",
       "      <th>pem_count</th>\n",
       "      <th>gold_count</th>\n",
       "      <th>lab_count</th>\n",
       "      <th>chih_count</th>\n",
       "      <th>pug_count</th>\n",
       "      <th>Total</th>\n",
       "    </tr>\n",
       "    <tr>\n",
       "      <th>rating</th>\n",
       "      <th></th>\n",
       "      <th></th>\n",
       "      <th></th>\n",
       "      <th></th>\n",
       "      <th></th>\n",
       "      <th></th>\n",
       "      <th></th>\n",
       "    </tr>\n",
       "  </thead>\n",
       "  <tbody>\n",
       "    <tr>\n",
       "      <td>0</td>\n",
       "      <td>2.0</td>\n",
       "      <td>0.0</td>\n",
       "      <td>0.0</td>\n",
       "      <td>0.0</td>\n",
       "      <td>0.0</td>\n",
       "      <td>0.0</td>\n",
       "      <td>2.0</td>\n",
       "    </tr>\n",
       "    <tr>\n",
       "      <td>1</td>\n",
       "      <td>4.0</td>\n",
       "      <td>0.0</td>\n",
       "      <td>0.0</td>\n",
       "      <td>0.0</td>\n",
       "      <td>0.0</td>\n",
       "      <td>0.0</td>\n",
       "      <td>4.0</td>\n",
       "    </tr>\n",
       "    <tr>\n",
       "      <td>2</td>\n",
       "      <td>9.0</td>\n",
       "      <td>0.0</td>\n",
       "      <td>0.0</td>\n",
       "      <td>0.0</td>\n",
       "      <td>0.0</td>\n",
       "      <td>0.0</td>\n",
       "      <td>9.0</td>\n",
       "    </tr>\n",
       "    <tr>\n",
       "      <td>3</td>\n",
       "      <td>17.0</td>\n",
       "      <td>0.0</td>\n",
       "      <td>0.0</td>\n",
       "      <td>0.0</td>\n",
       "      <td>1.0</td>\n",
       "      <td>1.0</td>\n",
       "      <td>19.0</td>\n",
       "    </tr>\n",
       "    <tr>\n",
       "      <td>4</td>\n",
       "      <td>14.0</td>\n",
       "      <td>1.0</td>\n",
       "      <td>0.0</td>\n",
       "      <td>0.0</td>\n",
       "      <td>0.0</td>\n",
       "      <td>0.0</td>\n",
       "      <td>15.0</td>\n",
       "    </tr>\n",
       "    <tr>\n",
       "      <td>5</td>\n",
       "      <td>30.0</td>\n",
       "      <td>1.0</td>\n",
       "      <td>0.0</td>\n",
       "      <td>0.0</td>\n",
       "      <td>1.0</td>\n",
       "      <td>0.0</td>\n",
       "      <td>32.0</td>\n",
       "    </tr>\n",
       "    <tr>\n",
       "      <td>6</td>\n",
       "      <td>30.0</td>\n",
       "      <td>1.0</td>\n",
       "      <td>0.0</td>\n",
       "      <td>0.0</td>\n",
       "      <td>0.0</td>\n",
       "      <td>1.0</td>\n",
       "      <td>32.0</td>\n",
       "    </tr>\n",
       "    <tr>\n",
       "      <td>7</td>\n",
       "      <td>43.0</td>\n",
       "      <td>1.0</td>\n",
       "      <td>0.0</td>\n",
       "      <td>1.0</td>\n",
       "      <td>4.0</td>\n",
       "      <td>2.0</td>\n",
       "      <td>51.0</td>\n",
       "    </tr>\n",
       "    <tr>\n",
       "      <td>8</td>\n",
       "      <td>84.0</td>\n",
       "      <td>1.0</td>\n",
       "      <td>2.0</td>\n",
       "      <td>3.0</td>\n",
       "      <td>3.0</td>\n",
       "      <td>2.0</td>\n",
       "      <td>95.0</td>\n",
       "    </tr>\n",
       "    <tr>\n",
       "      <td>9</td>\n",
       "      <td>129.0</td>\n",
       "      <td>0.0</td>\n",
       "      <td>4.0</td>\n",
       "      <td>4.0</td>\n",
       "      <td>7.0</td>\n",
       "      <td>8.0</td>\n",
       "      <td>152.0</td>\n",
       "    </tr>\n",
       "    <tr>\n",
       "      <td>10</td>\n",
       "      <td>335.0</td>\n",
       "      <td>9.0</td>\n",
       "      <td>20.0</td>\n",
       "      <td>22.0</td>\n",
       "      <td>17.0</td>\n",
       "      <td>18.0</td>\n",
       "      <td>421.0</td>\n",
       "    </tr>\n",
       "    <tr>\n",
       "      <td>11</td>\n",
       "      <td>304.0</td>\n",
       "      <td>26.0</td>\n",
       "      <td>27.0</td>\n",
       "      <td>25.0</td>\n",
       "      <td>12.0</td>\n",
       "      <td>10.0</td>\n",
       "      <td>404.0</td>\n",
       "    </tr>\n",
       "    <tr>\n",
       "      <td>12</td>\n",
       "      <td>318.0</td>\n",
       "      <td>27.0</td>\n",
       "      <td>53.0</td>\n",
       "      <td>25.0</td>\n",
       "      <td>22.0</td>\n",
       "      <td>4.0</td>\n",
       "      <td>449.0</td>\n",
       "    </tr>\n",
       "    <tr>\n",
       "      <td>13</td>\n",
       "      <td>179.0</td>\n",
       "      <td>17.0</td>\n",
       "      <td>28.0</td>\n",
       "      <td>12.0</td>\n",
       "      <td>11.0</td>\n",
       "      <td>8.0</td>\n",
       "      <td>255.0</td>\n",
       "    </tr>\n",
       "    <tr>\n",
       "      <td>14</td>\n",
       "      <td>28.0</td>\n",
       "      <td>4.0</td>\n",
       "      <td>4.0</td>\n",
       "      <td>0.0</td>\n",
       "      <td>1.0</td>\n",
       "      <td>0.0</td>\n",
       "      <td>37.0</td>\n",
       "    </tr>\n",
       "    <tr>\n",
       "      <td>Total</td>\n",
       "      <td>1526.0</td>\n",
       "      <td>88.0</td>\n",
       "      <td>138.0</td>\n",
       "      <td>92.0</td>\n",
       "      <td>79.0</td>\n",
       "      <td>54.0</td>\n",
       "      <td>1977.0</td>\n",
       "    </tr>\n",
       "  </tbody>\n",
       "</table>\n",
       "</div>"
      ],
      "text/plain": [
       "        other_count  pem_count  gold_count  lab_count  chih_count  pug_count  \\\n",
       "rating                                                                         \n",
       "0               2.0        0.0         0.0        0.0         0.0        0.0   \n",
       "1               4.0        0.0         0.0        0.0         0.0        0.0   \n",
       "2               9.0        0.0         0.0        0.0         0.0        0.0   \n",
       "3              17.0        0.0         0.0        0.0         1.0        1.0   \n",
       "4              14.0        1.0         0.0        0.0         0.0        0.0   \n",
       "5              30.0        1.0         0.0        0.0         1.0        0.0   \n",
       "6              30.0        1.0         0.0        0.0         0.0        1.0   \n",
       "7              43.0        1.0         0.0        1.0         4.0        2.0   \n",
       "8              84.0        1.0         2.0        3.0         3.0        2.0   \n",
       "9             129.0        0.0         4.0        4.0         7.0        8.0   \n",
       "10            335.0        9.0        20.0       22.0        17.0       18.0   \n",
       "11            304.0       26.0        27.0       25.0        12.0       10.0   \n",
       "12            318.0       27.0        53.0       25.0        22.0        4.0   \n",
       "13            179.0       17.0        28.0       12.0        11.0        8.0   \n",
       "14             28.0        4.0         4.0        0.0         1.0        0.0   \n",
       "Total        1526.0       88.0       138.0       92.0        79.0       54.0   \n",
       "\n",
       "         Total  \n",
       "rating          \n",
       "0          2.0  \n",
       "1          4.0  \n",
       "2          9.0  \n",
       "3         19.0  \n",
       "4         15.0  \n",
       "5         32.0  \n",
       "6         32.0  \n",
       "7         51.0  \n",
       "8         95.0  \n",
       "9        152.0  \n",
       "10       421.0  \n",
       "11       404.0  \n",
       "12       449.0  \n",
       "13       255.0  \n",
       "14        37.0  \n",
       "Total   1977.0  "
      ]
     },
     "execution_count": 88,
     "metadata": {},
     "output_type": "execute_result"
    }
   ],
   "source": [
    "# Gathering Each dogtypes value counts by Rating\n",
    "\n",
    "#Golden Retriever\n",
    "df_gold= (df_rate[df_rate['p1']=='golden retriever'])\n",
    "df_gold= df_gold.rating.value_counts().sort_index()\n",
    "df_gold = df_gold.rename_axis('rating').to_frame('gold_count')\n",
    "#Labrador Retriever\n",
    "df_lab= (df_rate[df_rate['p1']=='labrador retriever'])\n",
    "df_lab= df_lab.rating.value_counts().sort_index()\n",
    "df_lab = df_lab.rename_axis('rating').to_frame('lab_count')\n",
    "#Pembroke\n",
    "df_pem= (df_rate[df_rate['p1']=='pembroke'])\n",
    "df_pem=df_pem.rating.value_counts().sort_index()\n",
    "df_pem = df_pem.rename_axis('rating').to_frame('pem_count')\n",
    "#Chihuahua\n",
    "df_chih= (df_rate[df_rate['p1']=='chihuahua'])\n",
    "df_chih= df_chih.rating.value_counts().sort_index()\n",
    "df_chih = df_chih.rename_axis('rating').to_frame('chih_count')\n",
    "#Pug\n",
    "df_pug= (df_rate[df_rate['p1']=='pug'])\n",
    "df_pug=df_pug.rating.value_counts().sort_index()\n",
    "df_pub=df_pug.rename_axis('rating').to_frame('pug_count')\n",
    "\n",
    "#Combining the top 5 most likley dogs\n",
    "df_5dogs= pd.concat([df_pem,df_gold, df_lab,df_chih,df_pug],axis=1,sort=True).fillna(0)\n",
    "df_5dogs= df_5dogs.reset_index().rename(columns={'index' : 'rating','rating' : 'pug_count'})\n",
    "\n",
    "#Counts of all other dogs and ratings\n",
    "df_oth = df_rate[(df_rate.p1 != 'golden retriever') & (df_rate.p1 != 'labrador retriever') & (df_rate.p1 !='chihuahua')& (df_rate.p1 !='pembroke')& (df_rate.p1 !='pug')]\n",
    "df_oth = df_oth.rating.value_counts().sort_index()\n",
    "df_oth = df_oth.rename_axis('rating').to_frame('other_count')\n",
    "\n",
    "\n",
    "#Combining the all rating counts\n",
    "df_bayes= pd.merge(df_oth, df_5dogs,on='rating',how='left').fillna(0)\n",
    "df_bayes['rating'] = df_bayes['rating'].astype(str)\n",
    "df_bayes= df_bayes.set_index('rating',drop=True)\n",
    "df_bayes.loc[:,'Total'] = df_bayes.sum(axis=1)\n",
    "df_bayes.loc['Total',:] = df_bayes.sum(axis=0)\n",
    "\n",
    "df_bayes"
   ]
  },
  {
   "cell_type": "code",
   "execution_count": 89,
   "metadata": {},
   "outputs": [
    {
     "data": {
      "text/html": [
       "<div>\n",
       "<style scoped>\n",
       "    .dataframe tbody tr th:only-of-type {\n",
       "        vertical-align: middle;\n",
       "    }\n",
       "\n",
       "    .dataframe tbody tr th {\n",
       "        vertical-align: top;\n",
       "    }\n",
       "\n",
       "    .dataframe thead th {\n",
       "        text-align: right;\n",
       "    }\n",
       "</style>\n",
       "<table border=\"1\" class=\"dataframe\">\n",
       "  <thead>\n",
       "    <tr style=\"text-align: right;\">\n",
       "      <th></th>\n",
       "      <th>other_count</th>\n",
       "      <th>pem_count</th>\n",
       "      <th>gold_count</th>\n",
       "      <th>lab_count</th>\n",
       "      <th>chih_count</th>\n",
       "      <th>pug_count</th>\n",
       "      <th>Total</th>\n",
       "    </tr>\n",
       "    <tr>\n",
       "      <th>rating</th>\n",
       "      <th></th>\n",
       "      <th></th>\n",
       "      <th></th>\n",
       "      <th></th>\n",
       "      <th></th>\n",
       "      <th></th>\n",
       "      <th></th>\n",
       "    </tr>\n",
       "  </thead>\n",
       "  <tbody>\n",
       "    <tr>\n",
       "      <td>0</td>\n",
       "      <td>0.001</td>\n",
       "      <td>0.000</td>\n",
       "      <td>0.000</td>\n",
       "      <td>0.000</td>\n",
       "      <td>0.000</td>\n",
       "      <td>0.000</td>\n",
       "      <td>0.001</td>\n",
       "    </tr>\n",
       "    <tr>\n",
       "      <td>1</td>\n",
       "      <td>0.003</td>\n",
       "      <td>0.000</td>\n",
       "      <td>0.000</td>\n",
       "      <td>0.000</td>\n",
       "      <td>0.000</td>\n",
       "      <td>0.000</td>\n",
       "      <td>0.002</td>\n",
       "    </tr>\n",
       "    <tr>\n",
       "      <td>2</td>\n",
       "      <td>0.006</td>\n",
       "      <td>0.000</td>\n",
       "      <td>0.000</td>\n",
       "      <td>0.000</td>\n",
       "      <td>0.000</td>\n",
       "      <td>0.000</td>\n",
       "      <td>0.005</td>\n",
       "    </tr>\n",
       "    <tr>\n",
       "      <td>3</td>\n",
       "      <td>0.010</td>\n",
       "      <td>0.000</td>\n",
       "      <td>0.000</td>\n",
       "      <td>0.000</td>\n",
       "      <td>0.001</td>\n",
       "      <td>0.001</td>\n",
       "      <td>0.010</td>\n",
       "    </tr>\n",
       "    <tr>\n",
       "      <td>4</td>\n",
       "      <td>0.009</td>\n",
       "      <td>0.001</td>\n",
       "      <td>0.000</td>\n",
       "      <td>0.000</td>\n",
       "      <td>0.000</td>\n",
       "      <td>0.000</td>\n",
       "      <td>0.008</td>\n",
       "    </tr>\n",
       "    <tr>\n",
       "      <td>5</td>\n",
       "      <td>0.018</td>\n",
       "      <td>0.000</td>\n",
       "      <td>0.000</td>\n",
       "      <td>0.000</td>\n",
       "      <td>0.000</td>\n",
       "      <td>0.000</td>\n",
       "      <td>0.016</td>\n",
       "    </tr>\n",
       "    <tr>\n",
       "      <td>6</td>\n",
       "      <td>0.018</td>\n",
       "      <td>0.000</td>\n",
       "      <td>0.000</td>\n",
       "      <td>0.000</td>\n",
       "      <td>0.000</td>\n",
       "      <td>0.001</td>\n",
       "      <td>0.016</td>\n",
       "    </tr>\n",
       "    <tr>\n",
       "      <td>7</td>\n",
       "      <td>0.024</td>\n",
       "      <td>0.000</td>\n",
       "      <td>0.000</td>\n",
       "      <td>0.000</td>\n",
       "      <td>0.004</td>\n",
       "      <td>0.001</td>\n",
       "      <td>0.026</td>\n",
       "    </tr>\n",
       "    <tr>\n",
       "      <td>8</td>\n",
       "      <td>0.049</td>\n",
       "      <td>0.000</td>\n",
       "      <td>0.000</td>\n",
       "      <td>0.001</td>\n",
       "      <td>0.001</td>\n",
       "      <td>0.001</td>\n",
       "      <td>0.048</td>\n",
       "    </tr>\n",
       "    <tr>\n",
       "      <td>9</td>\n",
       "      <td>0.072</td>\n",
       "      <td>0.000</td>\n",
       "      <td>0.001</td>\n",
       "      <td>0.001</td>\n",
       "      <td>0.004</td>\n",
       "      <td>0.008</td>\n",
       "      <td>0.077</td>\n",
       "    </tr>\n",
       "    <tr>\n",
       "      <td>10</td>\n",
       "      <td>0.175</td>\n",
       "      <td>0.002</td>\n",
       "      <td>0.007</td>\n",
       "      <td>0.012</td>\n",
       "      <td>0.009</td>\n",
       "      <td>0.014</td>\n",
       "      <td>0.213</td>\n",
       "    </tr>\n",
       "    <tr>\n",
       "      <td>11</td>\n",
       "      <td>0.150</td>\n",
       "      <td>0.019</td>\n",
       "      <td>0.013</td>\n",
       "      <td>0.017</td>\n",
       "      <td>0.005</td>\n",
       "      <td>0.005</td>\n",
       "      <td>0.204</td>\n",
       "    </tr>\n",
       "    <tr>\n",
       "      <td>12</td>\n",
       "      <td>0.148</td>\n",
       "      <td>0.018</td>\n",
       "      <td>0.045</td>\n",
       "      <td>0.015</td>\n",
       "      <td>0.014</td>\n",
       "      <td>0.001</td>\n",
       "      <td>0.227</td>\n",
       "    </tr>\n",
       "    <tr>\n",
       "      <td>13</td>\n",
       "      <td>0.082</td>\n",
       "      <td>0.013</td>\n",
       "      <td>0.022</td>\n",
       "      <td>0.006</td>\n",
       "      <td>0.006</td>\n",
       "      <td>0.005</td>\n",
       "      <td>0.129</td>\n",
       "    </tr>\n",
       "    <tr>\n",
       "      <td>14</td>\n",
       "      <td>0.014</td>\n",
       "      <td>0.005</td>\n",
       "      <td>0.003</td>\n",
       "      <td>0.000</td>\n",
       "      <td>0.000</td>\n",
       "      <td>0.000</td>\n",
       "      <td>0.019</td>\n",
       "    </tr>\n",
       "    <tr>\n",
       "      <td>Total</td>\n",
       "      <td>0.772</td>\n",
       "      <td>0.045</td>\n",
       "      <td>0.070</td>\n",
       "      <td>0.047</td>\n",
       "      <td>0.040</td>\n",
       "      <td>0.027</td>\n",
       "      <td>1.000</td>\n",
       "    </tr>\n",
       "  </tbody>\n",
       "</table>\n",
       "</div>"
      ],
      "text/plain": [
       "        other_count  pem_count  gold_count  lab_count  chih_count  pug_count  \\\n",
       "rating                                                                         \n",
       "0             0.001      0.000       0.000      0.000       0.000      0.000   \n",
       "1             0.003      0.000       0.000      0.000       0.000      0.000   \n",
       "2             0.006      0.000       0.000      0.000       0.000      0.000   \n",
       "3             0.010      0.000       0.000      0.000       0.001      0.001   \n",
       "4             0.009      0.001       0.000      0.000       0.000      0.000   \n",
       "5             0.018      0.000       0.000      0.000       0.000      0.000   \n",
       "6             0.018      0.000       0.000      0.000       0.000      0.001   \n",
       "7             0.024      0.000       0.000      0.000       0.004      0.001   \n",
       "8             0.049      0.000       0.000      0.001       0.001      0.001   \n",
       "9             0.072      0.000       0.001      0.001       0.004      0.008   \n",
       "10            0.175      0.002       0.007      0.012       0.009      0.014   \n",
       "11            0.150      0.019       0.013      0.017       0.005      0.005   \n",
       "12            0.148      0.018       0.045      0.015       0.014      0.001   \n",
       "13            0.082      0.013       0.022      0.006       0.006      0.005   \n",
       "14            0.014      0.005       0.003      0.000       0.000      0.000   \n",
       "Total         0.772      0.045       0.070      0.047       0.040      0.027   \n",
       "\n",
       "        Total  \n",
       "rating         \n",
       "0       0.001  \n",
       "1       0.002  \n",
       "2       0.005  \n",
       "3       0.010  \n",
       "4       0.008  \n",
       "5       0.016  \n",
       "6       0.016  \n",
       "7       0.026  \n",
       "8       0.048  \n",
       "9       0.077  \n",
       "10      0.213  \n",
       "11      0.204  \n",
       "12      0.227  \n",
       "13      0.129  \n",
       "14      0.019  \n",
       "Total   1.000  "
      ]
     },
     "execution_count": 89,
     "metadata": {},
     "output_type": "execute_result"
    }
   ],
   "source": [
    "#Deriving given calculations for the Baysian Probability Output\n",
    "df_given = df_bayes.copy()\n",
    "for col in df_given.columns:\n",
    "    for i,row in df_given.iterrows():\n",
    "        given = row[col]/ row['Total']\n",
    "        df_given.loc[i,col] = given\n",
    "#Transpositoning the matrix\n",
    "df_prior = df_bayes.copy()\n",
    "df_prior = df_prior.T\n",
    "#Deriving prior calculations\n",
    "df_pri = df_prior.copy()\n",
    "for col in df_prior.columns:\n",
    "    for i,row in df_prior.iterrows():\n",
    "        fix = row[col]\n",
    "        prior = fix / row['Total']\n",
    "        df_pri.loc[i,col] = prior\n",
    "\n",
    "#Multiplying to create probability distribution        \n",
    "df_prob = df_given * df_pri.T\n",
    "df_prob = df_prob.round(3)\n",
    "df_prob"
   ]
  },
  {
   "cell_type": "code",
   "execution_count": 90,
   "metadata": {},
   "outputs": [
    {
     "data": {
      "text/html": [
       "<div>\n",
       "<style scoped>\n",
       "    .dataframe tbody tr th:only-of-type {\n",
       "        vertical-align: middle;\n",
       "    }\n",
       "\n",
       "    .dataframe tbody tr th {\n",
       "        vertical-align: top;\n",
       "    }\n",
       "\n",
       "    .dataframe thead th {\n",
       "        text-align: right;\n",
       "    }\n",
       "</style>\n",
       "<table border=\"1\" class=\"dataframe\">\n",
       "  <thead>\n",
       "    <tr style=\"text-align: right;\">\n",
       "      <th></th>\n",
       "      <th>other_count</th>\n",
       "      <th>pem_count</th>\n",
       "      <th>gold_count</th>\n",
       "      <th>lab_count</th>\n",
       "      <th>chih_count</th>\n",
       "      <th>pug_count</th>\n",
       "      <th>Total</th>\n",
       "    </tr>\n",
       "    <tr>\n",
       "      <th>rating</th>\n",
       "      <th></th>\n",
       "      <th></th>\n",
       "      <th></th>\n",
       "      <th></th>\n",
       "      <th></th>\n",
       "      <th></th>\n",
       "      <th></th>\n",
       "    </tr>\n",
       "  </thead>\n",
       "  <tbody>\n",
       "    <tr>\n",
       "      <td>0</td>\n",
       "      <td>0.001</td>\n",
       "      <td>0.000</td>\n",
       "      <td>0.000</td>\n",
       "      <td>0.000</td>\n",
       "      <td>0.000</td>\n",
       "      <td>0.000</td>\n",
       "      <td>0.001</td>\n",
       "    </tr>\n",
       "    <tr>\n",
       "      <td>1</td>\n",
       "      <td>0.003</td>\n",
       "      <td>0.000</td>\n",
       "      <td>0.000</td>\n",
       "      <td>0.000</td>\n",
       "      <td>0.000</td>\n",
       "      <td>0.000</td>\n",
       "      <td>0.002</td>\n",
       "    </tr>\n",
       "    <tr>\n",
       "      <td>2</td>\n",
       "      <td>0.006</td>\n",
       "      <td>0.000</td>\n",
       "      <td>0.000</td>\n",
       "      <td>0.000</td>\n",
       "      <td>0.000</td>\n",
       "      <td>0.000</td>\n",
       "      <td>0.005</td>\n",
       "    </tr>\n",
       "    <tr>\n",
       "      <td>3</td>\n",
       "      <td>0.010</td>\n",
       "      <td>0.000</td>\n",
       "      <td>0.000</td>\n",
       "      <td>0.000</td>\n",
       "      <td>0.001</td>\n",
       "      <td>0.001</td>\n",
       "      <td>0.010</td>\n",
       "    </tr>\n",
       "    <tr>\n",
       "      <td>4</td>\n",
       "      <td>0.009</td>\n",
       "      <td>0.001</td>\n",
       "      <td>0.000</td>\n",
       "      <td>0.000</td>\n",
       "      <td>0.000</td>\n",
       "      <td>0.000</td>\n",
       "      <td>0.008</td>\n",
       "    </tr>\n",
       "    <tr>\n",
       "      <td>5</td>\n",
       "      <td>0.018</td>\n",
       "      <td>0.000</td>\n",
       "      <td>0.000</td>\n",
       "      <td>0.000</td>\n",
       "      <td>0.000</td>\n",
       "      <td>0.000</td>\n",
       "      <td>0.016</td>\n",
       "    </tr>\n",
       "    <tr>\n",
       "      <td>6</td>\n",
       "      <td>0.018</td>\n",
       "      <td>0.000</td>\n",
       "      <td>0.000</td>\n",
       "      <td>0.000</td>\n",
       "      <td>0.000</td>\n",
       "      <td>0.001</td>\n",
       "      <td>0.016</td>\n",
       "    </tr>\n",
       "    <tr>\n",
       "      <td>7</td>\n",
       "      <td>0.024</td>\n",
       "      <td>0.000</td>\n",
       "      <td>0.000</td>\n",
       "      <td>0.000</td>\n",
       "      <td>0.004</td>\n",
       "      <td>0.001</td>\n",
       "      <td>0.026</td>\n",
       "    </tr>\n",
       "    <tr>\n",
       "      <td>8</td>\n",
       "      <td>0.049</td>\n",
       "      <td>0.000</td>\n",
       "      <td>0.000</td>\n",
       "      <td>0.001</td>\n",
       "      <td>0.001</td>\n",
       "      <td>0.001</td>\n",
       "      <td>0.048</td>\n",
       "    </tr>\n",
       "    <tr>\n",
       "      <td>9</td>\n",
       "      <td>0.072</td>\n",
       "      <td>0.000</td>\n",
       "      <td>0.001</td>\n",
       "      <td>0.001</td>\n",
       "      <td>0.004</td>\n",
       "      <td>0.008</td>\n",
       "      <td>0.077</td>\n",
       "    </tr>\n",
       "    <tr>\n",
       "      <td>10</td>\n",
       "      <td>0.175</td>\n",
       "      <td>0.002</td>\n",
       "      <td>0.007</td>\n",
       "      <td>0.012</td>\n",
       "      <td>0.009</td>\n",
       "      <td>0.014</td>\n",
       "      <td>0.213</td>\n",
       "    </tr>\n",
       "    <tr>\n",
       "      <td>11</td>\n",
       "      <td>0.150</td>\n",
       "      <td>0.019</td>\n",
       "      <td>0.013</td>\n",
       "      <td>0.017</td>\n",
       "      <td>0.005</td>\n",
       "      <td>0.005</td>\n",
       "      <td>0.204</td>\n",
       "    </tr>\n",
       "    <tr>\n",
       "      <td>12</td>\n",
       "      <td>0.148</td>\n",
       "      <td>0.018</td>\n",
       "      <td>0.045</td>\n",
       "      <td>0.015</td>\n",
       "      <td>0.014</td>\n",
       "      <td>0.001</td>\n",
       "      <td>0.227</td>\n",
       "    </tr>\n",
       "    <tr>\n",
       "      <td>13</td>\n",
       "      <td>0.082</td>\n",
       "      <td>0.013</td>\n",
       "      <td>0.022</td>\n",
       "      <td>0.006</td>\n",
       "      <td>0.006</td>\n",
       "      <td>0.005</td>\n",
       "      <td>0.129</td>\n",
       "    </tr>\n",
       "    <tr>\n",
       "      <td>14</td>\n",
       "      <td>0.014</td>\n",
       "      <td>0.005</td>\n",
       "      <td>0.003</td>\n",
       "      <td>0.000</td>\n",
       "      <td>0.000</td>\n",
       "      <td>0.000</td>\n",
       "      <td>0.019</td>\n",
       "    </tr>\n",
       "    <tr>\n",
       "      <td>Total</td>\n",
       "      <td>0.772</td>\n",
       "      <td>0.045</td>\n",
       "      <td>0.070</td>\n",
       "      <td>0.047</td>\n",
       "      <td>0.040</td>\n",
       "      <td>0.027</td>\n",
       "      <td>1.000</td>\n",
       "    </tr>\n",
       "  </tbody>\n",
       "</table>\n",
       "</div>"
      ],
      "text/plain": [
       "        other_count  pem_count  gold_count  lab_count  chih_count  pug_count  \\\n",
       "rating                                                                         \n",
       "0             0.001      0.000       0.000      0.000       0.000      0.000   \n",
       "1             0.003      0.000       0.000      0.000       0.000      0.000   \n",
       "2             0.006      0.000       0.000      0.000       0.000      0.000   \n",
       "3             0.010      0.000       0.000      0.000       0.001      0.001   \n",
       "4             0.009      0.001       0.000      0.000       0.000      0.000   \n",
       "5             0.018      0.000       0.000      0.000       0.000      0.000   \n",
       "6             0.018      0.000       0.000      0.000       0.000      0.001   \n",
       "7             0.024      0.000       0.000      0.000       0.004      0.001   \n",
       "8             0.049      0.000       0.000      0.001       0.001      0.001   \n",
       "9             0.072      0.000       0.001      0.001       0.004      0.008   \n",
       "10            0.175      0.002       0.007      0.012       0.009      0.014   \n",
       "11            0.150      0.019       0.013      0.017       0.005      0.005   \n",
       "12            0.148      0.018       0.045      0.015       0.014      0.001   \n",
       "13            0.082      0.013       0.022      0.006       0.006      0.005   \n",
       "14            0.014      0.005       0.003      0.000       0.000      0.000   \n",
       "Total         0.772      0.045       0.070      0.047       0.040      0.027   \n",
       "\n",
       "        Total  \n",
       "rating         \n",
       "0       0.001  \n",
       "1       0.002  \n",
       "2       0.005  \n",
       "3       0.010  \n",
       "4       0.008  \n",
       "5       0.016  \n",
       "6       0.016  \n",
       "7       0.026  \n",
       "8       0.048  \n",
       "9       0.077  \n",
       "10      0.213  \n",
       "11      0.204  \n",
       "12      0.227  \n",
       "13      0.129  \n",
       "14      0.019  \n",
       "Total   1.000  "
      ]
     },
     "execution_count": 90,
     "metadata": {},
     "output_type": "execute_result"
    }
   ],
   "source": [
    "df_prob"
   ]
  },
  {
   "cell_type": "markdown",
   "metadata": {},
   "source": [
    "Using the probability table I could then calculate the bayesian conditional probability of how likely each rating was given the dog’s breed. "
   ]
  },
  {
   "cell_type": "code",
   "execution_count": 91,
   "metadata": {},
   "outputs": [],
   "source": [
    "rating_given_gold = df_prob['gold_count'] / df_prob.loc['Total','gold_count']\n",
    "rating_given_gold.drop('Total',inplace=True)"
   ]
  },
  {
   "cell_type": "code",
   "execution_count": 92,
   "metadata": {},
   "outputs": [
    {
     "data": {
      "text/plain": [
       "rating\n",
       "0     0.000000\n",
       "1     0.000000\n",
       "2     0.000000\n",
       "3     0.000000\n",
       "4     0.000000\n",
       "5     0.000000\n",
       "6     0.000000\n",
       "7     0.000000\n",
       "8     0.000000\n",
       "9     0.014286\n",
       "10    0.100000\n",
       "11    0.185714\n",
       "12    0.642857\n",
       "13    0.314286\n",
       "14    0.042857\n",
       "Name: gold_count, dtype: float64"
      ]
     },
     "execution_count": 92,
     "metadata": {},
     "output_type": "execute_result"
    }
   ],
   "source": [
    "rating_given_gold"
   ]
  },
  {
   "cell_type": "code",
   "execution_count": 93,
   "metadata": {},
   "outputs": [
    {
     "data": {
      "image/png": "[encoded data removed]",
      "text/plain": [
       "<Figure size 432x288 with 1 Axes>"
      ]
     },
     "metadata": {
      "needs_background": "light"
     },
     "output_type": "display_data"
    }
   ],
   "source": [
    "counts = rating_given_gold.values\n",
    "\n",
    "plt.bar(rating_given_gold.keys(),rating_given_gold.values)\n",
    "plt.ylim([0, 1])\n",
    "plt.xlabel('Dog Rating')\n",
    "plt.ylabel('Probability %')\n",
    "\n",
    "for i in range(len(counts)):\n",
    "    val = counts[i]*100\n",
    "    if val < 0.01:\n",
    "        pass\n",
    "    else:\n",
    "        plt.text(i -.3, counts[i]+.02, s=f\"{val:.0f}%\",color='black')\n",
    "\n",
    "\n",
    "plt.title('Conditional Probability\\n Dog Rating Given a Golden Retriever',fontsize=f_sz,color=b)        \n",
    "plt.show()"
   ]
  },
  {
   "cell_type": "markdown",
   "metadata": {},
   "source": [
    "- I found that if a Golden Retriever is posted on WeRateDogs it has a 1% chance of receiving a rating of 9, a 10% chance of receiving a 10, a 19% of receiving an 11, but the rating the Golden Retriever is most likely to receive is a 12 out of 10, which has a probability 64%. The likelihood of receiving a rating of 12 is more than twice as likely as the next most likely rating\n",
    "- At the highest end of the spectrum, a Golden Retriever has a 31% chance of receiving a 13 and a 4% chance of receiving a rating of 14. Next up I will take a look at the inverse conditional probabilities, the liklihood of the dog breed given that the rating is a 13 as well as the likelihood of the dog breed given the rating is a 14."
   ]
  },
  {
   "cell_type": "code",
   "execution_count": 94,
   "metadata": {},
   "outputs": [
    {
     "data": {
      "text/html": [
       "<div>\n",
       "<style scoped>\n",
       "    .dataframe tbody tr th:only-of-type {\n",
       "        vertical-align: middle;\n",
       "    }\n",
       "\n",
       "    .dataframe tbody tr th {\n",
       "        vertical-align: top;\n",
       "    }\n",
       "\n",
       "    .dataframe thead th {\n",
       "        text-align: right;\n",
       "    }\n",
       "</style>\n",
       "<table border=\"1\" class=\"dataframe\">\n",
       "  <thead>\n",
       "    <tr style=\"text-align: right;\">\n",
       "      <th>rating</th>\n",
       "      <th>0</th>\n",
       "      <th>1</th>\n",
       "      <th>2</th>\n",
       "      <th>3</th>\n",
       "      <th>4</th>\n",
       "      <th>5</th>\n",
       "      <th>6</th>\n",
       "      <th>7</th>\n",
       "      <th>8</th>\n",
       "      <th>9</th>\n",
       "      <th>10</th>\n",
       "      <th>11</th>\n",
       "      <th>12</th>\n",
       "      <th>13</th>\n",
       "      <th>14</th>\n",
       "      <th>Total</th>\n",
       "    </tr>\n",
       "  </thead>\n",
       "  <tbody>\n",
       "    <tr>\n",
       "      <td>other_count</td>\n",
       "      <td>2.0</td>\n",
       "      <td>4.0</td>\n",
       "      <td>9.0</td>\n",
       "      <td>17.0</td>\n",
       "      <td>14.0</td>\n",
       "      <td>30.0</td>\n",
       "      <td>30.0</td>\n",
       "      <td>43.0</td>\n",
       "      <td>84.0</td>\n",
       "      <td>129.0</td>\n",
       "      <td>335.0</td>\n",
       "      <td>304.0</td>\n",
       "      <td>318.0</td>\n",
       "      <td>179.0</td>\n",
       "      <td>28.0</td>\n",
       "      <td>1526.0</td>\n",
       "    </tr>\n",
       "    <tr>\n",
       "      <td>pem_count</td>\n",
       "      <td>0.0</td>\n",
       "      <td>0.0</td>\n",
       "      <td>0.0</td>\n",
       "      <td>0.0</td>\n",
       "      <td>1.0</td>\n",
       "      <td>1.0</td>\n",
       "      <td>1.0</td>\n",
       "      <td>1.0</td>\n",
       "      <td>1.0</td>\n",
       "      <td>0.0</td>\n",
       "      <td>9.0</td>\n",
       "      <td>26.0</td>\n",
       "      <td>27.0</td>\n",
       "      <td>17.0</td>\n",
       "      <td>4.0</td>\n",
       "      <td>88.0</td>\n",
       "    </tr>\n",
       "    <tr>\n",
       "      <td>gold_count</td>\n",
       "      <td>0.0</td>\n",
       "      <td>0.0</td>\n",
       "      <td>0.0</td>\n",
       "      <td>0.0</td>\n",
       "      <td>0.0</td>\n",
       "      <td>0.0</td>\n",
       "      <td>0.0</td>\n",
       "      <td>0.0</td>\n",
       "      <td>2.0</td>\n",
       "      <td>4.0</td>\n",
       "      <td>20.0</td>\n",
       "      <td>27.0</td>\n",
       "      <td>53.0</td>\n",
       "      <td>28.0</td>\n",
       "      <td>4.0</td>\n",
       "      <td>138.0</td>\n",
       "    </tr>\n",
       "    <tr>\n",
       "      <td>lab_count</td>\n",
       "      <td>0.0</td>\n",
       "      <td>0.0</td>\n",
       "      <td>0.0</td>\n",
       "      <td>0.0</td>\n",
       "      <td>0.0</td>\n",
       "      <td>0.0</td>\n",
       "      <td>0.0</td>\n",
       "      <td>1.0</td>\n",
       "      <td>3.0</td>\n",
       "      <td>4.0</td>\n",
       "      <td>22.0</td>\n",
       "      <td>25.0</td>\n",
       "      <td>25.0</td>\n",
       "      <td>12.0</td>\n",
       "      <td>0.0</td>\n",
       "      <td>92.0</td>\n",
       "    </tr>\n",
       "    <tr>\n",
       "      <td>chih_count</td>\n",
       "      <td>0.0</td>\n",
       "      <td>0.0</td>\n",
       "      <td>0.0</td>\n",
       "      <td>1.0</td>\n",
       "      <td>0.0</td>\n",
       "      <td>1.0</td>\n",
       "      <td>0.0</td>\n",
       "      <td>4.0</td>\n",
       "      <td>3.0</td>\n",
       "      <td>7.0</td>\n",
       "      <td>17.0</td>\n",
       "      <td>12.0</td>\n",
       "      <td>22.0</td>\n",
       "      <td>11.0</td>\n",
       "      <td>1.0</td>\n",
       "      <td>79.0</td>\n",
       "    </tr>\n",
       "    <tr>\n",
       "      <td>pug_count</td>\n",
       "      <td>0.0</td>\n",
       "      <td>0.0</td>\n",
       "      <td>0.0</td>\n",
       "      <td>1.0</td>\n",
       "      <td>0.0</td>\n",
       "      <td>0.0</td>\n",
       "      <td>1.0</td>\n",
       "      <td>2.0</td>\n",
       "      <td>2.0</td>\n",
       "      <td>8.0</td>\n",
       "      <td>18.0</td>\n",
       "      <td>10.0</td>\n",
       "      <td>4.0</td>\n",
       "      <td>8.0</td>\n",
       "      <td>0.0</td>\n",
       "      <td>54.0</td>\n",
       "    </tr>\n",
       "    <tr>\n",
       "      <td>Total</td>\n",
       "      <td>2.0</td>\n",
       "      <td>4.0</td>\n",
       "      <td>9.0</td>\n",
       "      <td>19.0</td>\n",
       "      <td>15.0</td>\n",
       "      <td>32.0</td>\n",
       "      <td>32.0</td>\n",
       "      <td>51.0</td>\n",
       "      <td>95.0</td>\n",
       "      <td>152.0</td>\n",
       "      <td>421.0</td>\n",
       "      <td>404.0</td>\n",
       "      <td>449.0</td>\n",
       "      <td>255.0</td>\n",
       "      <td>37.0</td>\n",
       "      <td>1977.0</td>\n",
       "    </tr>\n",
       "  </tbody>\n",
       "</table>\n",
       "</div>"
      ],
      "text/plain": [
       "rating         0    1    2     3     4     5     6     7     8      9     10  \\\n",
       "other_count  2.0  4.0  9.0  17.0  14.0  30.0  30.0  43.0  84.0  129.0  335.0   \n",
       "pem_count    0.0  0.0  0.0   0.0   1.0   1.0   1.0   1.0   1.0    0.0    9.0   \n",
       "gold_count   0.0  0.0  0.0   0.0   0.0   0.0   0.0   0.0   2.0    4.0   20.0   \n",
       "lab_count    0.0  0.0  0.0   0.0   0.0   0.0   0.0   1.0   3.0    4.0   22.0   \n",
       "chih_count   0.0  0.0  0.0   1.0   0.0   1.0   0.0   4.0   3.0    7.0   17.0   \n",
       "pug_count    0.0  0.0  0.0   1.0   0.0   0.0   1.0   2.0   2.0    8.0   18.0   \n",
       "Total        2.0  4.0  9.0  19.0  15.0  32.0  32.0  51.0  95.0  152.0  421.0   \n",
       "\n",
       "rating          11     12     13    14   Total  \n",
       "other_count  304.0  318.0  179.0  28.0  1526.0  \n",
       "pem_count     26.0   27.0   17.0   4.0    88.0  \n",
       "gold_count    27.0   53.0   28.0   4.0   138.0  \n",
       "lab_count     25.0   25.0   12.0   0.0    92.0  \n",
       "chih_count    12.0   22.0   11.0   1.0    79.0  \n",
       "pug_count     10.0    4.0    8.0   0.0    54.0  \n",
       "Total        404.0  449.0  255.0  37.0  1977.0  "
      ]
     },
     "execution_count": 94,
     "metadata": {},
     "output_type": "execute_result"
    }
   ],
   "source": [
    "df_bayes.T"
   ]
  },
  {
   "cell_type": "code",
   "execution_count": 95,
   "metadata": {},
   "outputs": [
    {
     "data": {
      "text/html": [
       "<div>\n",
       "<style scoped>\n",
       "    .dataframe tbody tr th:only-of-type {\n",
       "        vertical-align: middle;\n",
       "    }\n",
       "\n",
       "    .dataframe tbody tr th {\n",
       "        vertical-align: top;\n",
       "    }\n",
       "\n",
       "    .dataframe thead th {\n",
       "        text-align: right;\n",
       "    }\n",
       "</style>\n",
       "<table border=\"1\" class=\"dataframe\">\n",
       "  <thead>\n",
       "    <tr style=\"text-align: right;\">\n",
       "      <th>rating</th>\n",
       "      <th>0</th>\n",
       "      <th>1</th>\n",
       "      <th>2</th>\n",
       "      <th>3</th>\n",
       "      <th>4</th>\n",
       "      <th>5</th>\n",
       "      <th>6</th>\n",
       "      <th>7</th>\n",
       "      <th>8</th>\n",
       "      <th>9</th>\n",
       "      <th>10</th>\n",
       "      <th>11</th>\n",
       "      <th>12</th>\n",
       "      <th>13</th>\n",
       "      <th>14</th>\n",
       "      <th>Total</th>\n",
       "    </tr>\n",
       "  </thead>\n",
       "  <tbody>\n",
       "    <tr>\n",
       "      <td>other_count</td>\n",
       "      <td>0.001</td>\n",
       "      <td>0.003</td>\n",
       "      <td>0.006</td>\n",
       "      <td>0.010</td>\n",
       "      <td>0.009</td>\n",
       "      <td>0.018</td>\n",
       "      <td>0.018</td>\n",
       "      <td>0.024</td>\n",
       "      <td>0.049</td>\n",
       "      <td>0.072</td>\n",
       "      <td>0.175</td>\n",
       "      <td>0.150</td>\n",
       "      <td>0.148</td>\n",
       "      <td>0.082</td>\n",
       "      <td>0.014</td>\n",
       "      <td>0.772</td>\n",
       "    </tr>\n",
       "    <tr>\n",
       "      <td>pem_count</td>\n",
       "      <td>0.000</td>\n",
       "      <td>0.000</td>\n",
       "      <td>0.000</td>\n",
       "      <td>0.000</td>\n",
       "      <td>0.001</td>\n",
       "      <td>0.000</td>\n",
       "      <td>0.000</td>\n",
       "      <td>0.000</td>\n",
       "      <td>0.000</td>\n",
       "      <td>0.000</td>\n",
       "      <td>0.002</td>\n",
       "      <td>0.019</td>\n",
       "      <td>0.018</td>\n",
       "      <td>0.013</td>\n",
       "      <td>0.005</td>\n",
       "      <td>0.045</td>\n",
       "    </tr>\n",
       "    <tr>\n",
       "      <td>gold_count</td>\n",
       "      <td>0.000</td>\n",
       "      <td>0.000</td>\n",
       "      <td>0.000</td>\n",
       "      <td>0.000</td>\n",
       "      <td>0.000</td>\n",
       "      <td>0.000</td>\n",
       "      <td>0.000</td>\n",
       "      <td>0.000</td>\n",
       "      <td>0.000</td>\n",
       "      <td>0.001</td>\n",
       "      <td>0.007</td>\n",
       "      <td>0.013</td>\n",
       "      <td>0.045</td>\n",
       "      <td>0.022</td>\n",
       "      <td>0.003</td>\n",
       "      <td>0.070</td>\n",
       "    </tr>\n",
       "    <tr>\n",
       "      <td>lab_count</td>\n",
       "      <td>0.000</td>\n",
       "      <td>0.000</td>\n",
       "      <td>0.000</td>\n",
       "      <td>0.000</td>\n",
       "      <td>0.000</td>\n",
       "      <td>0.000</td>\n",
       "      <td>0.000</td>\n",
       "      <td>0.000</td>\n",
       "      <td>0.001</td>\n",
       "      <td>0.001</td>\n",
       "      <td>0.012</td>\n",
       "      <td>0.017</td>\n",
       "      <td>0.015</td>\n",
       "      <td>0.006</td>\n",
       "      <td>0.000</td>\n",
       "      <td>0.047</td>\n",
       "    </tr>\n",
       "    <tr>\n",
       "      <td>chih_count</td>\n",
       "      <td>0.000</td>\n",
       "      <td>0.000</td>\n",
       "      <td>0.000</td>\n",
       "      <td>0.001</td>\n",
       "      <td>0.000</td>\n",
       "      <td>0.000</td>\n",
       "      <td>0.000</td>\n",
       "      <td>0.004</td>\n",
       "      <td>0.001</td>\n",
       "      <td>0.004</td>\n",
       "      <td>0.009</td>\n",
       "      <td>0.005</td>\n",
       "      <td>0.014</td>\n",
       "      <td>0.006</td>\n",
       "      <td>0.000</td>\n",
       "      <td>0.040</td>\n",
       "    </tr>\n",
       "    <tr>\n",
       "      <td>pug_count</td>\n",
       "      <td>0.000</td>\n",
       "      <td>0.000</td>\n",
       "      <td>0.000</td>\n",
       "      <td>0.001</td>\n",
       "      <td>0.000</td>\n",
       "      <td>0.000</td>\n",
       "      <td>0.001</td>\n",
       "      <td>0.001</td>\n",
       "      <td>0.001</td>\n",
       "      <td>0.008</td>\n",
       "      <td>0.014</td>\n",
       "      <td>0.005</td>\n",
       "      <td>0.001</td>\n",
       "      <td>0.005</td>\n",
       "      <td>0.000</td>\n",
       "      <td>0.027</td>\n",
       "    </tr>\n",
       "    <tr>\n",
       "      <td>Total</td>\n",
       "      <td>0.001</td>\n",
       "      <td>0.002</td>\n",
       "      <td>0.005</td>\n",
       "      <td>0.010</td>\n",
       "      <td>0.008</td>\n",
       "      <td>0.016</td>\n",
       "      <td>0.016</td>\n",
       "      <td>0.026</td>\n",
       "      <td>0.048</td>\n",
       "      <td>0.077</td>\n",
       "      <td>0.213</td>\n",
       "      <td>0.204</td>\n",
       "      <td>0.227</td>\n",
       "      <td>0.129</td>\n",
       "      <td>0.019</td>\n",
       "      <td>1.000</td>\n",
       "    </tr>\n",
       "  </tbody>\n",
       "</table>\n",
       "</div>"
      ],
      "text/plain": [
       "rating           0      1      2      3      4      5      6      7      8  \\\n",
       "other_count  0.001  0.003  0.006  0.010  0.009  0.018  0.018  0.024  0.049   \n",
       "pem_count    0.000  0.000  0.000  0.000  0.001  0.000  0.000  0.000  0.000   \n",
       "gold_count   0.000  0.000  0.000  0.000  0.000  0.000  0.000  0.000  0.000   \n",
       "lab_count    0.000  0.000  0.000  0.000  0.000  0.000  0.000  0.000  0.001   \n",
       "chih_count   0.000  0.000  0.000  0.001  0.000  0.000  0.000  0.004  0.001   \n",
       "pug_count    0.000  0.000  0.000  0.001  0.000  0.000  0.001  0.001  0.001   \n",
       "Total        0.001  0.002  0.005  0.010  0.008  0.016  0.016  0.026  0.048   \n",
       "\n",
       "rating           9     10     11     12     13     14  Total  \n",
       "other_count  0.072  0.175  0.150  0.148  0.082  0.014  0.772  \n",
       "pem_count    0.000  0.002  0.019  0.018  0.013  0.005  0.045  \n",
       "gold_count   0.001  0.007  0.013  0.045  0.022  0.003  0.070  \n",
       "lab_count    0.001  0.012  0.017  0.015  0.006  0.000  0.047  \n",
       "chih_count   0.004  0.009  0.005  0.014  0.006  0.000  0.040  \n",
       "pug_count    0.008  0.014  0.005  0.001  0.005  0.000  0.027  \n",
       "Total        0.077  0.213  0.204  0.227  0.129  0.019  1.000  "
      ]
     },
     "execution_count": 95,
     "metadata": {},
     "output_type": "execute_result"
    }
   ],
   "source": [
    "df_prob.T"
   ]
  },
  {
   "cell_type": "code",
   "execution_count": 96,
   "metadata": {},
   "outputs": [],
   "source": [
    "breed_given_14 = df_prob.T['14'] / df_prob.T.loc['Total','14']\n",
    "breed_given_14.drop('Total',inplace=True)\n",
    "\n",
    "changename = {'other_count': 'Other breeds','pem_count':'Pembroke','gold_count':'Golden Retriever','lab_count':'Labrador',\n",
    "              'chih_count':'Chihuah', 'pug_count': 'Pug'}\n",
    "\n",
    "for name in changename:\n",
    "    breed_given_14[changename[name]] = breed_given_14.pop(name)"
   ]
  },
  {
   "cell_type": "code",
   "execution_count": 97,
   "metadata": {},
   "outputs": [
    {
     "data": {
      "text/plain": [
       "Other breeds        0.736842\n",
       "Pembroke            0.263158\n",
       "Golden Retriever    0.157895\n",
       "Labrador            0.000000\n",
       "Chihuah             0.000000\n",
       "Pug                 0.000000\n",
       "Name: 14, dtype: float64"
      ]
     },
     "execution_count": 97,
     "metadata": {},
     "output_type": "execute_result"
    }
   ],
   "source": [
    "breed_given_14"
   ]
  },
  {
   "cell_type": "code",
   "execution_count": 98,
   "metadata": {},
   "outputs": [
    {
     "data": {
      "image/png": "[encoded data removed]",
      "text/plain": [
       "<Figure size 432x288 with 1 Axes>"
      ]
     },
     "metadata": {
      "needs_background": "light"
     },
     "output_type": "display_data"
    }
   ],
   "source": [
    "counts = breed_given_14.values\n",
    "\n",
    "plt.bar(breed_given_14.keys(),breed_given_14.values)\n",
    "plt.xticks(rotation=15)\n",
    "plt.ylim([0, 1])\n",
    "plt.xlabel('Dog Breed')\n",
    "plt.ylabel('Probability %')\n",
    "\n",
    "\n",
    "for i in range(len(counts)):\n",
    "    val = counts[i]*100\n",
    "    if val < 0.01:\n",
    "        pass\n",
    "    else:\n",
    "        plt.text(i -.2, counts[i]+.02, s=f\"{val:.0f}%\",color='black')\n",
    "\n",
    "plt.title('Conditional Probability\\n Dog Breed Given a Rating of 14',fontsize=f_sz,color=b)    \n",
    "plt.show()"
   ]
  },
  {
   "cell_type": "code",
   "execution_count": 99,
   "metadata": {},
   "outputs": [],
   "source": [
    "breed_given_13 = df_prob.T['13'] / df_prob.T.loc['Total','13']\n",
    "breed_given_13.drop('Total',inplace=True)\n",
    "\n",
    "changename = {'other_count': 'Other breeds','pem_count':'Pembroke','gold_count':'Golden Retriever','lab_count':'Labrador',\n",
    "              'chih_count':'Chihuah', 'pug_count': 'Pug'}\n",
    "\n",
    "for name in changename:\n",
    "    breed_given_13[changename[name]] = breed_given_13.pop(name)"
   ]
  },
  {
   "cell_type": "code",
   "execution_count": 100,
   "metadata": {},
   "outputs": [
    {
     "data": {
      "text/plain": [
       "Other breeds        0.635659\n",
       "Pembroke            0.100775\n",
       "Golden Retriever    0.170543\n",
       "Labrador            0.046512\n",
       "Chihuah             0.046512\n",
       "Pug                 0.038760\n",
       "Name: 13, dtype: float64"
      ]
     },
     "execution_count": 100,
     "metadata": {},
     "output_type": "execute_result"
    }
   ],
   "source": [
    "breed_given_13"
   ]
  },
  {
   "cell_type": "code",
   "execution_count": 101,
   "metadata": {},
   "outputs": [
    {
     "data": {
      "image/png": "[encoded data removed]",
      "text/plain": [
       "<Figure size 432x288 with 1 Axes>"
      ]
     },
     "metadata": {
      "needs_background": "light"
     },
     "output_type": "display_data"
    }
   ],
   "source": [
    "counts = breed_given_13.values\n",
    "\n",
    "plt.bar(breed_given_13.keys(),breed_given_13.values)\n",
    "plt.xticks(rotation=15)\n",
    "plt.ylim([0, 1])\n",
    "plt.xlabel('Dog Breed')\n",
    "plt.ylabel('Probability %')\n",
    "\n",
    "\n",
    "for i in range(len(counts)):\n",
    "    val = counts[i]*100\n",
    "    if val < 0.01:\n",
    "        pass\n",
    "    else:\n",
    "        plt.text(i -.2, counts[i]+.02, s=f\"{val:.0f}%\",color='black')\n",
    "\n",
    "plt.title('Conditional Probability\\n Dog Breed Given a Rating of 13',fontsize=f_sz,color=b)    \n",
    "plt.show()"
   ]
  },
  {
   "cell_type": "markdown",
   "metadata": {},
   "source": [
    "- No matter how likely one of the top 5 breeds were to get a 14 or 13, it is more likely to be part of the Other breeds category, once the cululative probabilities are all added together. The likelihood a rating of 14 or 13 was for a dog who was not part of the top 5 breeds was 74% and 64%, respectfully. \n",
    "- Given that the rating was a 14, the liklihood that the dog is a Golden Retriever is 16%. The liklihood that the dog’s breed is a Pembroke is 26%, siginifcantly higher than the Golden Retriever even though they both had 4 ratings of 14.  Even though both breeds had the same amount of 14 ratings, the Pembroke had just over half as many observations in the dataset, 88, compared to Golden Retrievers 138 count. \n"
   ]
  },
  {
   "cell_type": "markdown",
   "metadata": {},
   "source": [
    "## Time Series of WeRateDogs Tweets\n",
    "<a id=\"jump4\"> </a>"
   ]
  },
  {
   "cell_type": "code",
   "execution_count": 102,
   "metadata": {},
   "outputs": [],
   "source": [
    "df_sort = df_cln.copy()"
   ]
  },
  {
   "cell_type": "code",
   "execution_count": 103,
   "metadata": {},
   "outputs": [],
   "source": [
    "df_sort = df_sort.set_index('timestamp')\n",
    "df_sort.sort_index(ascending=True, inplace=True)\n",
    "df_sort.reset_index(inplace=True)"
   ]
  },
  {
   "cell_type": "markdown",
   "metadata": {},
   "source": [
    "Last I will look at which tweet received the most favorites and retweets"
   ]
  },
  {
   "cell_type": "code",
   "execution_count": 104,
   "metadata": {},
   "outputs": [
    {
     "data": {
      "text/plain": [
       "(160445, 80263)"
      ]
     },
     "execution_count": 104,
     "metadata": {},
     "output_type": "execute_result"
    }
   ],
   "source": [
    "df_sort.favorite_count.max(), df_sort.retweet_count.max()"
   ]
  },
  {
   "cell_type": "code",
   "execution_count": 105,
   "metadata": {},
   "outputs": [],
   "source": [
    "mostfaves = df_sort.loc[df_sort.favorite_count == df_sort.favorite_count.max()].index\n",
    "mostretweets = df_sort.loc[df_sort.retweet_count == df_sort.retweet_count.max()].index"
   ]
  },
  {
   "cell_type": "markdown",
   "metadata": {},
   "source": [
    "Now to check if the most favorites and the most retweets were on the same tweet. "
   ]
  },
  {
   "cell_type": "code",
   "execution_count": 106,
   "metadata": {},
   "outputs": [
    {
     "data": {
      "text/plain": [
       "True"
      ]
     },
     "execution_count": 106,
     "metadata": {},
     "output_type": "execute_result"
    }
   ],
   "source": [
    "bool(mostfaves == mostretweets)"
   ]
  },
  {
   "cell_type": "code",
   "execution_count": 107,
   "metadata": {},
   "outputs": [],
   "source": [
    "date = df_sort.timestamp[mostretweets]\n",
    "text = df_sort.text[mostretweets]"
   ]
  },
  {
   "cell_type": "code",
   "execution_count": 108,
   "metadata": {},
   "outputs": [],
   "source": [
    "codydate = str(date.values).replace('\\\\n ','')\n",
    "codydate = codydate[2:14]"
   ]
  },
  {
   "cell_type": "code",
   "execution_count": 109,
   "metadata": {},
   "outputs": [
    {
     "name": "stdout",
     "output_type": "stream",
     "text": [
      "2016/06/18 1\n",
      "[\"Here's a doggo realizing you can stand in a pool. 13/10 enlightened af (vid by Tina Conrad) \"]\n"
     ]
    }
   ],
   "source": [
    "print(f'{codydate}\\n{text.values}')"
   ]
  },
  {
   "cell_type": "markdown",
   "metadata": {},
   "source": [
    "This doggo learned how to stand in the pool and earned himself the most favorites & retweets of all the dogs on WeRateDogs."
   ]
  },
  {
   "cell_type": "markdown",
   "metadata": {},
   "source": [
    "<img src=\"mostfaves.jpg\"/>"
   ]
  },
  {
   "cell_type": "markdown",
   "metadata": {},
   "source": [
    "This doggo above is named Cody (Cody is his real name if you watch his now famous video).  Cody learned how to stand in the pool and earned himself the most favorites & retweets of all the dogs on WeRateDogs within this dataset. Cody’s tweet really took off when it was tweeted out on June 18th of 2016, long before it was common for WeRateDogs tweets to receive this level of activity, receiving 80, 263 retweets and 160,445 favorites. Good boy, Cody. \n"
   ]
  },
  {
   "cell_type": "code",
   "execution_count": 110,
   "metadata": {},
   "outputs": [
    {
     "data": {
      "image/png": "[encoded data removed]",
      "text/plain": [
       "<Figure size 864x576 with 1 Axes>"
      ]
     },
     "metadata": {
      "needs_background": "light"
     },
     "output_type": "display_data"
    }
   ],
   "source": [
    "#formatting the datetime for the x axis\n",
    "\n",
    "dates = pd.to_datetime(df_sort.timestamp)\n",
    "df_sort.timestamp= dates.apply(lambda x: x.strftime('%b, %d \\n %Y'))\n",
    "\n",
    "#saving variables to be included in twitter activity visualization\n",
    "\n",
    "numfaves = df_sort.favorite_count.max()\n",
    "numretweets = df_sort.retweet_count.max()\n",
    "codydate =  f'Date: {codydate}'\n",
    "codyfaves = f'Favorites: {numfaves}'\n",
    "codyretweets = f'Retweets: {numretweets}'\n",
    "ind = mostretweets.values\n",
    "\n",
    "\n",
    "# TimeSeries of Twitter Activity \n",
    "\n",
    "#Favorite and Retweet series\n",
    "time_faves = pd.Series(data=df_sort['favorite_count'].values, index=df_sort.timestamp)\n",
    "time_retweets = pd.Series(data=df_sort['retweet_count'].values, index=df_sort.timestamp)\n",
    "\n",
    "#Plotting both series to the same axis\n",
    "size= (12,8)\n",
    "\n",
    "time_faves.plot(kind='area',figsize=size, label='favorites',\n",
    "                color='deepskyblue',legend=True)\n",
    "time_retweets.plot(kind='area',figsize=size, label='retweets',\n",
    "                   color='crimson',legend=True)\n",
    "\n",
    "#Labels and preferences for the visualization\n",
    "\n",
    "plt.title('WeRateDogs Time Series of Favorites and Retweets',fontsize=18)\n",
    "plt.xlabel('Date',fontsize=18,color='crimson') \n",
    "plt.ylabel('Twitter Activity Count',fontsize=18, color='crimson')\n",
    "plt.xticks(rotation=0)\n",
    "plt.legend(fontsize=14,frameon=False)\n",
    "\n",
    "\n",
    "plt.text(ind,numfaves -10000,'This doggo had the     \\nmost favorites --> ',horizontalalignment='right')\n",
    "plt.text(ind,numretweets -10000,' <-- And he had \\n     the most retweets',horizontalalignment='left')\n",
    "plt.text(ind - 50, numfaves + 1200, codyfaves,horizontalalignment='right',color='deepskyblue')\n",
    "plt.text(ind + 50, numretweets + 1200, codyretweets,horizontalalignment='left',color='crimson')\n",
    "\n",
    "\n",
    "\n",
    "plt.box(False)\n",
    "plt.show();"
   ]
  },
  {
   "cell_type": "markdown",
   "metadata": {},
   "source": [
    "From 2015 to Spring of 2016, WeRateDogs had relatively modest twitter traffic.  The page did make a few jumps over the 80,000 favorite threshold in December of 2015, but it took until the end of 2016 for the account to consistently hit their over 100,000 favorite count per tweet that they are now accustom to.\n"
   ]
  },
  {
   "cell_type": "markdown",
   "metadata": {},
   "source": [
    "References and Thanks to:\n",
    "<ul><li>https://www.kite.com/python/answers/how-to-rename-a-dictionary-key-in-python\n",
    "<li>https://realpython.com/iterate-through-dictionary-python/\n",
    "<li>https://stackoverflow.com/questions/14494747/how-to-add-images-to-readme-md-on-github\n",
    "<li>https://www.oreilly.com/library/view/python-data-science/9781491912126/ch04.html\n",
    "    <li>https://www.shanelynn.ie/merge-join-dataframes-python-pandas-index-1/\n",
    "    <li>https://thispointer.com/pandas-apply-apply-a-function-to-each-row-column-in-dataframe/\n",
    "    <li>https://stackoverflow.com/questions/20804673/appending-column-totals-to-a-pandas-dataframe\n",
    "    <li>https://towardsdatascience.com/how-to-make-bar-and-hbar-charts-with-labels-using-matplotlib-b701ce70ba9c\n",
    "    <li>https://www.geeksforgeeks.org/highlight-the-nan-values-in-pandas-dataframe/\n",
    "    <li> https://pandas.pydata.org/pandas-docs/stable/user_guide/timeseries.html\n",
    "        </li>\n",
    "    </ul>"
   ]
  }
 ],
 "metadata": {
  "kernelspec": {
   "display_name": "Python 3",
   "language": "python",
   "name": "python3"
  },
  "language_info": {
   "codemirror_mode": {
    "name": "ipython",
    "version": 3
   },
   "file_extension": ".py",
   "mimetype": "text/x-python",
   "name": "python",
   "nbconvert_exporter": "python",
   "pygments_lexer": "ipython3",
   "version": "3.7.3"
  }
 },
 "nbformat": 4,
 "nbformat_minor": 2
}
