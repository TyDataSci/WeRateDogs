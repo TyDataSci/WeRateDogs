{
 "cells": [
  {
   "cell_type": "code",
   "execution_count": null,
   "metadata": {},
   "outputs": [],
   "source": []
  },
  {
   "cell_type": "code",
   "execution_count": null,
   "metadata": {},
   "outputs": [],
   "source": [
    "for i, row in df.iterrows():\n",
    "    in_str= row['text']\n",
    "    split = re.split(r'/' , in_str)[0]\n",
    "    if bool(re.search(r'\\d+\\.\\d+$', split)) == True:\n",
    "        after = re.findall(r'\\d+\\.\\d+', split)[0]\n",
    "        before = df.loc[i, 'rating_numerator']\n",
    "        df.loc[i, 'rating_numerator'] = after\n",
    "        print(f\"The numerator in row {i} used to be {before} and now is {after}.\")\n",
    "    else:\n",
    "        pass"
   ]
  },
  {
   "cell_type": "code",
   "execution_count": null,
   "metadata": {},
   "outputs": [],
   "source": [
    "df_before= df.copy()\n",
    "df = df[df['rating'] < 15]\n",
    "\n",
    "#df_before= plots of the distribution of the data before and after removing the two outliers\n",
    "f, axes = plt.subplots(1, 2, figsize=(12,4))\n",
    "\n",
    "sns.boxplot(data=df_before,x= 'rating',orient='w', ax=axes[0])\n",
    "axes[0].set_title('Before, Including Global Outliers')\n",
    "\n",
    "\n",
    "sns.boxplot(data=df, x= 'rating',orient='w', ax=axes[1])\n",
    "axes[1].set_title('After, Excluding Global Outliers');"
   ]
  },
  {
   "cell_type": "code",
   "execution_count": null,
   "metadata": {},
   "outputs": [],
   "source": [
    "# Rounding Ratings to get a discrete scale\n",
    "for i, row in df_rate.iterrows():\n",
    "    before = df_rate.loc[i, 'rating']\n",
    "    after = round(df_rate.rating[i], 0)\n",
    "    df_rate.loc[i, 'rating'] = after\n",
    "    if bool(before == after) == False :\n",
    "        print(f\"The rating in row {i} used to be {before} and now is {after}.\")\n",
    "    else:\n",
    "        pass"
   ]
  },
  {
   "cell_type": "code",
   "execution_count": null,
   "metadata": {},
   "outputs": [],
   "source": [
    "#Golden Retriever\n",
    "df_gold= (df_rate[df_rate['p1']=='golden_retriever'])\n",
    "df_gold= df_gold.rating.value_counts().sort_index()\n",
    "df_gold = df_gold.rename_axis('rating').to_frame('gold_count')\n",
    "#Labrador Retriever\n",
    "df_lab= (df_rate[df_rate['p1']=='Labrador_retriever'])\n",
    "df_lab= df_lab.rating.value_counts().sort_index()\n",
    "df_lab = df_lab.rename_axis('rating').to_frame('lab_count')\n",
    "#Pembroke\n",
    "df_pem= (df_rate[df_rate['p1']=='Pembroke'])\n",
    "df_pem=df_pem.rating.value_counts().sort_index()\n",
    "df_pem = df_pem.rename_axis('rating').to_frame('pem_count')\n",
    "#Chihuahua\n",
    "df_chih= (df_rate[df_rate['p1']=='Chihuahua'])\n",
    "df_chih= df_chih.rating.value_counts().sort_index()\n",
    "df_chih = df_chih.rename_axis('rating').to_frame('chih_count')\n",
    "#Pug\n",
    "df_pug= (df_rate[df_rate['p1']=='pug'])\n",
    "df_pug=df_pug.rating.value_counts().sort_index()\n",
    "df_pub=df_pug.rename_axis('rating').to_frame('pug_count')\n",
    "\n",
    "#Combining the top 5 most likley dogs\n",
    "df_5dogs= pd.concat([df_pem,df_gold, df_lab,df_chih,df_pug],axis=1,sort=True).fillna(0)\n",
    "df_5dogs= df_5dogs.reset_index().rename(columns={'index' : 'rating','rating' : 'pug_count'})\n",
    "\n",
    "#Counts of all other dogs and ratings\n",
    "df_oth = df_rate[(df_rate.p1 != 'golden_retriever') | (df_rate.p1 != 'Labrador_retriever') | (df_rate.p1 !='Chihuahua')| (df_rate.p1 !='Pembroke')| (df_rate.p1 !='pug')]\n",
    "df_oth = df_oth.rating.value_counts().sort_index()\n",
    "df_oth = df_oth.rename_axis('rating').to_frame('other_count')\n",
    "\n",
    "\n",
    "#Combining the all rating counts\n",
    "df_bayes= pd.merge(df_oth, df_5dogs,on='rating',how='left').fillna(0)\n",
    "df_bayes['rating'] = df_bayes['rating'].astype(str)\n",
    "df_bayes= df_bayes.set_index('rating',drop=True)\n",
    "df_bayes.loc[:,'Total'] = df_bayes.sum(axis=1)\n",
    "df_bayes.loc['Total',:] = df_bayes.sum(axis=0)\n",
    "\n",
    "df_bayes"
   ]
  },
  {
   "cell_type": "code",
   "execution_count": null,
   "metadata": {},
   "outputs": [],
   "source": [
    "#Deriving given calculations \n",
    "df_given = df_bayes.copy()\n",
    "for col in df_given.columns:\n",
    "    for i,row in df_given.iterrows():\n",
    "        given = row[col]/ row['Total']\n",
    "        df_given.loc[i,col] = given\n",
    "#Transpositoning the matrix\n",
    "df_prior = df_bayes.copy()\n",
    "df_prior = df_prior.T\n",
    "#Deriving prior calculations\n",
    "df_pri = df_prior.copy()\n",
    "for col in df_prior.columns:\n",
    "    for i,row in df_prior.iterrows():\n",
    "        fix = row[col]\n",
    "        prior = fix / row['Total']\n",
    "        df_pri.loc[i,col] = prior\n",
    "\n",
    "#Multiplying to create probability distribution        \n",
    "df_prob = df_given * df_pri.T\n",
    "df_prob = df_prob.round(3)\n",
    "df_prob"
   ]
  }
 ],
 "metadata": {
  "kernelspec": {
   "display_name": "Python 3",
   "language": "python",
   "name": "python3"
  },
  "language_info": {
   "codemirror_mode": {
    "name": "ipython",
    "version": 3
   },
   "file_extension": ".py",
   "mimetype": "text/x-python",
   "name": "python",
   "nbconvert_exporter": "python",
   "pygments_lexer": "ipython3",
   "version": "3.7.3"
  }
 },
 "nbformat": 4,
 "nbformat_minor": 2
}
