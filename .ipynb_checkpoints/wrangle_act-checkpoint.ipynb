{
 "cells": [
  {
   "cell_type": "code",
   "execution_count": 1,
   "metadata": {},
   "outputs": [],
   "source": [
    "import pandas as pd\n",
    "import numpy as np\n",
    "import matplotlib.pyplot as plt\n",
    "\n",
    "%matplotlib inline"
   ]
  },
  {
   "cell_type": "code",
   "execution_count": 2,
   "metadata": {},
   "outputs": [],
   "source": [
    "import seaborn as sns"
   ]
  },
  {
   "cell_type": "code",
   "execution_count": 3,
   "metadata": {},
   "outputs": [],
   "source": [
    "import tweepy\n",
    "from tweepy import OAuthHandler\n",
    "import json\n",
    "from timeit import default_timer as timer\n",
    "import re\n",
    "import requests\n",
    "\n",
    "import twitter_credentials\n"
   ]
  },
  {
   "cell_type": "code",
   "execution_count": 4,
   "metadata": {},
   "outputs": [
    {
     "name": "stdout",
     "output_type": "stream",
     "text": [
      "Success!\n"
     ]
    }
   ],
   "source": [
    "response = requests.get('https://d17h27t6h515a5.cloudfront.net/topher/2017/August/599fd2ad_image-predictions/image-predictions.tsv')\n",
    "if response.status_code == 200:\n",
    "    print('Success!')\n",
    "elif response.status_code == 404:\n",
    "    print('Not Found.')"
   ]
  },
  {
   "cell_type": "code",
   "execution_count": 5,
   "metadata": {},
   "outputs": [],
   "source": [
    "images = pd.read_csv('image_predictions.tsv', sep = '\\t', encoding = 'utf-8')"
   ]
  },
  {
   "cell_type": "code",
   "execution_count": 6,
   "metadata": {},
   "outputs": [
    {
     "data": {
      "text/plain": [
       "False"
      ]
     },
     "execution_count": 6,
     "metadata": {},
     "output_type": "execute_result"
    }
   ],
   "source": [
    "images.duplicated().any()"
   ]
  },
  {
   "cell_type": "code",
   "execution_count": 7,
   "metadata": {},
   "outputs": [],
   "source": [
    "df_1 = pd.read_csv('twitter_archive_enhanced.csv')"
   ]
  },
  {
   "cell_type": "code",
   "execution_count": 8,
   "metadata": {},
   "outputs": [],
   "source": [
    "df_1['cute_name'] = df_1['doggo'].str.cat(df_1['pupper']\n",
    "                                         .replace('None','')).str.cat(df_1['floofer']\n",
    "                                                                      .replace('None','')).str.cat(df_1['pupper']\n",
    "                                                                                                   .replace('None','')).str.cat(df_1['puppo']\n",
    "                                                                                                                                .replace('None',''))"
   ]
  },
  {
   "cell_type": "code",
   "execution_count": 9,
   "metadata": {},
   "outputs": [],
   "source": [
    "df_1['cute_name'] = df_1.cute_name.replace('Nonefloofer','floofer')\n",
    "df_1['cute_name'] = df_1.cute_name.replace('Nonepupper','pupper')\n",
    "df_1['cute_name'] = df_1.cute_name.replace('Nonepuppo','puppo')\n",
    "df_1['cute_name'] = df_1.cute_name.replace('None','Other')"
   ]
  },
  {
   "cell_type": "code",
   "execution_count": 10,
   "metadata": {},
   "outputs": [
    {
     "data": {
      "text/html": [
       "<div>\n",
       "<style scoped>\n",
       "    .dataframe tbody tr th:only-of-type {\n",
       "        vertical-align: middle;\n",
       "    }\n",
       "\n",
       "    .dataframe tbody tr th {\n",
       "        vertical-align: top;\n",
       "    }\n",
       "\n",
       "    .dataframe thead th {\n",
       "        text-align: right;\n",
       "    }\n",
       "</style>\n",
       "<table border=\"1\" class=\"dataframe\">\n",
       "  <thead>\n",
       "    <tr style=\"text-align: right;\">\n",
       "      <th></th>\n",
       "      <th>tweet_id</th>\n",
       "      <th>in_reply_to_status_id</th>\n",
       "      <th>in_reply_to_user_id</th>\n",
       "      <th>timestamp</th>\n",
       "      <th>source</th>\n",
       "      <th>text</th>\n",
       "      <th>retweeted_status_id</th>\n",
       "      <th>retweeted_status_user_id</th>\n",
       "      <th>retweeted_status_timestamp</th>\n",
       "      <th>expanded_urls</th>\n",
       "      <th>rating_numerator</th>\n",
       "      <th>rating_denominator</th>\n",
       "      <th>name</th>\n",
       "      <th>doggo</th>\n",
       "      <th>floofer</th>\n",
       "      <th>pupper</th>\n",
       "      <th>puppo</th>\n",
       "      <th>cute_name</th>\n",
       "    </tr>\n",
       "  </thead>\n",
       "  <tbody>\n",
       "    <tr>\n",
       "      <td>0</td>\n",
       "      <td>8.924210e+17</td>\n",
       "      <td>NaN</td>\n",
       "      <td>NaN</td>\n",
       "      <td>2017-08-01 16:23:56 +0000</td>\n",
       "      <td>&lt;a href=\"http://twitter.com/download/iphone\" r...</td>\n",
       "      <td>This is Phineas. He's a mystical boy. Only eve...</td>\n",
       "      <td>NaN</td>\n",
       "      <td>NaN</td>\n",
       "      <td>NaN</td>\n",
       "      <td>https://twitter.com/dog_rates/status/892420643...</td>\n",
       "      <td>13</td>\n",
       "      <td>10</td>\n",
       "      <td>Phineas</td>\n",
       "      <td>None</td>\n",
       "      <td>None</td>\n",
       "      <td>None</td>\n",
       "      <td>None</td>\n",
       "      <td>Other</td>\n",
       "    </tr>\n",
       "  </tbody>\n",
       "</table>\n",
       "</div>"
      ],
      "text/plain": [
       "       tweet_id  in_reply_to_status_id  in_reply_to_user_id  \\\n",
       "0  8.924210e+17                    NaN                  NaN   \n",
       "\n",
       "                   timestamp  \\\n",
       "0  2017-08-01 16:23:56 +0000   \n",
       "\n",
       "                                              source  \\\n",
       "0  <a href=\"http://twitter.com/download/iphone\" r...   \n",
       "\n",
       "                                                text  retweeted_status_id  \\\n",
       "0  This is Phineas. He's a mystical boy. Only eve...                  NaN   \n",
       "\n",
       "   retweeted_status_user_id retweeted_status_timestamp  \\\n",
       "0                       NaN                        NaN   \n",
       "\n",
       "                                       expanded_urls  rating_numerator  \\\n",
       "0  https://twitter.com/dog_rates/status/892420643...                13   \n",
       "\n",
       "   rating_denominator     name doggo floofer pupper puppo cute_name  \n",
       "0                  10  Phineas  None    None   None  None     Other  "
      ]
     },
     "execution_count": 10,
     "metadata": {},
     "output_type": "execute_result"
    }
   ],
   "source": [
    "df_1.head(1)"
   ]
  },
  {
   "cell_type": "code",
   "execution_count": 11,
   "metadata": {},
   "outputs": [],
   "source": [
    "df_1.drop(columns=['in_reply_to_status_id','in_reply_to_user_id','retweeted_status_id',\n",
    "                   'retweeted_status_user_id','retweeted_status_timestamp',\n",
    "                   'doggo', 'floofer','pupper', 'puppo'], inplace=True)"
   ]
  },
  {
   "cell_type": "code",
   "execution_count": 12,
   "metadata": {},
   "outputs": [
    {
     "data": {
      "text/plain": [
       "0    8.924210e+17\n",
       "1    8.921770e+17\n",
       "2    8.918150e+17\n",
       "3    8.916900e+17\n",
       "4    8.913280e+17\n",
       "Name: tweet_id, dtype: float64"
      ]
     },
     "execution_count": 12,
     "metadata": {},
     "output_type": "execute_result"
    }
   ],
   "source": [
    "df_1.tweet_id.head()"
   ]
  },
  {
   "cell_type": "code",
   "execution_count": 13,
   "metadata": {},
   "outputs": [
    {
     "name": "stdout",
     "output_type": "stream",
     "text": [
      "0   892421000000000000\n",
      "1   892177000000000000\n",
      "2   891815000000000000\n",
      "3   891690000000000000\n",
      "4   891328000000000000\n",
      "Name: tweet_id, dtype: float64\n"
     ]
    }
   ],
   "source": [
    "with pd.option_context('float_format', '{:.0f}'.format):  \n",
    "    print(df_1.tweet_id.head())"
   ]
  },
  {
   "cell_type": "code",
   "execution_count": 14,
   "metadata": {},
   "outputs": [],
   "source": [
    "#Pull status number from a different source"
   ]
  },
  {
   "cell_type": "code",
   "execution_count": 15,
   "metadata": {},
   "outputs": [
    {
     "data": {
      "text/plain": [
       "True"
      ]
     },
     "execution_count": 15,
     "metadata": {},
     "output_type": "execute_result"
    }
   ],
   "source": [
    "df_1.expanded_urls.isnull().any()"
   ]
  },
  {
   "cell_type": "code",
   "execution_count": 16,
   "metadata": {},
   "outputs": [],
   "source": [
    "#Bypass loop errors during extraction"
   ]
  },
  {
   "cell_type": "code",
   "execution_count": 17,
   "metadata": {},
   "outputs": [],
   "source": [
    "df_1['expanded_urls'] = df_1.expanded_urls.fillna(value='https://www.twitter.com')"
   ]
  },
  {
   "cell_type": "code",
   "execution_count": 18,
   "metadata": {},
   "outputs": [],
   "source": [
    "urls = df_1.expanded_urls"
   ]
  },
  {
   "cell_type": "code",
   "execution_count": 19,
   "metadata": {},
   "outputs": [],
   "source": [
    "urls = list(urls)"
   ]
  },
  {
   "cell_type": "code",
   "execution_count": 20,
   "metadata": {},
   "outputs": [],
   "source": [
    "status= []\n",
    "for i in range(len(urls)): \n",
    "    t= urls[i]\n",
    "    if bool(re.search(r'\\d', t)) == True:\n",
    "        twt = re.findall(r'\\d+', t)[0]\n",
    "        status.append(twt)\n",
    "    else:\n",
    "        status.append('NaN')"
   ]
  },
  {
   "cell_type": "code",
   "execution_count": 21,
   "metadata": {},
   "outputs": [
    {
     "data": {
      "text/plain": [
       "['892420643555336193',\n",
       " '892177421306343426',\n",
       " '891815181378084864',\n",
       " '891689557279858688',\n",
       " '891327558926688256']"
      ]
     },
     "execution_count": 21,
     "metadata": {},
     "output_type": "execute_result"
    }
   ],
   "source": [
    "status[:5]"
   ]
  },
  {
   "cell_type": "code",
   "execution_count": 22,
   "metadata": {},
   "outputs": [
    {
     "data": {
      "text/plain": [
       "True"
      ]
     },
     "execution_count": 22,
     "metadata": {},
     "output_type": "execute_result"
    }
   ],
   "source": [
    "len(df_1.expanded_urls) == len(status)"
   ]
  },
  {
   "cell_type": "code",
   "execution_count": 23,
   "metadata": {},
   "outputs": [],
   "source": [
    "df_1['tweet_status'] = status"
   ]
  },
  {
   "cell_type": "code",
   "execution_count": 24,
   "metadata": {},
   "outputs": [
    {
     "data": {
      "text/plain": [
       "False"
      ]
     },
     "execution_count": 24,
     "metadata": {},
     "output_type": "execute_result"
    }
   ],
   "source": [
    "df_1.tweet_id[0] == df_1.tweet_status[0]"
   ]
  },
  {
   "cell_type": "code",
   "execution_count": 25,
   "metadata": {},
   "outputs": [],
   "source": [
    "df_1['tweet_id'] = status"
   ]
  },
  {
   "cell_type": "code",
   "execution_count": 26,
   "metadata": {},
   "outputs": [
    {
     "data": {
      "text/plain": [
       "False"
      ]
     },
     "execution_count": 26,
     "metadata": {},
     "output_type": "execute_result"
    }
   ],
   "source": [
    "df_1.tweet_id.isnull().any()"
   ]
  },
  {
   "cell_type": "code",
   "execution_count": 27,
   "metadata": {},
   "outputs": [
    {
     "data": {
      "text/plain": [
       "2356"
      ]
     },
     "execution_count": 27,
     "metadata": {},
     "output_type": "execute_result"
    }
   ],
   "source": [
    "tweet_ids = status\n",
    "len(tweet_ids)"
   ]
  },
  {
   "cell_type": "code",
   "execution_count": 28,
   "metadata": {
    "scrolled": true
   },
   "outputs": [],
   "source": [
    "#auth = tweepy.OAuthHandler(consumer_key, consumer_secret)\n",
    "#auth.set_access_token(access_token, access_secret)\n",
    "\n",
    "#api = tweepy.API(auth, wait_on_rate_limit=True, wait_on_rate_limit_notify=True)\n",
    "#count = 0\n",
    "#fails_dict = {}\n",
    "#start = timer()\n",
    "# Save each tweet's returned JSON as a new line in a .txt file\n",
    "#with open('tweet_json.txt', 'w') as outfile:\n",
    "    # This loop will likely take 20-30 minutes to run because of Twitter's rate limit\n",
    "#    for tweet_id in tweet_ids:\n",
    "#        count += 1\n",
    "#        print(str(count) + \": \" + str(tweet_id))\n",
    "#        try:\n",
    "#            tweet = api.get_status(tweet_id, tweet_mode='extended')\n",
    "#            print(\"Success\")\n",
    "#            json.dump(tweet._json, outfile)\n",
    "#            outfile.write('\\n')\n",
    "#        except tweepy.TweepError as e:\n",
    "#            print(\"Fail\")\n",
    "#            fails_dict[tweet_id] = e\n",
    "            \n",
    "#            pass\n",
    "#end = timer()\n",
    "#print(end - start)\n",
    "#print(fails_dict)\n"
   ]
  },
  {
   "cell_type": "code",
   "execution_count": 29,
   "metadata": {},
   "outputs": [],
   "source": [
    "#df_2 = pd.DataFrame(columns=['tweet_id','retweet count','favorite_count'])\n",
    "\n",
    "#with open('tweet_json.txt') as i:\n",
    "#    for line in i:\n",
    "#        stat = json.loads(line)\n",
    "#        tweet_id = stat['id_str']\n",
    "#        retweet_count = stat['retweet_count']\n",
    "#        favorite_count = stat['favorite_count']\n",
    "#        df_2 = df_2.append(pd.DataFrame([[tweet_id,retweet_count,\n",
    "#                                         favorite_count]], \n",
    "#                                       columns=['tweet_id',\n",
    "#                                        'retweet_count', 'favorite_count']))\n",
    "#df_2 = df_2.reset_index(drop=True)\n",
    "#df_2.head()\n",
    "        "
   ]
  },
  {
   "cell_type": "code",
   "execution_count": 30,
   "metadata": {},
   "outputs": [],
   "source": [
    "#df_2.to_csv (r'C:\\Users\\tssan\\Desktop\\Udacity Projects\\4wrangle\\WeRateDogs.csv',\n",
    "#                          index = None, header=True, sep='\\t', encoding='utf-8')"
   ]
  },
  {
   "cell_type": "code",
   "execution_count": 31,
   "metadata": {},
   "outputs": [],
   "source": [
    "df_2 = pd.read_csv('WeRateDogs.csv', sep='\\t',encoding='utf-8')"
   ]
  },
  {
   "cell_type": "code",
   "execution_count": 32,
   "metadata": {},
   "outputs": [
    {
     "data": {
      "text/plain": [
       "tweet_id              78\n",
       "timestamp             78\n",
       "source                78\n",
       "text                  78\n",
       "expanded_urls         78\n",
       "rating_numerator      78\n",
       "rating_denominator    78\n",
       "name                  78\n",
       "cute_name             78\n",
       "tweet_status          78\n",
       "dtype: int64"
      ]
     },
     "execution_count": 32,
     "metadata": {},
     "output_type": "execute_result"
    }
   ],
   "source": [
    "df_1.query('tweet_id == \"NaN\"').count()"
   ]
  },
  {
   "cell_type": "code",
   "execution_count": 33,
   "metadata": {},
   "outputs": [],
   "source": [
    "df_1['tweet_id'] = df_1.tweet_id.replace('NaN', 0)"
   ]
  },
  {
   "cell_type": "code",
   "execution_count": 34,
   "metadata": {},
   "outputs": [],
   "source": [
    "df_1 = df_1.astype({'tweet_id':'int64'})"
   ]
  },
  {
   "cell_type": "code",
   "execution_count": 35,
   "metadata": {},
   "outputs": [],
   "source": [
    "df_2.drop(columns='retweet count', inplace= True)"
   ]
  },
  {
   "cell_type": "code",
   "execution_count": 36,
   "metadata": {},
   "outputs": [
    {
     "data": {
      "text/plain": [
       "True"
      ]
     },
     "execution_count": 36,
     "metadata": {},
     "output_type": "execute_result"
    }
   ],
   "source": [
    "df_2.duplicated().any()"
   ]
  },
  {
   "cell_type": "code",
   "execution_count": 37,
   "metadata": {},
   "outputs": [
    {
     "data": {
      "text/plain": [
       "True"
      ]
     },
     "execution_count": 37,
     "metadata": {},
     "output_type": "execute_result"
    }
   ],
   "source": [
    "df_1.tweet_id.duplicated().any()"
   ]
  },
  {
   "cell_type": "code",
   "execution_count": 38,
   "metadata": {},
   "outputs": [
    {
     "data": {
      "text/plain": [
       "tweet_id              302\n",
       "timestamp             302\n",
       "source                302\n",
       "text                  302\n",
       "expanded_urls         302\n",
       "rating_numerator      302\n",
       "rating_denominator    302\n",
       "name                  302\n",
       "cute_name             302\n",
       "tweet_status          302\n",
       "dtype: int64"
      ]
     },
     "execution_count": 38,
     "metadata": {},
     "output_type": "execute_result"
    }
   ],
   "source": [
    "df_1[df_1.tweet_id.duplicated()].count()"
   ]
  },
  {
   "cell_type": "code",
   "execution_count": 39,
   "metadata": {},
   "outputs": [],
   "source": [
    "df_1 = df_1.drop_duplicates(keep='first')"
   ]
  },
  {
   "cell_type": "code",
   "execution_count": 40,
   "metadata": {},
   "outputs": [],
   "source": [
    "df_2 = df_2.drop_duplicates(keep='first')"
   ]
  },
  {
   "cell_type": "code",
   "execution_count": 41,
   "metadata": {},
   "outputs": [
    {
     "data": {
      "text/plain": [
       "(2356, 2032)"
      ]
     },
     "execution_count": 41,
     "metadata": {},
     "output_type": "execute_result"
    }
   ],
   "source": [
    "len(df_1), len(df_2)"
   ]
  },
  {
   "cell_type": "code",
   "execution_count": 42,
   "metadata": {},
   "outputs": [
    {
     "data": {
      "text/plain": [
       "tweet_id              86\n",
       "timestamp             86\n",
       "source                86\n",
       "text                  86\n",
       "expanded_urls         86\n",
       "rating_numerator      86\n",
       "rating_denominator    86\n",
       "name                  86\n",
       "cute_name             86\n",
       "tweet_status          86\n",
       "dtype: int64"
      ]
     },
     "execution_count": 42,
     "metadata": {},
     "output_type": "execute_result"
    }
   ],
   "source": [
    "df_1.query('tweet_id == 0').count()"
   ]
  },
  {
   "cell_type": "code",
   "execution_count": 43,
   "metadata": {},
   "outputs": [],
   "source": [
    "df = df_1.merge(df_2, on='tweet_id', how='inner')"
   ]
  },
  {
   "cell_type": "code",
   "execution_count": 44,
   "metadata": {},
   "outputs": [
    {
     "data": {
      "text/plain": [
       "2179"
      ]
     },
     "execution_count": 44,
     "metadata": {},
     "output_type": "execute_result"
    }
   ],
   "source": [
    "len(df)"
   ]
  },
  {
   "cell_type": "code",
   "execution_count": 45,
   "metadata": {},
   "outputs": [
    {
     "data": {
      "text/plain": [
       "tweet_id              0\n",
       "timestamp             0\n",
       "source                0\n",
       "text                  0\n",
       "expanded_urls         0\n",
       "rating_numerator      0\n",
       "rating_denominator    0\n",
       "name                  0\n",
       "cute_name             0\n",
       "tweet_status          0\n",
       "favorite_count        0\n",
       "retweet_count         0\n",
       "dtype: int64"
      ]
     },
     "execution_count": 45,
     "metadata": {},
     "output_type": "execute_result"
    }
   ],
   "source": [
    "df.query('tweet_id == 0').count()"
   ]
  },
  {
   "cell_type": "code",
   "execution_count": 46,
   "metadata": {},
   "outputs": [
    {
     "data": {
      "text/plain": [
       "True"
      ]
     },
     "execution_count": 46,
     "metadata": {},
     "output_type": "execute_result"
    }
   ],
   "source": [
    "df.tweet_id.duplicated().any()"
   ]
  },
  {
   "cell_type": "code",
   "execution_count": 47,
   "metadata": {},
   "outputs": [],
   "source": [
    "df = df.drop_duplicates(subset=['tweet_id'],keep='first')"
   ]
  },
  {
   "cell_type": "code",
   "execution_count": 48,
   "metadata": {},
   "outputs": [
    {
     "data": {
      "text/plain": [
       "2026"
      ]
     },
     "execution_count": 48,
     "metadata": {},
     "output_type": "execute_result"
    }
   ],
   "source": [
    "len(df)"
   ]
  },
  {
   "cell_type": "code",
   "execution_count": 49,
   "metadata": {},
   "outputs": [],
   "source": [
    "df = df.merge(images, on='tweet_id', how='inner')"
   ]
  },
  {
   "cell_type": "code",
   "execution_count": 50,
   "metadata": {},
   "outputs": [],
   "source": [
    "df = df.reset_index(drop=True)\n",
    "# Get rid of <source, rating_denominator, tweet_status,jpg_url, img_num>\n",
    "df.drop(columns=['source','tweet_status','img_num'],inplace=True)"
   ]
  },
  {
   "cell_type": "markdown",
   "metadata": {},
   "source": [
    "# Spotting Errors in Numerators & Denominators"
   ]
  },
  {
   "cell_type": "code",
   "execution_count": 51,
   "metadata": {},
   "outputs": [
    {
     "data": {
      "text/html": [
       "<div>\n",
       "<style scoped>\n",
       "    .dataframe tbody tr th:only-of-type {\n",
       "        vertical-align: middle;\n",
       "    }\n",
       "\n",
       "    .dataframe tbody tr th {\n",
       "        vertical-align: top;\n",
       "    }\n",
       "\n",
       "    .dataframe thead th {\n",
       "        text-align: right;\n",
       "    }\n",
       "</style>\n",
       "<table border=\"1\" class=\"dataframe\">\n",
       "  <thead>\n",
       "    <tr style=\"text-align: right;\">\n",
       "      <th></th>\n",
       "      <th>tweet_id</th>\n",
       "      <th>timestamp</th>\n",
       "      <th>text</th>\n",
       "      <th>expanded_urls</th>\n",
       "      <th>rating_numerator</th>\n",
       "      <th>rating_denominator</th>\n",
       "      <th>name</th>\n",
       "      <th>cute_name</th>\n",
       "      <th>favorite_count</th>\n",
       "      <th>retweet_count</th>\n",
       "      <th>jpg_url</th>\n",
       "      <th>p1</th>\n",
       "      <th>p1_conf</th>\n",
       "      <th>p1_dog</th>\n",
       "      <th>p2</th>\n",
       "      <th>p2_conf</th>\n",
       "      <th>p2_dog</th>\n",
       "      <th>p3</th>\n",
       "      <th>p3_conf</th>\n",
       "      <th>p3_dog</th>\n",
       "    </tr>\n",
       "  </thead>\n",
       "  <tbody>\n",
       "    <tr>\n",
       "      <td>401</td>\n",
       "      <td>810984652412424192</td>\n",
       "      <td>2016-12-19 23:06:23 +0000</td>\n",
       "      <td>Meet Sam. She smiles 24/7 &amp;amp; secretly aspir...</td>\n",
       "      <td>https://www.gofundme.com/sams-smile,https://tw...</td>\n",
       "      <td>24</td>\n",
       "      <td>7</td>\n",
       "      <td>Sam</td>\n",
       "      <td>Other</td>\n",
       "      <td>5578</td>\n",
       "      <td>1518.0</td>\n",
       "      <td>https://pbs.twimg.com/media/C0EyPZbXAAAceSc.jpg</td>\n",
       "      <td>golden_retriever</td>\n",
       "      <td>0.871342</td>\n",
       "      <td>True</td>\n",
       "      <td>Tibetan_mastiff</td>\n",
       "      <td>0.036708</td>\n",
       "      <td>True</td>\n",
       "      <td>Labrador_retriever</td>\n",
       "      <td>0.025823</td>\n",
       "      <td>True</td>\n",
       "    </tr>\n",
       "    <tr>\n",
       "      <td>1959</td>\n",
       "      <td>666287406224695296</td>\n",
       "      <td>2015-11-16 16:11:11 +0000</td>\n",
       "      <td>This is an Albanian 3 1/2 legged  Episcopalian...</td>\n",
       "      <td>https://twitter.com/dog_rates/status/666287406...</td>\n",
       "      <td>1</td>\n",
       "      <td>2</td>\n",
       "      <td>an</td>\n",
       "      <td>Other</td>\n",
       "      <td>141</td>\n",
       "      <td>63.0</td>\n",
       "      <td>https://pbs.twimg.com/media/CT8g3BpUEAAuFjg.jpg</td>\n",
       "      <td>Maltese_dog</td>\n",
       "      <td>0.857531</td>\n",
       "      <td>True</td>\n",
       "      <td>toy_poodle</td>\n",
       "      <td>0.063064</td>\n",
       "      <td>True</td>\n",
       "      <td>miniature_poodle</td>\n",
       "      <td>0.025581</td>\n",
       "      <td>True</td>\n",
       "    </tr>\n",
       "  </tbody>\n",
       "</table>\n",
       "</div>"
      ],
      "text/plain": [
       "                tweet_id                  timestamp  \\\n",
       "401   810984652412424192  2016-12-19 23:06:23 +0000   \n",
       "1959  666287406224695296  2015-11-16 16:11:11 +0000   \n",
       "\n",
       "                                                   text  \\\n",
       "401   Meet Sam. She smiles 24/7 &amp; secretly aspir...   \n",
       "1959  This is an Albanian 3 1/2 legged  Episcopalian...   \n",
       "\n",
       "                                          expanded_urls  rating_numerator  \\\n",
       "401   https://www.gofundme.com/sams-smile,https://tw...                24   \n",
       "1959  https://twitter.com/dog_rates/status/666287406...                 1   \n",
       "\n",
       "      rating_denominator name cute_name  favorite_count  retweet_count  \\\n",
       "401                    7  Sam     Other            5578         1518.0   \n",
       "1959                   2   an     Other             141           63.0   \n",
       "\n",
       "                                              jpg_url                p1  \\\n",
       "401   https://pbs.twimg.com/media/C0EyPZbXAAAceSc.jpg  golden_retriever   \n",
       "1959  https://pbs.twimg.com/media/CT8g3BpUEAAuFjg.jpg       Maltese_dog   \n",
       "\n",
       "       p1_conf  p1_dog               p2   p2_conf  p2_dog                  p3  \\\n",
       "401   0.871342    True  Tibetan_mastiff  0.036708    True  Labrador_retriever   \n",
       "1959  0.857531    True       toy_poodle  0.063064    True    miniature_poodle   \n",
       "\n",
       "       p3_conf  p3_dog  \n",
       "401   0.025823    True  \n",
       "1959  0.025581    True  "
      ]
     },
     "execution_count": 51,
     "metadata": {},
     "output_type": "execute_result"
    }
   ],
   "source": [
    "#Searching for errors in data collection where the denominator is less than 10\n",
    "df.query('rating_denominator < 10')"
   ]
  },
  {
   "cell_type": "code",
   "execution_count": 52,
   "metadata": {},
   "outputs": [
    {
     "data": {
      "text/plain": [
       "('Meet Sam. She smiles 24/7 &amp; secretly aspires to be a reindeer. \\nKeep Sam smiling by clicking and sharing this link:\\nhttps://t.co/98tB8y7y7t https://t.co/LouL5vdvxx',\n",
       " 'This is an Albanian 3 1/2 legged  Episcopalian. Loves well-polished hardwood flooring. Penis on the collar. 9/10 https://t.co/d9NcXFKwLv')"
      ]
     },
     "execution_count": 52,
     "metadata": {},
     "output_type": "execute_result"
    }
   ],
   "source": [
    "df.text[401],df.text[1959]"
   ]
  },
  {
   "cell_type": "code",
   "execution_count": 53,
   "metadata": {},
   "outputs": [],
   "source": [
    "df.loc[401, 'rating_numerator']= np.median(df.rating_numerator)\n",
    "df.loc[401, 'rating_denominator']= np.median(df.rating_denominator)\n",
    "\n",
    "df.loc[1959, 'rating_denominator']= 10\n",
    "df.loc[1959, 'rating_numerator']= 9"
   ]
  },
  {
   "cell_type": "code",
   "execution_count": 54,
   "metadata": {
    "scrolled": true
   },
   "outputs": [
    {
     "data": {
      "text/plain": [
       "336      70.0\n",
       "602      11.0\n",
       "694     150.0\n",
       "873     170.0\n",
       "915      20.0\n",
       "948      50.0\n",
       "969      90.0\n",
       "991      80.0\n",
       "1009     50.0\n",
       "1073     50.0\n",
       "1144     40.0\n",
       "1311    130.0\n",
       "1312    110.0\n",
       "1336     11.0\n",
       "1436    120.0\n",
       "1494     80.0\n",
       "Name: rating_denominator, dtype: float64"
      ]
     },
     "execution_count": 54,
     "metadata": {},
     "output_type": "execute_result"
    }
   ],
   "source": [
    "df.query('rating_denominator > 10')['rating_denominator']"
   ]
  },
  {
   "cell_type": "markdown",
   "metadata": {},
   "source": [
    "#### Normalizing Denominators to a Standard of 10  "
   ]
  },
  {
   "cell_type": "code",
   "execution_count": 55,
   "metadata": {},
   "outputs": [],
   "source": [
    "norm_numerator= []\n",
    "norm_denominator= []\n",
    "for i, row in df.iterrows():\n",
    "    norm = 10 / row['rating_denominator']\n",
    "    num = row['rating_numerator'] = row['rating_numerator']* norm\n",
    "    norm_numerator.append(num)\n",
    "    den = row['rating_denominator'] = row['rating_denominator']* norm\n",
    "    norm_denominator.append(den)\n",
    "    "
   ]
  },
  {
   "cell_type": "code",
   "execution_count": 56,
   "metadata": {},
   "outputs": [],
   "source": [
    "df['rating_numerator'] = norm_numerator\n",
    "df['rating_denominator'] = norm_denominator"
   ]
  },
  {
   "cell_type": "code",
   "execution_count": 57,
   "metadata": {},
   "outputs": [
    {
     "data": {
      "text/plain": [
       "False"
      ]
     },
     "execution_count": 57,
     "metadata": {},
     "output_type": "execute_result"
    }
   ],
   "source": [
    "df.query('rating_denominator !=10')['rating_denominator'].any()"
   ]
  },
  {
   "cell_type": "markdown",
   "metadata": {},
   "source": [
    "# Correcting Ratings Containing Decimal Places"
   ]
  },
  {
   "cell_type": "code",
   "execution_count": 58,
   "metadata": {
    "scrolled": false
   },
   "outputs": [
    {
     "data": {
      "text/html": [
       "<div>\n",
       "<style scoped>\n",
       "    .dataframe tbody tr th:only-of-type {\n",
       "        vertical-align: middle;\n",
       "    }\n",
       "\n",
       "    .dataframe tbody tr th {\n",
       "        vertical-align: top;\n",
       "    }\n",
       "\n",
       "    .dataframe thead th {\n",
       "        text-align: right;\n",
       "    }\n",
       "</style>\n",
       "<table border=\"1\" class=\"dataframe\">\n",
       "  <thead>\n",
       "    <tr style=\"text-align: right;\">\n",
       "      <th></th>\n",
       "      <th>tweet_id</th>\n",
       "      <th>timestamp</th>\n",
       "      <th>text</th>\n",
       "      <th>expanded_urls</th>\n",
       "      <th>rating_denominator</th>\n",
       "      <th>name</th>\n",
       "      <th>cute_name</th>\n",
       "      <th>favorite_count</th>\n",
       "      <th>retweet_count</th>\n",
       "      <th>jpg_url</th>\n",
       "      <th>p1</th>\n",
       "      <th>p1_conf</th>\n",
       "      <th>p1_dog</th>\n",
       "      <th>p2</th>\n",
       "      <th>p2_conf</th>\n",
       "      <th>p2_dog</th>\n",
       "      <th>p3</th>\n",
       "      <th>p3_conf</th>\n",
       "      <th>p3_dog</th>\n",
       "    </tr>\n",
       "    <tr>\n",
       "      <th>rating_numerator</th>\n",
       "      <th></th>\n",
       "      <th></th>\n",
       "      <th></th>\n",
       "      <th></th>\n",
       "      <th></th>\n",
       "      <th></th>\n",
       "      <th></th>\n",
       "      <th></th>\n",
       "      <th></th>\n",
       "      <th></th>\n",
       "      <th></th>\n",
       "      <th></th>\n",
       "      <th></th>\n",
       "      <th></th>\n",
       "      <th></th>\n",
       "      <th></th>\n",
       "      <th></th>\n",
       "      <th></th>\n",
       "      <th></th>\n",
       "    </tr>\n",
       "  </thead>\n",
       "  <tbody>\n",
       "    <tr>\n",
       "      <td>0.000000</td>\n",
       "      <td>2</td>\n",
       "      <td>2</td>\n",
       "      <td>2</td>\n",
       "      <td>2</td>\n",
       "      <td>2</td>\n",
       "      <td>2</td>\n",
       "      <td>2</td>\n",
       "      <td>2</td>\n",
       "      <td>2</td>\n",
       "      <td>2</td>\n",
       "      <td>2</td>\n",
       "      <td>2</td>\n",
       "      <td>2</td>\n",
       "      <td>2</td>\n",
       "      <td>2</td>\n",
       "      <td>2</td>\n",
       "      <td>2</td>\n",
       "      <td>2</td>\n",
       "      <td>2</td>\n",
       "    </tr>\n",
       "    <tr>\n",
       "      <td>1.000000</td>\n",
       "      <td>4</td>\n",
       "      <td>4</td>\n",
       "      <td>4</td>\n",
       "      <td>4</td>\n",
       "      <td>4</td>\n",
       "      <td>4</td>\n",
       "      <td>4</td>\n",
       "      <td>4</td>\n",
       "      <td>4</td>\n",
       "      <td>4</td>\n",
       "      <td>4</td>\n",
       "      <td>4</td>\n",
       "      <td>4</td>\n",
       "      <td>4</td>\n",
       "      <td>4</td>\n",
       "      <td>4</td>\n",
       "      <td>4</td>\n",
       "      <td>4</td>\n",
       "      <td>4</td>\n",
       "    </tr>\n",
       "    <tr>\n",
       "      <td>2.000000</td>\n",
       "      <td>10</td>\n",
       "      <td>10</td>\n",
       "      <td>10</td>\n",
       "      <td>10</td>\n",
       "      <td>10</td>\n",
       "      <td>10</td>\n",
       "      <td>10</td>\n",
       "      <td>10</td>\n",
       "      <td>10</td>\n",
       "      <td>10</td>\n",
       "      <td>10</td>\n",
       "      <td>10</td>\n",
       "      <td>10</td>\n",
       "      <td>10</td>\n",
       "      <td>10</td>\n",
       "      <td>10</td>\n",
       "      <td>10</td>\n",
       "      <td>10</td>\n",
       "      <td>10</td>\n",
       "    </tr>\n",
       "    <tr>\n",
       "      <td>3.000000</td>\n",
       "      <td>19</td>\n",
       "      <td>19</td>\n",
       "      <td>19</td>\n",
       "      <td>19</td>\n",
       "      <td>19</td>\n",
       "      <td>19</td>\n",
       "      <td>19</td>\n",
       "      <td>19</td>\n",
       "      <td>19</td>\n",
       "      <td>19</td>\n",
       "      <td>19</td>\n",
       "      <td>19</td>\n",
       "      <td>19</td>\n",
       "      <td>19</td>\n",
       "      <td>19</td>\n",
       "      <td>19</td>\n",
       "      <td>19</td>\n",
       "      <td>19</td>\n",
       "      <td>19</td>\n",
       "    </tr>\n",
       "    <tr>\n",
       "      <td>4.000000</td>\n",
       "      <td>15</td>\n",
       "      <td>15</td>\n",
       "      <td>15</td>\n",
       "      <td>15</td>\n",
       "      <td>15</td>\n",
       "      <td>15</td>\n",
       "      <td>15</td>\n",
       "      <td>15</td>\n",
       "      <td>15</td>\n",
       "      <td>15</td>\n",
       "      <td>15</td>\n",
       "      <td>15</td>\n",
       "      <td>15</td>\n",
       "      <td>15</td>\n",
       "      <td>15</td>\n",
       "      <td>15</td>\n",
       "      <td>15</td>\n",
       "      <td>15</td>\n",
       "      <td>15</td>\n",
       "    </tr>\n",
       "    <tr>\n",
       "      <td>5.000000</td>\n",
       "      <td>33</td>\n",
       "      <td>33</td>\n",
       "      <td>33</td>\n",
       "      <td>33</td>\n",
       "      <td>33</td>\n",
       "      <td>33</td>\n",
       "      <td>33</td>\n",
       "      <td>33</td>\n",
       "      <td>33</td>\n",
       "      <td>33</td>\n",
       "      <td>33</td>\n",
       "      <td>33</td>\n",
       "      <td>33</td>\n",
       "      <td>33</td>\n",
       "      <td>33</td>\n",
       "      <td>33</td>\n",
       "      <td>33</td>\n",
       "      <td>33</td>\n",
       "      <td>33</td>\n",
       "    </tr>\n",
       "    <tr>\n",
       "      <td>6.000000</td>\n",
       "      <td>32</td>\n",
       "      <td>32</td>\n",
       "      <td>32</td>\n",
       "      <td>32</td>\n",
       "      <td>32</td>\n",
       "      <td>32</td>\n",
       "      <td>32</td>\n",
       "      <td>32</td>\n",
       "      <td>32</td>\n",
       "      <td>32</td>\n",
       "      <td>32</td>\n",
       "      <td>32</td>\n",
       "      <td>32</td>\n",
       "      <td>32</td>\n",
       "      <td>32</td>\n",
       "      <td>32</td>\n",
       "      <td>32</td>\n",
       "      <td>32</td>\n",
       "      <td>32</td>\n",
       "    </tr>\n",
       "    <tr>\n",
       "      <td>6.363636</td>\n",
       "      <td>1</td>\n",
       "      <td>1</td>\n",
       "      <td>1</td>\n",
       "      <td>1</td>\n",
       "      <td>1</td>\n",
       "      <td>1</td>\n",
       "      <td>1</td>\n",
       "      <td>1</td>\n",
       "      <td>1</td>\n",
       "      <td>1</td>\n",
       "      <td>1</td>\n",
       "      <td>1</td>\n",
       "      <td>1</td>\n",
       "      <td>1</td>\n",
       "      <td>1</td>\n",
       "      <td>1</td>\n",
       "      <td>1</td>\n",
       "      <td>1</td>\n",
       "      <td>1</td>\n",
       "    </tr>\n",
       "    <tr>\n",
       "      <td>7.000000</td>\n",
       "      <td>51</td>\n",
       "      <td>51</td>\n",
       "      <td>51</td>\n",
       "      <td>51</td>\n",
       "      <td>51</td>\n",
       "      <td>51</td>\n",
       "      <td>51</td>\n",
       "      <td>51</td>\n",
       "      <td>51</td>\n",
       "      <td>51</td>\n",
       "      <td>51</td>\n",
       "      <td>51</td>\n",
       "      <td>51</td>\n",
       "      <td>51</td>\n",
       "      <td>51</td>\n",
       "      <td>51</td>\n",
       "      <td>51</td>\n",
       "      <td>51</td>\n",
       "      <td>51</td>\n",
       "    </tr>\n",
       "    <tr>\n",
       "      <td>8.000000</td>\n",
       "      <td>95</td>\n",
       "      <td>95</td>\n",
       "      <td>95</td>\n",
       "      <td>95</td>\n",
       "      <td>95</td>\n",
       "      <td>95</td>\n",
       "      <td>95</td>\n",
       "      <td>95</td>\n",
       "      <td>95</td>\n",
       "      <td>95</td>\n",
       "      <td>95</td>\n",
       "      <td>95</td>\n",
       "      <td>95</td>\n",
       "      <td>95</td>\n",
       "      <td>95</td>\n",
       "      <td>95</td>\n",
       "      <td>95</td>\n",
       "      <td>95</td>\n",
       "      <td>95</td>\n",
       "    </tr>\n",
       "    <tr>\n",
       "      <td>8.181818</td>\n",
       "      <td>1</td>\n",
       "      <td>1</td>\n",
       "      <td>1</td>\n",
       "      <td>1</td>\n",
       "      <td>1</td>\n",
       "      <td>1</td>\n",
       "      <td>1</td>\n",
       "      <td>1</td>\n",
       "      <td>1</td>\n",
       "      <td>1</td>\n",
       "      <td>1</td>\n",
       "      <td>1</td>\n",
       "      <td>1</td>\n",
       "      <td>1</td>\n",
       "      <td>1</td>\n",
       "      <td>1</td>\n",
       "      <td>1</td>\n",
       "      <td>1</td>\n",
       "      <td>1</td>\n",
       "    </tr>\n",
       "    <tr>\n",
       "      <td>9.000000</td>\n",
       "      <td>152</td>\n",
       "      <td>152</td>\n",
       "      <td>152</td>\n",
       "      <td>152</td>\n",
       "      <td>152</td>\n",
       "      <td>152</td>\n",
       "      <td>152</td>\n",
       "      <td>152</td>\n",
       "      <td>152</td>\n",
       "      <td>152</td>\n",
       "      <td>152</td>\n",
       "      <td>152</td>\n",
       "      <td>152</td>\n",
       "      <td>152</td>\n",
       "      <td>152</td>\n",
       "      <td>152</td>\n",
       "      <td>152</td>\n",
       "      <td>152</td>\n",
       "      <td>152</td>\n",
       "    </tr>\n",
       "    <tr>\n",
       "      <td>10.000000</td>\n",
       "      <td>420</td>\n",
       "      <td>420</td>\n",
       "      <td>420</td>\n",
       "      <td>420</td>\n",
       "      <td>420</td>\n",
       "      <td>420</td>\n",
       "      <td>420</td>\n",
       "      <td>420</td>\n",
       "      <td>420</td>\n",
       "      <td>420</td>\n",
       "      <td>420</td>\n",
       "      <td>420</td>\n",
       "      <td>420</td>\n",
       "      <td>420</td>\n",
       "      <td>420</td>\n",
       "      <td>420</td>\n",
       "      <td>420</td>\n",
       "      <td>420</td>\n",
       "      <td>420</td>\n",
       "    </tr>\n",
       "    <tr>\n",
       "      <td>11.000000</td>\n",
       "      <td>401</td>\n",
       "      <td>401</td>\n",
       "      <td>401</td>\n",
       "      <td>401</td>\n",
       "      <td>401</td>\n",
       "      <td>401</td>\n",
       "      <td>401</td>\n",
       "      <td>401</td>\n",
       "      <td>401</td>\n",
       "      <td>401</td>\n",
       "      <td>401</td>\n",
       "      <td>401</td>\n",
       "      <td>401</td>\n",
       "      <td>401</td>\n",
       "      <td>401</td>\n",
       "      <td>401</td>\n",
       "      <td>401</td>\n",
       "      <td>401</td>\n",
       "      <td>401</td>\n",
       "    </tr>\n",
       "    <tr>\n",
       "      <td>12.000000</td>\n",
       "      <td>449</td>\n",
       "      <td>449</td>\n",
       "      <td>449</td>\n",
       "      <td>449</td>\n",
       "      <td>449</td>\n",
       "      <td>449</td>\n",
       "      <td>449</td>\n",
       "      <td>449</td>\n",
       "      <td>449</td>\n",
       "      <td>449</td>\n",
       "      <td>449</td>\n",
       "      <td>449</td>\n",
       "      <td>449</td>\n",
       "      <td>449</td>\n",
       "      <td>449</td>\n",
       "      <td>449</td>\n",
       "      <td>449</td>\n",
       "      <td>449</td>\n",
       "      <td>449</td>\n",
       "    </tr>\n",
       "    <tr>\n",
       "      <td>13.000000</td>\n",
       "      <td>254</td>\n",
       "      <td>254</td>\n",
       "      <td>254</td>\n",
       "      <td>254</td>\n",
       "      <td>254</td>\n",
       "      <td>254</td>\n",
       "      <td>254</td>\n",
       "      <td>254</td>\n",
       "      <td>254</td>\n",
       "      <td>254</td>\n",
       "      <td>254</td>\n",
       "      <td>254</td>\n",
       "      <td>254</td>\n",
       "      <td>254</td>\n",
       "      <td>254</td>\n",
       "      <td>254</td>\n",
       "      <td>254</td>\n",
       "      <td>254</td>\n",
       "      <td>254</td>\n",
       "    </tr>\n",
       "    <tr>\n",
       "      <td>14.000000</td>\n",
       "      <td>35</td>\n",
       "      <td>35</td>\n",
       "      <td>35</td>\n",
       "      <td>35</td>\n",
       "      <td>35</td>\n",
       "      <td>35</td>\n",
       "      <td>35</td>\n",
       "      <td>35</td>\n",
       "      <td>35</td>\n",
       "      <td>35</td>\n",
       "      <td>35</td>\n",
       "      <td>35</td>\n",
       "      <td>35</td>\n",
       "      <td>35</td>\n",
       "      <td>35</td>\n",
       "      <td>35</td>\n",
       "      <td>35</td>\n",
       "      <td>35</td>\n",
       "      <td>35</td>\n",
       "    </tr>\n",
       "    <tr>\n",
       "      <td>26.000000</td>\n",
       "      <td>1</td>\n",
       "      <td>1</td>\n",
       "      <td>1</td>\n",
       "      <td>1</td>\n",
       "      <td>1</td>\n",
       "      <td>1</td>\n",
       "      <td>1</td>\n",
       "      <td>1</td>\n",
       "      <td>1</td>\n",
       "      <td>1</td>\n",
       "      <td>1</td>\n",
       "      <td>1</td>\n",
       "      <td>1</td>\n",
       "      <td>1</td>\n",
       "      <td>1</td>\n",
       "      <td>1</td>\n",
       "      <td>1</td>\n",
       "      <td>1</td>\n",
       "      <td>1</td>\n",
       "    </tr>\n",
       "    <tr>\n",
       "      <td>27.000000</td>\n",
       "      <td>1</td>\n",
       "      <td>1</td>\n",
       "      <td>1</td>\n",
       "      <td>1</td>\n",
       "      <td>1</td>\n",
       "      <td>1</td>\n",
       "      <td>1</td>\n",
       "      <td>1</td>\n",
       "      <td>1</td>\n",
       "      <td>1</td>\n",
       "      <td>1</td>\n",
       "      <td>1</td>\n",
       "      <td>1</td>\n",
       "      <td>1</td>\n",
       "      <td>1</td>\n",
       "      <td>1</td>\n",
       "      <td>1</td>\n",
       "      <td>1</td>\n",
       "      <td>1</td>\n",
       "    </tr>\n",
       "    <tr>\n",
       "      <td>75.000000</td>\n",
       "      <td>1</td>\n",
       "      <td>1</td>\n",
       "      <td>1</td>\n",
       "      <td>1</td>\n",
       "      <td>1</td>\n",
       "      <td>1</td>\n",
       "      <td>1</td>\n",
       "      <td>1</td>\n",
       "      <td>1</td>\n",
       "      <td>1</td>\n",
       "      <td>1</td>\n",
       "      <td>1</td>\n",
       "      <td>1</td>\n",
       "      <td>1</td>\n",
       "      <td>1</td>\n",
       "      <td>1</td>\n",
       "      <td>1</td>\n",
       "      <td>1</td>\n",
       "      <td>1</td>\n",
       "    </tr>\n",
       "    <tr>\n",
       "      <td>420.000000</td>\n",
       "      <td>1</td>\n",
       "      <td>1</td>\n",
       "      <td>1</td>\n",
       "      <td>1</td>\n",
       "      <td>1</td>\n",
       "      <td>1</td>\n",
       "      <td>1</td>\n",
       "      <td>1</td>\n",
       "      <td>1</td>\n",
       "      <td>1</td>\n",
       "      <td>1</td>\n",
       "      <td>1</td>\n",
       "      <td>1</td>\n",
       "      <td>1</td>\n",
       "      <td>1</td>\n",
       "      <td>1</td>\n",
       "      <td>1</td>\n",
       "      <td>1</td>\n",
       "      <td>1</td>\n",
       "    </tr>\n",
       "    <tr>\n",
       "      <td>1776.000000</td>\n",
       "      <td>1</td>\n",
       "      <td>1</td>\n",
       "      <td>1</td>\n",
       "      <td>1</td>\n",
       "      <td>1</td>\n",
       "      <td>1</td>\n",
       "      <td>1</td>\n",
       "      <td>1</td>\n",
       "      <td>1</td>\n",
       "      <td>1</td>\n",
       "      <td>1</td>\n",
       "      <td>1</td>\n",
       "      <td>1</td>\n",
       "      <td>1</td>\n",
       "      <td>1</td>\n",
       "      <td>1</td>\n",
       "      <td>1</td>\n",
       "      <td>1</td>\n",
       "      <td>1</td>\n",
       "    </tr>\n",
       "  </tbody>\n",
       "</table>\n",
       "</div>"
      ],
      "text/plain": [
       "                  tweet_id  timestamp  text  expanded_urls  \\\n",
       "rating_numerator                                             \n",
       "0.000000                 2          2     2              2   \n",
       "1.000000                 4          4     4              4   \n",
       "2.000000                10         10    10             10   \n",
       "3.000000                19         19    19             19   \n",
       "4.000000                15         15    15             15   \n",
       "5.000000                33         33    33             33   \n",
       "6.000000                32         32    32             32   \n",
       "6.363636                 1          1     1              1   \n",
       "7.000000                51         51    51             51   \n",
       "8.000000                95         95    95             95   \n",
       "8.181818                 1          1     1              1   \n",
       "9.000000               152        152   152            152   \n",
       "10.000000              420        420   420            420   \n",
       "11.000000              401        401   401            401   \n",
       "12.000000              449        449   449            449   \n",
       "13.000000              254        254   254            254   \n",
       "14.000000               35         35    35             35   \n",
       "26.000000                1          1     1              1   \n",
       "27.000000                1          1     1              1   \n",
       "75.000000                1          1     1              1   \n",
       "420.000000               1          1     1              1   \n",
       "1776.000000              1          1     1              1   \n",
       "\n",
       "                  rating_denominator  name  cute_name  favorite_count  \\\n",
       "rating_numerator                                                        \n",
       "0.000000                           2     2          2               2   \n",
       "1.000000                           4     4          4               4   \n",
       "2.000000                          10    10         10              10   \n",
       "3.000000                          19    19         19              19   \n",
       "4.000000                          15    15         15              15   \n",
       "5.000000                          33    33         33              33   \n",
       "6.000000                          32    32         32              32   \n",
       "6.363636                           1     1          1               1   \n",
       "7.000000                          51    51         51              51   \n",
       "8.000000                          95    95         95              95   \n",
       "8.181818                           1     1          1               1   \n",
       "9.000000                         152   152        152             152   \n",
       "10.000000                        420   420        420             420   \n",
       "11.000000                        401   401        401             401   \n",
       "12.000000                        449   449        449             449   \n",
       "13.000000                        254   254        254             254   \n",
       "14.000000                         35    35         35              35   \n",
       "26.000000                          1     1          1               1   \n",
       "27.000000                          1     1          1               1   \n",
       "75.000000                          1     1          1               1   \n",
       "420.000000                         1     1          1               1   \n",
       "1776.000000                        1     1          1               1   \n",
       "\n",
       "                  retweet_count  jpg_url   p1  p1_conf  p1_dog   p2  p2_conf  \\\n",
       "rating_numerator                                                               \n",
       "0.000000                      2        2    2        2       2    2        2   \n",
       "1.000000                      4        4    4        4       4    4        4   \n",
       "2.000000                     10       10   10       10      10   10       10   \n",
       "3.000000                     19       19   19       19      19   19       19   \n",
       "4.000000                     15       15   15       15      15   15       15   \n",
       "5.000000                     33       33   33       33      33   33       33   \n",
       "6.000000                     32       32   32       32      32   32       32   \n",
       "6.363636                      1        1    1        1       1    1        1   \n",
       "7.000000                     51       51   51       51      51   51       51   \n",
       "8.000000                     95       95   95       95      95   95       95   \n",
       "8.181818                      1        1    1        1       1    1        1   \n",
       "9.000000                    152      152  152      152     152  152      152   \n",
       "10.000000                   420      420  420      420     420  420      420   \n",
       "11.000000                   401      401  401      401     401  401      401   \n",
       "12.000000                   449      449  449      449     449  449      449   \n",
       "13.000000                   254      254  254      254     254  254      254   \n",
       "14.000000                    35       35   35       35      35   35       35   \n",
       "26.000000                     1        1    1        1       1    1        1   \n",
       "27.000000                     1        1    1        1       1    1        1   \n",
       "75.000000                     1        1    1        1       1    1        1   \n",
       "420.000000                    1        1    1        1       1    1        1   \n",
       "1776.000000                   1        1    1        1       1    1        1   \n",
       "\n",
       "                  p2_dog   p3  p3_conf  p3_dog  \n",
       "rating_numerator                                \n",
       "0.000000               2    2        2       2  \n",
       "1.000000               4    4        4       4  \n",
       "2.000000              10   10       10      10  \n",
       "3.000000              19   19       19      19  \n",
       "4.000000              15   15       15      15  \n",
       "5.000000              33   33       33      33  \n",
       "6.000000              32   32       32      32  \n",
       "6.363636               1    1        1       1  \n",
       "7.000000              51   51       51      51  \n",
       "8.000000              95   95       95      95  \n",
       "8.181818               1    1        1       1  \n",
       "9.000000             152  152      152     152  \n",
       "10.000000            420  420      420     420  \n",
       "11.000000            401  401      401     401  \n",
       "12.000000            449  449      449     449  \n",
       "13.000000            254  254      254     254  \n",
       "14.000000             35   35       35      35  \n",
       "26.000000              1    1        1       1  \n",
       "27.000000              1    1        1       1  \n",
       "75.000000              1    1        1       1  \n",
       "420.000000             1    1        1       1  \n",
       "1776.000000            1    1        1       1  "
      ]
     },
     "execution_count": 58,
     "metadata": {},
     "output_type": "execute_result"
    }
   ],
   "source": [
    "df.groupby(['rating_numerator']).count()"
   ]
  },
  {
   "cell_type": "code",
   "execution_count": 59,
   "metadata": {},
   "outputs": [
    {
     "data": {
      "text/html": [
       "<div>\n",
       "<style scoped>\n",
       "    .dataframe tbody tr th:only-of-type {\n",
       "        vertical-align: middle;\n",
       "    }\n",
       "\n",
       "    .dataframe tbody tr th {\n",
       "        vertical-align: top;\n",
       "    }\n",
       "\n",
       "    .dataframe thead th {\n",
       "        text-align: right;\n",
       "    }\n",
       "</style>\n",
       "<table border=\"1\" class=\"dataframe\">\n",
       "  <thead>\n",
       "    <tr style=\"text-align: right;\">\n",
       "      <th></th>\n",
       "      <th>tweet_id</th>\n",
       "      <th>timestamp</th>\n",
       "      <th>text</th>\n",
       "      <th>expanded_urls</th>\n",
       "      <th>rating_numerator</th>\n",
       "      <th>rating_denominator</th>\n",
       "      <th>name</th>\n",
       "      <th>cute_name</th>\n",
       "      <th>favorite_count</th>\n",
       "      <th>retweet_count</th>\n",
       "      <th>jpg_url</th>\n",
       "      <th>p1</th>\n",
       "      <th>p1_conf</th>\n",
       "      <th>p1_dog</th>\n",
       "      <th>p2</th>\n",
       "      <th>p2_conf</th>\n",
       "      <th>p2_dog</th>\n",
       "      <th>p3</th>\n",
       "      <th>p3_conf</th>\n",
       "      <th>p3_dog</th>\n",
       "    </tr>\n",
       "  </thead>\n",
       "  <tbody>\n",
       "    <tr>\n",
       "      <td>262</td>\n",
       "      <td>786709082849828864</td>\n",
       "      <td>2017-02-16 13:11:49 +0000</td>\n",
       "      <td>RT @dog_rates: This is Logan, the Chow who liv...</td>\n",
       "      <td>https://twitter.com/dog_rates/status/786709082...</td>\n",
       "      <td>75.0</td>\n",
       "      <td>10.0</td>\n",
       "      <td>Logan</td>\n",
       "      <td>Other</td>\n",
       "      <td>19055</td>\n",
       "      <td>6425.0</td>\n",
       "      <td>https://pbs.twimg.com/media/CurzvFTXgAA2_AP.jpg</td>\n",
       "      <td>Pomeranian</td>\n",
       "      <td>0.467321</td>\n",
       "      <td>True</td>\n",
       "      <td>Persian_cat</td>\n",
       "      <td>0.122978</td>\n",
       "      <td>False</td>\n",
       "      <td>chow</td>\n",
       "      <td>0.102654</td>\n",
       "      <td>True</td>\n",
       "    </tr>\n",
       "  </tbody>\n",
       "</table>\n",
       "</div>"
      ],
      "text/plain": [
       "               tweet_id                  timestamp  \\\n",
       "262  786709082849828864  2017-02-16 13:11:49 +0000   \n",
       "\n",
       "                                                  text  \\\n",
       "262  RT @dog_rates: This is Logan, the Chow who liv...   \n",
       "\n",
       "                                         expanded_urls  rating_numerator  \\\n",
       "262  https://twitter.com/dog_rates/status/786709082...              75.0   \n",
       "\n",
       "     rating_denominator   name cute_name  favorite_count  retweet_count  \\\n",
       "262                10.0  Logan     Other           19055         6425.0   \n",
       "\n",
       "                                             jpg_url          p1   p1_conf  \\\n",
       "262  https://pbs.twimg.com/media/CurzvFTXgAA2_AP.jpg  Pomeranian  0.467321   \n",
       "\n",
       "     p1_dog           p2   p2_conf  p2_dog    p3   p3_conf  p3_dog  \n",
       "262    True  Persian_cat  0.122978   False  chow  0.102654    True  "
      ]
     },
     "execution_count": 59,
     "metadata": {},
     "output_type": "execute_result"
    }
   ],
   "source": [
    "df[df['rating_numerator'] == 75]"
   ]
  },
  {
   "cell_type": "code",
   "execution_count": 60,
   "metadata": {},
   "outputs": [
    {
     "data": {
      "text/plain": [
       "\"RT @dog_rates: This is Logan, the Chow who lived. He solemnly swears he's up to lots of good. H*ckin magical af 9.75/10 https://t.co/yBO5wu…\""
      ]
     },
     "execution_count": 60,
     "metadata": {},
     "output_type": "execute_result"
    }
   ],
   "source": [
    "df.text[262]"
   ]
  },
  {
   "cell_type": "markdown",
   "metadata": {},
   "source": [
    "#### Using Regular Expression to loop through each text and pull out any digits with decimal places  "
   ]
  },
  {
   "cell_type": "code",
   "execution_count": 61,
   "metadata": {},
   "outputs": [
    {
     "name": "stdout",
     "output_type": "stream",
     "text": [
      "The numerator in row 40 used to be 5.0 and now is 13.5.\n",
      "The numerator in row 262 used to be 75.0 and now is 9.75.\n",
      "The numerator in row 585 used to be 27.0 and now is 11.27.\n",
      "The numerator in row 1380 used to be 26.0 and now is 11.26.\n"
     ]
    }
   ],
   "source": [
    "for i, row in df.iterrows():\n",
    "    in_str= row['text']\n",
    "    split = re.split(r'/' , in_str)[0]\n",
    "    if bool(re.search(r'\\d+\\.\\d+$', split)) == True:\n",
    "        after = re.findall(r'\\d+\\.\\d+', split)[0]\n",
    "        before = df.loc[i, 'rating_numerator']\n",
    "        df.loc[i, 'rating_numerator'] = after\n",
    "        print(f\"The numerator in row {i} used to be {before} and now is {after}.\")\n",
    "    else:\n",
    "        pass"
   ]
  },
  {
   "cell_type": "code",
   "execution_count": null,
   "metadata": {},
   "outputs": [],
   "source": []
  },
  {
   "cell_type": "code",
   "execution_count": 62,
   "metadata": {},
   "outputs": [],
   "source": [
    "df['rating_numerator'] = df['rating_numerator'].astype('float64')\n",
    "df['rating_denominator'] = df['rating_denominator'].astype('float64')"
   ]
  },
  {
   "cell_type": "code",
   "execution_count": 63,
   "metadata": {},
   "outputs": [],
   "source": [
    "#No longer need the denominator columns, and the rating_numerator column\n",
    "#can just become rating (on a standardized scale of 10)\n",
    "df.drop(columns=['rating_denominator'])\n",
    "df.rename(columns={\"rating_numerator\": \"rating\"},inplace=True)"
   ]
  },
  {
   "cell_type": "code",
   "execution_count": 64,
   "metadata": {},
   "outputs": [
    {
     "data": {
      "text/html": [
       "<div>\n",
       "<style scoped>\n",
       "    .dataframe tbody tr th:only-of-type {\n",
       "        vertical-align: middle;\n",
       "    }\n",
       "\n",
       "    .dataframe tbody tr th {\n",
       "        vertical-align: top;\n",
       "    }\n",
       "\n",
       "    .dataframe thead th {\n",
       "        text-align: right;\n",
       "    }\n",
       "</style>\n",
       "<table border=\"1\" class=\"dataframe\">\n",
       "  <thead>\n",
       "    <tr style=\"text-align: right;\">\n",
       "      <th></th>\n",
       "      <th>tweet_id</th>\n",
       "      <th>timestamp</th>\n",
       "      <th>text</th>\n",
       "      <th>expanded_urls</th>\n",
       "      <th>rating_denominator</th>\n",
       "      <th>name</th>\n",
       "      <th>cute_name</th>\n",
       "      <th>favorite_count</th>\n",
       "      <th>retweet_count</th>\n",
       "      <th>jpg_url</th>\n",
       "      <th>p1</th>\n",
       "      <th>p1_conf</th>\n",
       "      <th>p1_dog</th>\n",
       "      <th>p2</th>\n",
       "      <th>p2_conf</th>\n",
       "      <th>p2_dog</th>\n",
       "      <th>p3</th>\n",
       "      <th>p3_conf</th>\n",
       "      <th>p3_dog</th>\n",
       "    </tr>\n",
       "    <tr>\n",
       "      <th>rating</th>\n",
       "      <th></th>\n",
       "      <th></th>\n",
       "      <th></th>\n",
       "      <th></th>\n",
       "      <th></th>\n",
       "      <th></th>\n",
       "      <th></th>\n",
       "      <th></th>\n",
       "      <th></th>\n",
       "      <th></th>\n",
       "      <th></th>\n",
       "      <th></th>\n",
       "      <th></th>\n",
       "      <th></th>\n",
       "      <th></th>\n",
       "      <th></th>\n",
       "      <th></th>\n",
       "      <th></th>\n",
       "      <th></th>\n",
       "    </tr>\n",
       "  </thead>\n",
       "  <tbody>\n",
       "    <tr>\n",
       "      <td>0.000000</td>\n",
       "      <td>2</td>\n",
       "      <td>2</td>\n",
       "      <td>2</td>\n",
       "      <td>2</td>\n",
       "      <td>2</td>\n",
       "      <td>2</td>\n",
       "      <td>2</td>\n",
       "      <td>2</td>\n",
       "      <td>2</td>\n",
       "      <td>2</td>\n",
       "      <td>2</td>\n",
       "      <td>2</td>\n",
       "      <td>2</td>\n",
       "      <td>2</td>\n",
       "      <td>2</td>\n",
       "      <td>2</td>\n",
       "      <td>2</td>\n",
       "      <td>2</td>\n",
       "      <td>2</td>\n",
       "    </tr>\n",
       "    <tr>\n",
       "      <td>1.000000</td>\n",
       "      <td>4</td>\n",
       "      <td>4</td>\n",
       "      <td>4</td>\n",
       "      <td>4</td>\n",
       "      <td>4</td>\n",
       "      <td>4</td>\n",
       "      <td>4</td>\n",
       "      <td>4</td>\n",
       "      <td>4</td>\n",
       "      <td>4</td>\n",
       "      <td>4</td>\n",
       "      <td>4</td>\n",
       "      <td>4</td>\n",
       "      <td>4</td>\n",
       "      <td>4</td>\n",
       "      <td>4</td>\n",
       "      <td>4</td>\n",
       "      <td>4</td>\n",
       "      <td>4</td>\n",
       "    </tr>\n",
       "    <tr>\n",
       "      <td>2.000000</td>\n",
       "      <td>10</td>\n",
       "      <td>10</td>\n",
       "      <td>10</td>\n",
       "      <td>10</td>\n",
       "      <td>10</td>\n",
       "      <td>10</td>\n",
       "      <td>10</td>\n",
       "      <td>10</td>\n",
       "      <td>10</td>\n",
       "      <td>10</td>\n",
       "      <td>10</td>\n",
       "      <td>10</td>\n",
       "      <td>10</td>\n",
       "      <td>10</td>\n",
       "      <td>10</td>\n",
       "      <td>10</td>\n",
       "      <td>10</td>\n",
       "      <td>10</td>\n",
       "      <td>10</td>\n",
       "    </tr>\n",
       "    <tr>\n",
       "      <td>3.000000</td>\n",
       "      <td>19</td>\n",
       "      <td>19</td>\n",
       "      <td>19</td>\n",
       "      <td>19</td>\n",
       "      <td>19</td>\n",
       "      <td>19</td>\n",
       "      <td>19</td>\n",
       "      <td>19</td>\n",
       "      <td>19</td>\n",
       "      <td>19</td>\n",
       "      <td>19</td>\n",
       "      <td>19</td>\n",
       "      <td>19</td>\n",
       "      <td>19</td>\n",
       "      <td>19</td>\n",
       "      <td>19</td>\n",
       "      <td>19</td>\n",
       "      <td>19</td>\n",
       "      <td>19</td>\n",
       "    </tr>\n",
       "    <tr>\n",
       "      <td>4.000000</td>\n",
       "      <td>15</td>\n",
       "      <td>15</td>\n",
       "      <td>15</td>\n",
       "      <td>15</td>\n",
       "      <td>15</td>\n",
       "      <td>15</td>\n",
       "      <td>15</td>\n",
       "      <td>15</td>\n",
       "      <td>15</td>\n",
       "      <td>15</td>\n",
       "      <td>15</td>\n",
       "      <td>15</td>\n",
       "      <td>15</td>\n",
       "      <td>15</td>\n",
       "      <td>15</td>\n",
       "      <td>15</td>\n",
       "      <td>15</td>\n",
       "      <td>15</td>\n",
       "      <td>15</td>\n",
       "    </tr>\n",
       "    <tr>\n",
       "      <td>5.000000</td>\n",
       "      <td>32</td>\n",
       "      <td>32</td>\n",
       "      <td>32</td>\n",
       "      <td>32</td>\n",
       "      <td>32</td>\n",
       "      <td>32</td>\n",
       "      <td>32</td>\n",
       "      <td>32</td>\n",
       "      <td>32</td>\n",
       "      <td>32</td>\n",
       "      <td>32</td>\n",
       "      <td>32</td>\n",
       "      <td>32</td>\n",
       "      <td>32</td>\n",
       "      <td>32</td>\n",
       "      <td>32</td>\n",
       "      <td>32</td>\n",
       "      <td>32</td>\n",
       "      <td>32</td>\n",
       "    </tr>\n",
       "    <tr>\n",
       "      <td>6.000000</td>\n",
       "      <td>32</td>\n",
       "      <td>32</td>\n",
       "      <td>32</td>\n",
       "      <td>32</td>\n",
       "      <td>32</td>\n",
       "      <td>32</td>\n",
       "      <td>32</td>\n",
       "      <td>32</td>\n",
       "      <td>32</td>\n",
       "      <td>32</td>\n",
       "      <td>32</td>\n",
       "      <td>32</td>\n",
       "      <td>32</td>\n",
       "      <td>32</td>\n",
       "      <td>32</td>\n",
       "      <td>32</td>\n",
       "      <td>32</td>\n",
       "      <td>32</td>\n",
       "      <td>32</td>\n",
       "    </tr>\n",
       "    <tr>\n",
       "      <td>6.363636</td>\n",
       "      <td>1</td>\n",
       "      <td>1</td>\n",
       "      <td>1</td>\n",
       "      <td>1</td>\n",
       "      <td>1</td>\n",
       "      <td>1</td>\n",
       "      <td>1</td>\n",
       "      <td>1</td>\n",
       "      <td>1</td>\n",
       "      <td>1</td>\n",
       "      <td>1</td>\n",
       "      <td>1</td>\n",
       "      <td>1</td>\n",
       "      <td>1</td>\n",
       "      <td>1</td>\n",
       "      <td>1</td>\n",
       "      <td>1</td>\n",
       "      <td>1</td>\n",
       "      <td>1</td>\n",
       "    </tr>\n",
       "    <tr>\n",
       "      <td>7.000000</td>\n",
       "      <td>51</td>\n",
       "      <td>51</td>\n",
       "      <td>51</td>\n",
       "      <td>51</td>\n",
       "      <td>51</td>\n",
       "      <td>51</td>\n",
       "      <td>51</td>\n",
       "      <td>51</td>\n",
       "      <td>51</td>\n",
       "      <td>51</td>\n",
       "      <td>51</td>\n",
       "      <td>51</td>\n",
       "      <td>51</td>\n",
       "      <td>51</td>\n",
       "      <td>51</td>\n",
       "      <td>51</td>\n",
       "      <td>51</td>\n",
       "      <td>51</td>\n",
       "      <td>51</td>\n",
       "    </tr>\n",
       "    <tr>\n",
       "      <td>8.000000</td>\n",
       "      <td>95</td>\n",
       "      <td>95</td>\n",
       "      <td>95</td>\n",
       "      <td>95</td>\n",
       "      <td>95</td>\n",
       "      <td>95</td>\n",
       "      <td>95</td>\n",
       "      <td>95</td>\n",
       "      <td>95</td>\n",
       "      <td>95</td>\n",
       "      <td>95</td>\n",
       "      <td>95</td>\n",
       "      <td>95</td>\n",
       "      <td>95</td>\n",
       "      <td>95</td>\n",
       "      <td>95</td>\n",
       "      <td>95</td>\n",
       "      <td>95</td>\n",
       "      <td>95</td>\n",
       "    </tr>\n",
       "    <tr>\n",
       "      <td>8.181818</td>\n",
       "      <td>1</td>\n",
       "      <td>1</td>\n",
       "      <td>1</td>\n",
       "      <td>1</td>\n",
       "      <td>1</td>\n",
       "      <td>1</td>\n",
       "      <td>1</td>\n",
       "      <td>1</td>\n",
       "      <td>1</td>\n",
       "      <td>1</td>\n",
       "      <td>1</td>\n",
       "      <td>1</td>\n",
       "      <td>1</td>\n",
       "      <td>1</td>\n",
       "      <td>1</td>\n",
       "      <td>1</td>\n",
       "      <td>1</td>\n",
       "      <td>1</td>\n",
       "      <td>1</td>\n",
       "    </tr>\n",
       "    <tr>\n",
       "      <td>9.000000</td>\n",
       "      <td>152</td>\n",
       "      <td>152</td>\n",
       "      <td>152</td>\n",
       "      <td>152</td>\n",
       "      <td>152</td>\n",
       "      <td>152</td>\n",
       "      <td>152</td>\n",
       "      <td>152</td>\n",
       "      <td>152</td>\n",
       "      <td>152</td>\n",
       "      <td>152</td>\n",
       "      <td>152</td>\n",
       "      <td>152</td>\n",
       "      <td>152</td>\n",
       "      <td>152</td>\n",
       "      <td>152</td>\n",
       "      <td>152</td>\n",
       "      <td>152</td>\n",
       "      <td>152</td>\n",
       "    </tr>\n",
       "    <tr>\n",
       "      <td>9.750000</td>\n",
       "      <td>1</td>\n",
       "      <td>1</td>\n",
       "      <td>1</td>\n",
       "      <td>1</td>\n",
       "      <td>1</td>\n",
       "      <td>1</td>\n",
       "      <td>1</td>\n",
       "      <td>1</td>\n",
       "      <td>1</td>\n",
       "      <td>1</td>\n",
       "      <td>1</td>\n",
       "      <td>1</td>\n",
       "      <td>1</td>\n",
       "      <td>1</td>\n",
       "      <td>1</td>\n",
       "      <td>1</td>\n",
       "      <td>1</td>\n",
       "      <td>1</td>\n",
       "      <td>1</td>\n",
       "    </tr>\n",
       "    <tr>\n",
       "      <td>10.000000</td>\n",
       "      <td>420</td>\n",
       "      <td>420</td>\n",
       "      <td>420</td>\n",
       "      <td>420</td>\n",
       "      <td>420</td>\n",
       "      <td>420</td>\n",
       "      <td>420</td>\n",
       "      <td>420</td>\n",
       "      <td>420</td>\n",
       "      <td>420</td>\n",
       "      <td>420</td>\n",
       "      <td>420</td>\n",
       "      <td>420</td>\n",
       "      <td>420</td>\n",
       "      <td>420</td>\n",
       "      <td>420</td>\n",
       "      <td>420</td>\n",
       "      <td>420</td>\n",
       "      <td>420</td>\n",
       "    </tr>\n",
       "    <tr>\n",
       "      <td>11.000000</td>\n",
       "      <td>401</td>\n",
       "      <td>401</td>\n",
       "      <td>401</td>\n",
       "      <td>401</td>\n",
       "      <td>401</td>\n",
       "      <td>401</td>\n",
       "      <td>401</td>\n",
       "      <td>401</td>\n",
       "      <td>401</td>\n",
       "      <td>401</td>\n",
       "      <td>401</td>\n",
       "      <td>401</td>\n",
       "      <td>401</td>\n",
       "      <td>401</td>\n",
       "      <td>401</td>\n",
       "      <td>401</td>\n",
       "      <td>401</td>\n",
       "      <td>401</td>\n",
       "      <td>401</td>\n",
       "    </tr>\n",
       "    <tr>\n",
       "      <td>11.260000</td>\n",
       "      <td>1</td>\n",
       "      <td>1</td>\n",
       "      <td>1</td>\n",
       "      <td>1</td>\n",
       "      <td>1</td>\n",
       "      <td>1</td>\n",
       "      <td>1</td>\n",
       "      <td>1</td>\n",
       "      <td>1</td>\n",
       "      <td>1</td>\n",
       "      <td>1</td>\n",
       "      <td>1</td>\n",
       "      <td>1</td>\n",
       "      <td>1</td>\n",
       "      <td>1</td>\n",
       "      <td>1</td>\n",
       "      <td>1</td>\n",
       "      <td>1</td>\n",
       "      <td>1</td>\n",
       "    </tr>\n",
       "    <tr>\n",
       "      <td>11.270000</td>\n",
       "      <td>1</td>\n",
       "      <td>1</td>\n",
       "      <td>1</td>\n",
       "      <td>1</td>\n",
       "      <td>1</td>\n",
       "      <td>1</td>\n",
       "      <td>1</td>\n",
       "      <td>1</td>\n",
       "      <td>1</td>\n",
       "      <td>1</td>\n",
       "      <td>1</td>\n",
       "      <td>1</td>\n",
       "      <td>1</td>\n",
       "      <td>1</td>\n",
       "      <td>1</td>\n",
       "      <td>1</td>\n",
       "      <td>1</td>\n",
       "      <td>1</td>\n",
       "      <td>1</td>\n",
       "    </tr>\n",
       "    <tr>\n",
       "      <td>12.000000</td>\n",
       "      <td>449</td>\n",
       "      <td>449</td>\n",
       "      <td>449</td>\n",
       "      <td>449</td>\n",
       "      <td>449</td>\n",
       "      <td>449</td>\n",
       "      <td>449</td>\n",
       "      <td>449</td>\n",
       "      <td>449</td>\n",
       "      <td>449</td>\n",
       "      <td>449</td>\n",
       "      <td>449</td>\n",
       "      <td>449</td>\n",
       "      <td>449</td>\n",
       "      <td>449</td>\n",
       "      <td>449</td>\n",
       "      <td>449</td>\n",
       "      <td>449</td>\n",
       "      <td>449</td>\n",
       "    </tr>\n",
       "    <tr>\n",
       "      <td>13.000000</td>\n",
       "      <td>254</td>\n",
       "      <td>254</td>\n",
       "      <td>254</td>\n",
       "      <td>254</td>\n",
       "      <td>254</td>\n",
       "      <td>254</td>\n",
       "      <td>254</td>\n",
       "      <td>254</td>\n",
       "      <td>254</td>\n",
       "      <td>254</td>\n",
       "      <td>254</td>\n",
       "      <td>254</td>\n",
       "      <td>254</td>\n",
       "      <td>254</td>\n",
       "      <td>254</td>\n",
       "      <td>254</td>\n",
       "      <td>254</td>\n",
       "      <td>254</td>\n",
       "      <td>254</td>\n",
       "    </tr>\n",
       "    <tr>\n",
       "      <td>13.500000</td>\n",
       "      <td>1</td>\n",
       "      <td>1</td>\n",
       "      <td>1</td>\n",
       "      <td>1</td>\n",
       "      <td>1</td>\n",
       "      <td>1</td>\n",
       "      <td>1</td>\n",
       "      <td>1</td>\n",
       "      <td>1</td>\n",
       "      <td>1</td>\n",
       "      <td>1</td>\n",
       "      <td>1</td>\n",
       "      <td>1</td>\n",
       "      <td>1</td>\n",
       "      <td>1</td>\n",
       "      <td>1</td>\n",
       "      <td>1</td>\n",
       "      <td>1</td>\n",
       "      <td>1</td>\n",
       "    </tr>\n",
       "    <tr>\n",
       "      <td>14.000000</td>\n",
       "      <td>35</td>\n",
       "      <td>35</td>\n",
       "      <td>35</td>\n",
       "      <td>35</td>\n",
       "      <td>35</td>\n",
       "      <td>35</td>\n",
       "      <td>35</td>\n",
       "      <td>35</td>\n",
       "      <td>35</td>\n",
       "      <td>35</td>\n",
       "      <td>35</td>\n",
       "      <td>35</td>\n",
       "      <td>35</td>\n",
       "      <td>35</td>\n",
       "      <td>35</td>\n",
       "      <td>35</td>\n",
       "      <td>35</td>\n",
       "      <td>35</td>\n",
       "      <td>35</td>\n",
       "    </tr>\n",
       "    <tr>\n",
       "      <td>420.000000</td>\n",
       "      <td>1</td>\n",
       "      <td>1</td>\n",
       "      <td>1</td>\n",
       "      <td>1</td>\n",
       "      <td>1</td>\n",
       "      <td>1</td>\n",
       "      <td>1</td>\n",
       "      <td>1</td>\n",
       "      <td>1</td>\n",
       "      <td>1</td>\n",
       "      <td>1</td>\n",
       "      <td>1</td>\n",
       "      <td>1</td>\n",
       "      <td>1</td>\n",
       "      <td>1</td>\n",
       "      <td>1</td>\n",
       "      <td>1</td>\n",
       "      <td>1</td>\n",
       "      <td>1</td>\n",
       "    </tr>\n",
       "    <tr>\n",
       "      <td>1776.000000</td>\n",
       "      <td>1</td>\n",
       "      <td>1</td>\n",
       "      <td>1</td>\n",
       "      <td>1</td>\n",
       "      <td>1</td>\n",
       "      <td>1</td>\n",
       "      <td>1</td>\n",
       "      <td>1</td>\n",
       "      <td>1</td>\n",
       "      <td>1</td>\n",
       "      <td>1</td>\n",
       "      <td>1</td>\n",
       "      <td>1</td>\n",
       "      <td>1</td>\n",
       "      <td>1</td>\n",
       "      <td>1</td>\n",
       "      <td>1</td>\n",
       "      <td>1</td>\n",
       "      <td>1</td>\n",
       "    </tr>\n",
       "  </tbody>\n",
       "</table>\n",
       "</div>"
      ],
      "text/plain": [
       "             tweet_id  timestamp  text  expanded_urls  rating_denominator  \\\n",
       "rating                                                                      \n",
       "0.000000            2          2     2              2                   2   \n",
       "1.000000            4          4     4              4                   4   \n",
       "2.000000           10         10    10             10                  10   \n",
       "3.000000           19         19    19             19                  19   \n",
       "4.000000           15         15    15             15                  15   \n",
       "5.000000           32         32    32             32                  32   \n",
       "6.000000           32         32    32             32                  32   \n",
       "6.363636            1          1     1              1                   1   \n",
       "7.000000           51         51    51             51                  51   \n",
       "8.000000           95         95    95             95                  95   \n",
       "8.181818            1          1     1              1                   1   \n",
       "9.000000          152        152   152            152                 152   \n",
       "9.750000            1          1     1              1                   1   \n",
       "10.000000         420        420   420            420                 420   \n",
       "11.000000         401        401   401            401                 401   \n",
       "11.260000           1          1     1              1                   1   \n",
       "11.270000           1          1     1              1                   1   \n",
       "12.000000         449        449   449            449                 449   \n",
       "13.000000         254        254   254            254                 254   \n",
       "13.500000           1          1     1              1                   1   \n",
       "14.000000          35         35    35             35                  35   \n",
       "420.000000          1          1     1              1                   1   \n",
       "1776.000000         1          1     1              1                   1   \n",
       "\n",
       "             name  cute_name  favorite_count  retweet_count  jpg_url   p1  \\\n",
       "rating                                                                      \n",
       "0.000000        2          2               2              2        2    2   \n",
       "1.000000        4          4               4              4        4    4   \n",
       "2.000000       10         10              10             10       10   10   \n",
       "3.000000       19         19              19             19       19   19   \n",
       "4.000000       15         15              15             15       15   15   \n",
       "5.000000       32         32              32             32       32   32   \n",
       "6.000000       32         32              32             32       32   32   \n",
       "6.363636        1          1               1              1        1    1   \n",
       "7.000000       51         51              51             51       51   51   \n",
       "8.000000       95         95              95             95       95   95   \n",
       "8.181818        1          1               1              1        1    1   \n",
       "9.000000      152        152             152            152      152  152   \n",
       "9.750000        1          1               1              1        1    1   \n",
       "10.000000     420        420             420            420      420  420   \n",
       "11.000000     401        401             401            401      401  401   \n",
       "11.260000       1          1               1              1        1    1   \n",
       "11.270000       1          1               1              1        1    1   \n",
       "12.000000     449        449             449            449      449  449   \n",
       "13.000000     254        254             254            254      254  254   \n",
       "13.500000       1          1               1              1        1    1   \n",
       "14.000000      35         35              35             35       35   35   \n",
       "420.000000      1          1               1              1        1    1   \n",
       "1776.000000     1          1               1              1        1    1   \n",
       "\n",
       "             p1_conf  p1_dog   p2  p2_conf  p2_dog   p3  p3_conf  p3_dog  \n",
       "rating                                                                    \n",
       "0.000000           2       2    2        2       2    2        2       2  \n",
       "1.000000           4       4    4        4       4    4        4       4  \n",
       "2.000000          10      10   10       10      10   10       10      10  \n",
       "3.000000          19      19   19       19      19   19       19      19  \n",
       "4.000000          15      15   15       15      15   15       15      15  \n",
       "5.000000          32      32   32       32      32   32       32      32  \n",
       "6.000000          32      32   32       32      32   32       32      32  \n",
       "6.363636           1       1    1        1       1    1        1       1  \n",
       "7.000000          51      51   51       51      51   51       51      51  \n",
       "8.000000          95      95   95       95      95   95       95      95  \n",
       "8.181818           1       1    1        1       1    1        1       1  \n",
       "9.000000         152     152  152      152     152  152      152     152  \n",
       "9.750000           1       1    1        1       1    1        1       1  \n",
       "10.000000        420     420  420      420     420  420      420     420  \n",
       "11.000000        401     401  401      401     401  401      401     401  \n",
       "11.260000          1       1    1        1       1    1        1       1  \n",
       "11.270000          1       1    1        1       1    1        1       1  \n",
       "12.000000        449     449  449      449     449  449      449     449  \n",
       "13.000000        254     254  254      254     254  254      254     254  \n",
       "13.500000          1       1    1        1       1    1        1       1  \n",
       "14.000000         35      35   35       35      35   35       35      35  \n",
       "420.000000         1       1    1        1       1    1        1       1  \n",
       "1776.000000        1       1    1        1       1    1        1       1  "
      ]
     },
     "execution_count": 64,
     "metadata": {},
     "output_type": "execute_result"
    }
   ],
   "source": [
    "df.groupby(['rating']).count()"
   ]
  },
  {
   "cell_type": "code",
   "execution_count": 65,
   "metadata": {},
   "outputs": [
    {
     "data": {
      "text/html": [
       "<div>\n",
       "<style scoped>\n",
       "    .dataframe tbody tr th:only-of-type {\n",
       "        vertical-align: middle;\n",
       "    }\n",
       "\n",
       "    .dataframe tbody tr th {\n",
       "        vertical-align: top;\n",
       "    }\n",
       "\n",
       "    .dataframe thead th {\n",
       "        text-align: right;\n",
       "    }\n",
       "</style>\n",
       "<table border=\"1\" class=\"dataframe\">\n",
       "  <thead>\n",
       "    <tr style=\"text-align: right;\">\n",
       "      <th></th>\n",
       "      <th>tweet_id</th>\n",
       "      <th>timestamp</th>\n",
       "      <th>text</th>\n",
       "      <th>expanded_urls</th>\n",
       "      <th>rating</th>\n",
       "      <th>rating_denominator</th>\n",
       "      <th>name</th>\n",
       "      <th>cute_name</th>\n",
       "      <th>favorite_count</th>\n",
       "      <th>retweet_count</th>\n",
       "      <th>jpg_url</th>\n",
       "      <th>p1</th>\n",
       "      <th>p1_conf</th>\n",
       "      <th>p1_dog</th>\n",
       "      <th>p2</th>\n",
       "      <th>p2_conf</th>\n",
       "      <th>p2_dog</th>\n",
       "      <th>p3</th>\n",
       "      <th>p3_conf</th>\n",
       "      <th>p3_dog</th>\n",
       "    </tr>\n",
       "  </thead>\n",
       "  <tbody>\n",
       "    <tr>\n",
       "      <td>1712</td>\n",
       "      <td>670842764863651840</td>\n",
       "      <td>2015-11-29 05:52:33 +0000</td>\n",
       "      <td>After so many requests... here you go.\\n\\nGood...</td>\n",
       "      <td>https://twitter.com/dog_rates/status/670842764...</td>\n",
       "      <td>420.0</td>\n",
       "      <td>10.0</td>\n",
       "      <td>None</td>\n",
       "      <td>Other</td>\n",
       "      <td>24351</td>\n",
       "      <td>8574.0</td>\n",
       "      <td>https://pbs.twimg.com/media/CU9P717W4AAOlKx.jpg</td>\n",
       "      <td>microphone</td>\n",
       "      <td>0.096063</td>\n",
       "      <td>False</td>\n",
       "      <td>accordion</td>\n",
       "      <td>0.094075</td>\n",
       "      <td>False</td>\n",
       "      <td>drumstick</td>\n",
       "      <td>0.061113</td>\n",
       "      <td>False</td>\n",
       "    </tr>\n",
       "  </tbody>\n",
       "</table>\n",
       "</div>"
      ],
      "text/plain": [
       "                tweet_id                  timestamp  \\\n",
       "1712  670842764863651840  2015-11-29 05:52:33 +0000   \n",
       "\n",
       "                                                   text  \\\n",
       "1712  After so many requests... here you go.\\n\\nGood...   \n",
       "\n",
       "                                          expanded_urls  rating  \\\n",
       "1712  https://twitter.com/dog_rates/status/670842764...   420.0   \n",
       "\n",
       "      rating_denominator  name cute_name  favorite_count  retweet_count  \\\n",
       "1712                10.0  None     Other           24351         8574.0   \n",
       "\n",
       "                                              jpg_url          p1   p1_conf  \\\n",
       "1712  https://pbs.twimg.com/media/CU9P717W4AAOlKx.jpg  microphone  0.096063   \n",
       "\n",
       "      p1_dog         p2   p2_conf  p2_dog         p3   p3_conf  p3_dog  \n",
       "1712   False  accordion  0.094075   False  drumstick  0.061113   False  "
      ]
     },
     "execution_count": 65,
     "metadata": {},
     "output_type": "execute_result"
    }
   ],
   "source": [
    "df[df['rating'] == 420]"
   ]
  },
  {
   "cell_type": "code",
   "execution_count": 66,
   "metadata": {},
   "outputs": [
    {
     "data": {
      "text/plain": [
       "'After so many requests... here you go.\\n\\nGood dogg. 420/10 https://t.co/yfAAo1gdeY'"
      ]
     },
     "execution_count": 66,
     "metadata": {},
     "output_type": "execute_result"
    }
   ],
   "source": [
    "df.text[1712]"
   ]
  },
  {
   "cell_type": "code",
   "execution_count": 67,
   "metadata": {},
   "outputs": [
    {
     "name": "stdout",
     "output_type": "stream",
     "text": [
      "https://pbs.twimg.com/media/CU9P717W4AAOlKx.jpg\n"
     ]
    }
   ],
   "source": [
    "print(df.jpg_url[1712])"
   ]
  },
  {
   "cell_type": "markdown",
   "metadata": {},
   "source": [
    "## At second place Snoop Dogg comes in at very impressive 420 out of 10\n",
    "<img src=\"second.jpg\"/>"
   ]
  },
  {
   "cell_type": "code",
   "execution_count": 68,
   "metadata": {},
   "outputs": [
    {
     "data": {
      "text/html": [
       "<div>\n",
       "<style scoped>\n",
       "    .dataframe tbody tr th:only-of-type {\n",
       "        vertical-align: middle;\n",
       "    }\n",
       "\n",
       "    .dataframe tbody tr th {\n",
       "        vertical-align: top;\n",
       "    }\n",
       "\n",
       "    .dataframe thead th {\n",
       "        text-align: right;\n",
       "    }\n",
       "</style>\n",
       "<table border=\"1\" class=\"dataframe\">\n",
       "  <thead>\n",
       "    <tr style=\"text-align: right;\">\n",
       "      <th></th>\n",
       "      <th>tweet_id</th>\n",
       "      <th>timestamp</th>\n",
       "      <th>text</th>\n",
       "      <th>expanded_urls</th>\n",
       "      <th>rating</th>\n",
       "      <th>rating_denominator</th>\n",
       "      <th>name</th>\n",
       "      <th>cute_name</th>\n",
       "      <th>favorite_count</th>\n",
       "      <th>retweet_count</th>\n",
       "      <th>jpg_url</th>\n",
       "      <th>p1</th>\n",
       "      <th>p1_conf</th>\n",
       "      <th>p1_dog</th>\n",
       "      <th>p2</th>\n",
       "      <th>p2_conf</th>\n",
       "      <th>p2_dog</th>\n",
       "      <th>p3</th>\n",
       "      <th>p3_conf</th>\n",
       "      <th>p3_dog</th>\n",
       "    </tr>\n",
       "  </thead>\n",
       "  <tbody>\n",
       "    <tr>\n",
       "      <td>757</td>\n",
       "      <td>749981277374128128</td>\n",
       "      <td>2016-07-04 15:00:45 +0000</td>\n",
       "      <td>This is Atticus. He's quite simply America af....</td>\n",
       "      <td>https://twitter.com/dog_rates/status/749981277...</td>\n",
       "      <td>1776.0</td>\n",
       "      <td>10.0</td>\n",
       "      <td>Atticus</td>\n",
       "      <td>Other</td>\n",
       "      <td>5253</td>\n",
       "      <td>2528.0</td>\n",
       "      <td>https://pbs.twimg.com/media/CmgBZ7kWcAAlzFD.jpg</td>\n",
       "      <td>bow_tie</td>\n",
       "      <td>0.533941</td>\n",
       "      <td>False</td>\n",
       "      <td>sunglasses</td>\n",
       "      <td>0.080822</td>\n",
       "      <td>False</td>\n",
       "      <td>sunglass</td>\n",
       "      <td>0.050776</td>\n",
       "      <td>False</td>\n",
       "    </tr>\n",
       "  </tbody>\n",
       "</table>\n",
       "</div>"
      ],
      "text/plain": [
       "               tweet_id                  timestamp  \\\n",
       "757  749981277374128128  2016-07-04 15:00:45 +0000   \n",
       "\n",
       "                                                  text  \\\n",
       "757  This is Atticus. He's quite simply America af....   \n",
       "\n",
       "                                         expanded_urls  rating  \\\n",
       "757  https://twitter.com/dog_rates/status/749981277...  1776.0   \n",
       "\n",
       "     rating_denominator     name cute_name  favorite_count  retweet_count  \\\n",
       "757                10.0  Atticus     Other            5253         2528.0   \n",
       "\n",
       "                                             jpg_url       p1   p1_conf  \\\n",
       "757  https://pbs.twimg.com/media/CmgBZ7kWcAAlzFD.jpg  bow_tie  0.533941   \n",
       "\n",
       "     p1_dog          p2   p2_conf  p2_dog        p3   p3_conf  p3_dog  \n",
       "757   False  sunglasses  0.080822   False  sunglass  0.050776   False  "
      ]
     },
     "execution_count": 68,
     "metadata": {},
     "output_type": "execute_result"
    }
   ],
   "source": [
    "df[df['rating'] == 1776]"
   ]
  },
  {
   "cell_type": "code",
   "execution_count": 69,
   "metadata": {},
   "outputs": [
    {
     "data": {
      "text/plain": [
       "\"This is Atticus. He's quite simply America af. 1776/10 https://t.co/GRXwMxLBkh\""
      ]
     },
     "execution_count": 69,
     "metadata": {},
     "output_type": "execute_result"
    }
   ],
   "source": [
    "df.text[757]"
   ]
  },
  {
   "cell_type": "code",
   "execution_count": 70,
   "metadata": {},
   "outputs": [
    {
     "name": "stdout",
     "output_type": "stream",
     "text": [
      "https://pbs.twimg.com/media/CmgBZ7kWcAAlzFD.jpg\n"
     ]
    }
   ],
   "source": [
    "print(df.jpg_url[757])"
   ]
  },
  {
   "cell_type": "markdown",
   "metadata": {},
   "source": [
    "## Congratulation to the winner coming in at 1776 out of 10, no easy feat!\n",
    "<img src=\"winner.jpg\"/>"
   ]
  },
  {
   "cell_type": "markdown",
   "metadata": {},
   "source": [
    "These data points were accurately gathered, but are global outliers that greatly increase standard deviation.  \n",
    "Because of this, I decided to remove the two remaining outliers, and only evaluated the observations of 14 or less."
   ]
  },
  {
   "cell_type": "code",
   "execution_count": 71,
   "metadata": {},
   "outputs": [
    {
     "data": {
      "image/png": "[encoded data removed]",
      "text/plain": [
       "<Figure size 864x288 with 2 Axes>"
      ]
     },
     "metadata": {
      "needs_background": "light"
     },
     "output_type": "display_data"
    }
   ],
   "source": [
    "df_before= df.copy()\n",
    "df = df[df['rating'] < 15]\n",
    "\n",
    "#df_before= plots of the distribution of the data before and after removing the two outliers\n",
    "f, axes = plt.subplots(1, 2, figsize=(12,4))\n",
    "\n",
    "sns.boxplot(data=df_before,x= 'rating',orient='w', ax=axes[0])\n",
    "axes[0].set_title('Before, Including Global Outliers')\n",
    "\n",
    "\n",
    "sns.boxplot(data=df, x= 'rating',orient='w', ax=axes[1])\n",
    "axes[1].set_title('After, Excluding Global Outliers');"
   ]
  },
  {
   "cell_type": "markdown",
   "metadata": {},
   "source": [
    "# Bayesian Analysis of Discrete Ratings"
   ]
  },
  {
   "cell_type": "code",
   "execution_count": 72,
   "metadata": {},
   "outputs": [],
   "source": [
    "df_rate = df.copy()"
   ]
  },
  {
   "cell_type": "code",
   "execution_count": 73,
   "metadata": {},
   "outputs": [
    {
     "name": "stdout",
     "output_type": "stream",
     "text": [
      "The rating in row 40 used to be 13.5 and now is 14.0.\n",
      "The rating in row 262 used to be 9.75 and now is 10.0.\n",
      "The rating in row 585 used to be 11.27 and now is 11.0.\n",
      "The rating in row 602 used to be 8.181818181818182 and now is 8.0.\n",
      "The rating in row 1336 used to be 6.363636363636363 and now is 6.0.\n",
      "The rating in row 1380 used to be 11.26 and now is 11.0.\n"
     ]
    }
   ],
   "source": [
    "# Rounding Ratings to get a discrete scale\n",
    "for i, row in df_rate.iterrows():\n",
    "    before = df_rate.loc[i, 'rating']\n",
    "    after = round(df_rate.rating[i], 0)\n",
    "    df_rate.loc[i, 'rating'] = after\n",
    "    if bool(before == after) == False :\n",
    "        print(f\"The rating in row {i} used to be {before} and now is {after}.\")\n",
    "    else:\n",
    "        pass"
   ]
  },
  {
   "cell_type": "code",
   "execution_count": 126,
   "metadata": {},
   "outputs": [
    {
     "data": {
      "text/plain": [
       "golden_retriever      138\n",
       "Labrador_retriever     92\n",
       "Pembroke               88\n",
       "Chihuahua              79\n",
       "pug                    54\n",
       "                     ... \n",
       "mortarboard             1\n",
       "coil                    1\n",
       "snowmobile              1\n",
       "leopard                 1\n",
       "water_bottle            1\n",
       "Name: p1, Length: 372, dtype: int64"
      ]
     },
     "execution_count": 126,
     "metadata": {},
     "output_type": "execute_result"
    }
   ],
   "source": [
    "df_rate['p1'].value_counts()"
   ]
  },
  {
   "cell_type": "code",
   "execution_count": 128,
   "metadata": {},
   "outputs": [],
   "source": [
    "#Golden Retriever\n",
    "df_gold= (df_rate[df_rate['p1']=='golden_retriever'])\n",
    "df_gold= df_gold.rating.value_counts().sort_index()\n",
    "df_gold = df_gold.rename_axis('rating').to_frame('gold_count')\n",
    "#Labrador Retriever\n",
    "df_lab= (df_rate[df_rate['p1']=='Labrador_retriever'])\n",
    "df_lab= df_lab.rating.value_counts().sort_index()\n",
    "df_lab = df_lab.rename_axis('rating').to_frame('lab_count')\n",
    "#Pembroke\n",
    "df_pem= (df_rate[df_rate['p1']=='Pembroke'])\n",
    "df_pem=df_pem.rating.value_counts().sort_index()\n",
    "df_pem = df_pem.rename_axis('rating').to_frame('pem_count')\n",
    "#Chihuahua\n",
    "df_chih= (df_rate[df_rate['p1']=='Chihuahua'])\n",
    "df_chih= df_chih.rating.value_counts().sort_index()\n",
    "df_chih = df_chih.rename_axis('rating').to_frame('chih_count')\n",
    "#Pug\n",
    "df_pug= (df_rate[df_rate['p1']=='pug'])\n",
    "df_pug=df_pug.rating.value_counts().sort_index()\n",
    "df_pub=df_pug.rename_axis('rating').to_frame('pug_count')\n",
    "\n",
    "#Combining the top 5 most likley dogs\n",
    "df_5dogs= pd.concat([df_pem,df_gold, df_lab,df_chih,df_pug],axis=1,sort=True).fillna(0)\n",
    "df_5dogs= df_5dogs.reset_index().rename(columns={'index' : 'rating','rating' : 'pug_count'})\n",
    "\n",
    "#Counts of all other dogs and ratings\n",
    "df_oth = df_rate[(df_rate.p1 != 'golden_retriever') | (df_rate.p1 != 'Labrador_retriever') | (df_rate.p1 !='Chihuahua')| (df_rate.p1 !='Pembroke')| (df_rate.p1 !='pug')]\n",
    "df_oth = df_oth.rating.value_counts().sort_index()\n",
    "df_oth = df_oth.rename_axis('rating').to_frame('other_count')\n",
    "\n",
    "#Combining all top 5 dogs with all others\n",
    "df_bayes = pd.merge(df_oth, df_5dogs, on='rating',how='left').fillna(0)\n",
    "\n",
    "#Creating a total column, by first reseting the index and making 'Rating' a string\n",
    "df_bayes['rating'] = df_bayes['rating'].astype(str)\n",
    "df_bayes= df_bayes.reset_index(drop=True).set_index('rating')\n",
    "#Setting a total column\n",
    "df_bayes.loc[:,'Total'] = df_bayes.sum(axis=1)"
   ]
  },
  {
   "cell_type": "code",
   "execution_count": 134,
   "metadata": {},
   "outputs": [],
   "source": [
    "#Golden Retriever\n",
    "df_gold= (df_rate[df_rate['p1']=='golden_retriever'])\n",
    "df_gold= df_gold.rating.value_counts().sort_index()\n",
    "df_gold = df_gold.rename_axis('rating').to_frame('gold_count')\n",
    "#Labrador Retriever\n",
    "df_lab= (df_rate[df_rate['p1']=='Labrador_retriever'])\n",
    "df_lab= df_lab.rating.value_counts().sort_index()\n",
    "df_lab = df_lab.rename_axis('rating').to_frame('lab_count')\n",
    "#Pembroke\n",
    "df_pem= (df_rate[df_rate['p1']=='Pembroke'])\n",
    "df_pem=df_pem.rating.value_counts().sort_index()\n",
    "df_pem = df_pem.rename_axis('rating').to_frame('pem_count')\n",
    "#Chihuahua\n",
    "df_chih= (df_rate[df_rate['p1']=='Chihuahua'])\n",
    "df_chih= df_chih.rating.value_counts().sort_index()\n",
    "df_chih = df_chih.rename_axis('rating').to_frame('chih_count')\n",
    "#Pug\n",
    "df_pug= (df_rate[df_rate['p1']=='pug'])\n",
    "df_pug=df_pug.rating.value_counts().sort_index()\n",
    "df_pub=df_pug.rename_axis('rating').to_frame('pug_count')\n",
    "\n",
    "#Combining the top 5 most likley dogs\n",
    "df_5dogs= pd.concat([df_pem,df_gold, df_lab,df_chih,df_pug],axis=1,sort=True).fillna(0)\n",
    "df_5dogs= df_5dogs.reset_index().rename(columns={'index' : 'rating','rating' : 'pug_count'})\n",
    "\n",
    "\n",
    "#Creating a total column, by first reseting the index and making 'Rating' a string\n",
    "df_5dogs['rating'] = df_5dogs['rating'].astype(str)\n",
    "df_5dogs= df_5dogs.reset_index(drop=True).set_index('rating')\n",
    "#Setting a total column\n",
    "df_5dogs.loc[:,'Total'] = df_5dogs.sum(axis=1)"
   ]
  },
  {
   "cell_type": "code",
   "execution_count": 135,
   "metadata": {},
   "outputs": [
    {
     "data": {
      "text/html": [
       "<div>\n",
       "<style scoped>\n",
       "    .dataframe tbody tr th:only-of-type {\n",
       "        vertical-align: middle;\n",
       "    }\n",
       "\n",
       "    .dataframe tbody tr th {\n",
       "        vertical-align: top;\n",
       "    }\n",
       "\n",
       "    .dataframe thead th {\n",
       "        text-align: right;\n",
       "    }\n",
       "</style>\n",
       "<table border=\"1\" class=\"dataframe\">\n",
       "  <thead>\n",
       "    <tr style=\"text-align: right;\">\n",
       "      <th></th>\n",
       "      <th>other_count</th>\n",
       "      <th>pem_count</th>\n",
       "      <th>gold_count</th>\n",
       "      <th>lab_count</th>\n",
       "      <th>chih_count</th>\n",
       "      <th>pug_count</th>\n",
       "      <th>Total</th>\n",
       "    </tr>\n",
       "    <tr>\n",
       "      <th>rating</th>\n",
       "      <th></th>\n",
       "      <th></th>\n",
       "      <th></th>\n",
       "      <th></th>\n",
       "      <th></th>\n",
       "      <th></th>\n",
       "      <th></th>\n",
       "    </tr>\n",
       "  </thead>\n",
       "  <tbody>\n",
       "    <tr>\n",
       "      <td>0.0</td>\n",
       "      <td>2</td>\n",
       "      <td>0.0</td>\n",
       "      <td>0.0</td>\n",
       "      <td>0.0</td>\n",
       "      <td>0.0</td>\n",
       "      <td>0.0</td>\n",
       "      <td>2.0</td>\n",
       "    </tr>\n",
       "    <tr>\n",
       "      <td>1.0</td>\n",
       "      <td>4</td>\n",
       "      <td>0.0</td>\n",
       "      <td>0.0</td>\n",
       "      <td>0.0</td>\n",
       "      <td>0.0</td>\n",
       "      <td>0.0</td>\n",
       "      <td>4.0</td>\n",
       "    </tr>\n",
       "    <tr>\n",
       "      <td>2.0</td>\n",
       "      <td>10</td>\n",
       "      <td>0.0</td>\n",
       "      <td>0.0</td>\n",
       "      <td>0.0</td>\n",
       "      <td>0.0</td>\n",
       "      <td>0.0</td>\n",
       "      <td>10.0</td>\n",
       "    </tr>\n",
       "    <tr>\n",
       "      <td>3.0</td>\n",
       "      <td>19</td>\n",
       "      <td>0.0</td>\n",
       "      <td>0.0</td>\n",
       "      <td>0.0</td>\n",
       "      <td>1.0</td>\n",
       "      <td>1.0</td>\n",
       "      <td>21.0</td>\n",
       "    </tr>\n",
       "    <tr>\n",
       "      <td>4.0</td>\n",
       "      <td>15</td>\n",
       "      <td>1.0</td>\n",
       "      <td>0.0</td>\n",
       "      <td>0.0</td>\n",
       "      <td>0.0</td>\n",
       "      <td>0.0</td>\n",
       "      <td>16.0</td>\n",
       "    </tr>\n",
       "    <tr>\n",
       "      <td>5.0</td>\n",
       "      <td>32</td>\n",
       "      <td>1.0</td>\n",
       "      <td>0.0</td>\n",
       "      <td>0.0</td>\n",
       "      <td>1.0</td>\n",
       "      <td>0.0</td>\n",
       "      <td>34.0</td>\n",
       "    </tr>\n",
       "    <tr>\n",
       "      <td>6.0</td>\n",
       "      <td>33</td>\n",
       "      <td>1.0</td>\n",
       "      <td>0.0</td>\n",
       "      <td>0.0</td>\n",
       "      <td>0.0</td>\n",
       "      <td>1.0</td>\n",
       "      <td>35.0</td>\n",
       "    </tr>\n",
       "    <tr>\n",
       "      <td>7.0</td>\n",
       "      <td>51</td>\n",
       "      <td>1.0</td>\n",
       "      <td>0.0</td>\n",
       "      <td>1.0</td>\n",
       "      <td>4.0</td>\n",
       "      <td>2.0</td>\n",
       "      <td>59.0</td>\n",
       "    </tr>\n",
       "    <tr>\n",
       "      <td>8.0</td>\n",
       "      <td>96</td>\n",
       "      <td>1.0</td>\n",
       "      <td>3.0</td>\n",
       "      <td>3.0</td>\n",
       "      <td>3.0</td>\n",
       "      <td>2.0</td>\n",
       "      <td>108.0</td>\n",
       "    </tr>\n",
       "    <tr>\n",
       "      <td>9.0</td>\n",
       "      <td>152</td>\n",
       "      <td>0.0</td>\n",
       "      <td>4.0</td>\n",
       "      <td>4.0</td>\n",
       "      <td>7.0</td>\n",
       "      <td>8.0</td>\n",
       "      <td>175.0</td>\n",
       "    </tr>\n",
       "    <tr>\n",
       "      <td>10.0</td>\n",
       "      <td>421</td>\n",
       "      <td>9.0</td>\n",
       "      <td>20.0</td>\n",
       "      <td>22.0</td>\n",
       "      <td>17.0</td>\n",
       "      <td>18.0</td>\n",
       "      <td>507.0</td>\n",
       "    </tr>\n",
       "    <tr>\n",
       "      <td>11.0</td>\n",
       "      <td>403</td>\n",
       "      <td>26.0</td>\n",
       "      <td>27.0</td>\n",
       "      <td>25.0</td>\n",
       "      <td>12.0</td>\n",
       "      <td>10.0</td>\n",
       "      <td>503.0</td>\n",
       "    </tr>\n",
       "    <tr>\n",
       "      <td>12.0</td>\n",
       "      <td>449</td>\n",
       "      <td>27.0</td>\n",
       "      <td>53.0</td>\n",
       "      <td>25.0</td>\n",
       "      <td>22.0</td>\n",
       "      <td>4.0</td>\n",
       "      <td>580.0</td>\n",
       "    </tr>\n",
       "    <tr>\n",
       "      <td>13.0</td>\n",
       "      <td>254</td>\n",
       "      <td>17.0</td>\n",
       "      <td>28.0</td>\n",
       "      <td>12.0</td>\n",
       "      <td>11.0</td>\n",
       "      <td>8.0</td>\n",
       "      <td>330.0</td>\n",
       "    </tr>\n",
       "    <tr>\n",
       "      <td>14.0</td>\n",
       "      <td>36</td>\n",
       "      <td>4.0</td>\n",
       "      <td>3.0</td>\n",
       "      <td>0.0</td>\n",
       "      <td>1.0</td>\n",
       "      <td>0.0</td>\n",
       "      <td>44.0</td>\n",
       "    </tr>\n",
       "  </tbody>\n",
       "</table>\n",
       "</div>"
      ],
      "text/plain": [
       "        other_count  pem_count  gold_count  lab_count  chih_count  pug_count  \\\n",
       "rating                                                                         \n",
       "0.0               2        0.0         0.0        0.0         0.0        0.0   \n",
       "1.0               4        0.0         0.0        0.0         0.0        0.0   \n",
       "2.0              10        0.0         0.0        0.0         0.0        0.0   \n",
       "3.0              19        0.0         0.0        0.0         1.0        1.0   \n",
       "4.0              15        1.0         0.0        0.0         0.0        0.0   \n",
       "5.0              32        1.0         0.0        0.0         1.0        0.0   \n",
       "6.0              33        1.0         0.0        0.0         0.0        1.0   \n",
       "7.0              51        1.0         0.0        1.0         4.0        2.0   \n",
       "8.0              96        1.0         3.0        3.0         3.0        2.0   \n",
       "9.0             152        0.0         4.0        4.0         7.0        8.0   \n",
       "10.0            421        9.0        20.0       22.0        17.0       18.0   \n",
       "11.0            403       26.0        27.0       25.0        12.0       10.0   \n",
       "12.0            449       27.0        53.0       25.0        22.0        4.0   \n",
       "13.0            254       17.0        28.0       12.0        11.0        8.0   \n",
       "14.0             36        4.0         3.0        0.0         1.0        0.0   \n",
       "\n",
       "        Total  \n",
       "rating         \n",
       "0.0       2.0  \n",
       "1.0       4.0  \n",
       "2.0      10.0  \n",
       "3.0      21.0  \n",
       "4.0      16.0  \n",
       "5.0      34.0  \n",
       "6.0      35.0  \n",
       "7.0      59.0  \n",
       "8.0     108.0  \n",
       "9.0     175.0  \n",
       "10.0    507.0  \n",
       "11.0    503.0  \n",
       "12.0    580.0  \n",
       "13.0    330.0  \n",
       "14.0     44.0  "
      ]
     },
     "execution_count": 135,
     "metadata": {},
     "output_type": "execute_result"
    }
   ],
   "source": [
    "df_bayes"
   ]
  },
  {
   "cell_type": "code",
   "execution_count": 136,
   "metadata": {},
   "outputs": [
    {
     "data": {
      "text/html": [
       "<div>\n",
       "<style scoped>\n",
       "    .dataframe tbody tr th:only-of-type {\n",
       "        vertical-align: middle;\n",
       "    }\n",
       "\n",
       "    .dataframe tbody tr th {\n",
       "        vertical-align: top;\n",
       "    }\n",
       "\n",
       "    .dataframe thead th {\n",
       "        text-align: right;\n",
       "    }\n",
       "</style>\n",
       "<table border=\"1\" class=\"dataframe\">\n",
       "  <thead>\n",
       "    <tr style=\"text-align: right;\">\n",
       "      <th></th>\n",
       "      <th>pem_count</th>\n",
       "      <th>gold_count</th>\n",
       "      <th>lab_count</th>\n",
       "      <th>chih_count</th>\n",
       "      <th>pug_count</th>\n",
       "      <th>Total</th>\n",
       "    </tr>\n",
       "    <tr>\n",
       "      <th>rating</th>\n",
       "      <th></th>\n",
       "      <th></th>\n",
       "      <th></th>\n",
       "      <th></th>\n",
       "      <th></th>\n",
       "      <th></th>\n",
       "    </tr>\n",
       "  </thead>\n",
       "  <tbody>\n",
       "    <tr>\n",
       "      <td>3.0</td>\n",
       "      <td>0.0</td>\n",
       "      <td>0.0</td>\n",
       "      <td>0.0</td>\n",
       "      <td>1.0</td>\n",
       "      <td>1.0</td>\n",
       "      <td>2.0</td>\n",
       "    </tr>\n",
       "    <tr>\n",
       "      <td>4.0</td>\n",
       "      <td>1.0</td>\n",
       "      <td>0.0</td>\n",
       "      <td>0.0</td>\n",
       "      <td>0.0</td>\n",
       "      <td>0.0</td>\n",
       "      <td>1.0</td>\n",
       "    </tr>\n",
       "    <tr>\n",
       "      <td>5.0</td>\n",
       "      <td>1.0</td>\n",
       "      <td>0.0</td>\n",
       "      <td>0.0</td>\n",
       "      <td>1.0</td>\n",
       "      <td>0.0</td>\n",
       "      <td>2.0</td>\n",
       "    </tr>\n",
       "    <tr>\n",
       "      <td>6.0</td>\n",
       "      <td>1.0</td>\n",
       "      <td>0.0</td>\n",
       "      <td>0.0</td>\n",
       "      <td>0.0</td>\n",
       "      <td>1.0</td>\n",
       "      <td>2.0</td>\n",
       "    </tr>\n",
       "    <tr>\n",
       "      <td>7.0</td>\n",
       "      <td>1.0</td>\n",
       "      <td>0.0</td>\n",
       "      <td>1.0</td>\n",
       "      <td>4.0</td>\n",
       "      <td>2.0</td>\n",
       "      <td>8.0</td>\n",
       "    </tr>\n",
       "    <tr>\n",
       "      <td>8.0</td>\n",
       "      <td>1.0</td>\n",
       "      <td>3.0</td>\n",
       "      <td>3.0</td>\n",
       "      <td>3.0</td>\n",
       "      <td>2.0</td>\n",
       "      <td>12.0</td>\n",
       "    </tr>\n",
       "    <tr>\n",
       "      <td>9.0</td>\n",
       "      <td>0.0</td>\n",
       "      <td>4.0</td>\n",
       "      <td>4.0</td>\n",
       "      <td>7.0</td>\n",
       "      <td>8.0</td>\n",
       "      <td>23.0</td>\n",
       "    </tr>\n",
       "    <tr>\n",
       "      <td>10.0</td>\n",
       "      <td>9.0</td>\n",
       "      <td>20.0</td>\n",
       "      <td>22.0</td>\n",
       "      <td>17.0</td>\n",
       "      <td>18.0</td>\n",
       "      <td>86.0</td>\n",
       "    </tr>\n",
       "    <tr>\n",
       "      <td>11.0</td>\n",
       "      <td>26.0</td>\n",
       "      <td>27.0</td>\n",
       "      <td>25.0</td>\n",
       "      <td>12.0</td>\n",
       "      <td>10.0</td>\n",
       "      <td>100.0</td>\n",
       "    </tr>\n",
       "    <tr>\n",
       "      <td>12.0</td>\n",
       "      <td>27.0</td>\n",
       "      <td>53.0</td>\n",
       "      <td>25.0</td>\n",
       "      <td>22.0</td>\n",
       "      <td>4.0</td>\n",
       "      <td>131.0</td>\n",
       "    </tr>\n",
       "    <tr>\n",
       "      <td>13.0</td>\n",
       "      <td>17.0</td>\n",
       "      <td>28.0</td>\n",
       "      <td>12.0</td>\n",
       "      <td>11.0</td>\n",
       "      <td>8.0</td>\n",
       "      <td>76.0</td>\n",
       "    </tr>\n",
       "    <tr>\n",
       "      <td>14.0</td>\n",
       "      <td>4.0</td>\n",
       "      <td>3.0</td>\n",
       "      <td>0.0</td>\n",
       "      <td>1.0</td>\n",
       "      <td>0.0</td>\n",
       "      <td>8.0</td>\n",
       "    </tr>\n",
       "  </tbody>\n",
       "</table>\n",
       "</div>"
      ],
      "text/plain": [
       "        pem_count  gold_count  lab_count  chih_count  pug_count  Total\n",
       "rating                                                                \n",
       "3.0           0.0         0.0        0.0         1.0        1.0    2.0\n",
       "4.0           1.0         0.0        0.0         0.0        0.0    1.0\n",
       "5.0           1.0         0.0        0.0         1.0        0.0    2.0\n",
       "6.0           1.0         0.0        0.0         0.0        1.0    2.0\n",
       "7.0           1.0         0.0        1.0         4.0        2.0    8.0\n",
       "8.0           1.0         3.0        3.0         3.0        2.0   12.0\n",
       "9.0           0.0         4.0        4.0         7.0        8.0   23.0\n",
       "10.0          9.0        20.0       22.0        17.0       18.0   86.0\n",
       "11.0         26.0        27.0       25.0        12.0       10.0  100.0\n",
       "12.0         27.0        53.0       25.0        22.0        4.0  131.0\n",
       "13.0         17.0        28.0       12.0        11.0        8.0   76.0\n",
       "14.0          4.0         3.0        0.0         1.0        0.0    8.0"
      ]
     },
     "execution_count": 136,
     "metadata": {},
     "output_type": "execute_result"
    }
   ],
   "source": [
    "df_5dogs"
   ]
  },
  {
   "cell_type": "code",
   "execution_count": 269,
   "metadata": {},
   "outputs": [
    {
     "data": {
      "image/png": "[encoded data removed]",
      "text/plain": [
       "<Figure size 720x1008 with 1 Axes>"
      ]
     },
     "metadata": {},
     "output_type": "display_data"
    }
   ],
   "source": [
    "r = df_bayes.index\n",
    "t = df_bayes.Total\n",
    "c= sns.color_palette()[9]\n",
    "f_sz=14\n",
    "\n",
    "fig = plt.figure(figsize=(10,14), facecolor='whitesmoke')\n",
    "grid = Grid(fig, rect=111, nrows_ncols=(2,2),\n",
    "            axes_pad=0.25, label_mode='L')\n",
    "\n",
    "\n",
    "ax = plt.subplot(1, 1, 1)\n",
    "plt.barh(range(len(r)),t, color=c)\n",
    "plt.yticks(range(len(r)),r,fontsize=14)\n",
    "plt.xticks(color=c,fontsize=f_sz)\n",
    "plt.title('Total Distribution of Tweet Ratings',fontsize=22)\n",
    "plt.grid()\n",
    "ax.set_axisbelow(True)\n",
    "ax.yaxis.grid(color='white', linestyle='dashed')\n",
    "plt.box(False)\n",
    "plt.show()"
   ]
  },
  {
   "cell_type": "code",
   "execution_count": 208,
   "metadata": {},
   "outputs": [
    {
     "data": {
      "image/png": "[encoded data removed]",
      "text/plain": [
       "<Figure size 720x1008 with 5 Axes>"
      ]
     },
     "metadata": {},
     "output_type": "display_data"
    }
   ],
   "source": [
    "from mpl_toolkits.axes_grid1 import Grid\n",
    "i = df_bayes.index\n",
    "t = df_bayes.Total\n",
    "\n",
    "r = df_5dogs.index\n",
    "ch = df_5dogs.chih_count\n",
    "g = df_5dogs.gold_count\n",
    "l = df_5dogs.lab_count\n",
    "p = df_5dogs.pem_count\n",
    "pu = df_5dogs.pug_count\n",
    "c= sns.color_palette()[9]\n",
    "f_sz=16\n",
    "\n",
    "fig = plt.figure(figsize=(10,14), facecolor='whitesmoke')\n",
    "grid = Grid(fig, rect=111, nrows_ncols=(2,2),\n",
    "            axes_pad=0.25, label_mode='L')\n",
    "\n",
    "\n",
    "\n",
    "ax1= plt.subplot(3, 3, 1)\n",
    "plt.barh(range(len(r)),l, color=c)\n",
    "plt.yticks(range(len(r)),r,fontsize=14)\n",
    "plt.xticks(color=c)\n",
    "plt.box(False)\n",
    "plt.title('Labrador',fontsize=f_sz)\n",
    "plt.grid()\n",
    "ax1.set_axisbelow(True)\n",
    "ax1.yaxis.grid(color='white', linestyle='dashed')\n",
    "\n",
    "ax2= plt.subplot(3, 3, 2)\n",
    "plt.barh(range(len(r)),g, color=c)\n",
    "plt.yticks(range(len(r)),r)\n",
    "plt.xticks(color=c)\n",
    "plt.setp(ax2.get_yticklabels(), visible=False)\n",
    "plt.box(False)\n",
    "plt.title('Golden Retriever',fontsize=f_sz)\n",
    "plt.grid()\n",
    "ax2.set_axisbelow(True)\n",
    "ax2.yaxis.grid(color='white', linestyle='dashed')\n",
    "\n",
    "ax3 = plt.subplot(3, 3, 4)\n",
    "plt.barh(range(len(r)),ch, color=c)\n",
    "plt.yticks(range(len(r)),r,fontsize=14)\n",
    "plt.xticks(color=c)\n",
    "plt.box(False)\n",
    "plt.title('Chihuah',fontsize=f_sz)\n",
    "plt.grid()\n",
    "ax3.set_axisbelow(True)\n",
    "ax3.yaxis.grid(color='white', linestyle='dashed')\n",
    "\n",
    "ax4 = plt.subplot(3, 3, 5)\n",
    "plt.barh(range(len(r)),p, color=c)\n",
    "plt.yticks(range(len(r)),r)\n",
    "plt.xticks(color=c)\n",
    "plt.setp(ax4.get_yticklabels(), visible=False)\n",
    "plt.box(False)\n",
    "plt.title('Pembroke',fontsize=f_sz)\n",
    "plt.grid()\n",
    "ax4.set_axisbelow(True)\n",
    "ax4.yaxis.grid(color='white', linestyle='dashed')\n",
    "\n",
    "ax5 = plt.subplot(3, 3, 6)\n",
    "plt.barh(range(len(r)),pu, color=c)\n",
    "plt.yticks(range(len(r)),r)\n",
    "plt.xticks(color=c)\n",
    "plt.setp(ax5.get_yticklabels(), visible=False)\n",
    "plt.box(False)\n",
    "plt.title('Pug', fontsize=f_sz)\n",
    "plt.grid()\n",
    "ax5.set_axisbelow(True)\n",
    "ax5.yaxis.grid(color='white', linestyle='dashed')\n",
    "\n",
    "plt.tight_layout()\n",
    "plt.show()"
   ]
  },
  {
   "cell_type": "markdown",
   "metadata": {},
   "source": [
    "# Time Series "
   ]
  },
  {
   "cell_type": "code",
   "execution_count": 238,
   "metadata": {},
   "outputs": [],
   "source": [
    "df_time = df.copy()"
   ]
  },
  {
   "cell_type": "code",
   "execution_count": 239,
   "metadata": {},
   "outputs": [
    {
     "data": {
      "text/plain": [
       "('2015-11-15 22:32:08 +0000', '2017-08-01 16:23:56 +0000')"
      ]
     },
     "execution_count": 239,
     "metadata": {},
     "output_type": "execute_result"
    }
   ],
   "source": [
    "df_time['timestamp'].min(), df_time['timestamp'].max()"
   ]
  },
  {
   "cell_type": "code",
   "execution_count": 240,
   "metadata": {},
   "outputs": [],
   "source": [
    "time = df_time['timestamp']"
   ]
  },
  {
   "cell_type": "code",
   "execution_count": 241,
   "metadata": {},
   "outputs": [],
   "source": [
    "time = list(time)"
   ]
  },
  {
   "cell_type": "code",
   "execution_count": 242,
   "metadata": {},
   "outputs": [],
   "source": [
    "times = []\n",
    "for i in range(len(time)): \n",
    "    t= time[i]\n",
    "    stamp = t.rpartition(':')[0]\n",
    "    times.append(stamp)"
   ]
  },
  {
   "cell_type": "code",
   "execution_count": 243,
   "metadata": {},
   "outputs": [
    {
     "data": {
      "text/plain": [
       "['2017-08-01 16:23',\n",
       " '2017-08-01 00:17',\n",
       " '2017-07-31 00:18',\n",
       " '2017-07-30 15:58',\n",
       " '2017-07-29 16:00']"
      ]
     },
     "execution_count": 243,
     "metadata": {},
     "output_type": "execute_result"
    }
   ],
   "source": [
    "times[:5]"
   ]
  },
  {
   "cell_type": "code",
   "execution_count": 244,
   "metadata": {},
   "outputs": [],
   "source": [
    "df_time['timestamp'] = times"
   ]
  },
  {
   "cell_type": "code",
   "execution_count": 245,
   "metadata": {},
   "outputs": [],
   "source": [
    "df_time['timestamp'] = pd.to_datetime(df_time['timestamp'])"
   ]
  },
  {
   "cell_type": "code",
   "execution_count": 246,
   "metadata": {},
   "outputs": [
    {
     "data": {
      "image/png": "[encoded data removed]",
      "text/plain": [
       "<Figure size 864x576 with 1 Axes>"
      ]
     },
     "metadata": {
      "needs_background": "light"
     },
     "output_type": "display_data"
    }
   ],
   "source": [
    "# TimeSeries of Twitter Activity \n",
    "\n",
    "#Favorite and Retweet series\n",
    "time_faves = pd.Series(data=df_time['favorite_count'].values, index=df_time['timestamp'])\n",
    "time_retweets = pd.Series(data=df_time['retweet_count'].values, index=df_time['timestamp'])\n",
    "\n",
    "#Plotting both series to the same axis\n",
    "size= (12,8)\n",
    "\n",
    "time_faves.plot(kind='area',figsize=size, label='favorites',\n",
    "                color='deepskyblue',legend=True)\n",
    "time_retweets.plot(kind='area',figsize=size, label='retweet',\n",
    "                   color='crimson',legend=True)\n",
    "\n",
    "#Labels and preferences for the visualization\n",
    "\n",
    "plt.title('WeRateDogs Time Series of Favorites and Retweets',fontsize=18)\n",
    "plt.xlabel('Date',fontsize=18,color='crimson') \n",
    "plt.ylabel('Twitter Activity Count',fontsize=18, color='crimson')\n",
    "plt.xticks(rotation=45)\n",
    "plt.legend(fontsize=14,frameon=False)\n",
    "\n",
    "plt.box(False)\n",
    "plt.show();"
   ]
  },
  {
   "cell_type": "code",
   "execution_count": null,
   "metadata": {},
   "outputs": [],
   "source": []
  }
 ],
 "metadata": {
  "kernelspec": {
   "display_name": "Python 3",
   "language": "python",
   "name": "python3"
  },
  "language_info": {
   "codemirror_mode": {
    "name": "ipython",
    "version": 3
   },
   "file_extension": ".py",
   "mimetype": "text/x-python",
   "name": "python",
   "nbconvert_exporter": "python",
   "pygments_lexer": "ipython3",
   "version": "3.7.3"
  }
 },
 "nbformat": 4,
 "nbformat_minor": 2
}
